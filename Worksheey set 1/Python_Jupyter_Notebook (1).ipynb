{
 "cells": [
  {
   "cell_type": "markdown",
   "metadata": {},
   "source": [
    "Q.1 Python program to find the factorial of a number."
   ]
  },
  {
   "cell_type": "code",
   "execution_count": 1,
   "metadata": {},
   "outputs": [],
   "source": [
    "def factorial(num):\n",
    "    if num==0:\n",
    "        print('factorial=1')\n",
    "    elif num>1:\n",
    "        fact=1\n",
    "        for i in range(1,num+1):\n",
    "            fact=fact*i\n",
    "        print('factorial=',fact)\n",
    "    else:\n",
    "        print('The entered number is invalid!')\n",
    "    "
   ]
  },
  {
   "cell_type": "code",
   "execution_count": 2,
   "metadata": {},
   "outputs": [
    {
     "name": "stdout",
     "output_type": "stream",
     "text": [
      "factorial= 5040\n"
     ]
    }
   ],
   "source": [
    "factorial(7)"
   ]
  },
  {
   "cell_type": "code",
   "execution_count": 3,
   "metadata": {},
   "outputs": [
    {
     "name": "stdout",
     "output_type": "stream",
     "text": [
      "factorial=1\n"
     ]
    }
   ],
   "source": [
    "factorial(0)"
   ]
  },
  {
   "cell_type": "code",
   "execution_count": 4,
   "metadata": {},
   "outputs": [
    {
     "name": "stdout",
     "output_type": "stream",
     "text": [
      "The entered number is invalid!\n"
     ]
    }
   ],
   "source": [
    "factorial(-1)"
   ]
  },
  {
   "cell_type": "markdown",
   "metadata": {},
   "source": [
    "Q.2 Write a python program to find whether a number is prime or composite. "
   ]
  },
  {
   "cell_type": "code",
   "execution_count": 5,
   "metadata": {},
   "outputs": [],
   "source": [
    "def prime_comp(num):\n",
    "    if num==0 or num==1:\n",
    "        return print(\"It's neither prime nor composite.\")\n",
    "    elif num>1:\n",
    "        for i in range(2,num):\n",
    "            if num%i==0:\n",
    "                return print('Its composite.')\n",
    "            else:\n",
    "                continue\n",
    "    else:\n",
    "        return print('Invalid number')\n",
    "    return print(\"It's Prime\")"
   ]
  },
  {
   "cell_type": "code",
   "execution_count": 6,
   "metadata": {},
   "outputs": [
    {
     "name": "stdout",
     "output_type": "stream",
     "text": [
      "It's Prime\n"
     ]
    }
   ],
   "source": [
    "prime_comp(3)"
   ]
  },
  {
   "cell_type": "code",
   "execution_count": 7,
   "metadata": {},
   "outputs": [
    {
     "name": "stdout",
     "output_type": "stream",
     "text": [
      "Its composite.\n"
     ]
    }
   ],
   "source": [
    "prime_comp(15)"
   ]
  },
  {
   "cell_type": "code",
   "execution_count": 8,
   "metadata": {},
   "outputs": [
    {
     "name": "stdout",
     "output_type": "stream",
     "text": [
      "Its composite.\n"
     ]
    }
   ],
   "source": [
    "prime_comp(375)"
   ]
  },
  {
   "cell_type": "code",
   "execution_count": 9,
   "metadata": {},
   "outputs": [
    {
     "name": "stdout",
     "output_type": "stream",
     "text": [
      "Invalid number\n"
     ]
    }
   ],
   "source": [
    "prime_comp(-375)"
   ]
  },
  {
   "cell_type": "code",
   "execution_count": 10,
   "metadata": {},
   "outputs": [
    {
     "name": "stdout",
     "output_type": "stream",
     "text": [
      "It's neither prime nor composite.\n"
     ]
    }
   ],
   "source": [
    "prime_comp(0)"
   ]
  },
  {
   "cell_type": "markdown",
   "metadata": {},
   "source": [
    "Q.3 Write a python program to check whether a given string is palindrome or not. "
   ]
  },
  {
   "cell_type": "code",
   "execution_count": 11,
   "metadata": {},
   "outputs": [],
   "source": [
    "def palindrome(str):\n",
    "    if str.lower()==str[::-1].lower():\n",
    "        return print(\"Yes it's a palindrome\")\n",
    "    else:\n",
    "        print(\"No it's not a palindrome\")"
   ]
  },
  {
   "cell_type": "code",
   "execution_count": 12,
   "metadata": {},
   "outputs": [
    {
     "name": "stdout",
     "output_type": "stream",
     "text": [
      "Yes it's a palindrome\n"
     ]
    }
   ],
   "source": [
    "palindrome('Nitin')"
   ]
  },
  {
   "cell_type": "code",
   "execution_count": 13,
   "metadata": {},
   "outputs": [
    {
     "name": "stdout",
     "output_type": "stream",
     "text": [
      "No it's not a palindrome\n"
     ]
    }
   ],
   "source": [
    "palindrome('harshal')"
   ]
  },
  {
   "cell_type": "code",
   "execution_count": 14,
   "metadata": {},
   "outputs": [
    {
     "name": "stdout",
     "output_type": "stream",
     "text": [
      "Yes it's a palindrome\n"
     ]
    }
   ],
   "source": [
    "palindrome('madam')"
   ]
  },
  {
   "cell_type": "markdown",
   "metadata": {},
   "source": [
    " Q.4 Write a Python program to get the third side of right-angled triangle from two given sides.\n"
   ]
  },
  {
   "cell_type": "markdown",
   "metadata": {},
   "source": [
    "As it is not stated clearly that what the given two sides are, as to if they will be a side and a hypotenuse or just two sides, there can be two possible answers for any given pair."
   ]
  },
  {
   "cell_type": "code",
   "execution_count": 15,
   "metadata": {},
   "outputs": [],
   "source": [
    "import math"
   ]
  },
  {
   "cell_type": "code",
   "execution_count": 16,
   "metadata": {},
   "outputs": [],
   "source": [
    "def triangle_side(x,y):\n",
    "    one_possibility=math.sqrt(x**2+y**2)\n",
    "    if x>y:\n",
    "        second_possibility=math.sqrt(x**2-y**2)\n",
    "    else:\n",
    "        second_possibility=math.sqrt(y**2-x**2)\n",
    "    return print(f\" One possibility is {one_possibility}, another posssibility is {second_possibility}\")"
   ]
  },
  {
   "cell_type": "code",
   "execution_count": 17,
   "metadata": {},
   "outputs": [
    {
     "name": "stdout",
     "output_type": "stream",
     "text": [
      " One possibility is 5.0, another posssibility is 2.6457513110645907\n"
     ]
    }
   ],
   "source": [
    "triangle_side(3,4)"
   ]
  },
  {
   "cell_type": "code",
   "execution_count": 18,
   "metadata": {},
   "outputs": [
    {
     "name": "stdout",
     "output_type": "stream",
     "text": [
      " One possibility is 26.0, another posssibility is 21.817424229271428\n"
     ]
    }
   ],
   "source": [
    "triangle_side(10,24)"
   ]
  },
  {
   "cell_type": "code",
   "execution_count": 19,
   "metadata": {},
   "outputs": [
    {
     "name": "stdout",
     "output_type": "stream",
     "text": [
      " One possibility is 15.0, another posssibility is 7.937253933193772\n"
     ]
    }
   ],
   "source": [
    "triangle_side(12,9)"
   ]
  },
  {
   "cell_type": "code",
   "execution_count": null,
   "metadata": {},
   "outputs": [],
   "source": []
  },
  {
   "cell_type": "markdown",
   "metadata": {},
   "source": [
    "Q.5 Write a python program to print the frequency of each of the characters present in a given string"
   ]
  },
  {
   "cell_type": "code",
   "execution_count": 26,
   "metadata": {},
   "outputs": [],
   "source": [
    "def freq(x):\n",
    "    y=dict()\n",
    "    for i in x:\n",
    "        if i not in [' ',',','.']:\n",
    "            y[i]=x.count(i)\n",
    "        else:\n",
    "            pass\n",
    "    return y"
   ]
  },
  {
   "cell_type": "code",
   "execution_count": 27,
   "metadata": {},
   "outputs": [
    {
     "data": {
      "text/plain": [
       "{'h': 2, 'a': 2, 'r': 1, 's': 1, 'l': 1}"
      ]
     },
     "execution_count": 27,
     "metadata": {},
     "output_type": "execute_result"
    }
   ],
   "source": [
    "freq('harshal')"
   ]
  },
  {
   "cell_type": "code",
   "execution_count": 28,
   "metadata": {},
   "outputs": [
    {
     "data": {
      "text/plain": [
       "{'I': 1, 'n': 1, 'd': 1, 'i': 1, 'a': 1}"
      ]
     },
     "execution_count": 28,
     "metadata": {},
     "output_type": "execute_result"
    }
   ],
   "source": [
    "freq('India')"
   ]
  },
  {
   "cell_type": "code",
   "execution_count": 29,
   "metadata": {},
   "outputs": [
    {
     "data": {
      "text/plain": [
       "{'U': 1, 'n': 1, 'i': 1, 't': 3, 'e': 2, 'd': 1, 'S': 1, 'a': 1, 's': 1}"
      ]
     },
     "execution_count": 29,
     "metadata": {},
     "output_type": "execute_result"
    }
   ],
   "source": [
    "freq('United States')"
   ]
  },
  {
   "cell_type": "code",
   "execution_count": 45,
   "metadata": {},
   "outputs": [
    {
     "data": {
      "text/plain": [
       "250"
      ]
     },
     "execution_count": 45,
     "metadata": {},
     "output_type": "execute_result"
    }
   ],
   "source": [
    "1000>>2"
   ]
  },
  {
   "cell_type": "code",
   "execution_count": null,
   "metadata": {},
   "outputs": [],
   "source": []
  }
 ],
 "metadata": {
  "kernelspec": {
   "display_name": "Python 3",
   "language": "python",
   "name": "python3"
  },
  "language_info": {
   "codemirror_mode": {
    "name": "ipython",
    "version": 3
   },
   "file_extension": ".py",
   "mimetype": "text/x-python",
   "name": "python",
   "nbconvert_exporter": "python",
   "pygments_lexer": "ipython3",
   "version": "3.8.5"
  }
 },
 "nbformat": 4,
 "nbformat_minor": 4
}
