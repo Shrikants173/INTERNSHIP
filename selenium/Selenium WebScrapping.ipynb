{
 "cells": [
  {
   "cell_type": "code",
   "execution_count": 1,
   "metadata": {},
   "outputs": [
    {
     "name": "stdout",
     "output_type": "stream",
     "text": [
      "Requirement already satisfied: selenium in c:\\programdata\\anaconda3\\lib\\site-packages (3.141.0)\n",
      "Requirement already satisfied: urllib3 in c:\\programdata\\anaconda3\\lib\\site-packages (from selenium) (1.25.11)\n"
     ]
    }
   ],
   "source": [
    "! pip install selenium"
   ]
  },
  {
   "cell_type": "code",
   "execution_count": 2,
   "metadata": {},
   "outputs": [],
   "source": [
    "import selenium\n",
    "import pandas as pd\n",
    "from selenium import webdriver"
   ]
  },
  {
   "cell_type": "code",
   "execution_count": 59,
   "metadata": {},
   "outputs": [],
   "source": [
    "driver=webdriver.Chrome(r\"H:\\Drivers\\chromedriver_win32\\chromedriver.exe\")"
   ]
  },
  {
   "cell_type": "markdown",
   "metadata": {},
   "source": [
    "# Answer 1"
   ]
  },
  {
   "cell_type": "code",
   "execution_count": 60,
   "metadata": {},
   "outputs": [],
   "source": [
    "url=\"https://www.naukri.com/\"\n",
    "driver.get(url)"
   ]
  },
  {
   "cell_type": "code",
   "execution_count": 61,
   "metadata": {},
   "outputs": [],
   "source": [
    "search_job=driver.find_element_by_id(\"qsb-keyword-sugg\")\n"
   ]
  },
  {
   "cell_type": "code",
   "execution_count": 62,
   "metadata": {},
   "outputs": [],
   "source": [
    "search_job.send_keys(\"Data Analyst\")"
   ]
  },
  {
   "cell_type": "code",
   "execution_count": 63,
   "metadata": {},
   "outputs": [],
   "source": [
    "search_loc=driver.find_element_by_id(\"qsb-location-sugg\")\n",
    "search_loc.send_keys(\"Bangalore\")"
   ]
  },
  {
   "cell_type": "code",
   "execution_count": 64,
   "metadata": {},
   "outputs": [],
   "source": [
    "search_btn=driver.find_element_by_xpath(\"//button[@class='btn']\")\n",
    "search_btn.click()\n"
   ]
  },
  {
   "cell_type": "code",
   "execution_count": 65,
   "metadata": {},
   "outputs": [
    {
     "data": {
      "text/plain": [
       "['Senior Data Analyst',\n",
       " 'Tcs Hiring For Senior Data Analyst (bfsi domain)',\n",
       " 'Business Data Analyst',\n",
       " 'Business Data Analyst',\n",
       " 'Business Data Analyst - Google Data Studio & SQL',\n",
       " 'Senior Data Analyst',\n",
       " 'Tcs Hiring For MDM (master data management) Data Analyst (bfsi domain)',\n",
       " 'Senior Data Analyst IDAM Services',\n",
       " 'Data Analyst/Sr.Data Engineer',\n",
       " 'SENIOR DATA ANALYST']"
      ]
     },
     "execution_count": 65,
     "metadata": {},
     "output_type": "execute_result"
    }
   ],
   "source": [
    "title=driver.find_elements_by_xpath(\"//a[@class='title fw500 ellipsis']\")\n",
    "title\n",
    "title_list=[]\n",
    "for i in title:\n",
    "    title_list.append(i.text)\n",
    "title_list[0:10]"
   ]
  },
  {
   "cell_type": "code",
   "execution_count": 66,
   "metadata": {},
   "outputs": [
    {
     "data": {
      "text/plain": [
       "['Gaussian Networks Private Limited',\n",
       " 'Tata Consultancy Services Ltd.',\n",
       " 'Trigent Software',\n",
       " 'Trigent Software',\n",
       " 'AVE-Promagne',\n",
       " 'Virtusa Consulting Services Pvt Ltd',\n",
       " 'Tata Consultancy Services Ltd.',\n",
       " 'GlaxoSmithKline Pharmaceuticals Limited',\n",
       " 'SYREN TECHNOLOGIES PRIVATE LIMITED',\n",
       " 'McAfee Software (India) Pvt. Ltd']"
      ]
     },
     "execution_count": 66,
     "metadata": {},
     "output_type": "execute_result"
    }
   ],
   "source": [
    "company=driver.find_elements_by_xpath(\"//a[@class='subTitle ellipsis fleft']\")\n",
    "company\n",
    "company_list=[]\n",
    "for i in company:\n",
    "    company_list.append(i.text)\n",
    "company_list[0:10]"
   ]
  },
  {
   "cell_type": "code",
   "execution_count": 67,
   "metadata": {},
   "outputs": [
    {
     "data": {
      "text/plain": [
       "56"
      ]
     },
     "execution_count": 67,
     "metadata": {},
     "output_type": "execute_result"
    }
   ],
   "source": [
    "exp=driver.find_elements_by_xpath(\"//span[@class='ellipsis fleft fs12 lh16 ']\")\n",
    "len(exp)\n"
   ]
  },
  {
   "cell_type": "code",
   "execution_count": 68,
   "metadata": {
    "scrolled": true
   },
   "outputs": [
    {
     "data": {
      "text/plain": [
       "56"
      ]
     },
     "execution_count": 68,
     "metadata": {},
     "output_type": "execute_result"
    }
   ],
   "source": [
    "exp_list=[]\n",
    "for i in exp:\n",
    "    exp_list.append(i.text)\n",
    "\n",
    "len(exp_list)\n"
   ]
  },
  {
   "cell_type": "code",
   "execution_count": 69,
   "metadata": {},
   "outputs": [
    {
     "data": {
      "text/plain": [
       "['3-5 Yrs',\n",
       " 'Not disclosed',\n",
       " 'Gurgaon/Gurugram, Bangalore/Bengaluru',\n",
       " '6-11 Yrs',\n",
       " 'Not disclosed',\n",
       " 'Chennai, Bangalore/Bengaluru',\n",
       " '5-10 Yrs',\n",
       " 'Not disclosed',\n",
       " 'Bangalore/Bengaluru',\n",
       " '5-10 Yrs',\n",
       " 'Not disclosed',\n",
       " 'Bangalore/Bengaluru',\n",
       " '3-8 Yrs',\n",
       " 'Not disclosed',\n",
       " 'Bangalore/Bengaluru',\n",
       " 'Not disclosed',\n",
       " '6-11 Yrs',\n",
       " 'Not disclosed',\n",
       " 'Chennai, Bangalore/Bengaluru',\n",
       " '4-8 Yrs',\n",
       " 'Not disclosed',\n",
       " 'Bangalore/Bengaluru',\n",
       " '10,00,000 - 20,00,000 PA.',\n",
       " '6-8 Yrs',\n",
       " 'Not disclosed',\n",
       " 'Bangalore/Bengaluru',\n",
       " '0-3 Yrs',\n",
       " 'Not disclosed',\n",
       " 'Bangalore/Bengaluru',\n",
       " '8-10 Yrs',\n",
       " 'Not disclosed',\n",
       " 'Bangalore/Bengaluru',\n",
       " '5-7 Yrs',\n",
       " 'Not disclosed',\n",
       " 'Bangalore/Bengaluru',\n",
       " '3-6 Yrs',\n",
       " 'Not disclosed',\n",
       " 'Bangalore/Bengaluru',\n",
       " '2-7 Yrs',\n",
       " 'Not disclosed',\n",
       " 'Bangalore/Bengaluru',\n",
       " '1-4 Yrs',\n",
       " 'Not disclosed',\n",
       " 'Bengaluru/Bangalore',\n",
       " '3-8 Yrs',\n",
       " 'Not disclosed',\n",
       " 'Mumbai, Bangalore/Bengaluru',\n",
       " '5-8 Yrs',\n",
       " 'Not disclosed',\n",
       " 'Bangalore/Bengaluru',\n",
       " '2-3 Yrs',\n",
       " 'Not disclosed',\n",
       " 'Bangalore/Bengaluru',\n",
       " '3-8 Yrs',\n",
       " 'Not disclosed',\n",
       " 'Bangalore/Bengaluru']"
      ]
     },
     "execution_count": 69,
     "metadata": {},
     "output_type": "execute_result"
    }
   ],
   "source": [
    "exp_list"
   ]
  },
  {
   "cell_type": "code",
   "execution_count": 70,
   "metadata": {},
   "outputs": [],
   "source": [
    "exp=[]\n",
    "for i in exp_list:\n",
    "    if 'Yrs' in i:\n",
    "        exp.append(i)\n",
    "    else:\n",
    "        pass"
   ]
  },
  {
   "cell_type": "code",
   "execution_count": 71,
   "metadata": {},
   "outputs": [],
   "source": [
    "location=[]\n",
    "for i in exp_list:\n",
    "    if 'Bangalore' in i or 'Bengaluru' in i :\n",
    "        location.append(i)\n",
    "    else:\n",
    "        pass\n"
   ]
  },
  {
   "cell_type": "code",
   "execution_count": 72,
   "metadata": {},
   "outputs": [],
   "source": [
    "salary=[]\n",
    "for i in exp_list:\n",
    "    if i not in exp and i not in location :\n",
    "        salary.append(i)\n",
    "    else:\n",
    "        pass"
   ]
  },
  {
   "cell_type": "code",
   "execution_count": 73,
   "metadata": {},
   "outputs": [
    {
     "data": {
      "text/html": [
       "<div>\n",
       "<style scoped>\n",
       "    .dataframe tbody tr th:only-of-type {\n",
       "        vertical-align: middle;\n",
       "    }\n",
       "\n",
       "    .dataframe tbody tr th {\n",
       "        vertical-align: top;\n",
       "    }\n",
       "\n",
       "    .dataframe thead th {\n",
       "        text-align: right;\n",
       "    }\n",
       "</style>\n",
       "<table border=\"1\" class=\"dataframe\">\n",
       "  <thead>\n",
       "    <tr style=\"text-align: right;\">\n",
       "      <th></th>\n",
       "      <th>Title</th>\n",
       "      <th>Company</th>\n",
       "      <th>Experience</th>\n",
       "      <th>Salary</th>\n",
       "      <th>Location</th>\n",
       "    </tr>\n",
       "  </thead>\n",
       "  <tbody>\n",
       "    <tr>\n",
       "      <th>0</th>\n",
       "      <td>Senior Data Analyst</td>\n",
       "      <td>Gaussian Networks Private Limited</td>\n",
       "      <td>3-5 Yrs</td>\n",
       "      <td>Not disclosed</td>\n",
       "      <td>Gurgaon/Gurugram, Bangalore/Bengaluru</td>\n",
       "    </tr>\n",
       "    <tr>\n",
       "      <th>1</th>\n",
       "      <td>Tcs Hiring For Senior Data Analyst (bfsi domain)</td>\n",
       "      <td>Tata Consultancy Services Ltd.</td>\n",
       "      <td>6-11 Yrs</td>\n",
       "      <td>Not disclosed</td>\n",
       "      <td>Chennai, Bangalore/Bengaluru</td>\n",
       "    </tr>\n",
       "    <tr>\n",
       "      <th>2</th>\n",
       "      <td>Business Data Analyst</td>\n",
       "      <td>Trigent Software</td>\n",
       "      <td>5-10 Yrs</td>\n",
       "      <td>Not disclosed</td>\n",
       "      <td>Bangalore/Bengaluru</td>\n",
       "    </tr>\n",
       "    <tr>\n",
       "      <th>3</th>\n",
       "      <td>Business Data Analyst</td>\n",
       "      <td>Trigent Software</td>\n",
       "      <td>5-10 Yrs</td>\n",
       "      <td>Not disclosed</td>\n",
       "      <td>Bangalore/Bengaluru</td>\n",
       "    </tr>\n",
       "    <tr>\n",
       "      <th>4</th>\n",
       "      <td>Business Data Analyst - Google Data Studio &amp; SQL</td>\n",
       "      <td>AVE-Promagne</td>\n",
       "      <td>3-8 Yrs</td>\n",
       "      <td>Not disclosed</td>\n",
       "      <td>Bangalore/Bengaluru</td>\n",
       "    </tr>\n",
       "    <tr>\n",
       "      <th>5</th>\n",
       "      <td>Senior Data Analyst</td>\n",
       "      <td>Virtusa Consulting Services Pvt Ltd</td>\n",
       "      <td>6-11 Yrs</td>\n",
       "      <td>Not disclosed</td>\n",
       "      <td>Chennai, Bangalore/Bengaluru</td>\n",
       "    </tr>\n",
       "    <tr>\n",
       "      <th>6</th>\n",
       "      <td>Tcs Hiring For MDM (master data management) Da...</td>\n",
       "      <td>Tata Consultancy Services Ltd.</td>\n",
       "      <td>4-8 Yrs</td>\n",
       "      <td>Not disclosed</td>\n",
       "      <td>Bangalore/Bengaluru</td>\n",
       "    </tr>\n",
       "    <tr>\n",
       "      <th>7</th>\n",
       "      <td>Senior Data Analyst IDAM Services</td>\n",
       "      <td>GlaxoSmithKline Pharmaceuticals Limited</td>\n",
       "      <td>6-8 Yrs</td>\n",
       "      <td>Not disclosed</td>\n",
       "      <td>Bangalore/Bengaluru</td>\n",
       "    </tr>\n",
       "    <tr>\n",
       "      <th>8</th>\n",
       "      <td>Data Analyst/Sr.Data Engineer</td>\n",
       "      <td>SYREN TECHNOLOGIES PRIVATE LIMITED</td>\n",
       "      <td>0-3 Yrs</td>\n",
       "      <td>10,00,000 - 20,00,000 PA.</td>\n",
       "      <td>Bangalore/Bengaluru</td>\n",
       "    </tr>\n",
       "    <tr>\n",
       "      <th>9</th>\n",
       "      <td>SENIOR DATA ANALYST</td>\n",
       "      <td>McAfee Software (India) Pvt. Ltd</td>\n",
       "      <td>8-10 Yrs</td>\n",
       "      <td>Not disclosed</td>\n",
       "      <td>Bangalore/Bengaluru</td>\n",
       "    </tr>\n",
       "  </tbody>\n",
       "</table>\n",
       "</div>"
      ],
      "text/plain": [
       "                                               Title  \\\n",
       "0                                Senior Data Analyst   \n",
       "1   Tcs Hiring For Senior Data Analyst (bfsi domain)   \n",
       "2                              Business Data Analyst   \n",
       "3                              Business Data Analyst   \n",
       "4   Business Data Analyst - Google Data Studio & SQL   \n",
       "5                                Senior Data Analyst   \n",
       "6  Tcs Hiring For MDM (master data management) Da...   \n",
       "7                  Senior Data Analyst IDAM Services   \n",
       "8                      Data Analyst/Sr.Data Engineer   \n",
       "9                                SENIOR DATA ANALYST   \n",
       "\n",
       "                                   Company Experience  \\\n",
       "0        Gaussian Networks Private Limited    3-5 Yrs   \n",
       "1           Tata Consultancy Services Ltd.   6-11 Yrs   \n",
       "2                         Trigent Software   5-10 Yrs   \n",
       "3                         Trigent Software   5-10 Yrs   \n",
       "4                             AVE-Promagne    3-8 Yrs   \n",
       "5      Virtusa Consulting Services Pvt Ltd   6-11 Yrs   \n",
       "6           Tata Consultancy Services Ltd.    4-8 Yrs   \n",
       "7  GlaxoSmithKline Pharmaceuticals Limited    6-8 Yrs   \n",
       "8       SYREN TECHNOLOGIES PRIVATE LIMITED    0-3 Yrs   \n",
       "9         McAfee Software (India) Pvt. Ltd   8-10 Yrs   \n",
       "\n",
       "                      Salary                               Location  \n",
       "0              Not disclosed  Gurgaon/Gurugram, Bangalore/Bengaluru  \n",
       "1              Not disclosed           Chennai, Bangalore/Bengaluru  \n",
       "2              Not disclosed                    Bangalore/Bengaluru  \n",
       "3              Not disclosed                    Bangalore/Bengaluru  \n",
       "4              Not disclosed                    Bangalore/Bengaluru  \n",
       "5              Not disclosed           Chennai, Bangalore/Bengaluru  \n",
       "6              Not disclosed                    Bangalore/Bengaluru  \n",
       "7              Not disclosed                    Bangalore/Bengaluru  \n",
       "8  10,00,000 - 20,00,000 PA.                    Bangalore/Bengaluru  \n",
       "9              Not disclosed                    Bangalore/Bengaluru  "
      ]
     },
     "execution_count": 73,
     "metadata": {},
     "output_type": "execute_result"
    }
   ],
   "source": [
    "import pandas as pd\n",
    "records=pd.DataFrame({})\n",
    "records['Title']=title_list[0:10]\n",
    "records['Company']=company_list[0:10]\n",
    "records['Experience']=exp[0:10]\n",
    "records['Salary']=salary[0:10]\n",
    "records['Location']=location[0:10]\n",
    "records"
   ]
  },
  {
   "cell_type": "markdown",
   "metadata": {},
   "source": [
    "# Answer2."
   ]
  },
  {
   "cell_type": "code",
   "execution_count": 74,
   "metadata": {},
   "outputs": [],
   "source": [
    "url=\"https://www.naukri.com/\"\n",
    "driver.get(url)"
   ]
  },
  {
   "cell_type": "code",
   "execution_count": 75,
   "metadata": {},
   "outputs": [],
   "source": [
    "try:\n",
    "    search_job=driver.find_element_by_id(\"qsb-keyword-sugg\")\n",
    "    search_job\n",
    "    search_job.send_keys(\"Data Scientist\")\n",
    "except NoSuchElementException as e:\n",
    "    print(\"Exception\",e)"
   ]
  },
  {
   "cell_type": "code",
   "execution_count": 76,
   "metadata": {},
   "outputs": [
    {
     "data": {
      "text/plain": [
       "<selenium.webdriver.remote.webelement.WebElement (session=\"e1e5bf374974e1f3caef5937c5106cab\", element=\"bec6a00c-b92c-4614-91c1-b560242c9cd5\")>"
      ]
     },
     "execution_count": 76,
     "metadata": {},
     "output_type": "execute_result"
    }
   ],
   "source": [
    "loc=driver.find_element_by_id(\"qsb-location-sugg\")\n",
    "loc\n"
   ]
  },
  {
   "cell_type": "code",
   "execution_count": 77,
   "metadata": {},
   "outputs": [],
   "source": [
    "loc.send_keys(\"Bangalore\")"
   ]
  },
  {
   "cell_type": "code",
   "execution_count": 78,
   "metadata": {},
   "outputs": [],
   "source": [
    "search_btn=driver.find_element_by_xpath(\"//button[@class='btn']\")\n",
    "search_btn.click()\n"
   ]
  },
  {
   "cell_type": "code",
   "execution_count": 79,
   "metadata": {},
   "outputs": [
    {
     "data": {
      "text/plain": [
       "[<selenium.webdriver.remote.webelement.WebElement (session=\"e1e5bf374974e1f3caef5937c5106cab\", element=\"1a97c294-089a-40fc-8af8-b6e39e358d5d\")>,\n",
       " <selenium.webdriver.remote.webelement.WebElement (session=\"e1e5bf374974e1f3caef5937c5106cab\", element=\"14bf8973-06a5-483d-beaf-a790bc2ba2c6\")>,\n",
       " <selenium.webdriver.remote.webelement.WebElement (session=\"e1e5bf374974e1f3caef5937c5106cab\", element=\"6772f4b0-f7ed-49ad-a322-de8ce1a7feff\")>,\n",
       " <selenium.webdriver.remote.webelement.WebElement (session=\"e1e5bf374974e1f3caef5937c5106cab\", element=\"414fe71a-ffc8-4797-ad11-5ae29a1d563f\")>,\n",
       " <selenium.webdriver.remote.webelement.WebElement (session=\"e1e5bf374974e1f3caef5937c5106cab\", element=\"6f472fb3-5113-42e5-b2fe-8aa4f383b86b\")>,\n",
       " <selenium.webdriver.remote.webelement.WebElement (session=\"e1e5bf374974e1f3caef5937c5106cab\", element=\"5ebbfff4-e445-449a-bbec-5422fd1bda4b\")>,\n",
       " <selenium.webdriver.remote.webelement.WebElement (session=\"e1e5bf374974e1f3caef5937c5106cab\", element=\"097a9348-378b-4a85-a579-3d457072cb9c\")>,\n",
       " <selenium.webdriver.remote.webelement.WebElement (session=\"e1e5bf374974e1f3caef5937c5106cab\", element=\"67ddc1d3-fb65-46c6-ad2d-712906b2b56c\")>,\n",
       " <selenium.webdriver.remote.webelement.WebElement (session=\"e1e5bf374974e1f3caef5937c5106cab\", element=\"22f5be56-9294-4410-b16e-8c7a3f2c49c5\")>,\n",
       " <selenium.webdriver.remote.webelement.WebElement (session=\"e1e5bf374974e1f3caef5937c5106cab\", element=\"5a8d3814-2b20-4ec9-bcf0-3b5f7917ec88\")>,\n",
       " <selenium.webdriver.remote.webelement.WebElement (session=\"e1e5bf374974e1f3caef5937c5106cab\", element=\"4bf163fd-c65b-4b3c-979e-c6f7fa01c4be\")>,\n",
       " <selenium.webdriver.remote.webelement.WebElement (session=\"e1e5bf374974e1f3caef5937c5106cab\", element=\"29968fdd-b986-4c04-b91d-3a7a1eba2d13\")>,\n",
       " <selenium.webdriver.remote.webelement.WebElement (session=\"e1e5bf374974e1f3caef5937c5106cab\", element=\"5fc4979d-4f2f-463a-8092-cf842c466d8a\")>,\n",
       " <selenium.webdriver.remote.webelement.WebElement (session=\"e1e5bf374974e1f3caef5937c5106cab\", element=\"bf601542-5f72-4a43-8715-ddc752f4b9e6\")>,\n",
       " <selenium.webdriver.remote.webelement.WebElement (session=\"e1e5bf374974e1f3caef5937c5106cab\", element=\"fd25525c-f556-454d-b819-552d785325e3\")>,\n",
       " <selenium.webdriver.remote.webelement.WebElement (session=\"e1e5bf374974e1f3caef5937c5106cab\", element=\"7a191047-ea82-4a36-8a6a-40270c6e5dda\")>,\n",
       " <selenium.webdriver.remote.webelement.WebElement (session=\"e1e5bf374974e1f3caef5937c5106cab\", element=\"06075a4b-6afe-41fb-8bc5-fb1441163a95\")>,\n",
       " <selenium.webdriver.remote.webelement.WebElement (session=\"e1e5bf374974e1f3caef5937c5106cab\", element=\"c9872aea-4620-4b24-8173-5a1ef4d316a1\")>,\n",
       " <selenium.webdriver.remote.webelement.WebElement (session=\"e1e5bf374974e1f3caef5937c5106cab\", element=\"f0284700-d1d5-473d-a9ce-71ae56b40b6e\")>,\n",
       " <selenium.webdriver.remote.webelement.WebElement (session=\"e1e5bf374974e1f3caef5937c5106cab\", element=\"16c44e5d-b2ff-4ba9-873b-5e73d8a2cc0c\")>]"
      ]
     },
     "execution_count": 79,
     "metadata": {},
     "output_type": "execute_result"
    }
   ],
   "source": [
    "title=driver.find_elements_by_xpath(\"//a[@class='title fw500 ellipsis']\")\n",
    "title\n"
   ]
  },
  {
   "cell_type": "code",
   "execution_count": 80,
   "metadata": {},
   "outputs": [
    {
     "data": {
      "text/plain": [
       "['Hiring For Data Scientist',\n",
       " 'Lead Data Scientist BFSI',\n",
       " 'Associate Data Scientist',\n",
       " 'Data Scientist',\n",
       " 'Data Scientist - I / II',\n",
       " 'Data Scientist',\n",
       " 'Data Scientist',\n",
       " 'Data Scientist: Advanced Analytics',\n",
       " 'Senior Data Scientist',\n",
       " 'Senior Data Scientist']"
      ]
     },
     "execution_count": 80,
     "metadata": {},
     "output_type": "execute_result"
    }
   ],
   "source": [
    "title_list=[]\n",
    "for i in title:\n",
    "    title_list.append(i.text)\n",
    "title_list[0:10]"
   ]
  },
  {
   "cell_type": "code",
   "execution_count": 81,
   "metadata": {},
   "outputs": [],
   "source": [
    "company=driver.find_elements_by_xpath(\"//a[@class='subTitle ellipsis fleft']\")\n"
   ]
  },
  {
   "cell_type": "code",
   "execution_count": 82,
   "metadata": {},
   "outputs": [
    {
     "data": {
      "text/plain": [
       "['Tata Consultancy Services Ltd.',\n",
       " 'IBM India Pvt. Limited',\n",
       " 'Philips India Limited',\n",
       " 'Brillio',\n",
       " 'Sharechat',\n",
       " 'Allegis Services India Pvt. Ltd.',\n",
       " 'Allegis Services India Pvt. Ltd.',\n",
       " 'IBM India Pvt. Limited',\n",
       " 'Walmart Labs',\n",
       " 'Airbnb']"
      ]
     },
     "execution_count": 82,
     "metadata": {},
     "output_type": "execute_result"
    }
   ],
   "source": [
    "company_list=[]\n",
    "for i in company:\n",
    "    company_list.append(i.text)\n",
    "company_list[0:10]"
   ]
  },
  {
   "cell_type": "code",
   "execution_count": 83,
   "metadata": {},
   "outputs": [],
   "source": [
    "exp_=driver.find_elements_by_xpath(\"//span[@class='ellipsis fleft fs12 lh16 ']\")"
   ]
  },
  {
   "cell_type": "code",
   "execution_count": 84,
   "metadata": {},
   "outputs": [
    {
     "data": {
      "text/plain": [
       "58"
      ]
     },
     "execution_count": 84,
     "metadata": {},
     "output_type": "execute_result"
    }
   ],
   "source": [
    "exp_list=[]\n",
    "for i in exp_:\n",
    "    exp_list.append(i.text)\n",
    "len(exp_list)\n"
   ]
  },
  {
   "cell_type": "code",
   "execution_count": 85,
   "metadata": {},
   "outputs": [],
   "source": [
    "exp=[]\n",
    "for i in exp_list:\n",
    "    if 'Yrs' in i:\n",
    "        exp.append(i)\n",
    "    else:\n",
    "        pass"
   ]
  },
  {
   "cell_type": "code",
   "execution_count": 86,
   "metadata": {},
   "outputs": [],
   "source": [
    "location=[]\n",
    "for i in exp_list:\n",
    "    if 'Bangalore' in i or 'Bengaluru' in i :\n",
    "        location.append(i)\n",
    "    else:\n",
    "        pass"
   ]
  },
  {
   "cell_type": "code",
   "execution_count": 87,
   "metadata": {},
   "outputs": [],
   "source": [
    "salary=[]\n",
    "for i in exp_list:\n",
    "    if i not in exp and i not in location :\n",
    "        salary.append(i)\n",
    "    else:\n",
    "        pass"
   ]
  },
  {
   "cell_type": "code",
   "execution_count": 88,
   "metadata": {},
   "outputs": [
    {
     "data": {
      "text/plain": [
       "[<selenium.webdriver.remote.webelement.WebElement (session=\"e1e5bf374974e1f3caef5937c5106cab\", element=\"1a97c294-089a-40fc-8af8-b6e39e358d5d\")>,\n",
       " <selenium.webdriver.remote.webelement.WebElement (session=\"e1e5bf374974e1f3caef5937c5106cab\", element=\"14bf8973-06a5-483d-beaf-a790bc2ba2c6\")>,\n",
       " <selenium.webdriver.remote.webelement.WebElement (session=\"e1e5bf374974e1f3caef5937c5106cab\", element=\"6772f4b0-f7ed-49ad-a322-de8ce1a7feff\")>,\n",
       " <selenium.webdriver.remote.webelement.WebElement (session=\"e1e5bf374974e1f3caef5937c5106cab\", element=\"414fe71a-ffc8-4797-ad11-5ae29a1d563f\")>,\n",
       " <selenium.webdriver.remote.webelement.WebElement (session=\"e1e5bf374974e1f3caef5937c5106cab\", element=\"6f472fb3-5113-42e5-b2fe-8aa4f383b86b\")>,\n",
       " <selenium.webdriver.remote.webelement.WebElement (session=\"e1e5bf374974e1f3caef5937c5106cab\", element=\"5ebbfff4-e445-449a-bbec-5422fd1bda4b\")>,\n",
       " <selenium.webdriver.remote.webelement.WebElement (session=\"e1e5bf374974e1f3caef5937c5106cab\", element=\"097a9348-378b-4a85-a579-3d457072cb9c\")>,\n",
       " <selenium.webdriver.remote.webelement.WebElement (session=\"e1e5bf374974e1f3caef5937c5106cab\", element=\"67ddc1d3-fb65-46c6-ad2d-712906b2b56c\")>,\n",
       " <selenium.webdriver.remote.webelement.WebElement (session=\"e1e5bf374974e1f3caef5937c5106cab\", element=\"22f5be56-9294-4410-b16e-8c7a3f2c49c5\")>,\n",
       " <selenium.webdriver.remote.webelement.WebElement (session=\"e1e5bf374974e1f3caef5937c5106cab\", element=\"5a8d3814-2b20-4ec9-bcf0-3b5f7917ec88\")>,\n",
       " <selenium.webdriver.remote.webelement.WebElement (session=\"e1e5bf374974e1f3caef5937c5106cab\", element=\"4bf163fd-c65b-4b3c-979e-c6f7fa01c4be\")>,\n",
       " <selenium.webdriver.remote.webelement.WebElement (session=\"e1e5bf374974e1f3caef5937c5106cab\", element=\"29968fdd-b986-4c04-b91d-3a7a1eba2d13\")>,\n",
       " <selenium.webdriver.remote.webelement.WebElement (session=\"e1e5bf374974e1f3caef5937c5106cab\", element=\"5fc4979d-4f2f-463a-8092-cf842c466d8a\")>,\n",
       " <selenium.webdriver.remote.webelement.WebElement (session=\"e1e5bf374974e1f3caef5937c5106cab\", element=\"bf601542-5f72-4a43-8715-ddc752f4b9e6\")>,\n",
       " <selenium.webdriver.remote.webelement.WebElement (session=\"e1e5bf374974e1f3caef5937c5106cab\", element=\"fd25525c-f556-454d-b819-552d785325e3\")>,\n",
       " <selenium.webdriver.remote.webelement.WebElement (session=\"e1e5bf374974e1f3caef5937c5106cab\", element=\"7a191047-ea82-4a36-8a6a-40270c6e5dda\")>,\n",
       " <selenium.webdriver.remote.webelement.WebElement (session=\"e1e5bf374974e1f3caef5937c5106cab\", element=\"06075a4b-6afe-41fb-8bc5-fb1441163a95\")>,\n",
       " <selenium.webdriver.remote.webelement.WebElement (session=\"e1e5bf374974e1f3caef5937c5106cab\", element=\"c9872aea-4620-4b24-8173-5a1ef4d316a1\")>,\n",
       " <selenium.webdriver.remote.webelement.WebElement (session=\"e1e5bf374974e1f3caef5937c5106cab\", element=\"f0284700-d1d5-473d-a9ce-71ae56b40b6e\")>,\n",
       " <selenium.webdriver.remote.webelement.WebElement (session=\"e1e5bf374974e1f3caef5937c5106cab\", element=\"16c44e5d-b2ff-4ba9-873b-5e73d8a2cc0c\")>]"
      ]
     },
     "execution_count": 88,
     "metadata": {},
     "output_type": "execute_result"
    }
   ],
   "source": [
    "urls=driver.find_elements_by_xpath(\"//a[@class='title fw500 ellipsis']\")\n",
    "urls"
   ]
  },
  {
   "cell_type": "code",
   "execution_count": 89,
   "metadata": {},
   "outputs": [
    {
     "data": {
      "text/plain": [
       "10"
      ]
     },
     "execution_count": 89,
     "metadata": {},
     "output_type": "execute_result"
    }
   ],
   "source": [
    "list_url=[]\n",
    "for i in urls[0:10]:\n",
    "    list_url.append(i.get_attribute('href'))\n",
    "len(list_url)"
   ]
  },
  {
   "cell_type": "code",
   "execution_count": 90,
   "metadata": {},
   "outputs": [
    {
     "data": {
      "text/plain": [
       "['',\n",
       " 'Required Technical and Professional Expertise',\n",
       " 'Preferred Technical and Professional Expertise',\n",
       " 'Must Have skill sets:\\n\\nExcellent knowledge of various statistical / Machine Learning / Deep Learning algorithms such as Feature Engineering/selection, Time series, Regression, Classification, Clustering, Recommendation Engine, Anomaly Detection, NLP, Reinforcement Learning etc.)\\n4 to 8 years of hands-on expertise in developing data science models by applying above mentioned algorithms on structured / text data, using R / Python\\nProficient in writing optimized query using any one of the DB query language (Hive/Impala/SQL/MongoDB etc.). Knowledge of big data is essential',\n",
       " \"Good to Have skill sets:\\n\\nVisualization using any one of the technologies (Tableau, PowerBI, RShiny, matplotlib, ggplot etc.). In case of lack of skills, eagerness to learn is must\\nInsight Generation and Story telling to end consumers\\nExperience across end to end data science project life cycle (use case framing, data collection, data exploration, design of experiments, model development, selection and deployment, post production support)\\nSelf-motivated to learn different techniques / technologies, as per the project's need and go extra mile to bring customer delight\",\n",
       " 'Educational Qualification:\\n\\nAny of the following:\\n• Bachelors in Engineering / MCA\\n• Masters in Data Science/ Computer Applications/ Statistics/ Mathematics/ Economics/ Ops Research/ Other quantitative disciplines\\n• MBA\\n\\nJob Responsibilities:',\n",
       " 'Own and execute end to end delivery of one or more than one data science model development, as per requirement provided by project/product manager',\n",
       " 'Understand business requirements from Product Managers/Business Users\\nExtract data from multiple data sources using Hadoop / SQL\\nDevelop, Validate and Operationalize predictive models using appropriate variables and ML/deep learning techniques\\nPerform ad-hoc deep dive analysis and generate actionable insights\\nCreate technical documentation and provide post-production support for a time-bound period\\nCommunicate the results to technical as well as business stakeholders across different hierarchies',\n",
       " '',\n",
       " 'Required Technical and Professional Expertise',\n",
       " 'Preferred Technical and Professional Expertise']"
      ]
     },
     "execution_count": 90,
     "metadata": {},
     "output_type": "execute_result"
    }
   ],
   "source": [
    "import time\n",
    "desc_list=[]\n",
    "#print(len(list_url)\n",
    "for i in list_url:\n",
    "    driver.get(i)\n",
    "    desc=driver.find_elements_by_xpath(\"//div[@class='clearboth description']//p\")\n",
    "   \n",
    "    for i in desc:\n",
    "        desc_list.append(i.text)\n",
    "desc_list"
   ]
  },
  {
   "cell_type": "code",
   "execution_count": 91,
   "metadata": {},
   "outputs": [
    {
     "data": {
      "text/html": [
       "<div>\n",
       "<style scoped>\n",
       "    .dataframe tbody tr th:only-of-type {\n",
       "        vertical-align: middle;\n",
       "    }\n",
       "\n",
       "    .dataframe tbody tr th {\n",
       "        vertical-align: top;\n",
       "    }\n",
       "\n",
       "    .dataframe thead th {\n",
       "        text-align: right;\n",
       "    }\n",
       "</style>\n",
       "<table border=\"1\" class=\"dataframe\">\n",
       "  <thead>\n",
       "    <tr style=\"text-align: right;\">\n",
       "      <th></th>\n",
       "      <th>Title</th>\n",
       "      <th>Company</th>\n",
       "      <th>Location</th>\n",
       "      <th>Description</th>\n",
       "    </tr>\n",
       "  </thead>\n",
       "  <tbody>\n",
       "    <tr>\n",
       "      <th>0</th>\n",
       "      <td>Hiring For Data Scientist</td>\n",
       "      <td>Tata Consultancy Services Ltd.</td>\n",
       "      <td>Bengaluru/Bangalore</td>\n",
       "      <td></td>\n",
       "    </tr>\n",
       "    <tr>\n",
       "      <th>1</th>\n",
       "      <td>Lead Data Scientist BFSI</td>\n",
       "      <td>IBM India Pvt. Limited</td>\n",
       "      <td>Bangalore/Bengaluru</td>\n",
       "      <td>Required Technical and Professional Expertise</td>\n",
       "    </tr>\n",
       "    <tr>\n",
       "      <th>2</th>\n",
       "      <td>Associate Data Scientist</td>\n",
       "      <td>Philips India Limited</td>\n",
       "      <td>Bangalore/Bengaluru</td>\n",
       "      <td>Preferred Technical and Professional Expertise</td>\n",
       "    </tr>\n",
       "    <tr>\n",
       "      <th>3</th>\n",
       "      <td>Data Scientist</td>\n",
       "      <td>Brillio</td>\n",
       "      <td>Bangalore/Bengaluru</td>\n",
       "      <td>Must Have skill sets:\\n\\nExcellent knowledge o...</td>\n",
       "    </tr>\n",
       "    <tr>\n",
       "      <th>4</th>\n",
       "      <td>Data Scientist - I / II</td>\n",
       "      <td>Sharechat</td>\n",
       "      <td>Bangalore/Bengaluru</td>\n",
       "      <td>Good to Have skill sets:\\n\\nVisualization usin...</td>\n",
       "    </tr>\n",
       "    <tr>\n",
       "      <th>5</th>\n",
       "      <td>Data Scientist</td>\n",
       "      <td>Allegis Services India Pvt. Ltd.</td>\n",
       "      <td>Bangalore/Bengaluru</td>\n",
       "      <td>Educational Qualification:\\n\\nAny of the follo...</td>\n",
       "    </tr>\n",
       "    <tr>\n",
       "      <th>6</th>\n",
       "      <td>Data Scientist</td>\n",
       "      <td>Allegis Services India Pvt. Ltd.</td>\n",
       "      <td>Bengaluru/Bangalore</td>\n",
       "      <td>Own and execute end to end delivery of one or ...</td>\n",
       "    </tr>\n",
       "    <tr>\n",
       "      <th>7</th>\n",
       "      <td>Data Scientist: Advanced Analytics</td>\n",
       "      <td>IBM India Pvt. Limited</td>\n",
       "      <td>Bangalore/Bengaluru</td>\n",
       "      <td>Understand business requirements from Product ...</td>\n",
       "    </tr>\n",
       "    <tr>\n",
       "      <th>8</th>\n",
       "      <td>Senior Data Scientist</td>\n",
       "      <td>Walmart Labs</td>\n",
       "      <td>Bangalore/Bengaluru</td>\n",
       "      <td></td>\n",
       "    </tr>\n",
       "    <tr>\n",
       "      <th>9</th>\n",
       "      <td>Senior Data Scientist</td>\n",
       "      <td>Airbnb</td>\n",
       "      <td>Bengaluru/Bangalore</td>\n",
       "      <td>Required Technical and Professional Expertise</td>\n",
       "    </tr>\n",
       "  </tbody>\n",
       "</table>\n",
       "</div>"
      ],
      "text/plain": [
       "                                Title                           Company  \\\n",
       "0           Hiring For Data Scientist    Tata Consultancy Services Ltd.   \n",
       "1            Lead Data Scientist BFSI            IBM India Pvt. Limited   \n",
       "2            Associate Data Scientist             Philips India Limited   \n",
       "3                      Data Scientist                           Brillio   \n",
       "4             Data Scientist - I / II                         Sharechat   \n",
       "5                      Data Scientist  Allegis Services India Pvt. Ltd.   \n",
       "6                      Data Scientist  Allegis Services India Pvt. Ltd.   \n",
       "7  Data Scientist: Advanced Analytics            IBM India Pvt. Limited   \n",
       "8               Senior Data Scientist                      Walmart Labs   \n",
       "9               Senior Data Scientist                            Airbnb   \n",
       "\n",
       "              Location                                        Description  \n",
       "0  Bengaluru/Bangalore                                                     \n",
       "1  Bangalore/Bengaluru      Required Technical and Professional Expertise  \n",
       "2  Bangalore/Bengaluru     Preferred Technical and Professional Expertise  \n",
       "3  Bangalore/Bengaluru  Must Have skill sets:\\n\\nExcellent knowledge o...  \n",
       "4  Bangalore/Bengaluru  Good to Have skill sets:\\n\\nVisualization usin...  \n",
       "5  Bangalore/Bengaluru  Educational Qualification:\\n\\nAny of the follo...  \n",
       "6  Bengaluru/Bangalore  Own and execute end to end delivery of one or ...  \n",
       "7  Bangalore/Bengaluru  Understand business requirements from Product ...  \n",
       "8  Bangalore/Bengaluru                                                     \n",
       "9  Bengaluru/Bangalore      Required Technical and Professional Expertise  "
      ]
     },
     "execution_count": 91,
     "metadata": {},
     "output_type": "execute_result"
    }
   ],
   "source": [
    "import pandas as pd\n",
    "records=pd.DataFrame({})\n",
    "records['Title']=title_list[0:10]\n",
    "records['Company']=company_list[0:10]\n",
    "\n",
    "\n",
    "records['Location']=location[0:10]\n",
    "records['Description']=desc_list[0:10]\n",
    "records"
   ]
  },
  {
   "cell_type": "markdown",
   "metadata": {},
   "source": [
    "# Answer 3."
   ]
  },
  {
   "cell_type": "code",
   "execution_count": 92,
   "metadata": {},
   "outputs": [],
   "source": [
    "url=\"https://www.naukri.com/\"\n",
    "driver.get(url)\n",
    "search_job=driver.find_element_by_id(\"qsb-keyword-sugg\")\n",
    "search_job\n",
    "search_job.send_keys(\"Data Scientist\")"
   ]
  },
  {
   "cell_type": "code",
   "execution_count": 93,
   "metadata": {},
   "outputs": [],
   "source": [
    "search_btn=driver.find_element_by_xpath(\"//button[@class='btn']\")\n",
    "search_btn.click()\n"
   ]
  },
  {
   "cell_type": "code",
   "execution_count": 94,
   "metadata": {},
   "outputs": [
    {
     "name": "stdout",
     "output_type": "stream",
     "text": [
      "WFH during Covid\n",
      "(669)\n",
      "Remote\n",
      "(131)\n",
      "Bangalore/Bengaluru\n",
      "(4638)\n",
      "Delhi / NCR\n"
     ]
    }
   ],
   "source": [
    "filter_location=driver.find_elements_by_xpath(\"//p[@class='grey-text lH20 fleft ml-8 txtLbl']/span\")\n",
    "for i in filter_location:\n",
    "    print(i.text)\n",
    "    if i.text=='Delhi / NCR':\n",
    "        i.click()\n",
    "        break"
   ]
  },
  {
   "cell_type": "code",
   "execution_count": 95,
   "metadata": {},
   "outputs": [],
   "source": [
    "\n",
    "filter_salary=driver.find_elements_by_xpath(\"//p[@class='grey-text lH20 fleft ml-8 txtLbl']//span\")\n",
    "for i in filter_salary:\n",
    "    #print(i.text)\n",
    "     if i.text=='3-6 Lakhs':\n",
    "        i.click()\n",
    "        break\n",
    "       "
   ]
  },
  {
   "cell_type": "code",
   "execution_count": 96,
   "metadata": {},
   "outputs": [
    {
     "data": {
      "text/plain": [
       "['Data Scientist / Data Analyst / Business Analytics - MNC Jobs Freshers',\n",
       " 'Data Scientist/ Machine Learning Engineer',\n",
       " 'Data Scientist / Data Analyst',\n",
       " 'Only Fresher / Data Scientist / Data Analyst / Analytics - MNC Jobs',\n",
       " 'Data Scientist / Data Analyst / Business Analytics - MNC Jobs Freshers',\n",
       " 'Data Scientist',\n",
       " 'Data Scientist',\n",
       " 'Data Scientist - Insurance',\n",
       " 'Data Scientist - WFH - MIND Infotech',\n",
       " 'Junior Data Scientists & Engineers']"
      ]
     },
     "execution_count": 96,
     "metadata": {},
     "output_type": "execute_result"
    }
   ],
   "source": [
    "title=[]\n",
    "Title=driver.find_elements_by_xpath(\"//a[@class='title fw500 ellipsis']\")\n",
    "for i in Title:\n",
    "    #print(i.text)\n",
    "    title.append(i.text)\n",
    "title[0:10]"
   ]
  },
  {
   "cell_type": "code",
   "execution_count": 97,
   "metadata": {},
   "outputs": [
    {
     "data": {
      "text/plain": [
       "['GABA Consultancy services',\n",
       " 'Creative Hands HR Consultancy',\n",
       " 'CARS24',\n",
       " 'GABA Consultancy services',\n",
       " 'GABA Consultancy services',\n",
       " 'R Systems International Ltd.',\n",
       " 'PROCESS NINE TECHNOLOGIES PVT.LTD.',\n",
       " 'Huquo Consulting Pvt. Ltd',\n",
       " 'MOTHERSONSUMI INFOTECH & DESIGNS LIMITED',\n",
       " 'PY Consultancy']"
      ]
     },
     "execution_count": 97,
     "metadata": {},
     "output_type": "execute_result"
    }
   ],
   "source": [
    "company_list=[]\n",
    "company=driver.find_elements_by_xpath(\"//a[@class='subTitle ellipsis fleft']\")\n",
    "for i in company:\n",
    "    company_list.append(i.text)\n",
    "company_list[0:10]"
   ]
  },
  {
   "cell_type": "code",
   "execution_count": 121,
   "metadata": {},
   "outputs": [
    {
     "data": {
      "text/plain": [
       "18"
      ]
     },
     "execution_count": 121,
     "metadata": {},
     "output_type": "execute_result"
    }
   ],
   "source": [
    "exp=driver.find_elements_by_xpath(\"//span[@class='ellipsis fleft fs12 lh16 ']\")\n",
    "exp_list=[]\n",
    "for i in exp:\n",
    "    if 'Yrs' in i.text:\n",
    "        exp_list.append(i.text)\n",
    "    else:\n",
    "        pass\n",
    "len(exp_list)"
   ]
  },
  {
   "cell_type": "code",
   "execution_count": 127,
   "metadata": {},
   "outputs": [
    {
     "data": {
      "text/plain": [
       "13"
      ]
     },
     "execution_count": 127,
     "metadata": {},
     "output_type": "execute_result"
    }
   ],
   "source": [
    "location=[]\n",
    "for i in exp:\n",
    "    if 'Bangalore' in i.text or 'Delhi' in i.text or 'Bengaluru' in i.text:\n",
    "        location.append(i.text)\n",
    "    else:\n",
    "        pass\n",
    "len(location)"
   ]
  },
  {
   "cell_type": "code",
   "execution_count": 128,
   "metadata": {},
   "outputs": [],
   "source": [
    "salary=[]\n",
    "for i in exp:\n",
    "    if i.text not in exp and i.text not in location :\n",
    "        salary.append(i.text)\n",
    "    else:\n",
    "        pass"
   ]
  },
  {
   "cell_type": "code",
   "execution_count": 130,
   "metadata": {},
   "outputs": [
    {
     "data": {
      "text/html": [
       "<div>\n",
       "<style scoped>\n",
       "    .dataframe tbody tr th:only-of-type {\n",
       "        vertical-align: middle;\n",
       "    }\n",
       "\n",
       "    .dataframe tbody tr th {\n",
       "        vertical-align: top;\n",
       "    }\n",
       "\n",
       "    .dataframe thead th {\n",
       "        text-align: right;\n",
       "    }\n",
       "</style>\n",
       "<table border=\"1\" class=\"dataframe\">\n",
       "  <thead>\n",
       "    <tr style=\"text-align: right;\">\n",
       "      <th></th>\n",
       "      <th>Title</th>\n",
       "      <th>Company</th>\n",
       "      <th>Experience</th>\n",
       "      <th>Location</th>\n",
       "    </tr>\n",
       "  </thead>\n",
       "  <tbody>\n",
       "    <tr>\n",
       "      <th>0</th>\n",
       "      <td>Data Scientist / Data Analyst / Business Analy...</td>\n",
       "      <td>GABA Consultancy services</td>\n",
       "      <td>0-0 Yrs</td>\n",
       "      <td>Ghaziabad, Faridabad, Delhi / NCR</td>\n",
       "    </tr>\n",
       "    <tr>\n",
       "      <th>1</th>\n",
       "      <td>Data Scientist/ Machine Learning Engineer</td>\n",
       "      <td>Creative Hands HR Consultancy</td>\n",
       "      <td>0-0 Yrs</td>\n",
       "      <td>Hyderabad/Secunderabad, Pune, Ahmedabad, Gurga...</td>\n",
       "    </tr>\n",
       "    <tr>\n",
       "      <th>2</th>\n",
       "      <td>Data Scientist / Data Analyst</td>\n",
       "      <td>CARS24</td>\n",
       "      <td>1-5 Yrs</td>\n",
       "      <td>Noida, Gurgaon/Gurugram, Delhi / NCR</td>\n",
       "    </tr>\n",
       "    <tr>\n",
       "      <th>3</th>\n",
       "      <td>Only Fresher / Data Scientist / Data Analyst /...</td>\n",
       "      <td>GABA Consultancy services</td>\n",
       "      <td>0-0 Yrs</td>\n",
       "      <td>Noida, New Delhi, Gurgaon/Gurugram</td>\n",
       "    </tr>\n",
       "    <tr>\n",
       "      <th>4</th>\n",
       "      <td>Data Scientist / Data Analyst / Business Analy...</td>\n",
       "      <td>GABA Consultancy services</td>\n",
       "      <td>0-0 Yrs</td>\n",
       "      <td>Pune, Chennai, Bangalore/Bengaluru, Delhi / NC...</td>\n",
       "    </tr>\n",
       "    <tr>\n",
       "      <th>5</th>\n",
       "      <td>Data Scientist</td>\n",
       "      <td>R Systems International Ltd.</td>\n",
       "      <td>2-7 Yrs</td>\n",
       "      <td>New Delhi, Delhi / NCR</td>\n",
       "    </tr>\n",
       "    <tr>\n",
       "      <th>6</th>\n",
       "      <td>Data Scientist</td>\n",
       "      <td>PROCESS NINE TECHNOLOGIES PVT.LTD.</td>\n",
       "      <td>3-7 Yrs</td>\n",
       "      <td>Delhi / NCR(Okhla)</td>\n",
       "    </tr>\n",
       "    <tr>\n",
       "      <th>7</th>\n",
       "      <td>Data Scientist - Insurance</td>\n",
       "      <td>Huquo Consulting Pvt. Ltd</td>\n",
       "      <td>0-3 Yrs</td>\n",
       "      <td>Bangalore/Bengaluru, Delhi / NCR, Mumbai (All ...</td>\n",
       "    </tr>\n",
       "    <tr>\n",
       "      <th>8</th>\n",
       "      <td>Data Scientist - WFH - MIND Infotech</td>\n",
       "      <td>MOTHERSONSUMI INFOTECH &amp; DESIGNS LIMITED</td>\n",
       "      <td>5-10 Yrs</td>\n",
       "      <td>New Delhi</td>\n",
       "    </tr>\n",
       "    <tr>\n",
       "      <th>9</th>\n",
       "      <td>Junior Data Scientists &amp; Engineers</td>\n",
       "      <td>PY Consultancy</td>\n",
       "      <td>4-6 Yrs</td>\n",
       "      <td>Mumbai, Gurgaon/Gurugram, Bangalore/Bengaluru</td>\n",
       "    </tr>\n",
       "  </tbody>\n",
       "</table>\n",
       "</div>"
      ],
      "text/plain": [
       "                                               Title  \\\n",
       "0  Data Scientist / Data Analyst / Business Analy...   \n",
       "1          Data Scientist/ Machine Learning Engineer   \n",
       "2                      Data Scientist / Data Analyst   \n",
       "3  Only Fresher / Data Scientist / Data Analyst /...   \n",
       "4  Data Scientist / Data Analyst / Business Analy...   \n",
       "5                                     Data Scientist   \n",
       "6                                     Data Scientist   \n",
       "7                         Data Scientist - Insurance   \n",
       "8               Data Scientist - WFH - MIND Infotech   \n",
       "9                 Junior Data Scientists & Engineers   \n",
       "\n",
       "                                    Company Experience  \\\n",
       "0                 GABA Consultancy services    0-0 Yrs   \n",
       "1             Creative Hands HR Consultancy    0-0 Yrs   \n",
       "2                                    CARS24    1-5 Yrs   \n",
       "3                 GABA Consultancy services    0-0 Yrs   \n",
       "4                 GABA Consultancy services    0-0 Yrs   \n",
       "5              R Systems International Ltd.    2-7 Yrs   \n",
       "6        PROCESS NINE TECHNOLOGIES PVT.LTD.    3-7 Yrs   \n",
       "7                 Huquo Consulting Pvt. Ltd    0-3 Yrs   \n",
       "8  MOTHERSONSUMI INFOTECH & DESIGNS LIMITED   5-10 Yrs   \n",
       "9                            PY Consultancy    4-6 Yrs   \n",
       "\n",
       "                                            Location  \n",
       "0                  Ghaziabad, Faridabad, Delhi / NCR  \n",
       "1  Hyderabad/Secunderabad, Pune, Ahmedabad, Gurga...  \n",
       "2               Noida, Gurgaon/Gurugram, Delhi / NCR  \n",
       "3                 Noida, New Delhi, Gurgaon/Gurugram  \n",
       "4  Pune, Chennai, Bangalore/Bengaluru, Delhi / NC...  \n",
       "5                             New Delhi, Delhi / NCR  \n",
       "6                                 Delhi / NCR(Okhla)  \n",
       "7  Bangalore/Bengaluru, Delhi / NCR, Mumbai (All ...  \n",
       "8                                          New Delhi  \n",
       "9      Mumbai, Gurgaon/Gurugram, Bangalore/Bengaluru  "
      ]
     },
     "execution_count": 130,
     "metadata": {},
     "output_type": "execute_result"
    }
   ],
   "source": [
    "import pandas as pd\n",
    "records=pd.DataFrame({})\n",
    "records['Title']=title[0:10]\n",
    "records['Company']=company_list[0:10]\n",
    "\n",
    "records['Experience']=exp_list[0:10]\n",
    "records['Location']=location[0:10]\n",
    "records"
   ]
  }
 ],
 "metadata": {
  "kernelspec": {
   "display_name": "Python 3",
   "language": "python",
   "name": "python3"
  },
  "language_info": {
   "codemirror_mode": {
    "name": "ipython",
    "version": 3
   },
   "file_extension": ".py",
   "mimetype": "text/x-python",
   "name": "python",
   "nbconvert_exporter": "python",
   "pygments_lexer": "ipython3",
   "version": "3.8.5"
  }
 },
 "nbformat": 4,
 "nbformat_minor": 2
}
