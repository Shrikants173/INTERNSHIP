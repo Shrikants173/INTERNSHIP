{
 "cells": [
  {
   "cell_type": "markdown",
   "metadata": {},
   "source": [
    "# WEB SCRAPPING ASSIGNMENT 1"
   ]
  },
  {
   "cell_type": "raw",
   "metadata": {},
   "source": [
    "1. Write a python program to display all the header tags from ‘en.wikipedia.org/wiki/Main_Page’."
   ]
  },
  {
   "cell_type": "code",
   "execution_count": 1,
   "metadata": {},
   "outputs": [
    {
     "name": "stdout",
     "output_type": "stream",
     "text": [
      "Requirement already satisfied: beautifulsoup4 in c:\\programdata\\anaconda3\\lib\\site-packages (4.9.3)\n",
      "Requirement already satisfied: soupsieve>1.2; python_version >= \"3.0\" in c:\\programdata\\anaconda3\\lib\\site-packages (from beautifulsoup4) (2.0.1)\n"
     ]
    }
   ],
   "source": [
    "!pip install beautifulsoup4"
   ]
  },
  {
   "cell_type": "code",
   "execution_count": 2,
   "metadata": {},
   "outputs": [
    {
     "name": "stdout",
     "output_type": "stream",
     "text": [
      "Requirement already satisfied: requests in c:\\programdata\\anaconda3\\lib\\site-packages (2.24.0)\n",
      "Requirement already satisfied: certifi>=2017.4.17 in c:\\programdata\\anaconda3\\lib\\site-packages (from requests) (2020.6.20)\n",
      "Requirement already satisfied: urllib3!=1.25.0,!=1.25.1,<1.26,>=1.21.1 in c:\\programdata\\anaconda3\\lib\\site-packages (from requests) (1.25.11)\n",
      "Requirement already satisfied: idna<3,>=2.5 in c:\\programdata\\anaconda3\\lib\\site-packages (from requests) (2.10)\n",
      "Requirement already satisfied: chardet<4,>=3.0.2 in c:\\programdata\\anaconda3\\lib\\site-packages (from requests) (3.0.4)\n"
     ]
    }
   ],
   "source": [
    "!pip install requests"
   ]
  },
  {
   "cell_type": "code",
   "execution_count": 1,
   "metadata": {},
   "outputs": [],
   "source": [
    "import requests\n",
    "from bs4 import BeautifulSoup\n"
   ]
  },
  {
   "cell_type": "code",
   "execution_count": 2,
   "metadata": {},
   "outputs": [],
   "source": [
    "import pandas as pd\n",
    "import numpy as np"
   ]
  },
  {
   "cell_type": "code",
   "execution_count": 5,
   "metadata": {},
   "outputs": [],
   "source": [
    "def headers(url, class_,title='h2'):\n",
    "    html_text=requests.get(url).text\n",
    "    soup=BeautifulSoup(html_text,'lxml')\n",
    "    name=soup.find_all(title, class_=class_)\n",
    "    list_=[]\n",
    "    for i in name:\n",
    "        list_.append(i.text.replace('\\n',''))\n",
    "    return list_\n"
   ]
  },
  {
   "cell_type": "code",
   "execution_count": 6,
   "metadata": {},
   "outputs": [
    {
     "name": "stdout",
     "output_type": "stream",
     "text": [
      "From today's featured article\n",
      "Did you know ...\n",
      "In the news\n",
      "On this day\n",
      "From today's featured list\n",
      "Today's featured picture\n",
      "Other areas of Wikipedia\n",
      "Wikipedia's sister projects\n",
      "Wikipedia languages\n"
     ]
    }
   ],
   "source": [
    "h2=headers('https://en.wikipedia.org/wiki/Main_Page','mp-h2')\n",
    "print('\\n'.join(h2))"
   ]
  },
  {
   "cell_type": "raw",
   "metadata": {},
   "source": [
    "2. Write a python program to display IMDB’s Top rated 100 movies’ data (i.e. Name, IMDB rating, Year of release)."
   ]
  },
  {
   "cell_type": "code",
   "execution_count": 7,
   "metadata": {},
   "outputs": [],
   "source": [
    "def movies(url,header,class_):\n",
    "    movies=headers(url,title=header,class_=class_)\n",
    "    movie_name=[' '.join(x.split()[1:]).split('(')[0] for x in movies]\n",
    "    release_year=[' '.join(x.split()).split('(')[1].replace(')','') for x in movies]\n",
    "    return movie_name,release_year\n",
    "    \n",
    "def rating(url,header,class_):\n",
    "    ratings=headers(url,title=header,class_=class_)\n",
    "    ratings=[float(x) for x in ratings]\n",
    "    return ratings\n",
    "def top_100_movies(movies,year,ratings):\n",
    "    movie=pd.DataFrame(zip(movies,year,ratings), columns=['Title','Year_of_Release','Ratings'])\n",
    "    return movie\n",
    "                       "
   ]
  },
  {
   "cell_type": "code",
   "execution_count": 8,
   "metadata": {},
   "outputs": [],
   "source": [
    "movie_url='https://www.imdb.com/chart/top/?ref_=nv_mv_250'"
   ]
  },
  {
   "cell_type": "code",
   "execution_count": 9,
   "metadata": {},
   "outputs": [],
   "source": [
    "title,year=movies(movie_url,'td','titleColumn')\n",
    "ratings=rating(movie_url,'td','ratingColumn imdbRating')\n",
    "movies_top=top_100_movies(title, year,ratings)[:100]"
   ]
  },
  {
   "cell_type": "code",
   "execution_count": 10,
   "metadata": {},
   "outputs": [
    {
     "data": {
      "text/html": [
       "<div>\n",
       "<style scoped>\n",
       "    .dataframe tbody tr th:only-of-type {\n",
       "        vertical-align: middle;\n",
       "    }\n",
       "\n",
       "    .dataframe tbody tr th {\n",
       "        vertical-align: top;\n",
       "    }\n",
       "\n",
       "    .dataframe thead th {\n",
       "        text-align: right;\n",
       "    }\n",
       "</style>\n",
       "<table border=\"1\" class=\"dataframe\">\n",
       "  <thead>\n",
       "    <tr style=\"text-align: right;\">\n",
       "      <th></th>\n",
       "      <th>Title</th>\n",
       "      <th>Year_of_Release</th>\n",
       "      <th>Ratings</th>\n",
       "    </tr>\n",
       "  </thead>\n",
       "  <tbody>\n",
       "    <tr>\n",
       "      <th>0</th>\n",
       "      <td>The Shawshank Redemption</td>\n",
       "      <td>1994</td>\n",
       "      <td>9.2</td>\n",
       "    </tr>\n",
       "    <tr>\n",
       "      <th>1</th>\n",
       "      <td>The Godfather</td>\n",
       "      <td>1972</td>\n",
       "      <td>9.1</td>\n",
       "    </tr>\n",
       "    <tr>\n",
       "      <th>2</th>\n",
       "      <td>The Godfather: Part II</td>\n",
       "      <td>1974</td>\n",
       "      <td>9.0</td>\n",
       "    </tr>\n",
       "    <tr>\n",
       "      <th>3</th>\n",
       "      <td>The Dark Knight</td>\n",
       "      <td>2008</td>\n",
       "      <td>9.0</td>\n",
       "    </tr>\n",
       "    <tr>\n",
       "      <th>4</th>\n",
       "      <td>12 Angry Men</td>\n",
       "      <td>1957</td>\n",
       "      <td>8.9</td>\n",
       "    </tr>\n",
       "    <tr>\n",
       "      <th>...</th>\n",
       "      <td>...</td>\n",
       "      <td>...</td>\n",
       "      <td>...</td>\n",
       "    </tr>\n",
       "    <tr>\n",
       "      <th>95</th>\n",
       "      <td>Jagten</td>\n",
       "      <td>2012</td>\n",
       "      <td>8.3</td>\n",
       "    </tr>\n",
       "    <tr>\n",
       "      <th>96</th>\n",
       "      <td>Requiem for a Dream</td>\n",
       "      <td>2000</td>\n",
       "      <td>8.3</td>\n",
       "    </tr>\n",
       "    <tr>\n",
       "      <th>97</th>\n",
       "      <td>Singin' in the Rain</td>\n",
       "      <td>1952</td>\n",
       "      <td>8.3</td>\n",
       "    </tr>\n",
       "    <tr>\n",
       "      <th>98</th>\n",
       "      <td>North by Northwest</td>\n",
       "      <td>1959</td>\n",
       "      <td>8.3</td>\n",
       "    </tr>\n",
       "    <tr>\n",
       "      <th>99</th>\n",
       "      <td>Eternal Sunshine of the Spotless Mind</td>\n",
       "      <td>2004</td>\n",
       "      <td>8.3</td>\n",
       "    </tr>\n",
       "  </tbody>\n",
       "</table>\n",
       "<p>100 rows × 3 columns</p>\n",
       "</div>"
      ],
      "text/plain": [
       "                                    Title Year_of_Release  Ratings\n",
       "0                The Shawshank Redemption            1994      9.2\n",
       "1                           The Godfather            1972      9.1\n",
       "2                  The Godfather: Part II            1974      9.0\n",
       "3                         The Dark Knight            2008      9.0\n",
       "4                            12 Angry Men            1957      8.9\n",
       "..                                    ...             ...      ...\n",
       "95                                 Jagten            2012      8.3\n",
       "96                    Requiem for a Dream            2000      8.3\n",
       "97                    Singin' in the Rain            1952      8.3\n",
       "98                     North by Northwest            1959      8.3\n",
       "99  Eternal Sunshine of the Spotless Mind            2004      8.3\n",
       "\n",
       "[100 rows x 3 columns]"
      ]
     },
     "execution_count": 10,
     "metadata": {},
     "output_type": "execute_result"
    }
   ],
   "source": [
    "movies_top"
   ]
  },
  {
   "cell_type": "raw",
   "metadata": {},
   "source": [
    "3. Write a python program to display IMDB’s Top rated 100 Indian movies’ data (i.e. Name, IMDB rating, Year of release)"
   ]
  },
  {
   "cell_type": "code",
   "execution_count": 11,
   "metadata": {},
   "outputs": [],
   "source": [
    "indian_movies_url='https://www.imdb.com/india/top-rated-indian-movies/?pf_rd_m=A2FGELUUNOQJNL&pf_rd_p=2e9dfa9b-3e4d-4d39-acd2-8af11f252a59&pf_rd_r=G84X3AEB31JJFR24N1ZQ&pf_rd_s=right-5&pf_rd_t=15506&pf_rd_i=top&ref_=chttp_india_tr_rhs_1'"
   ]
  },
  {
   "cell_type": "code",
   "execution_count": 12,
   "metadata": {},
   "outputs": [],
   "source": [
    "indian_movies,year=movies(indian_movies_url,'td','titleColumn')\n",
    "indian_ratings=rating(indian_movies_url,'td','ratingColumn imdbRating')"
   ]
  },
  {
   "cell_type": "code",
   "execution_count": 13,
   "metadata": {},
   "outputs": [],
   "source": [
    "top_indian_movies=top_100_movies(indian_movies,year,indian_ratings)[:100]"
   ]
  },
  {
   "cell_type": "code",
   "execution_count": 14,
   "metadata": {},
   "outputs": [
    {
     "data": {
      "text/html": [
       "<div>\n",
       "<style scoped>\n",
       "    .dataframe tbody tr th:only-of-type {\n",
       "        vertical-align: middle;\n",
       "    }\n",
       "\n",
       "    .dataframe tbody tr th {\n",
       "        vertical-align: top;\n",
       "    }\n",
       "\n",
       "    .dataframe thead th {\n",
       "        text-align: right;\n",
       "    }\n",
       "</style>\n",
       "<table border=\"1\" class=\"dataframe\">\n",
       "  <thead>\n",
       "    <tr style=\"text-align: right;\">\n",
       "      <th></th>\n",
       "      <th>Title</th>\n",
       "      <th>Year_of_Release</th>\n",
       "      <th>Ratings</th>\n",
       "    </tr>\n",
       "  </thead>\n",
       "  <tbody>\n",
       "    <tr>\n",
       "      <th>0</th>\n",
       "      <td>Nayakan</td>\n",
       "      <td>1987</td>\n",
       "      <td>8.5</td>\n",
       "    </tr>\n",
       "    <tr>\n",
       "      <th>1</th>\n",
       "      <td>Anbe Sivam</td>\n",
       "      <td>2003</td>\n",
       "      <td>8.5</td>\n",
       "    </tr>\n",
       "    <tr>\n",
       "      <th>2</th>\n",
       "      <td>Pariyerum Perumal</td>\n",
       "      <td>2018</td>\n",
       "      <td>8.5</td>\n",
       "    </tr>\n",
       "    <tr>\n",
       "      <th>3</th>\n",
       "      <td>C/o Kancharapalem</td>\n",
       "      <td>2018</td>\n",
       "      <td>8.5</td>\n",
       "    </tr>\n",
       "    <tr>\n",
       "      <th>4</th>\n",
       "      <td>Golmaal</td>\n",
       "      <td>1979</td>\n",
       "      <td>8.5</td>\n",
       "    </tr>\n",
       "    <tr>\n",
       "      <th>...</th>\n",
       "      <td>...</td>\n",
       "      <td>...</td>\n",
       "      <td>...</td>\n",
       "    </tr>\n",
       "    <tr>\n",
       "      <th>95</th>\n",
       "      <td>Rang De Basanti</td>\n",
       "      <td>2006</td>\n",
       "      <td>8.1</td>\n",
       "    </tr>\n",
       "    <tr>\n",
       "      <th>96</th>\n",
       "      <td>Roja</td>\n",
       "      <td>1992</td>\n",
       "      <td>8.1</td>\n",
       "    </tr>\n",
       "    <tr>\n",
       "      <th>97</th>\n",
       "      <td>Lagaan: Once Upon a Time in India</td>\n",
       "      <td>2001</td>\n",
       "      <td>8.1</td>\n",
       "    </tr>\n",
       "    <tr>\n",
       "      <th>98</th>\n",
       "      <td>Uri: The Surgical Strike</td>\n",
       "      <td>2019</td>\n",
       "      <td>8.1</td>\n",
       "    </tr>\n",
       "    <tr>\n",
       "      <th>99</th>\n",
       "      <td>Andaz Apna Apna</td>\n",
       "      <td>1994</td>\n",
       "      <td>8.1</td>\n",
       "    </tr>\n",
       "  </tbody>\n",
       "</table>\n",
       "<p>100 rows × 3 columns</p>\n",
       "</div>"
      ],
      "text/plain": [
       "                                Title Year_of_Release  Ratings\n",
       "0                             Nayakan            1987      8.5\n",
       "1                          Anbe Sivam            2003      8.5\n",
       "2                   Pariyerum Perumal            2018      8.5\n",
       "3                   C/o Kancharapalem            2018      8.5\n",
       "4                             Golmaal            1979      8.5\n",
       "..                                ...             ...      ...\n",
       "95                    Rang De Basanti            2006      8.1\n",
       "96                               Roja            1992      8.1\n",
       "97  Lagaan: Once Upon a Time in India            2001      8.1\n",
       "98           Uri: The Surgical Strike            2019      8.1\n",
       "99                    Andaz Apna Apna            1994      8.1\n",
       "\n",
       "[100 rows x 3 columns]"
      ]
     },
     "execution_count": 14,
     "metadata": {},
     "output_type": "execute_result"
    }
   ],
   "source": [
    "top_indian_movies"
   ]
  },
  {
   "cell_type": "raw",
   "metadata": {},
   "source": [
    "4. Write a python program to scrap book name, author name, genre and book review of any 5 books from\n",
    "‘www.bookpage.com’"
   ]
  },
  {
   "cell_type": "code",
   "execution_count": 15,
   "metadata": {},
   "outputs": [],
   "source": [
    "ur=requests.get('https://bookpage.com/search/?utf8=%E2%9C%93&query=thriller').text\n",
    "soup_1=BeautifulSoup(ur,'lxml')"
   ]
  },
  {
   "cell_type": "code",
   "execution_count": 16,
   "metadata": {},
   "outputs": [
    {
     "data": {
      "text/plain": [
       "['Fallout',\n",
       " 'TheMaidens',\n",
       " 'TheGuide',\n",
       " 'LightChaser',\n",
       " '2021preview:Fallfinds',\n",
       " 'Whodunit:August2021',\n",
       " 'BookClubs:August2021',\n",
       " 'BillySummers',\n",
       " 'MeganAbbott',\n",
       " 'HowtoFindYourWayintheDark']"
      ]
     },
     "execution_count": 16,
     "metadata": {},
     "output_type": "execute_result"
    }
   ],
   "source": [
    "title=soup_1.find_all('h4',class_='italic')\n",
    "list_1=[]\n",
    "for i in title:\n",
    "    list_1.append(i.text.replace('\\n','').replace('★','').replace(' ',''))\n",
    "list_1"
   ]
  },
  {
   "cell_type": "code",
   "execution_count": 17,
   "metadata": {},
   "outputs": [
    {
     "data": {
      "text/plain": [
       "[[\"Children's  Middle Grade\"],\n",
       " ['Audio  Mystery & Suspense  Suspense'],\n",
       " ['Fiction  Speculative Fiction  Thriller'],\n",
       " ['Science Fiction & Fantasy  Science Fiction'],\n",
       " ['Mystery & Suspense  Suspense  Mystery'],\n",
       " ['Mystery & Suspense  Mystery  Fiction'],\n",
       " ['Fiction  Thriller'],\n",
       " ['Mystery & Suspense  Suspense'],\n",
       " ['Fiction  Coming of Age']]"
      ]
     },
     "execution_count": 17,
     "metadata": {},
     "output_type": "execute_result"
    }
   ],
   "source": [
    "genre=soup_1.find_all('p',class_='genre-links hidden-phone')\n",
    "list_2=[]\n",
    "for i in genre:\n",
    "    list_2.append([i.text.replace('\\n','').replace('/','')])\n",
    "list_2"
   ]
  },
  {
   "cell_type": "code",
   "execution_count": 18,
   "metadata": {},
   "outputs": [
    {
     "data": {
      "text/plain": [
       "['Steve Sheinkin',\n",
       " 'Alex Michaelides, Louise Brealey, Kobna Holdbrook-Smith',\n",
       " 'Peter Heller',\n",
       " 'Peter F. Hamilton, Gareth L. Powell',\n",
       " 'Feature by the editors of BookPage',\n",
       " 'Feature by Bruce Tierney',\n",
       " 'Feature by Julie Hale',\n",
       " 'Stephen King',\n",
       " 'On pointe—and on your guard',\n",
       " 'Derek B. Miller']"
      ]
     },
     "execution_count": 18,
     "metadata": {},
     "output_type": "execute_result"
    }
   ],
   "source": [
    "author=soup_1.find_all('p',class_='sans bold')\n",
    "list_3=[]\n",
    "for i in author:\n",
    "    list_3.append(i.text.replace('\\n','').replace('/',''))\n",
    "list_3"
   ]
  },
  {
   "cell_type": "code",
   "execution_count": 19,
   "metadata": {},
   "outputs": [
    {
     "data": {
      "text/plain": [
       "['',\n",
       " 'Actors Louise Brealey and Kobna Holdbrook-Smith narrate as an investigator and a killer in The Maidens, a thriller with more twists than the Minotaur’s labyrinth.',\n",
       " 'The Guide is a glorious getaway in every sense—a wild wilderness trip as well as a suspenseful journey to solve a chilling mystery.',\n",
       " '',\n",
       " \"When the weather cools down, autumn’s big releases start to heat up. Here are the titles BookPage's editors are most anticipating this fall.\",\n",
       " '',\n",
       " '',\n",
       " 'Five decades into an almost singularly successful career, Stephen King goes in an intriguing new direction with Billy Summers. Though this novel includes many classic King touchstones—revenge, a writer hero, unlikely friendships, trauma, justice—its dedication to realism and intense,...',\n",
       " '',\n",
       " 'The ending of How to Find Your Way in the Dark is nothing short of brilliant, making a powerful statement about the need to fully address antisemitism.']"
      ]
     },
     "execution_count": 19,
     "metadata": {},
     "output_type": "execute_result"
    }
   ],
   "source": [
    "reviews=soup_1.find_all('p',class_='excerpt')\n",
    "list_4=[]\n",
    "for i in reviews:\n",
    "    list_4.append(i.text.replace('\\n',''))\n",
    "list_4"
   ]
  },
  {
   "cell_type": "code",
   "execution_count": 20,
   "metadata": {},
   "outputs": [],
   "source": [
    "books=pd.DataFrame(zip(list_1,list_2,list_3,list_4),columns=['Title','Genre','Author','Reviews'])"
   ]
  },
  {
   "cell_type": "code",
   "execution_count": 21,
   "metadata": {},
   "outputs": [],
   "source": [
    "books.dropna(inplace=True)"
   ]
  },
  {
   "cell_type": "code",
   "execution_count": 22,
   "metadata": {},
   "outputs": [
    {
     "data": {
      "text/html": [
       "<div>\n",
       "<style scoped>\n",
       "    .dataframe tbody tr th:only-of-type {\n",
       "        vertical-align: middle;\n",
       "    }\n",
       "\n",
       "    .dataframe tbody tr th {\n",
       "        vertical-align: top;\n",
       "    }\n",
       "\n",
       "    .dataframe thead th {\n",
       "        text-align: right;\n",
       "    }\n",
       "</style>\n",
       "<table border=\"1\" class=\"dataframe\">\n",
       "  <thead>\n",
       "    <tr style=\"text-align: right;\">\n",
       "      <th></th>\n",
       "      <th>Title</th>\n",
       "      <th>Genre</th>\n",
       "      <th>Author</th>\n",
       "      <th>Reviews</th>\n",
       "    </tr>\n",
       "  </thead>\n",
       "  <tbody>\n",
       "    <tr>\n",
       "      <th>0</th>\n",
       "      <td>TheMaidens</td>\n",
       "      <td>[Audio  Mystery &amp; Suspense  Suspense]</td>\n",
       "      <td>Alex Michaelides, Louise Brealey, Kobna Holdbr...</td>\n",
       "      <td>Actors Louise Brealey and Kobna Holdbrook-Smit...</td>\n",
       "    </tr>\n",
       "    <tr>\n",
       "      <th>1</th>\n",
       "      <td>TheGuide</td>\n",
       "      <td>[Fiction  Speculative Fiction  Thriller]</td>\n",
       "      <td>Peter Heller</td>\n",
       "      <td>The Guide is a glorious getaway in every sense...</td>\n",
       "    </tr>\n",
       "    <tr>\n",
       "      <th>2</th>\n",
       "      <td>2021preview:Fallfinds</td>\n",
       "      <td>[Mystery &amp; Suspense  Suspense  Mystery]</td>\n",
       "      <td>Feature by the editors of BookPage</td>\n",
       "      <td>When the weather cools down, autumn’s big rele...</td>\n",
       "    </tr>\n",
       "    <tr>\n",
       "      <th>3</th>\n",
       "      <td>BillySummers</td>\n",
       "      <td>[Mystery &amp; Suspense  Suspense]</td>\n",
       "      <td>Stephen King</td>\n",
       "      <td>Five decades into an almost singularly success...</td>\n",
       "    </tr>\n",
       "  </tbody>\n",
       "</table>\n",
       "</div>"
      ],
      "text/plain": [
       "                   Title                                     Genre  \\\n",
       "0             TheMaidens     [Audio  Mystery & Suspense  Suspense]   \n",
       "1               TheGuide  [Fiction  Speculative Fiction  Thriller]   \n",
       "2  2021preview:Fallfinds   [Mystery & Suspense  Suspense  Mystery]   \n",
       "3           BillySummers            [Mystery & Suspense  Suspense]   \n",
       "\n",
       "                                              Author  \\\n",
       "0  Alex Michaelides, Louise Brealey, Kobna Holdbr...   \n",
       "1                                       Peter Heller   \n",
       "2                 Feature by the editors of BookPage   \n",
       "3                                       Stephen King   \n",
       "\n",
       "                                             Reviews  \n",
       "0  Actors Louise Brealey and Kobna Holdbrook-Smit...  \n",
       "1  The Guide is a glorious getaway in every sense...  \n",
       "2  When the weather cools down, autumn’s big rele...  \n",
       "3  Five decades into an almost singularly success...  "
      ]
     },
     "execution_count": 22,
     "metadata": {},
     "output_type": "execute_result"
    }
   ],
   "source": [
    "books[books['Reviews']!=''].reset_index(drop=True)"
   ]
  },
  {
   "cell_type": "raw",
   "metadata": {},
   "source": [
    "5. Write a python program to scrape cricket rankings from ‘www.icc-cricket.com’. You have to scrape:\n",
    "i) Top 10 ODI teams in men’s cricket along with the records for matches, points and rating.\n",
    "ii) Top 10 ODI Batsmen in men along with the records of their team and rating.\n",
    "iii) Top 10 ODI bowlers along with the records of their team and rating."
   ]
  },
  {
   "cell_type": "code",
   "execution_count": 23,
   "metadata": {},
   "outputs": [],
   "source": [
    "url_cric=requests.get('https://www.icc-cricket.com/rankings/mens/team-rankings/odi').text"
   ]
  },
  {
   "cell_type": "code",
   "execution_count": 24,
   "metadata": {},
   "outputs": [],
   "source": [
    "soup_cric=BeautifulSoup(url_cric,'lxml')"
   ]
  },
  {
   "cell_type": "code",
   "execution_count": 25,
   "metadata": {},
   "outputs": [],
   "source": [
    "teams=soup_cric.find_all('span', class_='u-hide-phablet')\n",
    "list_of_teams=[]\n",
    "for i in teams[:10]:\n",
    "    list_of_teams.append(i.text)"
   ]
  },
  {
   "cell_type": "code",
   "execution_count": 26,
   "metadata": {},
   "outputs": [],
   "source": [
    "matches=soup_cric.find_all('td', class_=['rankings-block__banner--matches','rankings-block__banner--points','table-body__cell u-center-text'])\n",
    "list_of_matches=[]\n",
    "for i in matches:\n",
    "    list_of_matches.append(i.text.replace(',',''))"
   ]
  },
  {
   "cell_type": "code",
   "execution_count": 27,
   "metadata": {},
   "outputs": [],
   "source": [
    "matches_played=[j for i,j in enumerate(list_of_matches) if int(i)%2==0][:10]\n",
    "points=[j for i,j in enumerate(list_of_matches) if int(i)%2!=0][:10]"
   ]
  },
  {
   "cell_type": "code",
   "execution_count": 28,
   "metadata": {},
   "outputs": [],
   "source": [
    "rankings=soup_cric.find_all('td', class_=['rankings-block__banner--rating u-text-right','table-body__cell u-text-right rating'])\n",
    "list_of_ratings=[]\n",
    "for i in rankings[:10]:\n",
    "    list_of_ratings.append(i.text.replace(' ','').replace('\\n',''))"
   ]
  },
  {
   "cell_type": "code",
   "execution_count": 29,
   "metadata": {},
   "outputs": [],
   "source": [
    "ODI_Mens_Team=pd.DataFrame(zip(list_of_teams,matches_played,points,list_of_ratings),columns=['Teams','Matches','Points','Ratings'])"
   ]
  },
  {
   "cell_type": "code",
   "execution_count": 30,
   "metadata": {},
   "outputs": [
    {
     "data": {
      "text/html": [
       "<div>\n",
       "<style scoped>\n",
       "    .dataframe tbody tr th:only-of-type {\n",
       "        vertical-align: middle;\n",
       "    }\n",
       "\n",
       "    .dataframe tbody tr th {\n",
       "        vertical-align: top;\n",
       "    }\n",
       "\n",
       "    .dataframe thead th {\n",
       "        text-align: right;\n",
       "    }\n",
       "</style>\n",
       "<table border=\"1\" class=\"dataframe\">\n",
       "  <thead>\n",
       "    <tr style=\"text-align: right;\">\n",
       "      <th></th>\n",
       "      <th>Teams</th>\n",
       "      <th>Matches</th>\n",
       "      <th>Points</th>\n",
       "      <th>Ratings</th>\n",
       "    </tr>\n",
       "  </thead>\n",
       "  <tbody>\n",
       "    <tr>\n",
       "      <th>0</th>\n",
       "      <td>New Zealand</td>\n",
       "      <td>17</td>\n",
       "      <td>2054</td>\n",
       "      <td>121</td>\n",
       "    </tr>\n",
       "    <tr>\n",
       "      <th>1</th>\n",
       "      <td>England</td>\n",
       "      <td>32</td>\n",
       "      <td>3793</td>\n",
       "      <td>119</td>\n",
       "    </tr>\n",
       "    <tr>\n",
       "      <th>2</th>\n",
       "      <td>Australia</td>\n",
       "      <td>28</td>\n",
       "      <td>3244</td>\n",
       "      <td>116</td>\n",
       "    </tr>\n",
       "    <tr>\n",
       "      <th>3</th>\n",
       "      <td>India</td>\n",
       "      <td>32</td>\n",
       "      <td>3624</td>\n",
       "      <td>113</td>\n",
       "    </tr>\n",
       "    <tr>\n",
       "      <th>4</th>\n",
       "      <td>South Africa</td>\n",
       "      <td>22</td>\n",
       "      <td>2267</td>\n",
       "      <td>103</td>\n",
       "    </tr>\n",
       "    <tr>\n",
       "      <th>5</th>\n",
       "      <td>Pakistan</td>\n",
       "      <td>27</td>\n",
       "      <td>2524</td>\n",
       "      <td>93</td>\n",
       "    </tr>\n",
       "    <tr>\n",
       "      <th>6</th>\n",
       "      <td>Bangladesh</td>\n",
       "      <td>29</td>\n",
       "      <td>2639</td>\n",
       "      <td>91</td>\n",
       "    </tr>\n",
       "    <tr>\n",
       "      <th>7</th>\n",
       "      <td>West Indies</td>\n",
       "      <td>30</td>\n",
       "      <td>2523</td>\n",
       "      <td>84</td>\n",
       "    </tr>\n",
       "    <tr>\n",
       "      <th>8</th>\n",
       "      <td>Sri Lanka</td>\n",
       "      <td>29</td>\n",
       "      <td>2303</td>\n",
       "      <td>79</td>\n",
       "    </tr>\n",
       "    <tr>\n",
       "      <th>9</th>\n",
       "      <td>Afghanistan</td>\n",
       "      <td>17</td>\n",
       "      <td>1054</td>\n",
       "      <td>62</td>\n",
       "    </tr>\n",
       "  </tbody>\n",
       "</table>\n",
       "</div>"
      ],
      "text/plain": [
       "          Teams Matches Points Ratings\n",
       "0   New Zealand      17   2054     121\n",
       "1       England      32   3793     119\n",
       "2     Australia      28   3244     116\n",
       "3         India      32   3624     113\n",
       "4  South Africa      22   2267     103\n",
       "5      Pakistan      27   2524      93\n",
       "6    Bangladesh      29   2639      91\n",
       "7   West Indies      30   2523      84\n",
       "8     Sri Lanka      29   2303      79\n",
       "9   Afghanistan      17   1054      62"
      ]
     },
     "execution_count": 30,
     "metadata": {},
     "output_type": "execute_result"
    }
   ],
   "source": [
    "ODI_Mens_Team"
   ]
  },
  {
   "cell_type": "code",
   "execution_count": 31,
   "metadata": {},
   "outputs": [],
   "source": [
    "url_batsman=requests.get('https://www.icc-cricket.com/rankings/mens/player-rankings/odi').text"
   ]
  },
  {
   "cell_type": "code",
   "execution_count": 32,
   "metadata": {},
   "outputs": [],
   "source": [
    "soup_batsman=BeautifulSoup(url_batsman,'lxml')"
   ]
  },
  {
   "cell_type": "code",
   "execution_count": 33,
   "metadata": {},
   "outputs": [],
   "source": [
    "\n",
    "batsman=soup_batsman.find_all(['td','div'], class_=['table-body__cell name','rankings-block__banner--name'])\n",
    "list_of_batters=[]\n",
    "for i in batsman[:10]:\n",
    "    list_of_batters.append(i.text.replace('\\n',''))"
   ]
  },
  {
   "cell_type": "code",
   "execution_count": 34,
   "metadata": {},
   "outputs": [],
   "source": [
    "country=soup_batsman.find_all(['span','div'], class_=['rankings-block__banner--nationality','table-body__logo-text'])\n",
    "list_of_country=[]\n",
    "for i in country[:10]:\n",
    "    list_of_country.append(i.text.replace('\\n',''))"
   ]
  },
  {
   "cell_type": "code",
   "execution_count": 35,
   "metadata": {},
   "outputs": [],
   "source": [
    "list_of_country=[i.split(' ')[0] for i in list_of_country]"
   ]
  },
  {
   "cell_type": "code",
   "execution_count": 36,
   "metadata": {},
   "outputs": [],
   "source": [
    "bat_rating=soup_batsman.find_all(['td','div'], class_=['table-body__cell u-text-right rating'])\n",
    "list_of_bat_ratings=[873]\n",
    "for i in bat_rating[:9]:\n",
    "    list_of_bat_ratings.append(int(i.text.replace('\\n','')))\n"
   ]
  },
  {
   "cell_type": "code",
   "execution_count": 37,
   "metadata": {},
   "outputs": [],
   "source": [
    "ODI_Mens_Batsmen=pd.DataFrame(zip(list_of_batters,list_of_country,list_of_bat_ratings),columns=['Name','Country','Ratings'])"
   ]
  },
  {
   "cell_type": "code",
   "execution_count": 38,
   "metadata": {},
   "outputs": [
    {
     "data": {
      "text/html": [
       "<div>\n",
       "<style scoped>\n",
       "    .dataframe tbody tr th:only-of-type {\n",
       "        vertical-align: middle;\n",
       "    }\n",
       "\n",
       "    .dataframe tbody tr th {\n",
       "        vertical-align: top;\n",
       "    }\n",
       "\n",
       "    .dataframe thead th {\n",
       "        text-align: right;\n",
       "    }\n",
       "</style>\n",
       "<table border=\"1\" class=\"dataframe\">\n",
       "  <thead>\n",
       "    <tr style=\"text-align: right;\">\n",
       "      <th></th>\n",
       "      <th>Name</th>\n",
       "      <th>Country</th>\n",
       "      <th>Ratings</th>\n",
       "    </tr>\n",
       "  </thead>\n",
       "  <tbody>\n",
       "    <tr>\n",
       "      <th>0</th>\n",
       "      <td>Babar Azam</td>\n",
       "      <td>PAK</td>\n",
       "      <td>873</td>\n",
       "    </tr>\n",
       "    <tr>\n",
       "      <th>1</th>\n",
       "      <td>Virat Kohli</td>\n",
       "      <td>IND</td>\n",
       "      <td>844</td>\n",
       "    </tr>\n",
       "    <tr>\n",
       "      <th>2</th>\n",
       "      <td>Rohit Sharma</td>\n",
       "      <td>IND</td>\n",
       "      <td>813</td>\n",
       "    </tr>\n",
       "    <tr>\n",
       "      <th>3</th>\n",
       "      <td>Ross Taylor</td>\n",
       "      <td>NZ</td>\n",
       "      <td>801</td>\n",
       "    </tr>\n",
       "    <tr>\n",
       "      <th>4</th>\n",
       "      <td>Aaron Finch</td>\n",
       "      <td>AUS</td>\n",
       "      <td>779</td>\n",
       "    </tr>\n",
       "    <tr>\n",
       "      <th>5</th>\n",
       "      <td>Jonny Bairstow</td>\n",
       "      <td>ENG</td>\n",
       "      <td>775</td>\n",
       "    </tr>\n",
       "    <tr>\n",
       "      <th>6</th>\n",
       "      <td>David Warner</td>\n",
       "      <td>AUS</td>\n",
       "      <td>762</td>\n",
       "    </tr>\n",
       "    <tr>\n",
       "      <th>7</th>\n",
       "      <td>Quinton de Kock</td>\n",
       "      <td>SA</td>\n",
       "      <td>758</td>\n",
       "    </tr>\n",
       "    <tr>\n",
       "      <th>8</th>\n",
       "      <td>Shai Hope</td>\n",
       "      <td>WI</td>\n",
       "      <td>758</td>\n",
       "    </tr>\n",
       "    <tr>\n",
       "      <th>9</th>\n",
       "      <td>Kane Williamson</td>\n",
       "      <td>NZ</td>\n",
       "      <td>754</td>\n",
       "    </tr>\n",
       "  </tbody>\n",
       "</table>\n",
       "</div>"
      ],
      "text/plain": [
       "              Name Country  Ratings\n",
       "0       Babar Azam     PAK      873\n",
       "1      Virat Kohli     IND      844\n",
       "2     Rohit Sharma     IND      813\n",
       "3      Ross Taylor      NZ      801\n",
       "4      Aaron Finch     AUS      779\n",
       "5   Jonny Bairstow     ENG      775\n",
       "6     David Warner     AUS      762\n",
       "7  Quinton de Kock      SA      758\n",
       "8        Shai Hope      WI      758\n",
       "9  Kane Williamson      NZ      754"
      ]
     },
     "execution_count": 38,
     "metadata": {},
     "output_type": "execute_result"
    }
   ],
   "source": [
    "ODI_Mens_Batsmen"
   ]
  },
  {
   "cell_type": "code",
   "execution_count": 39,
   "metadata": {},
   "outputs": [],
   "source": [
    "url_bowlers=requests.get('https://www.icc-cricket.com/rankings/mens/player-rankings/odi').text\n",
    "soup_bowlers=BeautifulSoup(url_bowlers,'lxml')"
   ]
  },
  {
   "cell_type": "code",
   "execution_count": null,
   "metadata": {},
   "outputs": [],
   "source": []
  },
  {
   "cell_type": "code",
   "execution_count": 40,
   "metadata": {},
   "outputs": [],
   "source": [
    "bowlers=soup_bowlers.find_all(['td','div'], class_=['rankings-block__banner--name','table-body__cell name'])\n",
    "list_of_bowlers=[]\n",
    "for i in bowlers[10:20]:\n",
    "    list_of_bowlers.append(i.text.replace('\\n',''))"
   ]
  },
  {
   "cell_type": "code",
   "execution_count": 41,
   "metadata": {},
   "outputs": [],
   "source": [
    "country_bowlers=soup_bowlers.find_all(['span','div'], class_=['rankings-block__banner--nationality','table-body__logo-text'])\n",
    "list_of_country_bowlers=[]\n",
    "for i in country_bowlers[10:20]:\n",
    "    list_of_country_bowlers.append(i.text.replace('\\n',''))"
   ]
  },
  {
   "cell_type": "code",
   "execution_count": 42,
   "metadata": {},
   "outputs": [],
   "source": [
    "list_of_country_bowlers=[i.split(' ')[0] for i in list_of_country_bowlers]"
   ]
  },
  {
   "cell_type": "code",
   "execution_count": 43,
   "metadata": {},
   "outputs": [],
   "source": [
    "bowl_rating=soup_bowlers.find_all(['td','div'], class_=['table-body__cell u-text-right rating'])\n",
    "list_of_bowl_ratings=[737]\n",
    "for i in bowl_rating[9:18]:\n",
    "    list_of_bowl_ratings.append(int(i.text.replace('\\n','')))"
   ]
  },
  {
   "cell_type": "code",
   "execution_count": 44,
   "metadata": {},
   "outputs": [],
   "source": [
    "ODI_Mens_Bowlers=pd.DataFrame(zip(list_of_bowlers,list_of_country_bowlers,list_of_bowl_ratings),columns=['Name','Country','Ratings'])"
   ]
  },
  {
   "cell_type": "code",
   "execution_count": 45,
   "metadata": {},
   "outputs": [
    {
     "data": {
      "text/html": [
       "<div>\n",
       "<style scoped>\n",
       "    .dataframe tbody tr th:only-of-type {\n",
       "        vertical-align: middle;\n",
       "    }\n",
       "\n",
       "    .dataframe tbody tr th {\n",
       "        vertical-align: top;\n",
       "    }\n",
       "\n",
       "    .dataframe thead th {\n",
       "        text-align: right;\n",
       "    }\n",
       "</style>\n",
       "<table border=\"1\" class=\"dataframe\">\n",
       "  <thead>\n",
       "    <tr style=\"text-align: right;\">\n",
       "      <th></th>\n",
       "      <th>Name</th>\n",
       "      <th>Country</th>\n",
       "      <th>Ratings</th>\n",
       "    </tr>\n",
       "  </thead>\n",
       "  <tbody>\n",
       "    <tr>\n",
       "      <th>0</th>\n",
       "      <td>Trent Boult</td>\n",
       "      <td>NZ</td>\n",
       "      <td>737</td>\n",
       "    </tr>\n",
       "    <tr>\n",
       "      <th>1</th>\n",
       "      <td>Josh Hazlewood</td>\n",
       "      <td>AUS</td>\n",
       "      <td>709</td>\n",
       "    </tr>\n",
       "    <tr>\n",
       "      <th>2</th>\n",
       "      <td>Mujeeb Ur Rahman</td>\n",
       "      <td>AFG</td>\n",
       "      <td>708</td>\n",
       "    </tr>\n",
       "    <tr>\n",
       "      <th>3</th>\n",
       "      <td>Chris Woakes</td>\n",
       "      <td>ENG</td>\n",
       "      <td>700</td>\n",
       "    </tr>\n",
       "    <tr>\n",
       "      <th>4</th>\n",
       "      <td>Mehedi Hasan</td>\n",
       "      <td>BAN</td>\n",
       "      <td>692</td>\n",
       "    </tr>\n",
       "    <tr>\n",
       "      <th>5</th>\n",
       "      <td>Matt Henry</td>\n",
       "      <td>NZ</td>\n",
       "      <td>691</td>\n",
       "    </tr>\n",
       "    <tr>\n",
       "      <th>6</th>\n",
       "      <td>Jasprit Bumrah</td>\n",
       "      <td>IND</td>\n",
       "      <td>679</td>\n",
       "    </tr>\n",
       "    <tr>\n",
       "      <th>7</th>\n",
       "      <td>Mitchell Starc</td>\n",
       "      <td>AUS</td>\n",
       "      <td>652</td>\n",
       "    </tr>\n",
       "    <tr>\n",
       "      <th>8</th>\n",
       "      <td>Shakib Al Hasan</td>\n",
       "      <td>BAN</td>\n",
       "      <td>650</td>\n",
       "    </tr>\n",
       "    <tr>\n",
       "      <th>9</th>\n",
       "      <td>Kagiso Rabada</td>\n",
       "      <td>SA</td>\n",
       "      <td>648</td>\n",
       "    </tr>\n",
       "  </tbody>\n",
       "</table>\n",
       "</div>"
      ],
      "text/plain": [
       "               Name Country  Ratings\n",
       "0       Trent Boult      NZ      737\n",
       "1    Josh Hazlewood     AUS      709\n",
       "2  Mujeeb Ur Rahman     AFG      708\n",
       "3      Chris Woakes     ENG      700\n",
       "4      Mehedi Hasan     BAN      692\n",
       "5        Matt Henry      NZ      691\n",
       "6    Jasprit Bumrah     IND      679\n",
       "7    Mitchell Starc     AUS      652\n",
       "8   Shakib Al Hasan     BAN      650\n",
       "9     Kagiso Rabada      SA      648"
      ]
     },
     "execution_count": 45,
     "metadata": {},
     "output_type": "execute_result"
    }
   ],
   "source": [
    "ODI_Mens_Bowlers"
   ]
  },
  {
   "cell_type": "raw",
   "metadata": {},
   "source": [
    "6. Write a python program to scrape cricket rankings from ‘www.icc-cricket.com’. You have to scrape:\n",
    "i) Top 10 ODI teams in women’s cricket along with the records for matches, points and rating.\n",
    "ii) Top 10 women’s ODI players along with the records of their team and rating.\n",
    "iii) Top 10 women’s ODI all-rounder along with the records of their team and rating"
   ]
  },
  {
   "cell_type": "code",
   "execution_count": 46,
   "metadata": {},
   "outputs": [],
   "source": [
    "url_batsman_women=requests.get('https://www.icc-cricket.com/rankings/womens/team-rankings/odi').text"
   ]
  },
  {
   "cell_type": "code",
   "execution_count": 47,
   "metadata": {},
   "outputs": [],
   "source": [
    "soup_cric_women=BeautifulSoup(url_batsman_women,'lxml')"
   ]
  },
  {
   "cell_type": "code",
   "execution_count": 48,
   "metadata": {},
   "outputs": [],
   "source": [
    "teams_women=soup_cric_women.find_all('span', class_='u-hide-phablet')\n",
    "list_of_teams_women=[]\n",
    "for i in teams_women[:10]:\n",
    "    list_of_teams_women.append(i.text)"
   ]
  },
  {
   "cell_type": "code",
   "execution_count": 49,
   "metadata": {},
   "outputs": [],
   "source": [
    "matches_women=soup_cric_women.find_all('td', class_=['rankings-block__banner--matches','rankings-block__banner--points','table-body__cell u-center-text'])\n",
    "list_of_matches_women=[]\n",
    "for i in matches_women:\n",
    "    list_of_matches_women.append(i.text.replace(',',''))"
   ]
  },
  {
   "cell_type": "code",
   "execution_count": 50,
   "metadata": {},
   "outputs": [],
   "source": [
    "matches_played_women=[j for i,j in enumerate(list_of_matches_women) if int(i)%2==0][:10]\n",
    "points_women=[j for i,j in enumerate(list_of_matches_women) if int(i)%2!=0][:10]"
   ]
  },
  {
   "cell_type": "code",
   "execution_count": 51,
   "metadata": {},
   "outputs": [],
   "source": [
    "rankings_women=soup_cric_women.find_all('td', class_=['rankings-block__banner--rating u-text-right','table-body__cell u-text-right rating'])\n",
    "list_of_ratings_women=[]\n",
    "for i in rankings_women[:10]:\n",
    "    list_of_ratings_women.append(i.text.replace(' ','').replace('\\n',''))"
   ]
  },
  {
   "cell_type": "code",
   "execution_count": 52,
   "metadata": {},
   "outputs": [],
   "source": [
    "ODI_Women_Team=pd.DataFrame(zip(list_of_teams_women,matches_played_women,points_women,list_of_ratings_women),columns=['Teams','Matches','Points','Ratings'])"
   ]
  },
  {
   "cell_type": "code",
   "execution_count": 53,
   "metadata": {},
   "outputs": [
    {
     "data": {
      "text/html": [
       "<div>\n",
       "<style scoped>\n",
       "    .dataframe tbody tr th:only-of-type {\n",
       "        vertical-align: middle;\n",
       "    }\n",
       "\n",
       "    .dataframe tbody tr th {\n",
       "        vertical-align: top;\n",
       "    }\n",
       "\n",
       "    .dataframe thead th {\n",
       "        text-align: right;\n",
       "    }\n",
       "</style>\n",
       "<table border=\"1\" class=\"dataframe\">\n",
       "  <thead>\n",
       "    <tr style=\"text-align: right;\">\n",
       "      <th></th>\n",
       "      <th>Teams</th>\n",
       "      <th>Matches</th>\n",
       "      <th>Points</th>\n",
       "      <th>Ratings</th>\n",
       "    </tr>\n",
       "  </thead>\n",
       "  <tbody>\n",
       "    <tr>\n",
       "      <th>0</th>\n",
       "      <td>Australia</td>\n",
       "      <td>18</td>\n",
       "      <td>2955</td>\n",
       "      <td>164</td>\n",
       "    </tr>\n",
       "    <tr>\n",
       "      <th>1</th>\n",
       "      <td>England</td>\n",
       "      <td>20</td>\n",
       "      <td>2370</td>\n",
       "      <td>119</td>\n",
       "    </tr>\n",
       "    <tr>\n",
       "      <th>2</th>\n",
       "      <td>South Africa</td>\n",
       "      <td>24</td>\n",
       "      <td>2828</td>\n",
       "      <td>118</td>\n",
       "    </tr>\n",
       "    <tr>\n",
       "      <th>3</th>\n",
       "      <td>India</td>\n",
       "      <td>23</td>\n",
       "      <td>2535</td>\n",
       "      <td>110</td>\n",
       "    </tr>\n",
       "    <tr>\n",
       "      <th>4</th>\n",
       "      <td>New Zealand</td>\n",
       "      <td>21</td>\n",
       "      <td>1947</td>\n",
       "      <td>93</td>\n",
       "    </tr>\n",
       "    <tr>\n",
       "      <th>5</th>\n",
       "      <td>West Indies</td>\n",
       "      <td>17</td>\n",
       "      <td>1427</td>\n",
       "      <td>84</td>\n",
       "    </tr>\n",
       "    <tr>\n",
       "      <th>6</th>\n",
       "      <td>Pakistan</td>\n",
       "      <td>20</td>\n",
       "      <td>1496</td>\n",
       "      <td>75</td>\n",
       "    </tr>\n",
       "    <tr>\n",
       "      <th>7</th>\n",
       "      <td>Bangladesh</td>\n",
       "      <td>5</td>\n",
       "      <td>306</td>\n",
       "      <td>61</td>\n",
       "    </tr>\n",
       "    <tr>\n",
       "      <th>8</th>\n",
       "      <td>Sri Lanka</td>\n",
       "      <td>11</td>\n",
       "      <td>519</td>\n",
       "      <td>47</td>\n",
       "    </tr>\n",
       "    <tr>\n",
       "      <th>9</th>\n",
       "      <td>Ireland</td>\n",
       "      <td>2</td>\n",
       "      <td>25</td>\n",
       "      <td>13</td>\n",
       "    </tr>\n",
       "  </tbody>\n",
       "</table>\n",
       "</div>"
      ],
      "text/plain": [
       "          Teams Matches Points Ratings\n",
       "0     Australia      18   2955     164\n",
       "1       England      20   2370     119\n",
       "2  South Africa      24   2828     118\n",
       "3         India      23   2535     110\n",
       "4   New Zealand      21   1947      93\n",
       "5   West Indies      17   1427      84\n",
       "6      Pakistan      20   1496      75\n",
       "7    Bangladesh       5    306      61\n",
       "8     Sri Lanka      11    519      47\n",
       "9       Ireland       2     25      13"
      ]
     },
     "execution_count": 53,
     "metadata": {},
     "output_type": "execute_result"
    }
   ],
   "source": [
    "ODI_Women_Team"
   ]
  },
  {
   "cell_type": "code",
   "execution_count": 54,
   "metadata": {},
   "outputs": [],
   "source": [
    "W_batting_url=requests.get('https://www.icc-cricket.com/rankings/womens/player-rankings/odi/batting').text"
   ]
  },
  {
   "cell_type": "code",
   "execution_count": 55,
   "metadata": {},
   "outputs": [],
   "source": [
    "soup_batsman_women=BeautifulSoup(W_batting_url,'html.parser')\n",
    "\n",
    "batsman_women=soup_batsman_women.find_all(['td','div'], class_=['table-body__cell rankings-table__name name','rankings-block__banner--name-large'])\n",
    "list_of_batters_women=[]\n",
    "for i in batsman_women[:10]:\n",
    "    list_of_batters_women.append(i.text.replace('\\n',''))\n",
    "country_women=soup_batsman_women.find_all(['span','div'], class_=['rankings-block__banner--nationality','table-body__logo-text'])\n",
    "list_of_country_women=[]\n",
    "for i in country_women[:10]:\n",
    "    list_of_country_women.append(i.text.replace('\\n',''))\n",
    "#list_of_country_women=[i.split(' ')[0] for i in list_of_country]\n",
    "bat_rating_women=soup_batsman_women.find_all(['td','div'], class_=['table-body__cell rating'])\n",
    "list_of_bat_ratings_women=[762]\n",
    "for i in bat_rating_women[:9]:\n",
    "    list_of_bat_ratings_women.append(int(i.text.replace('\\n','')))\n",
    "ODI_women_Batsmen=pd.DataFrame(zip(list_of_batters_women,list_of_country_women,list_of_bat_ratings_women),columns=['Name','Country','Ratings'])"
   ]
  },
  {
   "cell_type": "code",
   "execution_count": 56,
   "metadata": {},
   "outputs": [
    {
     "data": {
      "text/html": [
       "<div>\n",
       "<style scoped>\n",
       "    .dataframe tbody tr th:only-of-type {\n",
       "        vertical-align: middle;\n",
       "    }\n",
       "\n",
       "    .dataframe tbody tr th {\n",
       "        vertical-align: top;\n",
       "    }\n",
       "\n",
       "    .dataframe thead th {\n",
       "        text-align: right;\n",
       "    }\n",
       "</style>\n",
       "<table border=\"1\" class=\"dataframe\">\n",
       "  <thead>\n",
       "    <tr style=\"text-align: right;\">\n",
       "      <th></th>\n",
       "      <th>Name</th>\n",
       "      <th>Country</th>\n",
       "      <th>Ratings</th>\n",
       "    </tr>\n",
       "  </thead>\n",
       "  <tbody>\n",
       "    <tr>\n",
       "      <th>0</th>\n",
       "      <td>Mithali Raj</td>\n",
       "      <td>IND</td>\n",
       "      <td>762</td>\n",
       "    </tr>\n",
       "    <tr>\n",
       "      <th>1</th>\n",
       "      <td>Lizelle Lee</td>\n",
       "      <td>SA</td>\n",
       "      <td>758</td>\n",
       "    </tr>\n",
       "    <tr>\n",
       "      <th>2</th>\n",
       "      <td>Alyssa Healy</td>\n",
       "      <td>AUS</td>\n",
       "      <td>756</td>\n",
       "    </tr>\n",
       "    <tr>\n",
       "      <th>3</th>\n",
       "      <td>Tammy Beaumont</td>\n",
       "      <td>ENG</td>\n",
       "      <td>754</td>\n",
       "    </tr>\n",
       "    <tr>\n",
       "      <th>4</th>\n",
       "      <td>Stafanie Taylor</td>\n",
       "      <td>WI</td>\n",
       "      <td>736</td>\n",
       "    </tr>\n",
       "    <tr>\n",
       "      <th>5</th>\n",
       "      <td>Meg Lanning</td>\n",
       "      <td>AUS</td>\n",
       "      <td>723</td>\n",
       "    </tr>\n",
       "    <tr>\n",
       "      <th>6</th>\n",
       "      <td>Amy Satterthwaite</td>\n",
       "      <td>NZ</td>\n",
       "      <td>715</td>\n",
       "    </tr>\n",
       "    <tr>\n",
       "      <th>7</th>\n",
       "      <td>Natalie Sciver</td>\n",
       "      <td>ENG</td>\n",
       "      <td>706</td>\n",
       "    </tr>\n",
       "    <tr>\n",
       "      <th>8</th>\n",
       "      <td>Smriti Mandhana</td>\n",
       "      <td>IND</td>\n",
       "      <td>701</td>\n",
       "    </tr>\n",
       "    <tr>\n",
       "      <th>9</th>\n",
       "      <td>Laura Wolvaardt</td>\n",
       "      <td>SA</td>\n",
       "      <td>683</td>\n",
       "    </tr>\n",
       "  </tbody>\n",
       "</table>\n",
       "</div>"
      ],
      "text/plain": [
       "                Name Country  Ratings\n",
       "0        Mithali Raj     IND      762\n",
       "1        Lizelle Lee      SA      758\n",
       "2       Alyssa Healy     AUS      756\n",
       "3     Tammy Beaumont     ENG      754\n",
       "4    Stafanie Taylor      WI      736\n",
       "5        Meg Lanning     AUS      723\n",
       "6  Amy Satterthwaite      NZ      715\n",
       "7     Natalie Sciver     ENG      706\n",
       "8    Smriti Mandhana     IND      701\n",
       "9    Laura Wolvaardt      SA      683"
      ]
     },
     "execution_count": 56,
     "metadata": {},
     "output_type": "execute_result"
    }
   ],
   "source": [
    "ODI_women_Batsmen"
   ]
  },
  {
   "cell_type": "code",
   "execution_count": 57,
   "metadata": {},
   "outputs": [],
   "source": [
    "url_bowlers_women=requests.get('https://www.icc-cricket.com/rankings/womens/player-rankings/odi/bowling').text\n",
    "soup_bowlers_women=BeautifulSoup(url_bowlers_women,'lxml')\n",
    "bowlers_women=soup_bowlers_women.find_all(['td','div'], class_=['table-body__cell rankings-table__name name','rankings-block__banner--name-large'])\n",
    "list_of_bowlers_women=[]\n",
    "for i in bowlers_women[:10]:\n",
    "    list_of_bowlers_women.append(i.text.replace('\\n',''))\n",
    "country_bowlers_women=soup_bowlers_women.find_all(['span','div'], class_=['rankings-block__banner--nationality','table-body__logo-text'])\n",
    "list_of_country_bowlers_women=[]\n",
    "for i in country_bowlers_women[:10]:\n",
    "    list_of_country_bowlers_women.append(i.text.replace('\\n',''))\n",
    "list_of_country_bowlers_women=[i.split(' ')[0] for i in list_of_country_bowlers_women]\n",
    "bowl_rating_women=soup_bowlers_women.find_all(['td','div'], class_=['table-body__cell rating'])\n",
    "list_of_bowl_ratings_women=[]\n",
    "for i in bowl_rating_women[:10]:\n",
    "    list_of_bowl_ratings_women.append(int(i.text.replace('\\n','')))\n",
    "ODI_Women_Bowlers=pd.DataFrame(zip(list_of_bowlers_women,list_of_country_bowlers_women,list_of_bowl_ratings_women),columns=['Name','Country','Ratings'])"
   ]
  },
  {
   "cell_type": "code",
   "execution_count": 58,
   "metadata": {},
   "outputs": [
    {
     "data": {
      "text/html": [
       "<div>\n",
       "<style scoped>\n",
       "    .dataframe tbody tr th:only-of-type {\n",
       "        vertical-align: middle;\n",
       "    }\n",
       "\n",
       "    .dataframe tbody tr th {\n",
       "        vertical-align: top;\n",
       "    }\n",
       "\n",
       "    .dataframe thead th {\n",
       "        text-align: right;\n",
       "    }\n",
       "</style>\n",
       "<table border=\"1\" class=\"dataframe\">\n",
       "  <thead>\n",
       "    <tr style=\"text-align: right;\">\n",
       "      <th></th>\n",
       "      <th>Name</th>\n",
       "      <th>Country</th>\n",
       "      <th>Ratings</th>\n",
       "    </tr>\n",
       "  </thead>\n",
       "  <tbody>\n",
       "    <tr>\n",
       "      <th>0</th>\n",
       "      <td>Jess Jonassen</td>\n",
       "      <td>AUS</td>\n",
       "      <td>762</td>\n",
       "    </tr>\n",
       "    <tr>\n",
       "      <th>1</th>\n",
       "      <td>Megan Schutt</td>\n",
       "      <td>AUS</td>\n",
       "      <td>747</td>\n",
       "    </tr>\n",
       "    <tr>\n",
       "      <th>2</th>\n",
       "      <td>Marizanne Kapp</td>\n",
       "      <td>SA</td>\n",
       "      <td>717</td>\n",
       "    </tr>\n",
       "    <tr>\n",
       "      <th>3</th>\n",
       "      <td>Shabnim Ismail</td>\n",
       "      <td>SA</td>\n",
       "      <td>694</td>\n",
       "    </tr>\n",
       "    <tr>\n",
       "      <th>4</th>\n",
       "      <td>Jhulan Goswami</td>\n",
       "      <td>IND</td>\n",
       "      <td>668</td>\n",
       "    </tr>\n",
       "    <tr>\n",
       "      <th>5</th>\n",
       "      <td>Sophie Ecclestone</td>\n",
       "      <td>ENG</td>\n",
       "      <td>646</td>\n",
       "    </tr>\n",
       "    <tr>\n",
       "      <th>6</th>\n",
       "      <td>Katherine Brunt</td>\n",
       "      <td>ENG</td>\n",
       "      <td>638</td>\n",
       "    </tr>\n",
       "    <tr>\n",
       "      <th>7</th>\n",
       "      <td>Ayabonga Khaka</td>\n",
       "      <td>SA</td>\n",
       "      <td>617</td>\n",
       "    </tr>\n",
       "    <tr>\n",
       "      <th>8</th>\n",
       "      <td>Poonam Yadav</td>\n",
       "      <td>IND</td>\n",
       "      <td>616</td>\n",
       "    </tr>\n",
       "    <tr>\n",
       "      <th>9</th>\n",
       "      <td>Ellyse Perry</td>\n",
       "      <td>AUS</td>\n",
       "      <td>613</td>\n",
       "    </tr>\n",
       "  </tbody>\n",
       "</table>\n",
       "</div>"
      ],
      "text/plain": [
       "                Name Country  Ratings\n",
       "0      Jess Jonassen     AUS      762\n",
       "1       Megan Schutt     AUS      747\n",
       "2     Marizanne Kapp      SA      717\n",
       "3     Shabnim Ismail      SA      694\n",
       "4     Jhulan Goswami     IND      668\n",
       "5  Sophie Ecclestone     ENG      646\n",
       "6    Katherine Brunt     ENG      638\n",
       "7     Ayabonga Khaka      SA      617\n",
       "8       Poonam Yadav     IND      616\n",
       "9       Ellyse Perry     AUS      613"
      ]
     },
     "execution_count": 58,
     "metadata": {},
     "output_type": "execute_result"
    }
   ],
   "source": [
    "ODI_Women_Bowlers"
   ]
  },
  {
   "cell_type": "raw",
   "metadata": {},
   "source": [
    "8. Write a python program to extract information about the local weather from the National Weather Service website of USA, https://www.weather.gov/ for the city, San Francisco. You need to extract data about 7 day extended forecast display for the city. The data should include period, short description, temperature and description"
   ]
  },
  {
   "cell_type": "code",
   "execution_count": 153,
   "metadata": {},
   "outputs": [
    {
     "name": "stdout",
     "output_type": "stream",
     "text": [
      "\n",
      "Period :Today\n",
      "Sunny thenSunny andBreezy\n",
      "High: 69 °F\n",
      "\n",
      "Period :Tonight\n",
      "Mostly Clear\n",
      "Low: 56 °F\n",
      "\n",
      "Period :Tuesday\n",
      "Sunny\n",
      "High: 66 °F\n",
      "\n",
      "Period :TuesdayNight\n",
      "Mostly Clearand Breezythen PartlyCloudy\n",
      "Low: 55 °F\n",
      "\n",
      "Period :Wednesday\n",
      "Mostly Sunny\n",
      "High: 64 °F\n",
      "\n",
      "Period :WednesdayNight\n",
      "Partly Cloudy\n",
      "Low: 54 °F\n",
      "\n",
      "Period :Thursday\n",
      "Mostly Sunny\n",
      "High: 66 °F\n",
      "\n",
      "Period :ThursdayNight\n",
      "Partly Cloudy\n",
      "Low: 54 °F\n",
      "\n",
      "Period :Friday\n",
      "Mostly Sunny\n",
      "High: 66 °F\n"
     ]
    }
   ],
   "source": [
    "from urllib.request import urlopen as uReq\n",
    "from bs4 import BeautifulSoup as soup\n",
    "myurl = 'https://forecast.weather.gov/MapClick.php?textField1=37.78&textField2=-122.42#.YSdlxo4zZPZ'\n",
    "uClient = uReq(myurl)\n",
    "page_html = uClient.read()\n",
    "uClient.close()\n",
    "page_soup = soup(page_html, \"html.parser\")\n",
    "bookshelf = page_soup.findAll(\n",
    "\t\"li\", {\"class\": \"forecast-tombstone\"})\n",
    "\n",
    "\n",
    "for books in bookshelf:\n",
    "    \n",
    "\tbook_title = books.find(\"p\", {\"class\": \"period-name\"})\n",
    "    \n",
    "\tprint(\"\\nPeriod :\" + book_title.text.strip())\n",
    "    \n",
    "\tbook_title = books.find(\"p\", {\"class\": \"short-desc\"})\n",
    "    \n",
    "\tprint(\"\" + book_title.text.strip())\n",
    "\tbook_title = books.find(\"p\",{\"class\":[\"temp temp-high\", \"temp temp-low\"]})\n",
    "    \n",
    "\tprint(book_title.text.strip())"
   ]
  },
  {
   "cell_type": "raw",
   "metadata": {},
   "source": [
    "9. Write a python program to scrape fresher job listings from ‘https://internshala.com/’. It should include job title, company name, CTC, and apply date."
   ]
  },
  {
   "cell_type": "code",
   "execution_count": 76,
   "metadata": {},
   "outputs": [],
   "source": [
    "int_url=requests.get('https://internshala.com/fresher-jobs').text\n",
    "int_soup=BeautifulSoup(int_url, 'lxml')"
   ]
  },
  {
   "cell_type": "code",
   "execution_count": 77,
   "metadata": {},
   "outputs": [
    {
     "data": {
      "text/plain": [
       "'<!DOCTYPE html>\\n<html xmlns=\"http://www.w3.org/1999/xhtml\" xmlns:og=\"http://ogp.me/ns#\" xmlns:fb=\"https://www.facebook.com/2008/fbml\">\\n    <head>\\n        <meta http-equiv=\"X-UA-Compatible\" content=\"IE=9\" />\\n        <meta charset=\"UTF-8\" />\\n        <meta name=\"viewport\" content=\"width=device-width, initial-scale=1.0 user-scalable=0\" />\\n        <meta property=\"fb:app_id\" content=\"272234782795210\" />\\n        <meta property=\"og:type\" content=\"article\" />\\n                    <meta property=\"og:image:width\" content=\"1200\" />\\n            <meta property=\"og:image:height\" content=\"630\" />\\n                    <meta name=\"twitter:site\" content=\"@Internshala\" />\\n                    <meta name=\"twitter:card\" content=\"summary_large_image\" />\\n        \\n        <meta name=\"twitter:creator\" content=\"@internshala\" />\\n                <meta name=\"theme-color\" content=\"#ffffff\" />\\n        <meta name=\"msapplication-navbutton-color\" content=\"#ffffff\"/>\\n        <meta name=\"format-detection\" content=\"telephone=no\"/>\\n\\n                    <link rel=\"preload\" as=\"font\" href=\"/static/fonts/Inter.woff2?v=3.11\" type=\"font/woff2\"  crossorigin />\\n            <link rel=\"preload\" as=\"font\" href=\"/static/fonts/internshala-icons.woff2?8zxqsu\" type=\"font/woff2\"  crossorigin />        <script src=\"/static/js/web_vitals/web-vitals.umd.js\"></script>\\n                        <script src=\"/static/js/includes/common/libraries.2583691470.js\" defer=\"\"></script>\\n                <link rel=\"stylesheet\" href=\"https://internshala.com//static/cdn/4.4.1/css/bootstrap.min.css\" />\\n                        <link rel=\"icon\" href=\"https://internshala.com//favicon.ico?v=5\" />\\n            <script type=\"application/ld+json\">\\n                {\\n                \"@context\":\"http://schema.org\",\\n                \"@type\":\"Organization\",\\n                \"name\":\"Internshala\",\\n                \"url\":\"https://internshala.com/\",\\n                \"sameAs\":[\\n                \"https://www.facebook.com/internshala\",\\n                \"https://instagram.com/internshala/\",\\n                \"https://www.linkedin.com/company/internshala\",\\n                \"https://www.youtube.com/channel/UC97qxGRmPsyfV0Miz7AxU2A\"\\n                ]\\n                }\\n            </script>\\n            <script nonce=\"Qfm3TlHfjCgZJIi5j3J4Cg==\">\\n    window.onerror = function (error, url, line, col, fullError) {\\n        error = fullError || error;\\n        store_data(error, line);\\n    };\\n\\n    function store_data(error, line) {\\n        error = error.stack || error;\\n        var url = window.location.href;\\n        var browser = get_browser();\\n        var browser_name = browser.name;\\n        var browser_version = browser.version;\\n        var browser_ua = browser.user_agent;\\n        var message = \"error=\" + error + \". Line:\" + line + \"&browser=\" + browser_name + \"&version=\" + browser_version + \"&url=\" + url + \"&ua=\" + browser_ua;\\n        var xhttp = new XMLHttpRequest();\\n        xhttp.onreadystatechange = function () {\\n            if (this.readyState === 4 && this.status === 200) {\\n\\n            }\\n        };\\n        xhttp.open(\"POST\", \"/browser_error/insert_browser_logs\", true);\\n        xhttp.setRequestHeader(\\'X-Requested-With\\', \\'XMLHttpRequest\\');\\n        xhttp.setRequestHeader(\"Content-type\", \"application/x-www-form-urlencoded\");\\n        xhttp.send(message);\\n    }\\n\\n    function get_browser() {\\n        var ua = navigator.userAgent, tem, M = ua.match(/(opera|chrome|safari|firefox|msie|trident(?=\\\\/))\\\\/?\\\\s*(\\\\d+)/i) || [];\\n        if (/trident/i.test(M[1])) {\\n            tem = /\\\\brv[ :]+(\\\\d+)/g.exec(ua) || [];\\n            return {name: \\'IE\\', version: (tem[1] || \\'\\')};\\n        }\\n        if (M[1] === \\'Chrome\\') {\\n            tem = ua.match(/\\\\bOPR|Edge\\\\/(\\\\d+)/)\\n            if (tem != null) {\\n                return {name: \\'Opera\\', version: tem[1]};\\n            }\\n        }\\n        M = M[2] ? [M[1], M[2]] : [navigator.appName, navigator.appVersion, \\'-?\\'];\\n        if ((tem = ua.match(/version\\\\/(\\\\d+)/i)) != null) {\\n            M.splice(1, 1, tem[1]);\\n        }\\n        return {\\n            name: M[0],\\n            version: M[1],\\n            user_agent: ua\\n        };\\n    }\\n</script>\\n            <script nonce=\"Qfm3TlHfjCgZJIi5j3J4Cg==\">\\n                var os_type = \"\";\\n                var browser_name = \\'\\';\\n                var is_android = 0;\\n                var is_mobile = 1;\\n                var l_cookie = \"\";\\n                var view = \"internship/search/search\";\\n                var mainRole = \"guest\";\\n                var to_show_account_activated_message = false;\\n                var to_show_subscription_activated_message = false;\\n                var location_autocomplete_min_length = 3;\\n                var new_design_system = true;\\n                var fresherJobsMinCtc = 3;\\n                var show_maintenance_ribbon = false;\\n                var maintenance_ribbon_message = \"\";\\n                var base_url = \\'https://internshala.com/\\';\\n            </script>\\n                    <title >Jobs for freshers | Fresher jobs | Minimum ₹3 LPA jobs</title>\\n        <meta name=\"description\" content=\"Get latest jobs for freshers and remote jobs and earn CTC of ₹3 LPA+ in all job vacancies. Apply now for free on Internshala.\" />\\n        <meta property=\"og:title\" content=\"Jobs for freshers | Fresher jobs | Minimum ₹3 LPA jobs\" />\\n        <meta property=\"og:description\" content=\"Get latest jobs for freshers and remote jobs and earn CTC of ₹3 LPA+ in all job vacancies. Apply now for free on Internshala.\" />\\n        <meta property=\"og:image\" content=\"https://internshala.com//static/images/internshala_og_image.jpg\" />\\n        <meta name=\"twitter:title\" content=\"Jobs for freshers | Fresher jobs | Minimum ₹3 LPA jobs\" />\\n        <meta name=\"twitter:description\" content=\"Get latest jobs for freshers and remote jobs and earn CTC of ₹3 LPA+ in all job vacancies. Apply now for free on Internshala.\" />\\n        <meta property=\"twitter:image:src\" content=\"https://internshala.com//static/images/internshala_og_image.jpg\" />\\n        <link href=\"/static/css/internship/search/search.1629972069.css\" rel=\"stylesheet\" type=\"text/css\" />\\n        <script src=\"/static/js/combined/common_form.1629721771.js\" defer=\"\" type=\"text/javascript\" ></script>\\n        <script src=\"/static/js/combined/internship-search.1629721771.js\" defer=\"\" type=\"text/javascript\" ></script>\\n        <script src=\"/static/js/subscribe/popup.1629721771.js\" defer=\"\" type=\"text/javascript\" ></script>\\n            <link rel=\\'next\\' href=\\'/fresher-jobs/page-2\\'/>\\n            <!-- Google Tag Manager -->\\n<script  nonce=\"Qfm3TlHfjCgZJIi5j3J4Cg==\">(function(w,d,s,l,i){w[l]=w[l]||[];w[l].push({\\'gtm.start\\':\\nnew Date().getTime(),event:\\'gtm.js\\'});var f=d.getElementsByTagName(s)[0],\\nj=d.createElement(s),dl=l!=\\'dataLayer\\'?\\'&l=\\'+l:\\'\\';j.async=true;j.src=\\n\\'https://www.googletagmanager.com/gtm.js?id=\\'+i+dl;f.parentNode.insertBefore(j,f);\\n})(window,document,\\'script\\',\\'dataLayer\\',\\'GTM-5NSPHG\\');</script>\\n<!-- End Google Tag Manager -->\\n<script nonce=\"Qfm3TlHfjCgZJIi5j3J4Cg==\">\\n    function sendToGTM(name, delta, id) {\\n        // Assumes the global `dataLayer` array exists, see:\\n        // https://developers.google.com/tag-manager/devguide\\n        dataLayer.push({\\n            event: \\'web-vitals\\',\\n            event_category: \\'Web Vitals\\',\\n            event_action: name.name,\\n            // Google Analytics metrics must be integers, so the value is rounded.\\n            // For CLS the value is first multiplied by 1000 for greater precision\\n            // (note: increase the multiplier for greater precision if needed).\\n            event_value: Math.round(name.name === \\'CLS\\' ? name.delta * 1000 : name.delta),\\n            // The \\'id\\' value will be unique to the current page load. When sending\\n            // multiple values from the same page (e.g. for CLS), Google Analytics can\\n            // compute a total by grouping on this ID (note: requires `eventLabel` to\\n            // be a dimension in your report).\\n            event_label: name.id,\\n        });\\n    }\\n    webVitals.getCLS(sendToGTM);\\n    webVitals.getFID(sendToGTM);\\n    webVitals.getLCP(sendToGTM);\\n    webVitals.getFCP(sendToGTM);\\n    webVitals.getTTFB(sendToGTM);\\n</script>\\n\\n<script nonce=\"Qfm3TlHfjCgZJIi5j3J4Cg==\">\\n//    window.addEventListener(\\'load\\', function() {\\n//        store_session_data();\\n//    });\\n\\n//    window.addEventListener(\\'DOMContentLoaded\\', function() {\\n//        store_session_data();\\n//    });\\n\\n    var pdcVersion = \"0\";\\n    var toMakeInitialRequest = 1;\\n    if (toMakeInitialRequest == 1) {\\n        store_session_data();\\n    } else  {\\n        store_pagespeed_session_data();\\n    }\\n\\n    function store_session_data() {\\n        var message = \"device=\" + getDeviceType();\\n        var xhttp = new XMLHttpRequest();\\n        xhttp.onreadystatechange = function () {\\n            if (this.readyState === 4 && this.status === 200) {\\n                //Success\\n                var responseText = this.responseText;\\n                try {\\n                    data = JSON.parse(responseText);\\n                    if (data.success) {\\n                        if(data.toMakeUpdateRequest) {\\n                            update_session_data();\\n                        }\\n                    } else {\\n                        //TODO\\n                    }\\n                } catch (e) {\\n                    throw_error(e);\\n                }\\n            }\\n        };\\n\\n        xhttp.open(\"POST\", \"/info/storeData\", true);\\n        xhttp.setRequestHeader(\\'X-Requested-With\\', \\'XMLHttpRequest\\');\\n        xhttp.setRequestHeader(\"Content-type\", \"application/x-www-form-urlencoded\");\\n        xhttp.send(message);\\n    }\\n\\n    function store_pagespeed_session_data() {\\n        if (view === \\'campaign_generic/index\\') return;\\n        var message = \"device=\" + getDeviceType();\\n        var xhttp = new XMLHttpRequest();\\n        xhttp.onreadystatechange = function () {\\n            if (this.readyState === 4 && this.status === 200) {\\n                //Success\\n                var responseText = this.responseText;\\n                try {\\n                    data = JSON.parse(responseText);\\n                    if (data.success) {\\n                    } else {\\n                        //TODO\\n                    }\\n                } catch (e) {\\n                    throw_error(e);\\n                }\\n            }\\n        };\\n\\n        xhttp.open(\"POST\", \"/info/storePageSpeedData\", true);\\n        xhttp.setRequestHeader(\\'X-Requested-With\\', \\'XMLHttpRequest\\');\\n        xhttp.setRequestHeader(\"Content-type\", \"application/x-www-form-urlencoded\");\\n        xhttp.send(message);\\n    }\\n\\n    function update_session_data() {\\n        var message = \"\";\\n        var xhttp = new XMLHttpRequest();\\n        xhttp.onreadystatechange = function () {\\n            if (this.readyState === 4 && this.status === 200) {\\n                //Success\\n            }\\n        };\\n\\n        xhttp.open(\"POST\", \"/info/updateDeviceCookieDomain\", true);\\n        xhttp.setRequestHeader(\\'X-Requested-With\\', \\'XMLHttpRequest\\');\\n        xhttp.setRequestHeader(\"Content-type\", \"application/x-www-form-urlencoded\");\\n        xhttp.send(message);\\n    }\\n\\n    function getDeviceType() {\\n        var device;\\n        if (typeof isMobile !== \\'undefined\\') {\\n            if (isMobile === \\'1\\') {\\n                device = \"mobile\";\\n            } else {\\n                device = \"desktop\";\\n            }\\n        } else {\\n            device = \"NA\";\\n        }\\n\\n        return device;\\n    }\\n\\n</script>\\n            <script nonce=\"Qfm3TlHfjCgZJIi5j3J4Cg==\">\\n\\n            </script>\\n\\n    </head>\\n    <body>\\n        <!-- Google Tag Manager (noscript) -->\\n<noscript><iframe src=\"https://www.googletagmanager.com/ns.html?id=GTM-5NSPHG\"\\nheight=\"0\" width=\"0\" style=\"display:none;visibility:hidden\"></iframe></noscript>\\n<!-- End Google Tag Manager (noscript) -->            <div id=\"wrapper\">\\n                <!-- ribbon -->\\n<div id=\\'error\\' class=\"notification\">\\n</div>\\n\\n<div id=\\'general_notification\\' class=\"notification notification_general\" style=\"display: none\">\\n</div>\\n\\n<!-- modal - error message -->\\n<div id=\"error_modal\" class=\"modal fade in internshala-modal\" style=\"display: none\">\\n    <div class=\"modal-dialog\">\\n        <div class=\"modal-content\">\\n            <div class=\"modal-body\">\\n                <div class=\"image_container error_image\">\\n                    <img src=\"/static/images/common/modal_error.svg\">\\n                </div>\\n                <div class=\"message_container\">\\n                    <div class=\"text-heading heading_4_5 small-device-text-center\"></div>\\n                    <div class=\"text-message body-main small-device-text-center\"></div>\\n                    <div class=\"button_container\">\\n                        <a class=\"btn btn-primary modal_primary_btn close_action\" data-dismiss= \"modal\">Close</a>\\n                    </div>\\n                </div>\\n            </div>\\n        </div>\\n    </div>\\n</div>\\n\\n<!-- modal - success message -->\\n<div id=\"success_modal\" class=\"modal fade in internshala-modal\" style=\"display: none\">\\n    <div class=\"modal-dialog\">\\n        <div class=\"modal-content\">\\n            <div class=\"modal-body\">\\n                <div class=\"image_container success_image\">\\n                    <img src=\"/static/images/common/modal_success.svg\">\\n                </div>\\n                <div class=\"message_container\">\\n                    <div class=\"text-heading heading_4_5 small-device-text-center\"></div>\\n                    <div class=\"text-message body-main small-device-text-center\"></div>\\n                    <div class=\"button_container\">\\n                        <button class=\"btn btn-secondary modal_secondary_btn close_action\" data-dismiss= \"modal\">Cancel</button>\\n                        <a class=\"btn btn-primary modal_primary_btn close_action\" data-dismiss= \"modal\">Close</a>\\n                    </div>\\n                </div>\\n            </div>\\n        </div>\\n    </div>\\n</div>\\n<!-- modal - success message -->\\n<div id=\"success_modal_dual_button\" class=\"modal fade in internshala-modal\" style=\"display: none\">\\n    <div class=\"modal-dialog\">\\n        <div class=\"modal-content\">\\n            <div class=\"modal-body\">\\n                <div class=\"image_container success_image\">\\n                    <img src=\"/static/images/common/modal_success.svg\">\\n                </div>\\n                <div class=\"message_container\">\\n                    <div class=\"text-heading heading_4_5 small-device-text-center\"></div>\\n                    <div class=\"text-message body-main small-device-text-center\"></div>\\n                    <div class=\"button_container\">\\n                        <a class=\"btn btn-secondary modal_secondary_btn close_action\" data-dismiss= \"modal\">Close</a>\\n                        <a class=\"btn btn-primary modal_primary_btn close_action\" data-dismiss= \"modal\">Close</a>\\n                    </div>\\n                </div>\\n            </div>\\n        </div>\\n    </div>\\n</div>\\n\\n<!-- modal - alert message -->\\n<div id=\"alert_modal\" class=\"modal fade in internshala-modal\" style=\"display: none\">\\n    <div class=\"modal-dialog\">\\n        <div class=\"modal-content\">\\n            <div class=\"modal-body\">\\n                <div class=\"image_container alert_image\">\\n                    <img src=\"/static/images/common/modal_alert.svg\">\\n                </div>\\n                <div class=\"message_container\">\\n                    <div class=\"text-heading heading_4_5 small-device-text-center\"></div>\\n                    <div class=\"text-message body-main small-device-text-center\"></div>\\n                    <div class=\"button_container\">\\n                        <a class=\"btn btn-primary modal_primary_btn close_action\" data-dismiss= \"modal\">Close</a>\\n                    </div>\\n                </div>\\n            </div>\\n        </div>\\n    </div>\\n</div>\\n\\n<!--- confirmation modal-->\\n<div id=\"confirmation_modal\" class=\"modal fade in internshala-modal confirmation_modal\" style=\"display: none\">\\n    <div class=\"modal-dialog\">\\n        <div class=\"modal-content\">\\n            <div class=\"modal-body\">\\n                <div class=\"message_container\">\\n                    <div class=\"text-heading heading_4_5\"></div>\\n                    <div class=\"text-message body-main\"></div>\\n                    <div class=\"button_container\">\\n                        <button class=\"btn btn-secondary modal_secondary_btn close_action\" data-dismiss= \"modal\">Cancel</button>\\n                        <a class=\"btn btn-primary modal_primary_btn yes-button close_action\" data-dismiss= \"modal\">Yes</a>\\n                    </div>\\n                </div>\\n            </div>\\n        </div>\\n    </div>\\n</div>\\n\\n<div class=\"loading_image\">\\n</div>\\n\\n<div class=\"nav_dropdown_backdrop\">\\n</div>\\n\\n    <noscript>\\n    <div class=\"notification notification_js_disabled\" style=\"display: block;\">\\n        Oops, your browser does not support Javascript. Please use Internshala in another browser.\\n    </div>\\n    </noscript>\\n    \\n<div class=\"toast internshala-toast loading_toast\" id=\"loading_toast\" style=\"display: none;\">\\n    <div class=\"toast-body-container\">\\n        <div class=\"toast-body heading_6_6\">\\n            Loading, please wait...\\n        </div>\\n    </div>\\n</div>\\n\\n<div class=\"toast internshala-toast general_toast\" style=\"display: none;\">\\n    <div class=\"toast-body-container\">\\n        <div class=\"toast-body heading_6_6\">\\n        </div>\\n    </div>\\n</div>\\n\\n<div class=\"toast internshala-toast error_toast\" style=\"display: none;\">\\n    <div class=\"toast-body-container\">\\n        <div class=\"toast-body heading_6_6\">\\n        </div>\\n    </div>\\n</div>\\n\\n<div class=\"toast internshala-toast black_bottom_toast\" style=\"display: none;\">\\n    <div class=\"toast-body-container\">\\n        <div class=\"toast-body body-main\">\\n        </div>\\n    </div>\\n</div>\\n\\n<div class=\"popover_overlay\">\\n</div>\\n\\n\\n<div class=\"chat_notification_loading_image\" style=\"display: none;\">\\n</div>\\n    <div class=\"modal \" id=\"login-modal\" tabindex=\"-1\" role=\"dialog\" aria-labelledby=\"myModalLabel\" aria-hidden=\"true\">\\n        <div class=\"modal-dialog\">\\n            <div class=\"modal-content\">\\n                <div class=\"modal-header\">\\n                    <button type=\"button\" class=\"close\" data-dismiss=\"modal\">\\n                        <i class=\"ic-24-cross\" aria-hidden=\"true\"></i>\\n                    </button>\\n                </div>\\n                <div class=\"modal-body\">\\n                                            <div id=\"user-menu-container\">\\n                            <div id=\"user-menu\">\\n                                <div class=\"row\">\\n                                    <div class=\"col-xs-6 col-6 user-menu-item active login_student\" id=\"modal_student\">\\n                                        Student\\n                                    </div>\\n                                    <div class=\"col-xs-6 col-6 user-menu-item login_employer\" id=\"modal_employer\">\\n                                        Employer / T&P\\n                                    </div>\\n                                </div>\\n                            </div>\\n                        </div>\\n                                                                <a class=\"google_login\" href=\"/login/get_google\">\\n\\n                            <div id=\"google-button-container\">\\n                                <div class=\"google_image_container\">\\n                                    <img src=\"/static/images/login/google_logo.png\">\\n                                </div>\\n                                <div class=\"google_content\">\\n                                    Login with Google\\n                                </div>\\n                            </div>\\n                        </a>\\n                        <div class=\"helper\">\\n                            <div class=\"text2\"><p>OR</p></div>\\n                            <div class=\\'border\\'></div>\\n                        </div>\\n                    \\n                    <form role=\"form\" id=\"modal-login-form\" method=\"POST\">\\n                        <input type=\"hidden\" name=\"csrf_test_name\" value=\"25e987b99f00c3035fff79d0fb5a55f0\" />\\n                        <div class=\"form-group\">\\n                            <label for=\"email\" class=\"control-label\">Email</label>\\n                            <input type=\"email\" class=\"form-control\" id=\"modal_email\" tabindex=\"1\" name =\"email\" placeholder=\"john@example.com\">\\n                        </div>\\n                        <div class=\"form-group\">\\n                            <label for=\"password\" class=\"control-label\">Password</label>\\n                            <input type=\"password\" class=\"form-control\" id=\"modal_password\" tabindex=\"2\" name=\"password\" placeholder=\"Must be atleast 6 characters\">\\n                        </div>\\n                        <div class=\"forgot_password\">\\n                            <a href=\"/login/forgot_password\" id=\"forgot-password\">Forgot password?</a>\\n                        </div>\\n                        <div class=\"form-group\">\\n                            <button type=\"submit\" class=\"btn btn-primary\" id=\"modal_login_submit\" tabindex=\"3\">Login</button>\\n                        </div>\\n                                                    <div class=\"form-group new_to_internshala\">\\n                                <label>\\n                                    New to Internshala? Register (<a href=\\'/registration/student\\'>Student</a> / <a href=\\'/registration/employer\\'>Company</a>)\\n                                </label>\\n                            </div>\\n                                            </form>\\n                </div>\\n            </div>\\n        </div>\\n    </div>\\n    \\n<!-- Login modal - error message for employers blocked -->\\n<div id=\"employer_blocked_error_modal\" class=\"modal fade\" role=\"dialog\" aria-hidden=\"true\" tabindex=\"-1\">\\n    <div class=\"modal-dialog\">\\n        <div class=\"modal-content\">\\n                <div class=\"heading\">\\n                    Your account is put on hold.<i style=\"cursor: pointer;float:right\" id=\"close_modal\" data-dismiss=\"modal\" aria-hidden=\"true\" class=\"ic-24-cross\"></i>\\n                </div>\\n                <div class=\"heading1\">\\n                    Your account is put on hold.<i style=\"cursor: pointer;float:right\" id=\"close_modal1\" data-dismiss=\"modal\" aria-hidden=\"true\" class=\"ic-24-cross\"></i>\\n                </div>\\n                <div class=\"main_content\">\\n                    \\n                    <div class=\"line1\"></div>\\n                    <div class=\"sub_heading\">\\n                        What happened?\\n                    </div>\\n                    <div>\\n                        We have determined that this account is violation of Internshala\\'s <span class=\"primary_color\"><a href=\"https://internshala.com/terms\">rules</a></span>.\\n                    </div>\\n                    <div class=\"content_specially_for\">\\n                        Specifically for,\\n                    </div>\\n                    <div class=\"error_heading\" id=\"heading_content1\"></div>\\n                    <div class=\"error_content_1\" id=\"error_content1\"></div>\\n                    <div class=\"error_heading\" id=\"heading_content2\"></div>\\n                    <div class=\"error_content_1\" id=\"error_content2\"></div>\\n                    <div class=\"error_content_2\">\\n                        If you wish to appeal this, or seek further clarification, please contact our team at <span class=\"primary_color\"><a href=\\'mailto:complaints@internshala.com\\'>complaints@internshala.com</a></span>\\n                    </div>\\n                    <div class=\"line2\"></div>\\n                    <div class=\"icon_container\">\\n                        <i class=\"ic-24-alert-circle\"></i>\\n                        <div class=\"icon_content\">\\n                            If this has happened by mistake, it will automatically be reverted within 24 hours.\\n                        </div>\\n                    </div>\\n\\n            </div>\\n        </div>\\n    </div>\\n</div>\\n<div id=\"header\" class=\"header_container container-fluid\">\\n    <div class=\"max-width-container\">\\n\\n        \\n<div class=\\'layer\\'></div>\\n<div id=\"mySidenav\" class=\"sidenav\">\\n            <div class=\"ham_menu_items_container guest\">\\n                        <div class=\"ham_menu_items\">\\n                <div class=\"ham_main_heading\"><a href=\"/internships\">Internships</a></div>\\n            </div>\\n            <div class=\"ham_menu_items\">\\n                <div class=\"ham_main_heading\">\\n                    <a class=\"online-training-link\" href=\"https://trainings.internshala.com/?utm_source=is_web_internshala_ham\">\\n                        Online Trainings                                                    <div class=\"contest\">\\n                                OFFER                            </div>\\n                                            </a>\\n                </div>\\n            </div>\\n            <div class=\"ham_menu_items\">\\n                <div class=\"ham_main_heading\"><a href=\"/internships/work-from-home-jobs?utm_source=wfh_mobile_hamburger\">WFH Internships</a></div>\\n            </div>\\n\\n                        <div class=\"ham_menu_items\">\\n                <div class=\"ham_main_heading\"><a href=\"/fresher-jobs\">Fresher Jobs</a></div>\\n            </div>\\n                            <div class=\"ham_menu_items\">\\n                    <div class=\"ham_main_heading\"><a href=\"/contact\">Contact Us</a></div>\\n                </div>\\n                <hr class=\"ham_line_break\" />\\n                <div class=\"ham_menu_items\">\\n                    <div class=\"ham_main_heading\"><a href=\"/registration/student\">Register - As a Student</a></div>\\n                </div>\\n                <div class=\"ham_menu_items\">\\n                    <div class=\"ham_main_heading\"><a href=\"/registration/employer\">Register - As an Employer</a></div>\\n                </div>\\n                <div class=\"ham_menu_items without_link\">\\n                    <div class=\"ham_main_heading home_page_login_button\" id=\"ham_login_button\" data-toggle=\"modal\"\\n                         data-target=\"#login-modal\">Login\\n                    </div>\\n                </div>\\n                    </div>\\n    </div>\\n<nav class=\"navbar navbar-expand-md\">\\n    <div class=\"brand_container\">\\n    <img id=\"hamburger_menu_key\" src=\"/static/images/icons/hamburger-menu-key-new.svg\">\\n            <span class=\"offer_hamburger_dot\" id=\"offer_hamburger_dot\"></span>\\n        <a class=\"navbar-brand\" href=\"/\">\\n        <img src=\"/static/images/common/new_internshala_logo.svg\">\\n    </a>\\n</div>    <div class=\"collapse navbar-collapse navbar_desktop\">\\n        <ul class=\"navbar-nav nav_menu_container\">\\n            <li class=\"nav-item internship_container_hover dropdown dropdown-hover dropdown_backdrop\">\\n    <a class=\"nav-link dropdown-toggle\" href=\"/internships\" id=\"internships_new_superscript\">Internships\\n        <i class=\"is_icon_header ic-24-filled-down-arrow\"></i>\\n    </a>\\n    <div class=\"dropdown-menu dropdown-menu-center menu_dropdown guest_dropdown \" id=\"internships-dropdown\">\\n                <div class=\"dropdown-inner\">\\n            <div class=\"dropdown-inner-container \">\\n                                    <div class=\"inner-dropdown\">\\n                        <div class=\"menu-heading\">\\n                            Location                        </div>\\n                        <ul class=\"dropdown-menu-part\">\\n                                                            <li class=\"item\">\\n                                    <a class=\"item_link internship_item_location\" href=\"https://internshala.com/internships/work-from-home-jobs\" style=\"\" >Work from Home</a>\\n                                                                    </li>\\n                                                                <li class=\"item\">\\n                                    <a class=\"item_link internship_item_location\" href=\"https://internshala.com/internships/internship-in-bangalore\" style=\"\" >Internship in Bangalore</a>\\n                                                                    </li>\\n                                                                <li class=\"item\">\\n                                    <a class=\"item_link internship_item_location\" href=\"https://internshala.com/internships/internship-in-delhi\" style=\"\" >Internship in Delhi</a>\\n                                                                    </li>\\n                                                                <li class=\"item\">\\n                                    <a class=\"item_link internship_item_location\" href=\"https://internshala.com/internships/internship-in-hyderabad\" style=\"\" >Internship in Hyderabad</a>\\n                                                                    </li>\\n                                                                <li class=\"item\">\\n                                    <a class=\"item_link internship_item_location\" href=\"https://internshala.com/internships/internship-in-mumbai\" style=\"\" >Internship in Mumbai</a>\\n                                                                    </li>\\n                                                                <li class=\"item\">\\n                                    <a class=\"item_link internship_item_location\" href=\"https://internshala.com/internships/internship-in-chennai\" style=\"\" >Internship in Chennai</a>\\n                                                                    </li>\\n                                                                <li class=\"item\">\\n                                    <a class=\"item_link internship_item_location\" href=\"https://internshala.com/internships/internship-in-pune\" style=\"\" >Internship in Pune</a>\\n                                                                    </li>\\n                                                                <li class=\"item\">\\n                                    <a class=\"item_link internship_item_location\" href=\"https://internshala.com/internships/internship-in-kolkata\" style=\"\" >Internship in Kolkata</a>\\n                                                                    </li>\\n                                                                <li class=\"item\">\\n                                    <a class=\"item_link internship_item_location\" href=\"https://internshala.com/internships/internship-in-jaipur\" style=\"\" >Internship in Jaipur</a>\\n                                                                    </li>\\n                                                                <li class=\"item\">\\n                                    <a class=\"item_link internship_item_location\" href=\"https://internshala.com/internships/international-internship\" style=\"\" >International Internship</a>\\n                                                                    </li>\\n                                                        </ul>\\n                    </div>\\n                                    <div class=\"inner-dropdown\">\\n                        <div class=\"menu-heading\">\\n                            Profile                        </div>\\n                        <ul class=\"dropdown-menu-part\">\\n                                                            <li class=\"item\">\\n                                    <a class=\"item_link internship_item_location\" href=\"https://internshala.com/internships/computer%20science-internship\" style=\"\" >Computer Science Internship</a>\\n                                                                    </li>\\n                                                                <li class=\"item\">\\n                                    <a class=\"item_link internship_item_location\" href=\"https://internshala.com/internships/marketing-internship\" style=\"\" >Marketing Internship</a>\\n                                                                    </li>\\n                                                                <li class=\"item\">\\n                                    <a class=\"item_link internship_item_location\" href=\"https://internshala.com/internships/finance-internship\" style=\"\" >Finance Internship</a>\\n                                                                    </li>\\n                                                                <li class=\"item\">\\n                                    <a class=\"item_link internship_item_location\" href=\"https://internshala.com/internships/mechanical-internship\" style=\"\" >Mechanical Internship</a>\\n                                                                    </li>\\n                                                                <li class=\"item\">\\n                                    <a class=\"item_link internship_item_location\" href=\"https://internshala.com/internships/hr-internship\" style=\"\" >HR Internship</a>\\n                                                                    </li>\\n                                                                <li class=\"item\">\\n                                    <a class=\"item_link internship_item_location\" href=\"https://internshala.com/internships/digital marketing-internship\" style=\"\" >Digital Marketing Internship</a>\\n                                                                    </li>\\n                                                                <li class=\"item\">\\n                                    <a class=\"item_link internship_item_location\" href=\"https://internshala.com/internships/electronics-internship\" style=\"\" >Electronics Internship</a>\\n                                                                    </li>\\n                                                                <li class=\"item\">\\n                                    <a class=\"item_link internship_item_location\" href=\"https://internshala.com/internships/content%20writing-internship\" style=\"\" >Content Writing Internship</a>\\n                                                                    </li>\\n                                                                <li class=\"item\">\\n                                    <a class=\"item_link internship_item_location\" href=\"https://internshala.com/internships/civil-internship\" style=\"\" >Civil Internship</a>\\n                                                                    </li>\\n                                                                <li class=\"item\">\\n                                    <a class=\"item_link internship_item_location\" href=\"https://internshala.com/internships/campus ambassador-internship?utm_source=header\" style=\"\" >Campus Ambassador Program</a>\\n                                                                    </li>\\n                                                        </ul>\\n                    </div>\\n                                    <div class=\"inner-dropdown\">\\n                        <div class=\"menu-heading\">\\n                            Category                        </div>\\n                        <ul class=\"dropdown-menu-part\">\\n                                                            <li class=\"item\">\\n                                    <a class=\"item_link internship_item_location\" href=\"https://internshala.com/internships/engineering-internship\" style=\"\" >Engineering Internship</a>\\n                                                                    </li>\\n                                                                <li class=\"item\">\\n                                    <a class=\"item_link internship_item_location\" href=\"https://internshala.com/internships/mba-internship\" style=\"\" >MBA Internship</a>\\n                                                                    </li>\\n                                                                <li class=\"item\">\\n                                    <a class=\"item_link internship_item_location\" href=\"https://internshala.com/internships/part-time-jobs\" style=\"\" >Part-Time Jobs/Internships</a>\\n                                                                    </li>\\n                                                                <li class=\"item\">\\n                                    <a class=\"item_link internship_item_location\" href=\"https://internshala.com/internships/graphic design-internship\" style=\"\" >Graphic Design Internship</a>\\n                                                                    </li>\\n                                                                <li class=\"item\">\\n                                    <a class=\"item_link internship_item_location\" href=\"https://internshala.com/internships/humanities-internship\" style=\"\" >Humanities Internship</a>\\n                                                                    </li>\\n                                                                <li class=\"item\">\\n                                    <a class=\"item_link internship_item_location\" href=\"https://internshala.com/internships/science-internship\" style=\"\" >Science Internship</a>\\n                                                                    </li>\\n                                                                <li class=\"item\">\\n                                    <a class=\"item_link internship_item_location\" href=\"https://internshala.com/internships/law-internship\" style=\"\" >Law Internship</a>\\n                                                                    </li>\\n                                                                <li class=\"item\">\\n                                    <a class=\"item_link internship_item_location\" href=\"https://internshala.com/internships/architecture-internship\" style=\"\" >Architecture Internship</a>\\n                                                                    </li>\\n                                                                <li class=\"item\">\\n                                    <a class=\"item_link internship_item_location\" href=\"https://internshala.com/internships/ppo-true\" style=\"\" >Internships with Job Offer</a>\\n                                                                    </li>\\n                                                                <li class=\"item\">\\n                                    <a class=\"item_link internship_item_location\" href=\"https://internshala.com/internships-for-women?utm_source=ifw_is_dropdown\" style=\"\" >Internships for Women</a>\\n                                                                    </li>\\n                                                        </ul>\\n                    </div>\\n                            </div>\\n            <div class=\"dropdown-inner-footer\">\\n                <a class=\"internship_item_location\" href=\"/internships\">View all internships\\n                    <i class=\"ic-24-chevron-right\"></i>\\n                </a>\\n            </div>\\n        </div>\\n    </div>\\n</li>\\n\\n<li class=\"nav-item training_container_hover dropdown dropdown-hover dropdown_backdrop nav-links\">\\n    <a class=\"nav-link dropdown-toggle trainings_link menu-link\" href=\"https://trainings.internshala.com/?utm_source=is_web_internshala-menu-dropdown1\" id=\"trainings_dropdown_link\" rel=\"noopener\" target=\"_blank\">\\n        Online Trainings                <div class=\"contest\">\\n                OFFER            </div>\\n                <i class=\"is_icon_header ic-24-filled-down-arrow\"></i>\\n    </a>\\n    <div class=\"training-dropdown-content \">\\n                <div class=\"training-box  student\">\\n                                <div class=\"menu-link-main-1   training-menu\"><h5 class=\"menu-heading menu-heading-hover  \">Programming                                                            </h5></div>\\n\\n            <div class=\"sub-menu-link-content-1  sub-menu \">\\n                        <div class=\"training-sub-scroll\">\\n                                                            <a href=\"https://trainings.internshala.com/python-training?utm_source=is_web_internshala-menu-dropdown\" style=\"\" target=\"_blank\" rel=\"noopener\" class=\"sub-link sub-menu-common\">Programming with Python                                                                    </a>\\n                                                            <a href=\"https://trainings.internshala.com/web-development-training?utm_source=is_web_internshala-menu-dropdown\" style=\"\" target=\"_blank\" rel=\"noopener\" class=\"sub-link sub-menu-common\">Web Development                                                                    </a>\\n                                                            <a href=\"https://trainings.internshala.com/hacking-training?utm_source=is_web_internshala-menu-dropdown\" style=\"\" target=\"_blank\" rel=\"noopener\" class=\"sub-link sub-menu-common\">Ethical Hacking                                                                    </a>\\n                                                            <a href=\"https://trainings.internshala.com/c-plus-plus-training?utm_source=is_web_internshala-menu-dropdown\" style=\"\" target=\"_blank\" rel=\"noopener\" class=\"sub-link sub-menu-common\">Programming with C and C++                                                                    </a>\\n                                                            <a href=\"https://trainings.internshala.com/android-training?utm_source=is_web_internshala-menu-dropdown\" style=\"\" target=\"_blank\" rel=\"noopener\" class=\"sub-link sub-menu-common\">Android App Development                                                                    </a>\\n                                                            <a href=\"https://trainings.internshala.com/java-training?utm_source=is_web_internshala-menu-dropdown\" style=\"\" target=\"_blank\" rel=\"noopener\" class=\"sub-link sub-menu-common\">Core Java                                                                    </a>\\n                                                            <a href=\"https://trainings.internshala.com/react-training?utm_source=is_web_internshala-menu-dropdown\" style=\"\" target=\"_blank\" rel=\"noopener\" class=\"sub-link sub-menu-common\">React                                                                    </a>\\n                                                            <a href=\"https://trainings.internshala.com/blockchain-training?utm_source=is_web_internshala-menu-dropdown\" style=\"\" target=\"_blank\" rel=\"noopener\" class=\"sub-link sub-menu-common\">Blockchain                                                                    </a>\\n                                                            <a href=\"https://trainings.internshala.com/angular-training?utm_source=is_web_internshala-menu-dropdown\" style=\"\" target=\"_blank\" rel=\"noopener\" class=\"sub-link sub-menu-common\">Angular                                                                    </a>\\n                                                            <a href=\"https://trainings.internshala.com/git-training?utm_source=is_web_internshala-menu-dropdown\" style=\"\" target=\"_blank\" rel=\"noopener\" class=\"sub-link sub-menu-common\">Git & GitHub                                                                    </a>\\n                                                            <a href=\"https://trainings.internshala.com/how-to-ace-coding-interviews-training?utm_source=is_web_internshala-menu-dropdown\" style=\"\" target=\"_blank\" rel=\"noopener\" class=\"sub-link sub-menu-common\">How to Ace Coding Interviews                                                                    </a>\\n                                                            <a href=\"https://trainings.internshala.com/data-structures-algorithms?utm_source=is_web_internshala-menu-dropdown\" style=\"\" target=\"_blank\" rel=\"noopener\" class=\"sub-link sub-menu-common\">Data Structures & Algorithms                                                                    </a>\\n                                                            <a href=\"https://trainings.internshala.com/sas-programming?utm_source=is_web_internshala-menu-dropdown\" style=\"\" target=\"_blank\" rel=\"noopener\" class=\"sub-link sub-menu-common\">SAS Programming                                                                    </a>\\n                                                            <a href=\"https://trainings.internshala.com/clinical-trials-analysis-reporting-training?utm_source=is_web_internshala-menu-dropdown\" style=\"\" target=\"_blank\" rel=\"noopener\" class=\"sub-link sub-menu-common\">Clinical Trials Analysis & Reporting                                                                    </a>\\n                                                            <a href=\"https://trainings.internshala.com/matlab-training?utm_source=is_web_internshala-menu-dropdown\" style=\"\" target=\"_blank\" rel=\"noopener\" class=\"sub-link sub-menu-common\">MATLAB                                                                    </a>\\n                                                            <a href=\"https://trainings.internshala.com/software-testing-training?utm_source=is_web_internshala-menu-dropdown\" style=\"\" target=\"_blank\" rel=\"noopener\" class=\"sub-link sub-menu-common\">Software Testing                                                                    </a>\\n                                                            <a href=\"https://trainings.internshala.com/nodejs?utm_source=is_web_internshala-menu-dropdown\" style=\"\" target=\"_blank\" rel=\"noopener\" class=\"sub-link sub-menu-common\">Node JS                                                                    </a>\\n                                                            <a href=\"https://trainings.internshala.com/robotic-process-automation?utm_source=is_web_internshala-menu-dropdown\" style=\"\" target=\"_blank\" rel=\"noopener\" class=\"sub-link sub-menu-common\">Robotic Process Automation                                                                    </a>\\n                                                            <a href=\"https://trainings.internshala.com/plc-programming-training?utm_source=is_web_internshala-menu-dropdown\" style=\"\" target=\"_blank\" rel=\"noopener\" class=\"sub-link sub-menu-common\">PLC Programming                                                                    </a>\\n                                                    </div>\\n                    </div>\\n                                        <div class=\"menu-link-main-2   training-menu\"><h5 class=\"menu-heading menu-heading-hover  \">Business & Management                                                            </h5></div>\\n\\n            <div class=\"sub-menu-link-content-2  sub-menu hide-the-item\">\\n                        <div class=\"training-sub-scroll\">\\n                                                            <a href=\"https://trainings.internshala.com/digital-marketing-training?utm_source=is_web_internshala-menu-dropdown\" style=\"\" target=\"_blank\" rel=\"noopener\" class=\"sub-link sub-menu-common\">Digital Marketing                                                                    </a>\\n                                                            <a href=\"https://trainings.internshala.com/excel-training?utm_source=is_web_internshala-menu-dropdown\" style=\"\" target=\"_blank\" rel=\"noopener\" class=\"sub-link sub-menu-common\">Advanced Excel                                                                    </a>\\n                                                            <a href=\"https://trainings.internshala.com/financial-modeling-valuation-training?utm_source=is_web_internshala-menu-dropdown\" style=\"\" target=\"_blank\" rel=\"noopener\" class=\"sub-link sub-menu-common\">Financial Modeling and Valuation                                                                     </a>\\n                                                            <a href=\"https://trainings.internshala.com/business-communication-skills-training?utm_source=is_web_internshala-menu-dropdown\" style=\"\" target=\"_blank\" rel=\"noopener\" class=\"sub-link sub-menu-common\">Business Communication Skills                                                                    </a>\\n                                                            <a href=\"https://trainings.internshala.com/trading-training?utm_source=is_web_internshala-menu-dropdown\" style=\"\" target=\"_blank\" rel=\"noopener\" class=\"sub-link sub-menu-common\">Beginner\\'s Trading Certification                                                                    </a>\\n                                                            <a href=\"https://trainings.internshala.com/tally?utm_source=is_web_internshala-menu-dropdown\" style=\"\" target=\"_blank\" rel=\"noopener\" class=\"sub-link sub-menu-common\">Tally                                                                    </a>\\n                                                            <a href=\"https://trainings.internshala.com/hr?utm_source=is_web_internshala-menu-dropdown\" style=\"\" target=\"_blank\" rel=\"noopener\" class=\"sub-link sub-menu-common\">Human Resource Management                                                                    </a>\\n                                                            <a href=\"https://trainings.internshala.com/sql-data-analytics-training?utm_source=is_web_internshala-menu-dropdown\" style=\"\" target=\"_blank\" rel=\"noopener\" class=\"sub-link sub-menu-common\">SQL for Data Analytics                                                                    </a>\\n                                                    </div>\\n                    </div>\\n                                        <div class=\"menu-link-main-3   training-menu\"><h5 class=\"menu-heading menu-heading-hover  \">Core Engineering                                                            </h5></div>\\n\\n            <div class=\"sub-menu-link-content-3  sub-menu hide-the-item\">\\n                        <div class=\"training-sub-scroll\">\\n                                                            <a href=\"https://trainings.internshala.com/autocad-training?utm_source=is_web_internshala-menu-dropdown\" style=\"\" target=\"_blank\" rel=\"noopener\" class=\"sub-link sub-menu-common\">AutoCAD                                                                    </a>\\n                                                            <a href=\"https://trainings.internshala.com/autocad-three-d-training?utm_source=is_web_internshala-menu-dropdown\" style=\"\" target=\"_blank\" rel=\"noopener\" class=\"sub-link sub-menu-common\">Autocad 3D                                                                    </a>\\n                                                            <a href=\"https://trainings.internshala.com/solidworks-training?utm_source=is_web_internshala-menu-dropdown\" style=\"\" target=\"_blank\" rel=\"noopener\" class=\"sub-link sub-menu-common\">SOLIDWORKS                                                                    </a>\\n                                                            <a href=\"https://trainings.internshala.com/advanced-solidworks?utm_source=is_web_internshala-menu-dropdown\" style=\"\" target=\"_blank\" rel=\"noopener\" class=\"sub-link sub-menu-common\">Advanced SOLIDWORKS                                                                    </a>\\n                                                            <a href=\"https://trainings.internshala.com/staad-pro-training?utm_source=is_web_internshala-menu-dropdown\" style=\"\" target=\"_blank\" rel=\"noopener\" class=\"sub-link sub-menu-common\">STAAD Pro                                                                    </a>\\n                                                            <a href=\"https://trainings.internshala.com/fusion-360-training?utm_source=is_web_internshala-menu-dropdown\" style=\"\" target=\"_blank\" rel=\"noopener\" class=\"sub-link sub-menu-common\">Fusion 360                                                                    </a>\\n                                                            <a href=\"https://trainings.internshala.com/iot-training?utm_source=is_web_internshala-menu-dropdown\" style=\"\" target=\"_blank\" rel=\"noopener\" class=\"sub-link sub-menu-common\">Internet of Things                                                                    </a>\\n                                                            <a href=\"https://trainings.internshala.com/ansys?utm_source=is_web_internshala-menu-dropdown\" style=\"\" target=\"_blank\" rel=\"noopener\" class=\"sub-link sub-menu-common\">Ansys                                                                    </a>\\n                                                            <a href=\"https://trainings.internshala.com/three-d-printing?utm_source=is_web_internshala-menu-dropdown\" style=\"\" target=\"_blank\" rel=\"noopener\" class=\"sub-link sub-menu-common\">3D Printing                                                                    </a>\\n                                                            <a href=\"https://trainings.internshala.com/pcb-design?utm_source=is_web_internshala-menu-dropdown\" style=\"\" target=\"_blank\" rel=\"noopener\" class=\"sub-link sub-menu-common\">PCB Design                                                                    </a>\\n                                                            <a href=\"https://trainings.internshala.com/labview?utm_source=is_web_internshala-menu-dropdown\" style=\"\" target=\"_blank\" rel=\"noopener\" class=\"sub-link sub-menu-common\">LabVIEW                                                                    </a>\\n                                                            <a href=\"https://trainings.internshala.com/arduino?utm_source=is_web_internshala-menu-dropdown\" style=\"\" target=\"_blank\" rel=\"noopener\" class=\"sub-link sub-menu-common\">Arduino                                                                    </a>\\n                                                            <a href=\"https://trainings.internshala.com/catia?utm_source=is_web_internshala-menu-dropdown\" style=\"\" target=\"_blank\" rel=\"noopener\" class=\"sub-link sub-menu-common\">CATIA                                                                    </a>\\n                                                            <a href=\"https://trainings.internshala.com/matlab-training?utm_source=is_web_internshala-menu-dropdown\" style=\"\" target=\"_blank\" rel=\"noopener\" class=\"sub-link sub-menu-common\">MATLAB                                                                    </a>\\n                                                    </div>\\n                    </div>\\n                                        <div class=\"menu-link-main-4   training-menu\"><h5 class=\"menu-heading menu-heading-hover  \">Data Science                                                            </h5></div>\\n\\n            <div class=\"sub-menu-link-content-4  sub-menu hide-the-item\">\\n                        <div class=\"training-sub-scroll\">\\n                                                            <a href=\"https://trainings.internshala.com/machine-learning-training?utm_source=is_web_internshala-menu-dropdown\" style=\"\" target=\"_blank\" rel=\"noopener\" class=\"sub-link sub-menu-common\">Machine Learning                                                                    </a>\\n                                                            <a href=\"https://trainings.internshala.com/data-science-training?utm_source=is_web_internshala-menu-dropdown\" style=\"\" target=\"_blank\" rel=\"noopener\" class=\"sub-link sub-menu-common\">Data Science                                                                    </a>\\n                                                            <a href=\"https://trainings.internshala.com/tableau-training?utm_source=is_web_internshala-menu-dropdown\" style=\"\" target=\"_blank\" rel=\"noopener\" class=\"sub-link sub-menu-common\">Tableau                                                                    </a>\\n                                                            <a href=\"https://trainings.internshala.com/deep-learning?utm_source=is_web_internshala-menu-dropdown\" style=\"\" target=\"_blank\" rel=\"noopener\" class=\"sub-link sub-menu-common\">Deep Learning                                                                    </a>\\n                                                            <a href=\"https://trainings.internshala.com/sas-programming?utm_source=is_web_internshala-menu-dropdown\" style=\"\" target=\"_blank\" rel=\"noopener\" class=\"sub-link sub-menu-common\">SAS Programming                                                                    </a>\\n                                                            <a href=\"https://trainings.internshala.com/clinical-trials-analysis-reporting-training?utm_source=is_web_internshala-menu-dropdown\" style=\"\" target=\"_blank\" rel=\"noopener\" class=\"sub-link sub-menu-common\">Clinical Trials Analysis & Reporting                                                                    </a>\\n                                                            <a href=\"https://trainings.internshala.com/statistics-training?utm_source=is_web_internshala-menu-dropdown\" style=\"\" target=\"_blank\" rel=\"noopener\" class=\"sub-link sub-menu-common\">Statistics for Data Science                                                                    </a>\\n                                                            <a href=\"https://trainings.internshala.com/power-bi-training?utm_source=is_web_internshala-menu-dropdown\" style=\"\" target=\"_blank\" rel=\"noopener\" class=\"sub-link sub-menu-common\">Power BI                                                                    </a>\\n                                                            <a href=\"https://trainings.internshala.com/sql-data-analytics-training?utm_source=is_web_internshala-menu-dropdown\" style=\"\" target=\"_blank\" rel=\"noopener\" class=\"sub-link sub-menu-common\">SQL for Data Analytics                                                                    </a>\\n                                                    </div>\\n                    </div>\\n                                        <div class=\"menu-link-main-5   training-menu\"><h5 class=\"menu-heading menu-heading-hover  \">Design                                                            </h5></div>\\n\\n            <div class=\"sub-menu-link-content-5  sub-menu hide-the-item\">\\n                        <div class=\"training-sub-scroll\">\\n                                                            <a href=\"https://trainings.internshala.com/graphic-design-training?utm_source=is_web_internshala-menu-dropdown\" style=\"\" target=\"_blank\" rel=\"noopener\" class=\"sub-link sub-menu-common\">Graphic Design                                                                    </a>\\n                                                            <a href=\"https://trainings.internshala.com/ui-ux-design-training?utm_source=is_web_internshala-menu-dropdown\" style=\"\" target=\"_blank\" rel=\"noopener\" class=\"sub-link sub-menu-common\">UI/UX Design                                                                    </a>\\n                                                            <a href=\"https://trainings.internshala.com/video-editing-training?utm_source=is_web_internshala-menu-dropdown\" style=\"\" target=\"_blank\" rel=\"noopener\" class=\"sub-link sub-menu-common\">Video Editing                                                                    </a>\\n                                                            <a href=\"https://trainings.internshala.com/animation-training?utm_source=is_web_internshala-menu-dropdown\" style=\"\" target=\"_blank\" rel=\"noopener\" class=\"sub-link sub-menu-common\">Animation                                                                    </a>\\n                                                            <a href=\"https://trainings.internshala.com/wordpress?utm_source=is_web_internshala-menu-dropdown\" style=\"\" target=\"_blank\" rel=\"noopener\" class=\"sub-link sub-menu-common\">WordPress                                                                    </a>\\n                                                            <a href=\"https://trainings.internshala.com/digital-art?utm_source=is_web_internshala-menu-dropdown\" style=\"\" target=\"_blank\" rel=\"noopener\" class=\"sub-link sub-menu-common\">Digital Art                                                                    </a>\\n                                                            <a href=\"https://trainings.internshala.com/colour-theory?utm_source=is_web_internshala-menu-dropdown\" style=\"\" target=\"_blank\" rel=\"noopener\" class=\"sub-link sub-menu-common\">Colour Theory                                                                    </a>\\n                                                    </div>\\n                    </div>\\n                                        <div class=\"menu-link-main-6   training-menu\"><h5 class=\"menu-heading menu-heading-hover  \">Creative Arts                                                            </h5></div>\\n\\n            <div class=\"sub-menu-link-content-6  sub-menu hide-the-item\">\\n                        <div class=\"training-sub-scroll\">\\n                                                            <a href=\"https://trainings.internshala.com/creative-writing-training?utm_source=is_web_internshala-menu-dropdown\" style=\"\" target=\"_blank\" rel=\"noopener\" class=\"sub-link sub-menu-common\">Creative Writing                                                                    </a>\\n                                                            <a href=\"https://trainings.internshala.com/guitar-training?utm_source=is_web_internshala-menu-dropdown\" style=\"\" target=\"_blank\" rel=\"noopener\" class=\"sub-link sub-menu-common\">Learn Guitar in 30 days                                                                    </a>\\n                                                            <a href=\"https://trainings.internshala.com/photography-training?utm_source=is_web_internshala-menu-dropdown\" style=\"\" target=\"_blank\" rel=\"noopener\" class=\"sub-link sub-menu-common\">Photography                                                                    </a>\\n                                                            <a href=\"https://trainings.internshala.com/calligraphy?utm_source=is_web_internshala-menu-dropdown\" style=\"\" target=\"_blank\" rel=\"noopener\" class=\"sub-link sub-menu-common\">Calligraphy                                                                    </a>\\n                                                    </div>\\n                    </div>\\n                                        <div class=\"menu-link-main-7   training-menu\"><h5 class=\"menu-heading menu-heading-hover  \">Language                                                            </h5></div>\\n\\n            <div class=\"sub-menu-link-content-7  sub-menu hide-the-item\">\\n                        <div class=\"training-sub-scroll\">\\n                                                            <a href=\"https://trainings.internshala.com/french-training?utm_source=is_web_internshala-menu-dropdown\" style=\"\" target=\"_blank\" rel=\"noopener\" class=\"sub-link sub-menu-common\">French                                                                    </a>\\n                                                    </div>\\n                    </div>\\n                                        <div class=\"menu-link-main-8   training-menu\"><h5 class=\"menu-heading menu-heading-hover  \">Career Development                                                            </h5></div>\\n\\n            <div class=\"sub-menu-link-content-8  sub-menu hide-the-item\">\\n                        <div class=\"training-sub-scroll\">\\n                                                            <a href=\"https://trainings.internshala.com/business-communication-skills-training?utm_source=is_web_internshala-menu-dropdown\" style=\"\" target=\"_blank\" rel=\"noopener\" class=\"sub-link sub-menu-common\">Business Communication Skills                                                                    </a>\\n                                                            <a href=\"https://trainings.internshala.com/ppt-training?utm_source=is_web_internshala-menu-dropdown\" style=\"\" target=\"_blank\" rel=\"noopener\" class=\"sub-link sub-menu-common\">Internship & Job Preparation                                                                    </a>\\n                                                            <a href=\"https://trainings.internshala.com/how-to-ace-coding-interviews-training?utm_source=is_web_internshala-menu-dropdown\" style=\"\" target=\"_blank\" rel=\"noopener\" class=\"sub-link sub-menu-common\">How to Ace Coding Interviews                                                                    </a>\\n                                                    </div>\\n                    </div>\\n                                        <div class=\"menu-link-main-9   training-menu\"><h5 class=\"menu-heading menu-heading-hover  \">Architecture                                                            </h5></div>\\n\\n            <div class=\"sub-menu-link-content-9  sub-menu hide-the-item\">\\n                        <div class=\"training-sub-scroll\">\\n                                                            <a href=\"https://trainings.internshala.com/autocad-training?utm_source=is_web_internshala-menu-dropdown\" style=\"\" target=\"_blank\" rel=\"noopener\" class=\"sub-link sub-menu-common\">AutoCAD                                                                    </a>\\n                                                            <a href=\"https://trainings.internshala.com/autocad-three-d-training?utm_source=is_web_internshala-menu-dropdown\" style=\"\" target=\"_blank\" rel=\"noopener\" class=\"sub-link sub-menu-common\">Autocad 3D                                                                    </a>\\n                                                            <a href=\"https://trainings.internshala.com/revit-training?utm_source=is_web_internshala-menu-dropdown\" style=\"\" target=\"_blank\" rel=\"noopener\" class=\"sub-link sub-menu-common\">Revit                                                                    </a>\\n                                                    </div>\\n                    </div>\\n                                        <div class=\"menu-link-main-10   training-menu\"><h5 class=\"menu-heading menu-heading-hover  \">Specializations                                                            </h5></div>\\n\\n            <div class=\"sub-menu-link-content-10  sub-menu hide-the-item\">\\n                        <div class=\"training-sub-scroll\">\\n                                                            <a href=\"https://trainings.internshala.com/job-specialization-digital-marketing?utm_source=is_web_internshala-menu-dropdown\" style=\"\" target=\"_blank\" rel=\"noopener\" class=\"sub-link sub-menu-common\">Digital Marketing Specialization                                                                    </a>\\n                                                            <a href=\"https://trainings.internshala.com/job-specialization-data-science?utm_source=is_web_internshala-menu-dropdown\" style=\"\" target=\"_blank\" rel=\"noopener\" class=\"sub-link sub-menu-common\">Data Science Specialization                                                                    </a>\\n                                                    </div>\\n                    </div>\\n                            </div>\\n    </div>\\n</li>\\n<script nonce=\"Qfm3TlHfjCgZJIi5j3J4Cg==\">\\n\\n    var isNavBarEmployerSide =  0;\\n    var isNewHeader = 1;\\n\\n</script>\\n<li class=\"nav-item\"><a class=\"nav-link\" href=\"/fresher-jobs\">Fresher Jobs</a></li>\\n\\n            <li class=\"nav-item dropdown dropdown-hover\">\\n                <a class=\"nav-link dropdown-toggle\">Login / Register <i class=\"is_icon_header ic-24-filled-down-arrow\"></i></a>\\n\\n\\n                <div class=\"dropdown-menu dropdown-menu-center menu_dropdown\" id=\"login_register-dropdown\">\\n                    <div class=\"dropdown-inner\">\\n                        <div class=\"dropdown-inner-container\">\\n                            <div class=\"inner-dropdown\">\\n                                <ul class=\"dropdown-menu-part profile-dropdown\">\\n                                    <li class=\"item\">\\n                                        <a href=\"/registration/student\" id=\"header_registration_link\" class=\"item_link\">Register as a student</a>\\n                                    </li>\\n                                    <li class=\"item\">\\n                                        <a href=\"/registration/employer?utm_campaign=employer_searchpage\" class=\"item_link\">Register as an employer</a>\\n                                    </li>\\n                                    <li class=\"item\">\\n                                        <a id=\"header_login_modal_button\" data-toggle=\"modal\" data-target=\"#login-modal\" class=\"item_link\">Login</a>\\n                                    </li>\\n                                </ul>\\n                            </div>\\n                        </div>\\n                    </div>\\n                </div>\\n            </li>\\n        </ul>\\n    </div>\\n</nav>\\n\\n<script nonce=\"Qfm3TlHfjCgZJIi5j3J4Cg==\">\\n    var studentChatEducationPopoverType = 0;\\n    var conversationCount = 0;\\n    var toShowEducation = 0;\\n</script>\\n    </div>\\n</div>\\n<meta name=\"viewport\" content=\"width=device-width, initial-scale=1.0, maximum-scale=1.0, user-scalable=no\" />\\n\\n    <div class=\"modal subscription_alert\" tabindex=\"-1\" role=\"dialog\">\\n        <div class=\"content\">\\n            <div class=\"heading\">\\n                                    <div class=\"heading_text\">\\n                        <div class=\"heading_6\">First time user offer</div>\\n                    </div>\\n                                <i id=\"close_popup\" class=\"ic-24-cross\" data-dismiss=\"modal\"></i>\\n            </div>\\n\\n            <div class=\"body\">\\n                <img class=\"subscription_desktop_image\" src=\"/static/images/internship/subscription-popup/subscription_desktop.svg\">\\n                <img class=\"subscription_mobile_image\" src=\"/static/images/internship/subscription-popup/subscription_mobile.svg\">\\n                                    <div class=\"validity\">\\n                        <div class=\"body-main first\">Valid only for today | Time left:</div>\\n                        <span class=\"heading_6\" id=\"subs_timer\"></span>\\n                    </div>\\n                                <div class=\"resume_guide\">\\n                    Get the best opportunities in your inbox                    & get Internshala resume guide for FREE!\\n                </div>\\n                <form id=\"subscribe-form-popup\" role=\"form\" method=\"POST\">\\n                                        <div class=\"form-group\" id=\"email_subscription_popup_container\">\\n                        <div class=\"input-group\">\\n                            <input type=\"hidden\" name=\"csrf_test_name\" value=\"25e987b99f00c3035fff79d0fb5a55f0\"/>\\n                            <input type=\"hidden\" name=\"subscription_location\" value=\"no_internship\" >\\n                            <input type=\"email\" class=\"form-control email-field-popup\" id=\"email_popup\" name=\"email\" autofocus=\"true\" placeholder=\"Enter your e-mail address\">\\n                            <input type=\"hidden\" name=\"src_url\" value=\"/fresher-jobs\">\\n                            <input type=\"hidden\" id=\"subscription_location\" name=\"subscription_location\" value=\"subscription_popup_new\">\\n                            <span class=\"input-group-btn\"><button type=\"submit\" class=\"btn btn-primary btn-input\" id=\"but_subscription_popup_form\">Subscribe</button></span>\\n                        </div>\\n                    </div>\\n                </form>\\n                <div class=\"subscription_alert_footer\">\\n                    <div class=\"link_container\">\\n                        <a href=\"#\" id=\"already_subscribed\">I\\'m already subscribed</a>\\n                    </div>\\n                    <div class=\"link_container\">\\n                        <a href=\"#\" id=\"no_thanks\">No, thanks</a>\\n                    </div>\\n                </div>\\n            </div>\\n        </div>\\n    </div>\\n\\n\\n    <script nonce=\"Qfm3TlHfjCgZJIi5j3J4Cg==\">\\n        if (document.getElementById(\"subs_timer\") != null) {\\n            var distance = new Date(\\'2021/08/31 00:00:00\\').getTime() - new Date(\\'2021/08/30 21:42:35\\').getTime();\\n\\n            var x = setInterval(function () {\\n                if (distance < 0) {\\n                    clearInterval(x);\\n                    document.getElementById(\"subs_timer\").innerHTML = \"\";\\n                }\\n\\n                var hours = Math.floor((distance % (1000 * 60 * 60 * 24)) / (1000 * 60 * 60));\\n                var minutes = Math.floor((distance % (1000 * 60 * 60)) / (1000 * 60));\\n                var seconds = Math.floor((distance % (1000 * 60)) / 1000);\\n\\n                if (hours == 0 && minutes == 0 && seconds == 0) {\\n                    clearInterval(x);\\n                    document.getElementById(\"subs_timer\").innerHTML = \"\";\\n                }\\n\\n                if (hours < 10) {\\n                    hours = \"0\" + hours\\n                }\\n                if (minutes < 10) {\\n                    minutes = \"0\" + minutes\\n                }\\n                if (seconds < 10) {\\n                    seconds = \"0\" + seconds\\n                }\\n\\n                distance = distance - 1000;\\n                document.getElementById(\"subs_timer\").innerHTML = hours + \":\" + minutes + \":\" + seconds;\\n\\n            }, 1000);\\n        }\\n\\n    </script>\\n    <script nonce=\"Qfm3TlHfjCgZJIi5j3J4Cg==\">\\n    var is_slider_banner_preview = 0</script>\\n\\n<div id=\"contentFilters\">\\n    <div class=\"modal\" id=\"filtersModal\" tabindex=\"-1\" role=\"dialog\" aria-labelledby=\"myModalLabel\" aria-hidden=\"true\"\\n     style=\"display: none\">\\n    <div class=\"filtersModal_popover_overlay\">\\n    </div>\\n    <div class=\"filters_expand\">\\n        <div>hidden</div>\\n        <div class=\"filterApplied\">\\n            <div class=\"heading_5 modalFilterUi\">\\n                Filters\\n            </div>\\n        </div>\\n        <i class=\"cancel ic-24-cross\"></i>\\n    </div>\\n    <div id=\"mobile_filters_container\">\\n        <div id=\"filters_mobile\">\\n            <div id=\"form_container_mobile\">\\n                <form role=\"form\" id=\"search_form_mobile\" method=\"POST\">\\n                    \\n                    <div class=\"category_container form-group showToastOnMobileFalse\" title=\\'Uncheck *Show opportunities as per my preferences* checkbox to search manually\\'                         id=\"category_container\">\\n                        <label for=\"select_category\" class=\"control-label\">Category</label>\\n                        <div id=\"categoryOptions_mobile\">\\n                        </div>\\n\\n                        <div class=\"loading_spinner\" id=\"loading_spinner_category\" style=\"display: none;\">\\n                        </div>\\n                    </div>\\n\\n                    <div id=\"location_filter_mobile\"\\n                         class=\"location_container form-group showToastOnMobileFalse\" title=\\'Uncheck *Show opportunities as per my preferences* checkbox to search manually\\'                         data-container=\"body\" data-toggle=\"popover\" data-placement=\"bottom\"\\n                         data-content=\"<div style=\\'width:160px; font-size:12px;\\' class=\\'data_content\\'>Click here to change location</div>\"\\n                         data-template=\\'<div class=\"popover location-filters-popover\" style=\"background-color:#1295c9; color:#fff;\"><div class=\"arrow\" style=\"left:14% !important\"></div><div class=\"popover-inner\"><div class=\"popover-content\"><p></p></div></div></div>\\'>\\n                        <label for=\"city_sidebar\">Location</label>\\n                        <div id=\"cityOptions_mobile\">\\n                        </div>\\n\\n                        <div class=\"loading_spinner\" id=\"loading_spinner_location\" style=\"display: none;\">\\n                        </div>\\n                    </div>\\n\\n                    <div class=\"filters_checkboxes_containers filters_checkboxes_containers_add_transparent showToastOnMobileFalse\" title=\\'Uncheck *Show opportunities as per my preferences* checkbox to search manually\\'>\\n                        <div class=\"form-group flex-row\" id=\"remote_check_box\">\\n                            <label id=\"remote_check_box_label\">Remote jobs</label>\\n                            <div class=\"switch_container\">\\n                                <input type=\"checkbox\"  id=\"remote_job_mobile\"\\n                                       name=\"remote_job\" >\\n                                <label class=\"\" for=\"remote_job_mobile\"></label>\\n                            </div>\\n                        </div>\\n                        <div class=\"form-group flex-row\" id=\"internship_check_box\">\\n                            <label id=\"internship_check_box_label\">Also include internships</label>\\n                            <div class=\"switch_container\">\\n                                <input type=\"checkbox\"  id=\"internship_checkbox_mobile\"\\n                                       name=\"internship_checkbox\" >\\n                                <label class=\"\" for=\"internship_checkbox_mobile\"></label>\\n                            </div>\\n                        </div>\\n                    </div>\\n\\n                    <div class=\"applyContainer\">\\n                        <div class=\"reset_container \">\\n                            <a title=\"All filters applied have been cleared. Click on \\'Apply\\' to view all jobs\" class=\"reset\"> Clear All</a>\\n                        </div>\\n                        <div class=\"apply btn btn-primary\">\\n                            Apply\\n                        </div>\\n                    </div>\\n\\n                </form>\\n\\n                <form role=\"form\" id=\"keyword_search_form_mobile\" class=\"\" method=\"POST\">\\n                    <div class=\"heading_5\">Search</div>\\n                    <div class=\"form-group keywordContainer\">\\n                        <div class=\"keyword showToastOnMobileFalse\" title=\\'Uncheck *Show opportunities as per my preferences* checkbox to search manually\\'>\\n                            <div class=\" input-group has_cross_and_button\">\\n                                <input type=\"text\" class=\"form-control pop-mobile\" id=\"keywords_mobile\"\\n                                       value=\"\"\\n                                       name=\"keywords\"\\n                                       placeholder = \"e.g. Design, Mumbai, Infosys\"                                        autocomplete=\"off\">\\n                                <span class=\"input-group-btn cross_btn_container\"><button class=\"cross_btn\"\\n                                                                                          type=\"button\"><i\\n                                            class=\"ic-16-cross\"></i> </button></span>\\n                                <button type=\"submit\" title=\\'Uncheck *Show opportunities as per my preferences* checkbox to search manually\\' id=\"search_mobile\"\\n                                        class=\"btn btn-primary showToastOnMobileFalse\" >\\n                                    <i class=\"ic-16-search\"></i>\\n                                </button>\\n                            </div>\\n                        </div>\\n                    </div>\\n                </form>\\n            </div>\\n        </div>\\n    </div>\\n</div>\\n\\n<script nonce=\"Qfm3TlHfjCgZJIi5j3J4Cg==\">\\n    var category_name_label_array = [];\\n    var filters_applied = {\\n        \\'category\\': [\\n        ],\\n        \\'category_name_label_array\\': category_name_label_array,\\n        \\'city\\': [],\\n        \\'wfh\\': [],\\n        \\'part_time\\': [],\\n        \\'remote_job\\': [],\\n        \\'internship_checkbox\\': [],\\n        \\'start_date\\': [],\\n        \\'duration\\': [],\\n        \\'ppo\\': [],\\n        \\'ifw\\': [],\\n        \\'type\\': [],\\n        \\'keyword\\': [],\\n        \\'matching_preferences\\': []\\n    };\\n\\n</script>\\n\\n</div>\\n\\n<div id=\"content\" class=\"search_content\">\\n    <div id=\"internship_for_women\" style=\"display:none;\" >\\n    <div class=\"content-inner\">\\n        <div class=\"banner_content\">\\n            <div class=\"heading heading_2\">Internships for women</div>\\n            <div class=\"sub_heading heading_5\">(Re)start your career with an internship</div>\\n            <div class=\"btn internship_for_women_button\">View internships</div>\\n        </div>\\n    </div>\\n    <div id=\"about_internship_for_women\">\\n        <div class=\"max-width-container\">\\n            <div class=\"heading heading_2_4\">About the initiative</div>\\n            <div class=\"content body-main\">\\n                In India, about 65-70% women who take a career break fail to return to work, and a large number of women who are well educated & have potential to become a valuable part of the workforce do not even get a chance to begin their career. \"Internships for Women\" brings amazing women employment opportunities, in the form of internship jobs for women, to help them restart their career. With flexible working options like work from home options & part-time options, women can now manage both - their career and household responsibilities. Further, if women want to go back to the workplace, they can opt for office-based internships and make a gradual switch to professional life.\\n                                    <br/> <br/>Are you looking to (re)start your career through internships? Then <a href=\"/registration/student?utm_source=ifwregistrationcontent \">click here</a> and create your Internshala account today!\\n                                    <br/> <br/>If you are looking to (re)start your career, just apply to the below-mentioned internships. For any queries, please call us on +91-844 844 4851 or mail us at <a href=\"mailto:helpdesk@internshala.com\">helpdesk@internshala.com</a>.</div>\\n        </div>\\n    </div>\\n</div>\\n<div id=\"fresher_jobs_banner\">\\n    <div class=\"container-fluid\">\\n        <div class=\"max-width-container\">\\n            <div class=\"content-inner\">\\n                <div class=\"logo heading_3_5\">\\n                    Introducing\\n                </div>\\n                <div class=\"primary_text\">\\n                    <div class=\"text\">\\n                        Fresher Jobs\\n                    </div>\\n                    <span class=\"offer\">New</span>\\n                </div>\\n\\n                <div class=\"secondary_text\">Apply to premium fresher jobs for free</div>\\n                <div class=\"features_container\">\\n                    <div class=\"feature first\">\\n                        <img alt=\"✔\" src=\"/static/images/common/check_box_white.svg\">\\n                        <span>Minimum CTC 3 LPA</span>\\n                    </div>\\n                    <div class=\"feature second\">\\n                        <img alt=\"✔\" src=\"/static/images/common/check_box_white.svg\">\\n                        <span>100% verified jobs</span>\\n                    </div>\\n                    <div class=\"feature third\">\\n                        <img alt=\"✔\" src=\"/static/images/common/check_box_white.svg\">\\n                        <span>Apply for free</span>\\n                    </div>\\n                </div>\\n            </div>\\n        </div>\\n    </div>\\n</div>\\n    <div class=\"container-fluid\" id=\"internships_list_container\">\\n        <div class=\"max-width-container\">\\n            <div id=\"search_criteria_mobile_container\" class=\"table-cell\">\\n                <div class=\"filters\">\\n                                            <div class=\"filterUi\">\\n                            <i id=\"filter_ui_icon_mobile\" class=\"ic-16-filter\"></i>\\n                            <span id=\"filter_ui_heading_mobile\" class=\"heading_5\">Filters</span>\\n                        </div>\\n                                    </div>\\n\\n                <div class=\"filters_tags\">\\n                </div>\\n                <div id=\"internship_seo_heading_container\" class=\"internship_seo_heading_container_mobile\">\\n                    \\n<script nonce=\"Qfm3TlHfjCgZJIi5j3J4Cg==\">\\n    document.title = \"Jobs for freshers | Fresher jobs | Minimum ₹3 LPA jobs\";\\n</script>\\n\\n    <div class=\"heading heading_4_6\">\\n        248 jobs for freshers and remote jobs<i id=\"content_open_button\" class=\"ic-16-chevron-down\"></i>    </div>\\n            <div id=\"open_content_collapse\" class=\"body-small\">Start applying to latest jobs for freshers and remote jobs and earn CTC of ₹3 LPA+ in all job vacancies.<br>A remote job is also a permanent job with minimum CTC of 3 LPA where you work remotely.</div>\\n    \\n                </div>\\n            </div>\\n            <div id=\"internship_seo_heading_container\" class=\"internship_seo_heading_container_desktop  \">\\n                \\n<script nonce=\"Qfm3TlHfjCgZJIi5j3J4Cg==\">\\n    document.title = \"Jobs for freshers | Fresher jobs | Minimum ₹3 LPA jobs\";\\n</script>\\n\\n    <div class=\"heading heading_4_6\">\\n        248 jobs for freshers and remote jobs<i id=\"content_open_button\" class=\"ic-16-chevron-down\"></i>    </div>\\n            <div id=\"open_content_collapse\" class=\"body-small\">Start applying to latest jobs for freshers and remote jobs and earn CTC of ₹3 LPA+ in all job vacancies.<br>A remote job is also a permanent job with minimum CTC of 3 LPA where you work remotely.</div>\\n    \\n            </div>\\n            <div id=\"reference\">\\n                <div id=\"search_criteria_container\">\\n                    \\n<div class=\"fixed_on_scroll\" id=\"filters_container\">\\n    <div id=\"filters\" >\\n\\n        <div id=\"form-container\">\\n            <div class=\"filterUi\">\\n                <i id=\"filter_ui_icon_desktop\" class=\"ic-16-filter\"></i>\\n                <span id=\"filter_ui_heading_desktop\" class=\"heading_5\">Filters</span>\\n            </div>\\n            <form role=\"form\" id=\"search_form\" method=\"POST\">\\n                \\n                <div class=\"category_container form-group \" >\\n                    <label for=\"select_category\">Category</label>\\n                    <div id=\"categoryOptions\">\\n                        <select data-placeholder=\"e.g. Marketing\" id=\"select_category\" name=\"select_category\" class=\"form-control chosen-select default-chosen\" multiple tabindex=\"4\" >\\n            <option value=\"engineering\">Engineering</option>\\n                <option value=\"mba\">MBA</option>\\n                <option value=\"computer%20science\">Computer Science</option>\\n                <option value=\"humanities\">Humanities</option>\\n                <option value=\"media\">Media</option>\\n                <option value=\"creative%20writing\">Creative Writing</option>\\n                <option value=\"graphic%20design\">Graphic Design</option>\\n                <option value=\"finance\">Finance</option>\\n                <option value=\"civil\">Civil Engineering</option>\\n                <option value=\"chemical\">Chemical Engineering</option>\\n        \\n</select>\\n<div class=\"chosen-container chosen-container-multi chosen-with-drop\" title=\"\" id=\"select_category_chosen_temp\">\\n    <ul class=\"chosen-choices\">\\n                    <li class=\"search-field\">\\n                <input class=\"chosen-search-input default\" type=\"text\" autocomplete=\"off\" value=\"e.g. Marketing\" tabindex=\"4\" style=\"width: 119px;\">\\n            </li>\\n            </ul>\\n</div>                    </div>\\n                </div>\\n\\n                <div id = \"location_filter\" class = \"location_container form-group \" >\\n                    <label for=\"city_sidebar\">Location</label>\\n                    <div id=\"cityOptions\">\\n                        \\n<select data-placeholder=\"e.g. Delhi\" id=\"city_sidebar\" name=\"city_sidebar\" multiple  class=\"form-control chosen-select default-chosen\" tabindex=\"5\"  >\\n                <option value=\"mumbai\">Mumbai</option>\\n                        <option value=\"bangalore\">Bangalore</option>\\n                        <option value=\"delhi\">Delhi</option>\\n                        <option value=\"hyderabad\">Hyderabad</option>\\n                        <option value=\"pune\">Pune</option>\\n                        <option value=\"chennai\">Chennai</option>\\n                        <option value=\"kolkata\">Kolkata</option>\\n                        <option value=\"ahmedabad\">Ahmedabad</option>\\n            \\n</select>\\n<div class=\"chosen-container chosen-container-multi chosen-with-drop\" title=\"\" id=\"city_sidebar_chosen_temp\">\\n    <ul class=\"chosen-choices\">\\n                    <li class=\"search-field\">\\n                <input class=\"chosen-search-input default\" type=\"text\" autocomplete=\"off\" value=\"e.g. Delhi\" tabindex=\"4\" style=\"width: 119px;\">\\n            </li>\\n            </ul>\\n</div>\\n                    </div>\\n                </div>\\n                <div class=\"filters_checkboxes_containers \" >\\n                    <div class=\"form-group flex-row\" id=\"part_time_check_box\">\\n                        <label>Remote jobs</label>\\n                        <div class=\"switch_container\">\\n                            <input type=\"checkbox\"  id=\"remote_job\" name=\"remote_job\"  >\\n                            <label class=\"\" for=\"remote_job\"></label>\\n                        </div>\\n                    </div>\\n                    <div class=\"form-group flex-row\" id=\"part_time_check_box\">\\n                        <label>Also include internships</label>\\n                        <div class=\"switch_container\">\\n                            <input type=\"checkbox\"  id=\"internship_checkbox\" name=\"internship_checkbox\"  >\\n                            <label class=\"\" for=\"internship_checkbox\"></label>\\n                        </div>\\n                    </div>\\n                </div>\\n                                    <div class=\"reset_link_container\">\\n                        <a id=\"reset_link\">Clear all</a>\\n                    </div>\\n                            </form>\\n            <div class=\"or_splitter\">\\n                <div class=\"heading-table\">\\n                    OR\\n                </div>\\n                <div class=\"strike\">\\n                </div>\\n            </div>\\n\\n            <form role=\"form\" id=\"keyword_search_form\" class=\"\" method=\"POST\">\\n                <div class=\"heading_5\">Search</div>\\n                <div class=\"form-group keywordContainer\">\\n                    <div class=\"keyword\">\\n                        <div class=\" input-group has_cross_and_button\" \">\\n                            <input type=\"text\" class=\"form-control pop-job\" id=\"keywords\"  value=\"\" name=\"keywords\" placeholder = \"e.g. Design, Mumbai, Infosys\"  autocomplete=\"off\">\\n                            <span class=\"input-group-btn cross_btn_container\"><button class=\"cross_btn\" type=\"button\"><i class=\"ic-16-cross\"></i> </button></span>\\n                            <span class=\"input-group-btn search_btn_container\">\\n                                <button type=\"submit\" id=\"search\" class=\"btn btn-input btn-primary  \" type=\"button\" >\\n                                    <i class=\"ic-16-search\"></i>\\n                                </button>\\n                            </span>\\n                        </div>\\n                    </div>\\n                </div>\\n            </form>\\n        </div>\\n    </div>\\n</div>\\n\\n<script nonce=\"Qfm3TlHfjCgZJIi5j3J4Cg==\">\\n    var toShowMatchingPreferencesEnabled = 0;\\n</script>\\n                </div>\\n                <div id=\"list_container\">\\n                    <div class=\"internship_list_container\" id=\"marketing_first_container\"></div>\\n                                        <div class=\"internship_list_container\" id=\"internship_list_container\">\\n                        <div id=\\'internship_list_container_1\\'>\\n<div class=\"container-fluid individual_internship visibilityTrackerItem \" id=\"individual_internship_1411588\" internshipId = \"1411588\">\\n    <div class=\"internship_meta\">\\n        <div class=\"individual_internship_header\">\\n            <div class=\"company\">\\n                <div class=\"heading_4_5 profile\">\\n                    <a href=\\'/fresher-job/detail/omni-sport-leader-fresher-jobs-in-hyderabad-at-decathlon-sport-india-private-limited1629355813\\'>OMNI SPORT LEADER</a>                </div>\\n                <div class=\"heading_6 company_name\">\\n                    <a class=\"link_display_like_text\" href=\"/fresher-jobs/fresher-job-at-Decathlon%20Sport%20India%20Private%20Limited\">\\n                        Decathlon Sport India Private Limited                    </a>\\n                                    </div>\\n            </div>\\n            <div class=\"internship_logo\">\\n                            </div>\\n        </div>\\n        <div class=\"individual_internship_details  individual_internship_job\">\\n            <p id =\"location_names\">\\n                <i class=\"ic-16-map-pin\"></i>\\n                <span>\\n                    <a  class=\\'location_link\\' href=\\'/fresher-jobs/jobs-in-hyderabad\\'>Hyderabad</a>                </span>\\n            </p>\\n\\n            <div class=\"internship_other_details_container\">\\n                <div class=\"other_detail_item_row\">\\n                    <div class=\"other_detail_item\">\\n                        <div class=\"item_heading\">\\n                            <i class=\"ic-16-play-circle\"></i>\\n                            <span>\\n                                Start date\\n                            </span>\\n                        </div>\\n                        <div class=\"item_body\" id=\"start-date-first\">\\n                            <span class=\"start_immediately_mobile\">Starts&nbsp;</span>Immediately\\n                        </div>\\n                    </div>\\n\\n                    <div class=\"other_detail_item\">\\n                        <div class=\"item_heading\">\\n                            <i class=\"ic-16-money\"></i>\\n                            <span>CTC</span>\\n                        </div>\\n                        <div class=\"item_body\">\\n                            <i class=\"ic-16-currency-inr\"></i>  3 - 4 LPA                                                    </div>\\n                    </div>\\n                </div>\\n\\n                                    <div class=\"other_detail_item_row\">\\n                        <div class=\"other_detail_item\">\\n                            <div class=\"item_heading\">\\n                                <i class=\"ic-16-hourglass\"></i>\\n                                <span>Apply By</span>\\n                            </div>\\n                            <div class=\"item_body\">18 Sep\\' 21</div>\\n                        </div>\\n                    </div>\\n\\n                                </div>\\n                            <div class=\"covid_wfh_alert_info \">\\n                    <i class=\"ic-16-home\" style=\"margin-right: 4px;\"></i>\\n                    <span class=\"body-main\">\\n                        The hiring for this job will be online and the company will provide work from home/ deferred joining till current COVID-19 situation improves\\n                    </span>\\n                </div>\\n                        </div>\\n    </div>\\n    <div class=\"button_container\">\\n        <div class=\"tags_container\">\\n                            <div class=\"label_container label_container_desktop\">\\n                    Fresher Job                </div>\\n                                            <div class=\"label_container label_container_mobile\">\\n                    Fresher Job                </div>\\n                    </div>\\n                    <a class=\"view_detail_button\"  href=\"/fresher-job/detail/omni-sport-leader-fresher-jobs-in-hyderabad-at-decathlon-sport-india-private-limited1629355813\">\\n                <div>View details</div>\\n                <i class=\"ic-16-chevron-right\"></i>\\n            </a>\\n                </div>\\n    </div>\\n\\n<div class=\"container-fluid individual_internship visibilityTrackerItem \" id=\"individual_internship_1393416\" internshipId = \"1393416\">\\n    <div class=\"internship_meta\">\\n        <div class=\"individual_internship_header\">\\n            <div class=\"company\">\\n                <div class=\"heading_4_5 profile\">\\n                    <a href=\\'/fresher-job/detail/executive-senior-executive-partnerships-fresher-jobs-in-multiple-locations-at-freecharge-payments-technology-private-limited1628770904\\'>Executive/Senior Executive - Partnerships</a>                </div>\\n                <div class=\"heading_6 company_name\">\\n                    <a class=\"link_display_like_text\" href=\"/fresher-jobs/fresher-job-at-Freecharge%20Payments%20Technology%20Private%20Limited\">\\n                        Freecharge Payments Technology Private Limited                    </a>\\n                                    </div>\\n            </div>\\n            <div class=\"internship_logo\">\\n                                    <img src=\"/cached_uploads/logo%2F610288c22a4fa1627556034.png\"\\n                         alt=\" Internship at Freecharge Payments Technology Private Limited in Faridabad, Delhi, Ghaziabad, Gurgaon, Pune, Bangalore, Hyderabad, Mumbai, Noida\">\\n                                     </div>\\n        </div>\\n        <div class=\"individual_internship_details  individual_internship_job\">\\n            <p id =\"location_names\">\\n                <i class=\"ic-16-map-pin\"></i>\\n                <span>\\n                    <a  class=\\'location_link\\' href=\\'/fresher-jobs/jobs-in-faridabad\\'>Faridabad</a>, <a  class=\\'location_link\\' href=\\'/fresher-jobs/jobs-in-delhi\\'>Delhi</a>, <a  class=\\'location_link\\' href=\\'/fresher-jobs/jobs-in-ghaziabad\\'>Ghaziabad</a>, <a  class=\\'location_link\\' href=\\'/fresher-jobs/jobs-in-gurgaon\\'>Gurgaon</a>, <a  class=\\'location_link\\' href=\\'/fresher-jobs/jobs-in-pune\\'>Pune</a>, <a  class=\\'location_link\\' href=\\'/fresher-jobs/jobs-in-bangalore\\'>Bangalore</a>, <a  class=\\'location_link\\' href=\\'/fresher-jobs/jobs-in-hyderabad\\'>Hyderabad</a>, <a  class=\\'location_link\\' href=\\'/fresher-jobs/jobs-in-mumbai\\'>Mumbai</a>, <a  class=\\'location_link\\' href=\\'/fresher-jobs/jobs-in-noida\\'>Noida</a>                </span>\\n            </p>\\n\\n            <div class=\"internship_other_details_container\">\\n                <div class=\"other_detail_item_row\">\\n                    <div class=\"other_detail_item\">\\n                        <div class=\"item_heading\">\\n                            <i class=\"ic-16-play-circle\"></i>\\n                            <span>\\n                                Start date\\n                            </span>\\n                        </div>\\n                        <div class=\"item_body\" id=\"start-date-first\">\\n                            <span class=\"start_immediately_mobile\">Starts&nbsp;</span>Immediately\\n                        </div>\\n                    </div>\\n\\n                    <div class=\"other_detail_item\">\\n                        <div class=\"item_heading\">\\n                            <i class=\"ic-16-money\"></i>\\n                            <span>CTC</span>\\n                        </div>\\n                        <div class=\"item_body\">\\n                            <i class=\"ic-16-currency-inr\"></i>  3 - 4.2 LPA                                                    </div>\\n                    </div>\\n                </div>\\n\\n                                    <div class=\"other_detail_item_row\">\\n                        <div class=\"other_detail_item\">\\n                            <div class=\"item_heading\">\\n                                <i class=\"ic-16-hourglass\"></i>\\n                                <span>Apply By</span>\\n                            </div>\\n                            <div class=\"item_body\">11 Sep\\' 21</div>\\n                        </div>\\n                    </div>\\n\\n                                </div>\\n                    </div>\\n    </div>\\n    <div class=\"button_container\">\\n        <div class=\"tags_container\">\\n                            <div class=\"label_container label_container_desktop\">\\n                    Fresher Job                </div>\\n                                            <div class=\"label_container label_container_mobile\">\\n                    Fresher Job                </div>\\n                    </div>\\n                    <a class=\"view_detail_button\"  href=\"/fresher-job/detail/executive-senior-executive-partnerships-fresher-jobs-in-multiple-locations-at-freecharge-payments-technology-private-limited1628770904\">\\n                <div>View details</div>\\n                <i class=\"ic-16-chevron-right\"></i>\\n            </a>\\n                </div>\\n    </div>\\n\\n<div class=\"container-fluid individual_internship visibilityTrackerItem \" id=\"individual_internship_1399445\" internshipId = \"1399445\">\\n    <div class=\"internship_meta\">\\n        <div class=\"individual_internship_header\">\\n            <div class=\"company\">\\n                <div class=\"heading_4_5 profile\">\\n                    <a href=\\'/fresher-job/detail/executive-sales-fresher-jobs-in-multiple-locations-at-freecharge-payments-technology-private-limited1628770715\\'>Executive - Sales</a>                </div>\\n                <div class=\"heading_6 company_name\">\\n                    <a class=\"link_display_like_text\" href=\"/fresher-jobs/fresher-job-at-Freecharge%20Payments%20Technology%20Private%20Limited\">\\n                        Freecharge Payments Technology Private Limited                    </a>\\n                                    </div>\\n            </div>\\n            <div class=\"internship_logo\">\\n                                    <img src=\"/cached_uploads/logo%2F610288c22a4fa1627556034.png\"\\n                         alt=\" Internship at Freecharge Payments Technology Private Limited in Delhi, Gurgaon, Noida\">\\n                                     </div>\\n        </div>\\n        <div class=\"individual_internship_details  individual_internship_job\">\\n            <p id =\"location_names\">\\n                <i class=\"ic-16-map-pin\"></i>\\n                <span>\\n                    <a  class=\\'location_link\\' href=\\'/fresher-jobs/jobs-in-delhi\\'>Delhi</a>, <a  class=\\'location_link\\' href=\\'/fresher-jobs/jobs-in-gurgaon\\'>Gurgaon</a>, <a  class=\\'location_link\\' href=\\'/fresher-jobs/jobs-in-noida\\'>Noida</a>                </span>\\n            </p>\\n\\n            <div class=\"internship_other_details_container\">\\n                <div class=\"other_detail_item_row\">\\n                    <div class=\"other_detail_item\">\\n                        <div class=\"item_heading\">\\n                            <i class=\"ic-16-play-circle\"></i>\\n                            <span>\\n                                Start date\\n                            </span>\\n                        </div>\\n                        <div class=\"item_body\" id=\"start-date-first\">\\n                            <span class=\"start_immediately_mobile\">Starts&nbsp;</span>Immediately\\n                        </div>\\n                    </div>\\n\\n                    <div class=\"other_detail_item\">\\n                        <div class=\"item_heading\">\\n                            <i class=\"ic-16-money\"></i>\\n                            <span>CTC</span>\\n                        </div>\\n                        <div class=\"item_body\">\\n                            <i class=\"ic-16-currency-inr\"></i>  3 - 3.5 LPA                                                    </div>\\n                    </div>\\n                </div>\\n\\n                                    <div class=\"other_detail_item_row\">\\n                        <div class=\"other_detail_item\">\\n                            <div class=\"item_heading\">\\n                                <i class=\"ic-16-hourglass\"></i>\\n                                <span>Apply By</span>\\n                            </div>\\n                            <div class=\"item_body\">11 Sep\\' 21</div>\\n                        </div>\\n                    </div>\\n\\n                                </div>\\n                    </div>\\n    </div>\\n    <div class=\"button_container\">\\n        <div class=\"tags_container\">\\n                            <div class=\"label_container label_container_desktop\">\\n                    Fresher Job                </div>\\n                                            <div class=\"label_container label_container_mobile\">\\n                    Fresher Job                </div>\\n                    </div>\\n                    <a class=\"view_detail_button\"  href=\"/fresher-job/detail/executive-sales-fresher-jobs-in-multiple-locations-at-freecharge-payments-technology-private-limited1628770715\">\\n                <div>View details</div>\\n                <i class=\"ic-16-chevron-right\"></i>\\n            </a>\\n                </div>\\n    </div>\\n\\n<div class=\"container-fluid individual_internship visibilityTrackerItem \" id=\"individual_internship_1390266\" internshipId = \"1390266\">\\n    <div class=\"internship_meta\">\\n        <div class=\"individual_internship_header\">\\n            <div class=\"company\">\\n                <div class=\"heading_4_5 profile\">\\n                    <a href=\\'/fresher-job/detail/junior-operations-executive-fresher-jobs-in-gurgaon-at-freecharge-payments-technology-private-limited1628075825\\'>Junior Operations Executive</a>                </div>\\n                <div class=\"heading_6 company_name\">\\n                    <a class=\"link_display_like_text\" href=\"/fresher-jobs/fresher-job-at-Freecharge%20Payments%20Technology%20Private%20Limited\">\\n                        Freecharge Payments Technology Private Limited                    </a>\\n                                    </div>\\n            </div>\\n            <div class=\"internship_logo\">\\n                                    <img src=\"/cached_uploads/logo%2F610288c22a4fa1627556034.png\"\\n                         alt=\" Internship at Freecharge Payments Technology Private Limited in Gurgaon\">\\n                                     </div>\\n        </div>\\n        <div class=\"individual_internship_details  individual_internship_job\">\\n            <p id =\"location_names\">\\n                <i class=\"ic-16-map-pin\"></i>\\n                <span>\\n                    <a  class=\\'location_link\\' href=\\'/fresher-jobs/jobs-in-gurgaon\\'>Gurgaon</a>                </span>\\n            </p>\\n\\n            <div class=\"internship_other_details_container\">\\n                <div class=\"other_detail_item_row\">\\n                    <div class=\"other_detail_item\">\\n                        <div class=\"item_heading\">\\n                            <i class=\"ic-16-play-circle\"></i>\\n                            <span>\\n                                Start date\\n                            </span>\\n                        </div>\\n                        <div class=\"item_body\" id=\"start-date-first\">\\n                            <span class=\"start_immediately_mobile\">Starts&nbsp;</span>Immediately\\n                        </div>\\n                    </div>\\n\\n                    <div class=\"other_detail_item\">\\n                        <div class=\"item_heading\">\\n                            <i class=\"ic-16-money\"></i>\\n                            <span>CTC</span>\\n                        </div>\\n                        <div class=\"item_body\">\\n                            <i class=\"ic-16-currency-inr\"></i>  3 - 4 LPA                                                    </div>\\n                    </div>\\n                </div>\\n\\n                                    <div class=\"other_detail_item_row\">\\n                        <div class=\"other_detail_item\">\\n                            <div class=\"item_heading\">\\n                                <i class=\"ic-16-hourglass\"></i>\\n                                <span>Apply By</span>\\n                            </div>\\n                            <div class=\"item_body\">4 Sep\\' 21</div>\\n                        </div>\\n                    </div>\\n\\n                                </div>\\n                            <div class=\"covid_wfh_alert_info \">\\n                    <i class=\"ic-16-home\" style=\"margin-right: 4px;\"></i>\\n                    <span class=\"body-main\">\\n                        The hiring for this job will be online and the company will provide work from home/ deferred joining till current COVID-19 situation improves\\n                    </span>\\n                </div>\\n                        </div>\\n    </div>\\n    <div class=\"button_container\">\\n        <div class=\"tags_container\">\\n                            <div class=\"label_container label_container_desktop\">\\n                    Fresher Job                </div>\\n                                            <div class=\"label_container label_container_mobile\">\\n                    Fresher Job                </div>\\n                    </div>\\n                    <a class=\"view_detail_button\"  href=\"/fresher-job/detail/junior-operations-executive-fresher-jobs-in-gurgaon-at-freecharge-payments-technology-private-limited1628075825\">\\n                <div>View details</div>\\n                <i class=\"ic-16-chevron-right\"></i>\\n            </a>\\n                </div>\\n    </div>\\n\\n<div class=\"container-fluid individual_internship visibilityTrackerItem \" id=\"individual_internship_1431117\" internshipId = \"1431117\">\\n    <div class=\"internship_meta\">\\n        <div class=\"individual_internship_header\">\\n            <div class=\"company\">\\n                <div class=\"heading_4_5 profile\">\\n                    <a href=\\'/fresher-job/detail/remote-associate-web-developer-fresher-jobs-at-webmobi1630306152\\'>Associate Web Developer</a>                </div>\\n                <div class=\"heading_6 company_name\">\\n                    <a class=\"link_display_like_text\" href=\"/fresher-jobs/fresher-job-at-WebMOBI\">\\n                        WebMOBI                    </a>\\n                                    </div>\\n            </div>\\n            <div class=\"internship_logo\">\\n                                    <img src=\"/cached_uploads/logo%2F5e2fddc61fe131580195270.png\"\\n                         alt=\" Internship at WebMOBI in \">\\n                                     </div>\\n        </div>\\n        <div class=\"individual_internship_details  individual_internship_job\">\\n            <p id =\"location_names\">\\n                <i class=\"ic-16-home\"></i>\\n                <span>\\n                                            <a  class=\\'location_link\\' href=\\'/fresher-jobs/remote_jobs\\'>Remote</a>\\n                                    </span>\\n            </p>\\n\\n            <div class=\"internship_other_details_container\">\\n                <div class=\"other_detail_item_row\">\\n                    <div class=\"other_detail_item\">\\n                        <div class=\"item_heading\">\\n                            <i class=\"ic-16-play-circle\"></i>\\n                            <span>\\n                                Start date\\n                            </span>\\n                        </div>\\n                        <div class=\"item_body\" id=\"start-date-first\">\\n                            <span class=\"start_immediately_mobile\">Starts&nbsp;</span>Immediately\\n                        </div>\\n                    </div>\\n\\n                    <div class=\"other_detail_item\">\\n                        <div class=\"item_heading\">\\n                            <i class=\"ic-16-money\"></i>\\n                            <span>CTC</span>\\n                        </div>\\n                        <div class=\"item_body\">\\n                            <i class=\"ic-16-currency-inr\"></i>  3 LPA                                                    </div>\\n                    </div>\\n                </div>\\n\\n                                    <div class=\"other_detail_item_row\">\\n                        <div class=\"other_detail_item\">\\n                            <div class=\"item_heading\">\\n                                <i class=\"ic-16-hourglass\"></i>\\n                                <span>Apply By</span>\\n                            </div>\\n                            <div class=\"item_body\">29 Sep\\' 21</div>\\n                        </div>\\n                    </div>\\n\\n                                </div>\\n                    </div>\\n    </div>\\n    <div class=\"button_container\">\\n        <div class=\"tags_container\">\\n                            <div class=\"label_container label_container_desktop\">\\n                    Fresher Job                </div>\\n                                            <div class=\"label_container label_container_mobile\">\\n                    Fresher Job                </div>\\n                    </div>\\n                    <a class=\"view_detail_button\"  href=\"/fresher-job/detail/remote-associate-web-developer-fresher-jobs-at-webmobi1630306152\">\\n                <div>View details</div>\\n                <i class=\"ic-16-chevron-right\"></i>\\n            </a>\\n                </div>\\n    </div>\\n\\n<div class=\"container-fluid individual_internship visibilityTrackerItem \" id=\"individual_internship_1423615\" internshipId = \"1423615\">\\n    <div class=\"internship_meta\">\\n        <div class=\"individual_internship_header\">\\n            <div class=\"company\">\\n                <div class=\"heading_4_5 profile\">\\n                    <a href=\\'/fresher-job/detail/remote-engineering-admissions-writer-fresher-jobs-at-greedge1629879316\\'>Engineering Admissions Writer</a>                </div>\\n                <div class=\"heading_6 company_name\">\\n                    <a class=\"link_display_like_text\" href=\"/fresher-jobs/fresher-job-at-GREedge\">\\n                        GREedge                    </a>\\n                                    </div>\\n            </div>\\n            <div class=\"internship_logo\">\\n                                    <img src=\"/cached_uploads/logo%2F5e2fdd50e0c821580195152.png\"\\n                         alt=\" Internship at GREedge in \">\\n                                     </div>\\n        </div>\\n        <div class=\"individual_internship_details  individual_internship_job\">\\n            <p id =\"location_names\">\\n                <i class=\"ic-16-home\"></i>\\n                <span>\\n                                            <a  class=\\'location_link\\' href=\\'/fresher-jobs/remote_jobs\\'>Remote</a>\\n                                    </span>\\n            </p>\\n\\n            <div class=\"internship_other_details_container\">\\n                <div class=\"other_detail_item_row\">\\n                    <div class=\"other_detail_item\">\\n                        <div class=\"item_heading\">\\n                            <i class=\"ic-16-play-circle\"></i>\\n                            <span>\\n                                Start date\\n                            </span>\\n                        </div>\\n                        <div class=\"item_body\" id=\"start-date-first\">\\n                            <span class=\"start_immediately_mobile\">Starts&nbsp;</span>Immediately\\n                        </div>\\n                    </div>\\n\\n                    <div class=\"other_detail_item\">\\n                        <div class=\"item_heading\">\\n                            <i class=\"ic-16-money\"></i>\\n                            <span>CTC</span>\\n                        </div>\\n                        <div class=\"item_body\">\\n                            <i class=\"ic-16-currency-inr\"></i>  5.2 LPA                                                    </div>\\n                    </div>\\n                </div>\\n\\n                                    <div class=\"other_detail_item_row\">\\n                        <div class=\"other_detail_item\">\\n                            <div class=\"item_heading\">\\n                                <i class=\"ic-16-hourglass\"></i>\\n                                <span>Apply By</span>\\n                            </div>\\n                            <div class=\"item_body\">29 Sep\\' 21</div>\\n                        </div>\\n                    </div>\\n\\n                                </div>\\n                    </div>\\n    </div>\\n    <div class=\"button_container\">\\n        <div class=\"tags_container\">\\n                            <div class=\"label_container label_container_desktop\">\\n                    Fresher Job                </div>\\n                                            <div class=\"label_container label_container_mobile\">\\n                    Fresher Job                </div>\\n                    </div>\\n                    <a class=\"view_detail_button\"  href=\"/fresher-job/detail/remote-engineering-admissions-writer-fresher-jobs-at-greedge1629879316\">\\n                <div>View details</div>\\n                <i class=\"ic-16-chevron-right\"></i>\\n            </a>\\n                </div>\\n    </div>\\n\\n<div class=\"container-fluid individual_internship visibilityTrackerItem \" id=\"individual_internship_1431138\" internshipId = \"1431138\">\\n    <div class=\"internship_meta\">\\n        <div class=\"individual_internship_header\">\\n            <div class=\"company\">\\n                <div class=\"heading_4_5 profile\">\\n                    <a href=\\'/fresher-job/detail/remote-assistant-manager-product-development-program-design-fresher-jobs-at-supros1630310949\\'>Assistant Manager - Product Development & Program Design</a>                </div>\\n                <div class=\"heading_6 company_name\">\\n                    <a class=\"link_display_like_text\" href=\"/fresher-jobs/fresher-job-at-SUPROS\">\\n                        SUPROS                    </a>\\n                                    </div>\\n            </div>\\n            <div class=\"internship_logo\">\\n                                    <img src=\"/cached_uploads/logo%2F6083eb67c36021619258215.png\"\\n                         alt=\" Internship at SUPROS in \">\\n                                     </div>\\n        </div>\\n        <div class=\"individual_internship_details  individual_internship_job\">\\n            <p id =\"location_names\">\\n                <i class=\"ic-16-home\"></i>\\n                <span>\\n                                            <a  class=\\'location_link\\' href=\\'/fresher-jobs/remote_jobs\\'>Remote</a>\\n                                    </span>\\n            </p>\\n\\n            <div class=\"internship_other_details_container\">\\n                <div class=\"other_detail_item_row\">\\n                    <div class=\"other_detail_item\">\\n                        <div class=\"item_heading\">\\n                            <i class=\"ic-16-play-circle\"></i>\\n                            <span>\\n                                Start date\\n                            </span>\\n                        </div>\\n                        <div class=\"item_body\" id=\"start-date-first\">\\n                            <span class=\"start_immediately_mobile\">Starts&nbsp;</span>Immediately\\n                        </div>\\n                    </div>\\n\\n                    <div class=\"other_detail_item\">\\n                        <div class=\"item_heading\">\\n                            <i class=\"ic-16-money\"></i>\\n                            <span>CTC</span>\\n                        </div>\\n                        <div class=\"item_body\">\\n                            <i class=\"ic-16-currency-inr\"></i>  4.2 - 4.5 LPA                                                    </div>\\n                    </div>\\n                </div>\\n\\n                                    <div class=\"other_detail_item_row\">\\n                        <div class=\"other_detail_item\">\\n                            <div class=\"item_heading\">\\n                                <i class=\"ic-16-hourglass\"></i>\\n                                <span>Apply By</span>\\n                            </div>\\n                            <div class=\"item_body\">29 Sep\\' 21</div>\\n                        </div>\\n                    </div>\\n\\n                                </div>\\n                    </div>\\n    </div>\\n    <div class=\"button_container\">\\n        <div class=\"tags_container\">\\n                            <div class=\"label_container label_container_desktop\">\\n                    Fresher Job                </div>\\n                                            <div class=\"label_container label_container_mobile\">\\n                    Fresher Job                </div>\\n                    </div>\\n                    <a class=\"view_detail_button\"  href=\"/fresher-job/detail/remote-assistant-manager-product-development-program-design-fresher-jobs-at-supros1630310949\">\\n                <div>View details</div>\\n                <i class=\"ic-16-chevron-right\"></i>\\n            </a>\\n                </div>\\n    </div>\\n\\n<div class=\"container-fluid individual_internship visibilityTrackerItem \" id=\"individual_internship_1431150\" internshipId = \"1431150\">\\n    <div class=\"internship_meta\">\\n        <div class=\"individual_internship_header\">\\n            <div class=\"company\">\\n                <div class=\"heading_4_5 profile\">\\n                    <a href=\\'/fresher-job/detail/remote-junior-full-stack-developer-fresher-jobs-at-techdome-solutions-private-limited1630307102\\'>Junior Full Stack Developer</a>                </div>\\n                <div class=\"heading_6 company_name\">\\n                    <a class=\"link_display_like_text\" href=\"/fresher-jobs/fresher-job-at-Techdome%20Solutions%20Private%20Limited\">\\n                        Techdome Solutions Private Limited                    </a>\\n                                    </div>\\n            </div>\\n            <div class=\"internship_logo\">\\n                                    <img src=\"/cached_uploads/logo%2F605f4c22121361616858146.png\"\\n                         alt=\" Internship at Techdome Solutions Private Limited in \">\\n                                     </div>\\n        </div>\\n        <div class=\"individual_internship_details  individual_internship_job\">\\n            <p id =\"location_names\">\\n                <i class=\"ic-16-home\"></i>\\n                <span>\\n                                            <a  class=\\'location_link\\' href=\\'/fresher-jobs/remote_jobs\\'>Remote</a>\\n                                    </span>\\n            </p>\\n\\n            <div class=\"internship_other_details_container\">\\n                <div class=\"other_detail_item_row\">\\n                    <div class=\"other_detail_item\">\\n                        <div class=\"item_heading\">\\n                            <i class=\"ic-16-play-circle\"></i>\\n                            <span>\\n                                Start date\\n                            </span>\\n                        </div>\\n                        <div class=\"item_body\" id=\"start-date-first\">\\n                            <span class=\"start_immediately_mobile\">Starts&nbsp;</span>Immediately\\n                        </div>\\n                    </div>\\n\\n                    <div class=\"other_detail_item\">\\n                        <div class=\"item_heading\">\\n                            <i class=\"ic-16-money\"></i>\\n                            <span>CTC</span>\\n                        </div>\\n                        <div class=\"item_body\">\\n                            <i class=\"ic-16-currency-inr\"></i>  3 - 6 LPA                                                    </div>\\n                    </div>\\n                </div>\\n\\n                                    <div class=\"other_detail_item_row\">\\n                        <div class=\"other_detail_item\">\\n                            <div class=\"item_heading\">\\n                                <i class=\"ic-16-hourglass\"></i>\\n                                <span>Apply By</span>\\n                            </div>\\n                            <div class=\"item_body\">29 Sep\\' 21</div>\\n                        </div>\\n                    </div>\\n\\n                                </div>\\n                    </div>\\n    </div>\\n    <div class=\"button_container\">\\n        <div class=\"tags_container\">\\n                            <div class=\"label_container label_container_desktop\">\\n                    Fresher Job                </div>\\n                                            <div class=\"label_container label_container_mobile\">\\n                    Fresher Job                </div>\\n                    </div>\\n                    <a class=\"view_detail_button\"  href=\"/fresher-job/detail/remote-junior-full-stack-developer-fresher-jobs-at-techdome-solutions-private-limited1630307102\">\\n                <div>View details</div>\\n                <i class=\"ic-16-chevron-right\"></i>\\n            </a>\\n                </div>\\n    </div>\\n\\n<div class=\"container-fluid individual_internship visibilityTrackerItem \" id=\"individual_internship_1426402\" internshipId = \"1426402\">\\n    <div class=\"internship_meta\">\\n        <div class=\"individual_internship_header\">\\n            <div class=\"company\">\\n                <div class=\"heading_4_5 profile\">\\n                    <a href=\\'/fresher-job/detail/remote-strategy-analyst-fresher-jobs-at-redcarpetup1629993251\\'>Strategy Analyst</a>                </div>\\n                <div class=\"heading_6 company_name\">\\n                    <a class=\"link_display_like_text\" href=\"/fresher-jobs/fresher-job-at-RedCarpetUp\">\\n                        RedCarpetUp                    </a>\\n                                    </div>\\n            </div>\\n            <div class=\"internship_logo\">\\n                            </div>\\n        </div>\\n        <div class=\"individual_internship_details  individual_internship_job\">\\n            <p id =\"location_names\">\\n                <i class=\"ic-16-home\"></i>\\n                <span>\\n                                            <a  class=\\'location_link\\' href=\\'/fresher-jobs/remote_jobs\\'>Remote</a>\\n                                    </span>\\n            </p>\\n\\n            <div class=\"internship_other_details_container\">\\n                <div class=\"other_detail_item_row\">\\n                    <div class=\"other_detail_item\">\\n                        <div class=\"item_heading\">\\n                            <i class=\"ic-16-play-circle\"></i>\\n                            <span>\\n                                Start date\\n                            </span>\\n                        </div>\\n                        <div class=\"item_body\" id=\"start-date-first\">\\n                            <span class=\"start_immediately_mobile\">Starts&nbsp;</span>Immediately\\n                        </div>\\n                    </div>\\n\\n                    <div class=\"other_detail_item\">\\n                        <div class=\"item_heading\">\\n                            <i class=\"ic-16-money\"></i>\\n                            <span>CTC</span>\\n                        </div>\\n                        <div class=\"item_body\">\\n                            <i class=\"ic-16-currency-inr\"></i>  6 LPA                                                    </div>\\n                    </div>\\n                </div>\\n\\n                                    <div class=\"other_detail_item_row\">\\n                        <div class=\"other_detail_item\">\\n                            <div class=\"item_heading\">\\n                                <i class=\"ic-16-hourglass\"></i>\\n                                <span>Apply By</span>\\n                            </div>\\n                            <div class=\"item_body\">29 Sep\\' 21</div>\\n                        </div>\\n                    </div>\\n\\n                                </div>\\n                    </div>\\n    </div>\\n    <div class=\"button_container\">\\n        <div class=\"tags_container\">\\n                            <div class=\"label_container label_container_desktop\">\\n                    Fresher Job                </div>\\n                                            <div class=\"label_container label_container_mobile\">\\n                    Fresher Job                </div>\\n                    </div>\\n                    <a class=\"view_detail_button\"  href=\"/fresher-job/detail/remote-strategy-analyst-fresher-jobs-at-redcarpetup1629993251\">\\n                <div>View details</div>\\n                <i class=\"ic-16-chevron-right\"></i>\\n            </a>\\n                </div>\\n    </div>\\n\\n<div class=\"container-fluid individual_internship visibilityTrackerItem \" id=\"individual_internship_1430445\" internshipId = \"1430445\">\\n    <div class=\"internship_meta\">\\n        <div class=\"individual_internship_header\">\\n            <div class=\"company\">\\n                <div class=\"heading_4_5 profile\">\\n                    <a href=\\'/fresher-job/detail/remote-associate-recruiter-fresher-jobs-at-talhive1630249062\\'>Associate Recruiter</a>                </div>\\n                <div class=\"heading_6 company_name\">\\n                    <a class=\"link_display_like_text\" href=\"/fresher-jobs/fresher-job-at-Talhive\">\\n                        Talhive                    </a>\\n                                    </div>\\n            </div>\\n            <div class=\"internship_logo\">\\n                            </div>\\n        </div>\\n        <div class=\"individual_internship_details  individual_internship_job\">\\n            <p id =\"location_names\">\\n                <i class=\"ic-16-home\"></i>\\n                <span>\\n                                            <a  class=\\'location_link\\' href=\\'/fresher-jobs/remote_jobs\\'>Remote</a>\\n                                    </span>\\n            </p>\\n\\n            <div class=\"internship_other_details_container\">\\n                <div class=\"other_detail_item_row\">\\n                    <div class=\"other_detail_item\">\\n                        <div class=\"item_heading\">\\n                            <i class=\"ic-16-play-circle\"></i>\\n                            <span>\\n                                Start date\\n                            </span>\\n                        </div>\\n                        <div class=\"item_body\" id=\"start-date-first\">\\n                            <span class=\"start_immediately_mobile\">Starts&nbsp;</span>Immediately\\n                        </div>\\n                    </div>\\n\\n                    <div class=\"other_detail_item\">\\n                        <div class=\"item_heading\">\\n                            <i class=\"ic-16-money\"></i>\\n                            <span>CTC</span>\\n                        </div>\\n                        <div class=\"item_body\">\\n                            <i class=\"ic-16-currency-inr\"></i>  3 - 5 LPA                                                    </div>\\n                    </div>\\n                </div>\\n\\n                                    <div class=\"other_detail_item_row\">\\n                        <div class=\"other_detail_item\">\\n                            <div class=\"item_heading\">\\n                                <i class=\"ic-16-hourglass\"></i>\\n                                <span>Apply By</span>\\n                            </div>\\n                            <div class=\"item_body\">29 Sep\\' 21</div>\\n                        </div>\\n                    </div>\\n\\n                                </div>\\n                    </div>\\n    </div>\\n    <div class=\"button_container\">\\n        <div class=\"tags_container\">\\n                            <div class=\"label_container label_container_desktop\">\\n                    Fresher Job                </div>\\n                                            <div class=\"label_container label_container_mobile\">\\n                    Fresher Job                </div>\\n                    </div>\\n                    <a class=\"view_detail_button\"  href=\"/fresher-job/detail/remote-associate-recruiter-fresher-jobs-at-talhive1630249062\">\\n                <div>View details</div>\\n                <i class=\"ic-16-chevron-right\"></i>\\n            </a>\\n                </div>\\n    </div>\\n\\n<div class=\"container-fluid individual_internship visibilityTrackerItem \" id=\"individual_internship_1429882\" internshipId = \"1429882\">\\n    <div class=\"internship_meta\">\\n        <div class=\"individual_internship_header\">\\n            <div class=\"company\">\\n                <div class=\"heading_4_5 profile\">\\n                    <a href=\\'/fresher-job/detail/laravel-developer-fresher-jobs-in-anand-at-brainbean-technolabs-private-limited1630193057\\'>Laravel Developer</a>                </div>\\n                <div class=\"heading_6 company_name\">\\n                    <a class=\"link_display_like_text\" href=\"/fresher-jobs/fresher-job-at-Brainbean%20Technolabs%20Private%20Limited\">\\n                        Brainbean Technolabs Private Limited                    </a>\\n                                    </div>\\n            </div>\\n            <div class=\"internship_logo\">\\n                                    <img src=\"/cached_uploads/logo%2F5e2fdd6fe8b151580195183.jpg\"\\n                         alt=\" Internship at Brainbean Technolabs Private Limited in Anand\">\\n                                     </div>\\n        </div>\\n        <div class=\"individual_internship_details  individual_internship_job\">\\n            <p id =\"location_names\">\\n                <i class=\"ic-16-map-pin\"></i>\\n                <span>\\n                    <a  class=\\'location_link\\' href=\\'/fresher-jobs/jobs-in-anand\\'>Anand</a>                </span>\\n            </p>\\n\\n            <div class=\"internship_other_details_container\">\\n                <div class=\"other_detail_item_row\">\\n                    <div class=\"other_detail_item\">\\n                        <div class=\"item_heading\">\\n                            <i class=\"ic-16-play-circle\"></i>\\n                            <span>\\n                                Start date\\n                            </span>\\n                        </div>\\n                        <div class=\"item_body\" id=\"start-date-first\">\\n                            <span class=\"start_immediately_mobile\">Starts&nbsp;</span>Immediately\\n                        </div>\\n                    </div>\\n\\n                    <div class=\"other_detail_item\">\\n                        <div class=\"item_heading\">\\n                            <i class=\"ic-16-money\"></i>\\n                            <span>CTC</span>\\n                        </div>\\n                        <div class=\"item_body\">\\n                            <i class=\"ic-16-currency-inr\"></i>  3 LPA                                                    </div>\\n                    </div>\\n                </div>\\n\\n                                    <div class=\"other_detail_item_row\">\\n                        <div class=\"other_detail_item\">\\n                            <div class=\"item_heading\">\\n                                <i class=\"ic-16-hourglass\"></i>\\n                                <span>Apply By</span>\\n                            </div>\\n                            <div class=\"item_body\">29 Sep\\' 21</div>\\n                        </div>\\n                    </div>\\n\\n                                </div>\\n                            <div class=\"covid_wfh_alert_info \">\\n                    <i class=\"ic-16-home\" style=\"margin-right: 4px;\"></i>\\n                    <span class=\"body-main\">\\n                        The hiring for this job will be online and the company will provide work from home/ deferred joining till current COVID-19 situation improves\\n                    </span>\\n                </div>\\n                        </div>\\n    </div>\\n    <div class=\"button_container\">\\n        <div class=\"tags_container\">\\n                            <div class=\"label_container label_container_desktop\">\\n                    Fresher Job                </div>\\n                                            <div class=\"label_container label_container_mobile\">\\n                    Fresher Job                </div>\\n                    </div>\\n                    <a class=\"view_detail_button\"  href=\"/fresher-job/detail/laravel-developer-fresher-jobs-in-anand-at-brainbean-technolabs-private-limited1630193057\">\\n                <div>View details</div>\\n                <i class=\"ic-16-chevron-right\"></i>\\n            </a>\\n                </div>\\n    </div>\\n\\n<div class=\"container-fluid individual_internship visibilityTrackerItem \" id=\"individual_internship_1429737\" internshipId = \"1429737\">\\n    <div class=\"internship_meta\">\\n        <div class=\"individual_internship_header\">\\n            <div class=\"company\">\\n                <div class=\"heading_4_5 profile\">\\n                    <a href=\\'/fresher-job/detail/remote-php-developer-fresher-jobs-at-krishworks1630169451\\'>PHP Developer</a>                </div>\\n                <div class=\"heading_6 company_name\">\\n                    <a class=\"link_display_like_text\" href=\"/fresher-jobs/fresher-job-at-Krishworks\">\\n                        Krishworks                    </a>\\n                                    </div>\\n            </div>\\n            <div class=\"internship_logo\">\\n                                    <img src=\"/cached_uploads/logo%2F5e2fdd48a533d1580195144.png\"\\n                         alt=\" Internship at Krishworks in \">\\n                                     </div>\\n        </div>\\n        <div class=\"individual_internship_details  individual_internship_job\">\\n            <p id =\"location_names\">\\n                <i class=\"ic-16-home\"></i>\\n                <span>\\n                                            <a  class=\\'location_link\\' href=\\'/fresher-jobs/remote_jobs\\'>Remote</a>\\n                                    </span>\\n            </p>\\n\\n            <div class=\"internship_other_details_container\">\\n                <div class=\"other_detail_item_row\">\\n                    <div class=\"other_detail_item\">\\n                        <div class=\"item_heading\">\\n                            <i class=\"ic-16-play-circle\"></i>\\n                            <span>\\n                                Start date\\n                            </span>\\n                        </div>\\n                        <div class=\"item_body\" id=\"start-date-first\">\\n                            <span class=\"start_immediately_mobile\">Starts&nbsp;</span>Immediately\\n                        </div>\\n                    </div>\\n\\n                    <div class=\"other_detail_item\">\\n                        <div class=\"item_heading\">\\n                            <i class=\"ic-16-money\"></i>\\n                            <span>CTC</span>\\n                        </div>\\n                        <div class=\"item_body\">\\n                            <i class=\"ic-16-currency-inr\"></i>  3 - 6 LPA                                                    </div>\\n                    </div>\\n                </div>\\n\\n                                    <div class=\"other_detail_item_row\">\\n                        <div class=\"other_detail_item\">\\n                            <div class=\"item_heading\">\\n                                <i class=\"ic-16-hourglass\"></i>\\n                                <span>Apply By</span>\\n                            </div>\\n                            <div class=\"item_body\">29 Sep\\' 21</div>\\n                        </div>\\n                    </div>\\n\\n                                </div>\\n                    </div>\\n    </div>\\n    <div class=\"button_container\">\\n        <div class=\"tags_container\">\\n                            <div class=\"label_container label_container_desktop\">\\n                    Fresher Job                </div>\\n                                            <div class=\"label_container label_container_mobile\">\\n                    Fresher Job                </div>\\n                    </div>\\n                    <a class=\"view_detail_button\"  href=\"/fresher-job/detail/remote-php-developer-fresher-jobs-at-krishworks1630169451\">\\n                <div>View details</div>\\n                <i class=\"ic-16-chevron-right\"></i>\\n            </a>\\n                </div>\\n    </div>\\n\\n<div class=\"container-fluid individual_internship visibilityTrackerItem \" id=\"individual_internship_1429063\" internshipId = \"1429063\">\\n    <div class=\"internship_meta\">\\n        <div class=\"individual_internship_header\">\\n            <div class=\"company\">\\n                <div class=\"heading_4_5 profile\">\\n                    <a href=\\'/fresher-job/detail/remote-inside-sales-executive-fresher-jobs-at-neo91-dsbl-private-limited1630137004\\'>Inside Sales Executive</a>                </div>\\n                <div class=\"heading_6 company_name\">\\n                    <a class=\"link_display_like_text\" href=\"/fresher-jobs/fresher-job-at-Neo91%20%28DSBL%20Private%20Limited%29\">\\n                        Neo91 (DSBL Private Limited)                    </a>\\n                                    </div>\\n            </div>\\n            <div class=\"internship_logo\">\\n                                    <img src=\"/cached_uploads/logo%2F5e4b744aed57c1582003274.png\"\\n                         alt=\" Internship at Neo91 (DSBL Private Limited) in \">\\n                                     </div>\\n        </div>\\n        <div class=\"individual_internship_details  individual_internship_job\">\\n            <p id =\"location_names\">\\n                <i class=\"ic-16-home\"></i>\\n                <span>\\n                                            <a  class=\\'location_link\\' href=\\'/fresher-jobs/remote_jobs\\'>Remote</a>\\n                                    </span>\\n            </p>\\n\\n            <div class=\"internship_other_details_container\">\\n                <div class=\"other_detail_item_row\">\\n                    <div class=\"other_detail_item\">\\n                        <div class=\"item_heading\">\\n                            <i class=\"ic-16-play-circle\"></i>\\n                            <span>\\n                                Start date\\n                            </span>\\n                        </div>\\n                        <div class=\"item_body\" id=\"start-date-first\">\\n                            <span class=\"start_immediately_mobile\">Starts&nbsp;</span>Immediately\\n                        </div>\\n                    </div>\\n\\n                    <div class=\"other_detail_item\">\\n                        <div class=\"item_heading\">\\n                            <i class=\"ic-16-money\"></i>\\n                            <span>CTC</span>\\n                        </div>\\n                        <div class=\"item_body\">\\n                            <i class=\"ic-16-currency-inr\"></i>  3.5 LPA                                                    </div>\\n                    </div>\\n                </div>\\n\\n                                    <div class=\"other_detail_item_row\">\\n                        <div class=\"other_detail_item\">\\n                            <div class=\"item_heading\">\\n                                <i class=\"ic-16-hourglass\"></i>\\n                                <span>Apply By</span>\\n                            </div>\\n                            <div class=\"item_body\">27 Sep\\' 21</div>\\n                        </div>\\n                    </div>\\n\\n                                </div>\\n                    </div>\\n    </div>\\n    <div class=\"button_container\">\\n        <div class=\"tags_container\">\\n                            <div class=\"label_container label_container_desktop\">\\n                    Fresher Job                </div>\\n                                            <div class=\"label_container label_container_mobile\">\\n                    Fresher Job                </div>\\n                    </div>\\n                    <a class=\"view_detail_button\"  href=\"/fresher-job/detail/remote-inside-sales-executive-fresher-jobs-at-neo91-dsbl-private-limited1630137004\">\\n                <div>View details</div>\\n                <i class=\"ic-16-chevron-right\"></i>\\n            </a>\\n                </div>\\n    </div>\\n\\n<div class=\"container-fluid individual_internship visibilityTrackerItem \" id=\"individual_internship_1426894\" internshipId = \"1426894\">\\n    <div class=\"internship_meta\">\\n        <div class=\"individual_internship_header\">\\n            <div class=\"company\">\\n                <div class=\"heading_4_5 profile\">\\n                    <a href=\\'/fresher-job/detail/remote-sales-client-onboarding-executive-fresher-jobs-at-intesome1630044390\\'>Sales Client Onboarding Executive</a>                </div>\\n                <div class=\"heading_6 company_name\">\\n                    <a class=\"link_display_like_text\" href=\"/fresher-jobs/fresher-job-at-Intesome\">\\n                        Intesome                    </a>\\n                                    </div>\\n            </div>\\n            <div class=\"internship_logo\">\\n                            </div>\\n        </div>\\n        <div class=\"individual_internship_details  individual_internship_job\">\\n            <p id =\"location_names\">\\n                <i class=\"ic-16-home\"></i>\\n                <span>\\n                                            <a  class=\\'location_link\\' href=\\'/fresher-jobs/remote_jobs\\'>Remote</a>\\n                                    </span>\\n            </p>\\n\\n            <div class=\"internship_other_details_container\">\\n                <div class=\"other_detail_item_row\">\\n                    <div class=\"other_detail_item\">\\n                        <div class=\"item_heading\">\\n                            <i class=\"ic-16-play-circle\"></i>\\n                            <span>\\n                                Start date\\n                            </span>\\n                        </div>\\n                        <div class=\"item_body\" id=\"start-date-first\">\\n                            <span class=\"start_immediately_mobile\">Starts&nbsp;</span>Immediately\\n                        </div>\\n                    </div>\\n\\n                    <div class=\"other_detail_item\">\\n                        <div class=\"item_heading\">\\n                            <i class=\"ic-16-money\"></i>\\n                            <span>CTC</span>\\n                        </div>\\n                        <div class=\"item_body\">\\n                            <i class=\"ic-16-currency-inr\"></i>  3 - 4 LPA                                                    </div>\\n                    </div>\\n                </div>\\n\\n                                    <div class=\"other_detail_item_row\">\\n                        <div class=\"other_detail_item\">\\n                            <div class=\"item_heading\">\\n                                <i class=\"ic-16-hourglass\"></i>\\n                                <span>Apply By</span>\\n                            </div>\\n                            <div class=\"item_body\">27 Sep\\' 21</div>\\n                        </div>\\n                    </div>\\n\\n                                </div>\\n                    </div>\\n    </div>\\n    <div class=\"button_container\">\\n        <div class=\"tags_container\">\\n                            <div class=\"label_container label_container_desktop\">\\n                    Fresher Job                </div>\\n                                            <div class=\"label_container label_container_mobile\">\\n                    Fresher Job                </div>\\n                    </div>\\n                    <a class=\"view_detail_button\"  href=\"/fresher-job/detail/remote-sales-client-onboarding-executive-fresher-jobs-at-intesome1630044390\">\\n                <div>View details</div>\\n                <i class=\"ic-16-chevron-right\"></i>\\n            </a>\\n                </div>\\n    </div>\\n\\n<div class=\"container-fluid individual_internship visibilityTrackerItem \" id=\"individual_internship_1426933\" internshipId = \"1426933\">\\n    <div class=\"internship_meta\">\\n        <div class=\"individual_internship_header\">\\n            <div class=\"company\">\\n                <div class=\"heading_4_5 profile\">\\n                    <a href=\\'/fresher-job/detail/remote-b2b-digital-sales-executive-fresher-jobs-at-intesome1630045170\\'>B2B Digital Sales Executive</a>                </div>\\n                <div class=\"heading_6 company_name\">\\n                    <a class=\"link_display_like_text\" href=\"/fresher-jobs/fresher-job-at-Intesome\">\\n                        Intesome                    </a>\\n                                    </div>\\n            </div>\\n            <div class=\"internship_logo\">\\n                            </div>\\n        </div>\\n        <div class=\"individual_internship_details  individual_internship_job\">\\n            <p id =\"location_names\">\\n                <i class=\"ic-16-home\"></i>\\n                <span>\\n                                            <a  class=\\'location_link\\' href=\\'/fresher-jobs/remote_jobs\\'>Remote</a>\\n                                    </span>\\n            </p>\\n\\n            <div class=\"internship_other_details_container\">\\n                <div class=\"other_detail_item_row\">\\n                    <div class=\"other_detail_item\">\\n                        <div class=\"item_heading\">\\n                            <i class=\"ic-16-play-circle\"></i>\\n                            <span>\\n                                Start date\\n                            </span>\\n                        </div>\\n                        <div class=\"item_body\" id=\"start-date-first\">\\n                            <span class=\"start_immediately_mobile\">Starts&nbsp;</span>Immediately\\n                        </div>\\n                    </div>\\n\\n                    <div class=\"other_detail_item\">\\n                        <div class=\"item_heading\">\\n                            <i class=\"ic-16-money\"></i>\\n                            <span>CTC</span>\\n                        </div>\\n                        <div class=\"item_body\">\\n                            <i class=\"ic-16-currency-inr\"></i>  3 - 4 LPA                                                    </div>\\n                    </div>\\n                </div>\\n\\n                                    <div class=\"other_detail_item_row\">\\n                        <div class=\"other_detail_item\">\\n                            <div class=\"item_heading\">\\n                                <i class=\"ic-16-hourglass\"></i>\\n                                <span>Apply By</span>\\n                            </div>\\n                            <div class=\"item_body\">27 Sep\\' 21</div>\\n                        </div>\\n                    </div>\\n\\n                                </div>\\n                    </div>\\n    </div>\\n    <div class=\"button_container\">\\n        <div class=\"tags_container\">\\n                            <div class=\"label_container label_container_desktop\">\\n                    Fresher Job                </div>\\n                                            <div class=\"label_container label_container_mobile\">\\n                    Fresher Job                </div>\\n                    </div>\\n                    <a class=\"view_detail_button\"  href=\"/fresher-job/detail/remote-b2b-digital-sales-executive-fresher-jobs-at-intesome1630045170\">\\n                <div>View details</div>\\n                <i class=\"ic-16-chevron-right\"></i>\\n            </a>\\n                </div>\\n    </div>\\n\\n<div class=\"container-fluid individual_internship visibilityTrackerItem \" id=\"individual_internship_1425742\" internshipId = \"1425742\">\\n    <div class=\"internship_meta\">\\n        <div class=\"individual_internship_header\">\\n            <div class=\"company\">\\n                <div class=\"heading_4_5 profile\">\\n                    <a href=\\'/fresher-job/detail/business-development-executive-fresher-jobs-in-noida-at-aapc-india-private-limited1630134084\\'>Business Development Executive</a>                </div>\\n                <div class=\"heading_6 company_name\">\\n                    <a class=\"link_display_like_text\" href=\"/fresher-jobs/fresher-job-at-AAPC%20India%20Private%20Limited\">\\n                        AAPC India Private Limited                    </a>\\n                                    </div>\\n            </div>\\n            <div class=\"internship_logo\">\\n                                    <img src=\"/cached_uploads/logo%2F612761c899e361629970888.jpg\"\\n                         alt=\" Internship at AAPC India Private Limited in Noida\">\\n                                     </div>\\n        </div>\\n        <div class=\"individual_internship_details  individual_internship_job\">\\n            <p id =\"location_names\">\\n                <i class=\"ic-16-map-pin\"></i>\\n                <span>\\n                    <a  class=\\'location_link\\' href=\\'/fresher-jobs/jobs-in-noida\\'>Noida</a>                </span>\\n            </p>\\n\\n            <div class=\"internship_other_details_container\">\\n                <div class=\"other_detail_item_row\">\\n                    <div class=\"other_detail_item\">\\n                        <div class=\"item_heading\">\\n                            <i class=\"ic-16-play-circle\"></i>\\n                            <span>\\n                                Start date\\n                            </span>\\n                        </div>\\n                        <div class=\"item_body\" id=\"start-date-first\">\\n                            <span class=\"start_immediately_mobile\">Starts&nbsp;</span>Immediately\\n                        </div>\\n                    </div>\\n\\n                    <div class=\"other_detail_item\">\\n                        <div class=\"item_heading\">\\n                            <i class=\"ic-16-money\"></i>\\n                            <span>CTC</span>\\n                        </div>\\n                        <div class=\"item_body\">\\n                            <i class=\"ic-16-currency-inr\"></i>  3 - 4.5 LPA                                                    </div>\\n                    </div>\\n                </div>\\n\\n                                    <div class=\"other_detail_item_row\">\\n                        <div class=\"other_detail_item\">\\n                            <div class=\"item_heading\">\\n                                <i class=\"ic-16-hourglass\"></i>\\n                                <span>Apply By</span>\\n                            </div>\\n                            <div class=\"item_body\">27 Sep\\' 21</div>\\n                        </div>\\n                    </div>\\n\\n                                </div>\\n                            <div class=\"covid_wfh_alert_info \">\\n                    <i class=\"ic-16-home\" style=\"margin-right: 4px;\"></i>\\n                    <span class=\"body-main\">\\n                        The hiring for this job will be online and the company will provide work from home/ deferred joining till current COVID-19 situation improves\\n                    </span>\\n                </div>\\n                        </div>\\n    </div>\\n    <div class=\"button_container\">\\n        <div class=\"tags_container\">\\n                            <div class=\"label_container label_container_desktop\">\\n                    Fresher Job                </div>\\n                                            <div class=\"label_container label_container_mobile\">\\n                    Fresher Job                </div>\\n                    </div>\\n                    <a class=\"view_detail_button\"  href=\"/fresher-job/detail/business-development-executive-fresher-jobs-in-noida-at-aapc-india-private-limited1630134084\">\\n                <div>View details</div>\\n                <i class=\"ic-16-chevron-right\"></i>\\n            </a>\\n                </div>\\n    </div>\\n\\n<div class=\"container-fluid individual_internship visibilityTrackerItem \" id=\"individual_internship_1428910\" internshipId = \"1428910\">\\n    <div class=\"internship_meta\">\\n        <div class=\"individual_internship_header\">\\n            <div class=\"company\">\\n                <div class=\"heading_4_5 profile\">\\n                    <a href=\\'/fresher-job/detail/remote-customer-service-executive-fresher-jobs-at-infybytes-ai-labs-private-limited1630133218\\'>Customer Service Executive</a>                </div>\\n                <div class=\"heading_6 company_name\">\\n                    <a class=\"link_display_like_text\" href=\"/fresher-jobs/fresher-job-at-InfyBytes%20AI%20Labs%20Private%20Limited\">\\n                        InfyBytes AI Labs Private Limited                    </a>\\n                                    </div>\\n            </div>\\n            <div class=\"internship_logo\">\\n                                    <img src=\"/cached_uploads/logo%2F5dfefc15907e71576991765.png\"\\n                         alt=\" Internship at InfyBytes AI Labs Private Limited in \">\\n                                     </div>\\n        </div>\\n        <div class=\"individual_internship_details  individual_internship_job\">\\n            <p id =\"location_names\">\\n                <i class=\"ic-16-home\"></i>\\n                <span>\\n                                            <a  class=\\'location_link\\' href=\\'/fresher-jobs/remote_jobs\\'>Remote</a>\\n                                    </span>\\n            </p>\\n\\n            <div class=\"internship_other_details_container\">\\n                <div class=\"other_detail_item_row\">\\n                    <div class=\"other_detail_item\">\\n                        <div class=\"item_heading\">\\n                            <i class=\"ic-16-play-circle\"></i>\\n                            <span>\\n                                Start date\\n                            </span>\\n                        </div>\\n                        <div class=\"item_body\" id=\"start-date-first\">\\n                            <span class=\"start_immediately_mobile\">Starts&nbsp;</span>Immediately\\n                        </div>\\n                    </div>\\n\\n                    <div class=\"other_detail_item\">\\n                        <div class=\"item_heading\">\\n                            <i class=\"ic-16-money\"></i>\\n                            <span>CTC</span>\\n                        </div>\\n                        <div class=\"item_body\">\\n                            <i class=\"ic-16-currency-inr\"></i>  3 - 4 LPA                                                    </div>\\n                    </div>\\n                </div>\\n\\n                                    <div class=\"other_detail_item_row\">\\n                        <div class=\"other_detail_item\">\\n                            <div class=\"item_heading\">\\n                                <i class=\"ic-16-hourglass\"></i>\\n                                <span>Apply By</span>\\n                            </div>\\n                            <div class=\"item_body\">27 Sep\\' 21</div>\\n                        </div>\\n                    </div>\\n\\n                                </div>\\n                    </div>\\n    </div>\\n    <div class=\"button_container\">\\n        <div class=\"tags_container\">\\n                            <div class=\"label_container label_container_desktop\">\\n                    Fresher Job                </div>\\n                                            <div class=\"label_container label_container_mobile\">\\n                    Fresher Job                </div>\\n                    </div>\\n                    <a class=\"view_detail_button\"  href=\"/fresher-job/detail/remote-customer-service-executive-fresher-jobs-at-infybytes-ai-labs-private-limited1630133218\">\\n                <div>View details</div>\\n                <i class=\"ic-16-chevron-right\"></i>\\n            </a>\\n                </div>\\n    </div>\\n\\n<div class=\"container-fluid individual_internship visibilityTrackerItem \" id=\"individual_internship_1428159\" internshipId = \"1428159\">\\n    <div class=\"internship_meta\">\\n        <div class=\"individual_internship_header\">\\n            <div class=\"company\">\\n                <div class=\"heading_4_5 profile\">\\n                    <a href=\\'/fresher-job/detail/remote-business-development-associate-fresher-jobs-at-xoog-edlearn-private-limited1630074732\\'>Business Development Associate</a>                </div>\\n                <div class=\"heading_6 company_name\">\\n                    <a class=\"link_display_like_text\" href=\"/fresher-jobs/fresher-job-at-XOOG%20EDLEARN%20PRIVATE%20LIMITED\">\\n                        XOOG EDLEARN PRIVATE LIMITED                    </a>\\n                                    </div>\\n            </div>\\n            <div class=\"internship_logo\">\\n                                    <img src=\"/cached_uploads/logo%2F61014b65e86d71627474789.jpg\"\\n                         alt=\" Internship at XOOG EDLEARN PRIVATE LIMITED in \">\\n                                     </div>\\n        </div>\\n        <div class=\"individual_internship_details  individual_internship_job\">\\n            <p id =\"location_names\">\\n                <i class=\"ic-16-home\"></i>\\n                <span>\\n                                            <a  class=\\'location_link\\' href=\\'/fresher-jobs/remote_jobs\\'>Remote</a>\\n                                    </span>\\n            </p>\\n\\n            <div class=\"internship_other_details_container\">\\n                <div class=\"other_detail_item_row\">\\n                    <div class=\"other_detail_item\">\\n                        <div class=\"item_heading\">\\n                            <i class=\"ic-16-play-circle\"></i>\\n                            <span>\\n                                Start date\\n                            </span>\\n                        </div>\\n                        <div class=\"item_body\" id=\"start-date-first\">\\n                            <span class=\"start_immediately_mobile\">Starts&nbsp;</span>Immediately\\n                        </div>\\n                    </div>\\n\\n                    <div class=\"other_detail_item\">\\n                        <div class=\"item_heading\">\\n                            <i class=\"ic-16-money\"></i>\\n                            <span>CTC</span>\\n                        </div>\\n                        <div class=\"item_body\">\\n                            <i class=\"ic-16-currency-inr\"></i>  4.5 - 7 LPA                                                    </div>\\n                    </div>\\n                </div>\\n\\n                                    <div class=\"other_detail_item_row\">\\n                        <div class=\"other_detail_item\">\\n                            <div class=\"item_heading\">\\n                                <i class=\"ic-16-hourglass\"></i>\\n                                <span>Apply By</span>\\n                            </div>\\n                            <div class=\"item_body\">27 Sep\\' 21</div>\\n                        </div>\\n                    </div>\\n\\n                                </div>\\n                    </div>\\n    </div>\\n    <div class=\"button_container\">\\n        <div class=\"tags_container\">\\n                            <div class=\"label_container label_container_desktop\">\\n                    Fresher Job                </div>\\n                                            <div class=\"label_container label_container_mobile\">\\n                    Fresher Job                </div>\\n                    </div>\\n                    <a class=\"view_detail_button\"  href=\"/fresher-job/detail/remote-business-development-associate-fresher-jobs-at-xoog-edlearn-private-limited1630074732\">\\n                <div>View details</div>\\n                <i class=\"ic-16-chevron-right\"></i>\\n            </a>\\n                </div>\\n    </div>\\n\\n<div class=\"container-fluid individual_internship visibilityTrackerItem \" id=\"individual_internship_1422998\" internshipId = \"1422998\">\\n    <div class=\"internship_meta\">\\n        <div class=\"individual_internship_header\">\\n            <div class=\"company\">\\n                <div class=\"heading_4_5 profile\">\\n                    <a href=\\'/fresher-job/detail/remote-trainee-software-engineer-fresher-jobs-at-nuware-systems1629867974\\'>Trainee Software Engineer</a>                </div>\\n                <div class=\"heading_6 company_name\">\\n                    <a class=\"link_display_like_text\" href=\"/fresher-jobs/fresher-job-at-NuWare%20Systems\">\\n                        NuWare Systems                    </a>\\n                                    </div>\\n            </div>\\n            <div class=\"internship_logo\">\\n                                    <img src=\"/cached_uploads/logo%2F60b9dd3a063681622793530.png\"\\n                         alt=\" Internship at NuWare Systems in \">\\n                                     </div>\\n        </div>\\n        <div class=\"individual_internship_details  individual_internship_job\">\\n            <p id =\"location_names\">\\n                <i class=\"ic-16-home\"></i>\\n                <span>\\n                                            <a  class=\\'location_link\\' href=\\'/fresher-jobs/remote_jobs\\'>Remote</a>\\n                                    </span>\\n            </p>\\n\\n            <div class=\"internship_other_details_container\">\\n                <div class=\"other_detail_item_row\">\\n                    <div class=\"other_detail_item\">\\n                        <div class=\"item_heading\">\\n                            <i class=\"ic-16-play-circle\"></i>\\n                            <span>\\n                                Start date\\n                            </span>\\n                        </div>\\n                        <div class=\"item_body\" id=\"start-date-first\">\\n                            <span class=\"start_immediately_mobile\">Starts&nbsp;</span>Immediately\\n                        </div>\\n                    </div>\\n\\n                    <div class=\"other_detail_item\">\\n                        <div class=\"item_heading\">\\n                            <i class=\"ic-16-money\"></i>\\n                            <span>CTC</span>\\n                        </div>\\n                        <div class=\"item_body\">\\n                            <i class=\"ic-16-currency-inr\"></i>  3 - 4 LPA                                                    </div>\\n                    </div>\\n                </div>\\n\\n                                    <div class=\"other_detail_item_row\">\\n                        <div class=\"other_detail_item\">\\n                            <div class=\"item_heading\">\\n                                <i class=\"ic-16-hourglass\"></i>\\n                                <span>Apply By</span>\\n                            </div>\\n                            <div class=\"item_body\">26 Sep\\' 21</div>\\n                        </div>\\n                    </div>\\n\\n                                </div>\\n                    </div>\\n    </div>\\n    <div class=\"button_container\">\\n        <div class=\"tags_container\">\\n                            <div class=\"label_container label_container_desktop\">\\n                    Fresher Job                </div>\\n                                            <div class=\"label_container label_container_mobile\">\\n                    Fresher Job                </div>\\n                    </div>\\n                    <a class=\"view_detail_button\"  href=\"/fresher-job/detail/remote-trainee-software-engineer-fresher-jobs-at-nuware-systems1629867974\">\\n                <div>View details</div>\\n                <i class=\"ic-16-chevron-right\"></i>\\n            </a>\\n                </div>\\n    </div>\\n\\n<div class=\"container-fluid individual_internship visibilityTrackerItem \" id=\"individual_internship_1425233\" internshipId = \"1425233\">\\n    <div class=\"internship_meta\">\\n        <div class=\"individual_internship_header\">\\n            <div class=\"company\">\\n                <div class=\"heading_4_5 profile\">\\n                    <a href=\\'/fresher-job/detail/associate-development-fresher-jobs-in-mumbai-at-pratham-infotech-foundation1630067881\\'>Associate (Development)</a>                </div>\\n                <div class=\"heading_6 company_name\">\\n                    <a class=\"link_display_like_text\" href=\"/fresher-jobs/fresher-job-at-Pratham%20InfoTech%20Foundation\">\\n                        Pratham InfoTech Foundation                    </a>\\n                                    </div>\\n            </div>\\n            <div class=\"internship_logo\">\\n                            </div>\\n        </div>\\n        <div class=\"individual_internship_details  individual_internship_job\">\\n            <p id =\"location_names\">\\n                <i class=\"ic-16-map-pin\"></i>\\n                <span>\\n                    <a  class=\\'location_link\\' href=\\'/fresher-jobs/jobs-in-mumbai\\'>Mumbai</a>                </span>\\n            </p>\\n\\n            <div class=\"internship_other_details_container\">\\n                <div class=\"other_detail_item_row\">\\n                    <div class=\"other_detail_item\">\\n                        <div class=\"item_heading\">\\n                            <i class=\"ic-16-play-circle\"></i>\\n                            <span>\\n                                Start date\\n                            </span>\\n                        </div>\\n                        <div class=\"item_body\" id=\"start-date-first\">\\n                            <span class=\"start_immediately_mobile\">Starts&nbsp;</span>Immediately\\n                        </div>\\n                    </div>\\n\\n                    <div class=\"other_detail_item\">\\n                        <div class=\"item_heading\">\\n                            <i class=\"ic-16-money\"></i>\\n                            <span>CTC</span>\\n                        </div>\\n                        <div class=\"item_body\">\\n                            <i class=\"ic-16-currency-inr\"></i>  3 - 3.5 LPA                                                    </div>\\n                    </div>\\n                </div>\\n\\n                                    <div class=\"other_detail_item_row\">\\n                        <div class=\"other_detail_item\">\\n                            <div class=\"item_heading\">\\n                                <i class=\"ic-16-hourglass\"></i>\\n                                <span>Apply By</span>\\n                            </div>\\n                            <div class=\"item_body\">29 Sep\\' 21</div>\\n                        </div>\\n                    </div>\\n\\n                                </div>\\n                    </div>\\n    </div>\\n    <div class=\"button_container\">\\n        <div class=\"tags_container\">\\n                            <div class=\"label_container label_container_desktop\">\\n                    Fresher Job                </div>\\n                                            <div class=\"label_container label_container_mobile\">\\n                    Fresher Job                </div>\\n                    </div>\\n                    <a class=\"view_detail_button\"  href=\"/fresher-job/detail/associate-development-fresher-jobs-in-mumbai-at-pratham-infotech-foundation1630067881\">\\n                <div>View details</div>\\n                <i class=\"ic-16-chevron-right\"></i>\\n            </a>\\n                </div>\\n    </div>\\n\\n<div class=\"container-fluid individual_internship visibilityTrackerItem \" id=\"individual_internship_1427826\" internshipId = \"1427826\">\\n    <div class=\"internship_meta\">\\n        <div class=\"individual_internship_header\">\\n            <div class=\"company\">\\n                <div class=\"heading_4_5 profile\">\\n                    <a href=\\'/fresher-job/detail/corporate-sales-associate-fresher-jobs-in-mumbai-at-best-roadways-limited1630064401\\'>Corporate Sales Associate</a>                </div>\\n                <div class=\"heading_6 company_name\">\\n                    <a class=\"link_display_like_text\" href=\"/fresher-jobs/fresher-job-at-Best%20Roadways%20Limited\">\\n                        Best Roadways Limited                    </a>\\n                                    </div>\\n            </div>\\n            <div class=\"internship_logo\">\\n                                    <img src=\"/cached_uploads/logo%2F5e2fde08607061580195336.jpg\"\\n                         alt=\" Internship at Best Roadways Limited in Mumbai\">\\n                                     </div>\\n        </div>\\n        <div class=\"individual_internship_details  individual_internship_job\">\\n            <p id =\"location_names\">\\n                <i class=\"ic-16-map-pin\"></i>\\n                <span>\\n                    <a  class=\\'location_link\\' href=\\'/fresher-jobs/jobs-in-mumbai\\'>Mumbai</a>                </span>\\n            </p>\\n\\n            <div class=\"internship_other_details_container\">\\n                <div class=\"other_detail_item_row\">\\n                    <div class=\"other_detail_item\">\\n                        <div class=\"item_heading\">\\n                            <i class=\"ic-16-play-circle\"></i>\\n                            <span>\\n                                Start date\\n                            </span>\\n                        </div>\\n                        <div class=\"item_body\" id=\"start-date-first\">\\n                            <span class=\"start_immediately_mobile\">Starts&nbsp;</span>Immediately\\n                        </div>\\n                    </div>\\n\\n                    <div class=\"other_detail_item\">\\n                        <div class=\"item_heading\">\\n                            <i class=\"ic-16-money\"></i>\\n                            <span>CTC</span>\\n                        </div>\\n                        <div class=\"item_body\">\\n                            <i class=\"ic-16-currency-inr\"></i>  3 LPA                                                    </div>\\n                    </div>\\n                </div>\\n\\n                                    <div class=\"other_detail_item_row\">\\n                        <div class=\"other_detail_item\">\\n                            <div class=\"item_heading\">\\n                                <i class=\"ic-16-hourglass\"></i>\\n                                <span>Apply By</span>\\n                            </div>\\n                            <div class=\"item_body\">26 Sep\\' 21</div>\\n                        </div>\\n                    </div>\\n\\n                                </div>\\n                    </div>\\n    </div>\\n    <div class=\"button_container\">\\n        <div class=\"tags_container\">\\n                            <div class=\"label_container label_container_desktop\">\\n                    Fresher Job                </div>\\n                                            <div class=\"label_container label_container_mobile\">\\n                    Fresher Job                </div>\\n                    </div>\\n                    <a class=\"view_detail_button\"  href=\"/fresher-job/detail/corporate-sales-associate-fresher-jobs-in-mumbai-at-best-roadways-limited1630064401\">\\n                <div>View details</div>\\n                <i class=\"ic-16-chevron-right\"></i>\\n            </a>\\n                </div>\\n    </div>\\n\\n<div class=\"container-fluid individual_internship visibilityTrackerItem \" id=\"individual_internship_1427303\" internshipId = \"1427303\">\\n    <div class=\"internship_meta\">\\n        <div class=\"individual_internship_header\">\\n            <div class=\"company\">\\n                <div class=\"heading_4_5 profile\">\\n                    <a href=\\'/fresher-job/detail/sales-executive-fresher-jobs-in-greater-noida-noida-at-hedge-homes1630053270\\'>Sales Executive</a>                </div>\\n                <div class=\"heading_6 company_name\">\\n                    <a class=\"link_display_like_text\" href=\"/fresher-jobs/fresher-job-at-Hedge%20Homes\">\\n                        Hedge Homes                    </a>\\n                                    </div>\\n            </div>\\n            <div class=\"internship_logo\">\\n                            </div>\\n        </div>\\n        <div class=\"individual_internship_details  individual_internship_job\">\\n            <p id =\"location_names\">\\n                <i class=\"ic-16-map-pin\"></i>\\n                <span>\\n                    <a  class=\\'location_link\\' href=\\'/fresher-jobs/jobs-in-greater noida\\'>Greater Noida</a>, <a  class=\\'location_link\\' href=\\'/fresher-jobs/jobs-in-noida\\'>Noida</a>                </span>\\n            </p>\\n\\n            <div class=\"internship_other_details_container\">\\n                <div class=\"other_detail_item_row\">\\n                    <div class=\"other_detail_item\">\\n                        <div class=\"item_heading\">\\n                            <i class=\"ic-16-play-circle\"></i>\\n                            <span>\\n                                Start date\\n                            </span>\\n                        </div>\\n                        <div class=\"item_body\" id=\"start-date-first\">\\n                            <span class=\"start_immediately_mobile\">Starts&nbsp;</span>Immediately\\n                        </div>\\n                    </div>\\n\\n                    <div class=\"other_detail_item\">\\n                        <div class=\"item_heading\">\\n                            <i class=\"ic-16-money\"></i>\\n                            <span>CTC</span>\\n                        </div>\\n                        <div class=\"item_body\">\\n                            <i class=\"ic-16-currency-inr\"></i>  3 - 3.5 LPA                                                    </div>\\n                    </div>\\n                </div>\\n\\n                                    <div class=\"other_detail_item_row\">\\n                        <div class=\"other_detail_item\">\\n                            <div class=\"item_heading\">\\n                                <i class=\"ic-16-hourglass\"></i>\\n                                <span>Apply By</span>\\n                            </div>\\n                            <div class=\"item_body\">26 Sep\\' 21</div>\\n                        </div>\\n                    </div>\\n\\n                                </div>\\n                    </div>\\n    </div>\\n    <div class=\"button_container\">\\n        <div class=\"tags_container\">\\n                            <div class=\"label_container label_container_desktop\">\\n                    Fresher Job                </div>\\n                                            <div class=\"label_container label_container_mobile\">\\n                    Fresher Job                </div>\\n                    </div>\\n                    <a class=\"view_detail_button\"  href=\"/fresher-job/detail/sales-executive-fresher-jobs-in-greater-noida-noida-at-hedge-homes1630053270\">\\n                <div>View details</div>\\n                <i class=\"ic-16-chevron-right\"></i>\\n            </a>\\n                </div>\\n    </div>\\n\\n<div class=\"container-fluid individual_internship visibilityTrackerItem \" id=\"individual_internship_1426003\" internshipId = \"1426003\">\\n    <div class=\"internship_meta\">\\n        <div class=\"individual_internship_header\">\\n            <div class=\"company\">\\n                <div class=\"heading_4_5 profile\">\\n                    <a href=\\'/fresher-job/detail/remote-organizational-behavior-specialist-fresher-jobs-at-syscloud-technologies-private-limited1629978107\\'>Organizational Behavior Specialist</a>                </div>\\n                <div class=\"heading_6 company_name\">\\n                    <a class=\"link_display_like_text\" href=\"/fresher-jobs/fresher-job-at-SysCloud%20Technologies%20Private%20Limited\">\\n                        SysCloud Technologies Private Limited                    </a>\\n                                    </div>\\n            </div>\\n            <div class=\"internship_logo\">\\n                                    <img src=\"/cached_uploads/logo%2F5df7570ee929b1576490766.png\"\\n                         alt=\" Internship at SysCloud Technologies Private Limited in \">\\n                                     </div>\\n        </div>\\n        <div class=\"individual_internship_details  individual_internship_job\">\\n            <p id =\"location_names\">\\n                <i class=\"ic-16-home\"></i>\\n                <span>\\n                                            <a  class=\\'location_link\\' href=\\'/fresher-jobs/remote_jobs\\'>Remote</a>\\n                                    </span>\\n            </p>\\n\\n            <div class=\"internship_other_details_container\">\\n                <div class=\"other_detail_item_row\">\\n                    <div class=\"other_detail_item\">\\n                        <div class=\"item_heading\">\\n                            <i class=\"ic-16-play-circle\"></i>\\n                            <span>\\n                                Start date\\n                            </span>\\n                        </div>\\n                        <div class=\"item_body\" id=\"start-date-first\">\\n                            <span class=\"start_immediately_mobile\">Starts&nbsp;</span>Immediately\\n                        </div>\\n                    </div>\\n\\n                    <div class=\"other_detail_item\">\\n                        <div class=\"item_heading\">\\n                            <i class=\"ic-16-money\"></i>\\n                            <span>CTC</span>\\n                        </div>\\n                        <div class=\"item_body\">\\n                            <i class=\"ic-16-currency-inr\"></i>  4.5 - 6 LPA                                                    </div>\\n                    </div>\\n                </div>\\n\\n                                    <div class=\"other_detail_item_row\">\\n                        <div class=\"other_detail_item\">\\n                            <div class=\"item_heading\">\\n                                <i class=\"ic-16-hourglass\"></i>\\n                                <span>Apply By</span>\\n                            </div>\\n                            <div class=\"item_body\">26 Sep\\' 21</div>\\n                        </div>\\n                    </div>\\n\\n                                </div>\\n                    </div>\\n    </div>\\n    <div class=\"button_container\">\\n        <div class=\"tags_container\">\\n                            <div class=\"label_container label_container_desktop\">\\n                    Fresher Job                </div>\\n                                            <div class=\"label_container label_container_mobile\">\\n                    Fresher Job                </div>\\n                    </div>\\n                    <a class=\"view_detail_button\"  href=\"/fresher-job/detail/remote-organizational-behavior-specialist-fresher-jobs-at-syscloud-technologies-private-limited1629978107\">\\n                <div>View details</div>\\n                <i class=\"ic-16-chevron-right\"></i>\\n            </a>\\n                </div>\\n    </div>\\n\\n<div class=\"container-fluid individual_internship visibilityTrackerItem \" id=\"individual_internship_1426296\" internshipId = \"1426296\">\\n    <div class=\"internship_meta\">\\n        <div class=\"individual_internship_header\">\\n            <div class=\"company\">\\n                <div class=\"heading_4_5 profile\">\\n                    <a href=\\'/fresher-job/detail/remote-international-online-sales-executive-fresher-jobs-at-intesome1630043050\\'>International Online Sales Executive</a>                </div>\\n                <div class=\"heading_6 company_name\">\\n                    <a class=\"link_display_like_text\" href=\"/fresher-jobs/fresher-job-at-Intesome\">\\n                        Intesome                    </a>\\n                                    </div>\\n            </div>\\n            <div class=\"internship_logo\">\\n                            </div>\\n        </div>\\n        <div class=\"individual_internship_details  individual_internship_job\">\\n            <p id =\"location_names\">\\n                <i class=\"ic-16-home\"></i>\\n                <span>\\n                                            <a  class=\\'location_link\\' href=\\'/fresher-jobs/remote_jobs\\'>Remote</a>\\n                                    </span>\\n            </p>\\n\\n            <div class=\"internship_other_details_container\">\\n                <div class=\"other_detail_item_row\">\\n                    <div class=\"other_detail_item\">\\n                        <div class=\"item_heading\">\\n                            <i class=\"ic-16-play-circle\"></i>\\n                            <span>\\n                                Start date\\n                            </span>\\n                        </div>\\n                        <div class=\"item_body\" id=\"start-date-first\">\\n                            <span class=\"start_immediately_mobile\">Starts&nbsp;</span>Immediately\\n                        </div>\\n                    </div>\\n\\n                    <div class=\"other_detail_item\">\\n                        <div class=\"item_heading\">\\n                            <i class=\"ic-16-money\"></i>\\n                            <span>CTC</span>\\n                        </div>\\n                        <div class=\"item_body\">\\n                            <i class=\"ic-16-currency-inr\"></i>  3 - 4 LPA                                                    </div>\\n                    </div>\\n                </div>\\n\\n                                    <div class=\"other_detail_item_row\">\\n                        <div class=\"other_detail_item\">\\n                            <div class=\"item_heading\">\\n                                <i class=\"ic-16-hourglass\"></i>\\n                                <span>Apply By</span>\\n                            </div>\\n                            <div class=\"item_body\">26 Sep\\' 21</div>\\n                        </div>\\n                    </div>\\n\\n                                </div>\\n                    </div>\\n    </div>\\n    <div class=\"button_container\">\\n        <div class=\"tags_container\">\\n                            <div class=\"label_container label_container_desktop\">\\n                    Fresher Job                </div>\\n                                            <div class=\"label_container label_container_mobile\">\\n                    Fresher Job                </div>\\n                    </div>\\n                    <a class=\"view_detail_button\"  href=\"/fresher-job/detail/remote-international-online-sales-executive-fresher-jobs-at-intesome1630043050\">\\n                <div>View details</div>\\n                <i class=\"ic-16-chevron-right\"></i>\\n            </a>\\n                </div>\\n    </div>\\n\\n<div class=\"container-fluid individual_internship visibilityTrackerItem \" id=\"individual_internship_1426095\" internshipId = \"1426095\">\\n    <div class=\"internship_meta\">\\n        <div class=\"individual_internship_header\">\\n            <div class=\"company\">\\n                <div class=\"heading_4_5 profile\">\\n                    <a href=\\'/fresher-job/detail/remote-digital-marketing-specialist-fresher-jobs-at-ohana-academy1629980764\\'>Digital Marketing Specialist</a>                </div>\\n                <div class=\"heading_6 company_name\">\\n                    <a class=\"link_display_like_text\" href=\"/fresher-jobs/fresher-job-at-Ohana%20Academy\">\\n                        Ohana Academy                    </a>\\n                                    </div>\\n            </div>\\n            <div class=\"internship_logo\">\\n                                    <img src=\"/cached_uploads/logo%2F6113d703b257d1628690179.png\"\\n                         alt=\" Internship at Ohana Academy in \">\\n                                     </div>\\n        </div>\\n        <div class=\"individual_internship_details  individual_internship_job\">\\n            <p id =\"location_names\">\\n                <i class=\"ic-16-home\"></i>\\n                <span>\\n                                            <a  class=\\'location_link\\' href=\\'/fresher-jobs/remote_jobs\\'>Remote</a>\\n                                    </span>\\n            </p>\\n\\n            <div class=\"internship_other_details_container\">\\n                <div class=\"other_detail_item_row\">\\n                    <div class=\"other_detail_item\">\\n                        <div class=\"item_heading\">\\n                            <i class=\"ic-16-play-circle\"></i>\\n                            <span>\\n                                Start date\\n                            </span>\\n                        </div>\\n                        <div class=\"item_body\" id=\"start-date-first\">\\n                            <span class=\"start_immediately_mobile\">Starts&nbsp;</span>Immediately\\n                        </div>\\n                    </div>\\n\\n                    <div class=\"other_detail_item\">\\n                        <div class=\"item_heading\">\\n                            <i class=\"ic-16-money\"></i>\\n                            <span>CTC</span>\\n                        </div>\\n                        <div class=\"item_body\">\\n                            <i class=\"ic-16-currency-inr\"></i>  3 - 5 LPA                                                    </div>\\n                    </div>\\n                </div>\\n\\n                                    <div class=\"other_detail_item_row\">\\n                        <div class=\"other_detail_item\">\\n                            <div class=\"item_heading\">\\n                                <i class=\"ic-16-hourglass\"></i>\\n                                <span>Apply By</span>\\n                            </div>\\n                            <div class=\"item_body\">26 Sep\\' 21</div>\\n                        </div>\\n                    </div>\\n\\n                                </div>\\n                    </div>\\n    </div>\\n    <div class=\"button_container\">\\n        <div class=\"tags_container\">\\n                            <div class=\"label_container label_container_desktop\">\\n                    Fresher Job                </div>\\n                                            <div class=\"label_container label_container_mobile\">\\n                    Fresher Job                </div>\\n                    </div>\\n                    <a class=\"view_detail_button\"  href=\"/fresher-job/detail/remote-digital-marketing-specialist-fresher-jobs-at-ohana-academy1629980764\">\\n                <div>View details</div>\\n                <i class=\"ic-16-chevron-right\"></i>\\n            </a>\\n                </div>\\n    </div>\\n\\n<div class=\"container-fluid individual_internship visibilityTrackerItem \" id=\"individual_internship_1425387\" internshipId = \"1425387\">\\n    <div class=\"internship_meta\">\\n        <div class=\"individual_internship_header\">\\n            <div class=\"company\">\\n                <div class=\"heading_4_5 profile\">\\n                    <a href=\\'/fresher-job/detail/buddy-counselor-study-abroad-fresher-jobs-in-mumbai-bandra-at-uniacco1630041975\\'>Buddy Counselor (Study Abroad)</a>                </div>\\n                <div class=\"heading_6 company_name\">\\n                    <a class=\"link_display_like_text\" href=\"/fresher-jobs/fresher-job-at-UniAcco\">\\n                        UniAcco                    </a>\\n                                    </div>\\n            </div>\\n            <div class=\"internship_logo\">\\n                                    <img src=\"/cached_uploads/logo%2F5ecbbf4f143cb1590411087.jpg\"\\n                         alt=\" Internship at UniAcco in Mumbai, Bandra\">\\n                                     </div>\\n        </div>\\n        <div class=\"individual_internship_details  individual_internship_job\">\\n            <p id =\"location_names\">\\n                <i class=\"ic-16-map-pin\"></i>\\n                <span>\\n                    <a  class=\\'location_link\\' href=\\'/fresher-jobs/jobs-in-mumbai\\'>Mumbai</a>, <a  class=\\'location_link\\' href=\\'/fresher-jobs/jobs-in-bandra\\'>Bandra</a>                </span>\\n            </p>\\n\\n            <div class=\"internship_other_details_container\">\\n                <div class=\"other_detail_item_row\">\\n                    <div class=\"other_detail_item\">\\n                        <div class=\"item_heading\">\\n                            <i class=\"ic-16-play-circle\"></i>\\n                            <span>\\n                                Start date\\n                            </span>\\n                        </div>\\n                        <div class=\"item_body\" id=\"start-date-first\">\\n                            <span class=\"start_immediately_mobile\">Starts&nbsp;</span>Immediately\\n                        </div>\\n                    </div>\\n\\n                    <div class=\"other_detail_item\">\\n                        <div class=\"item_heading\">\\n                            <i class=\"ic-16-money\"></i>\\n                            <span>CTC</span>\\n                        </div>\\n                        <div class=\"item_body\">\\n                            <i class=\"ic-16-currency-inr\"></i>  3 - 5 LPA                                                    </div>\\n                    </div>\\n                </div>\\n\\n                                    <div class=\"other_detail_item_row\">\\n                        <div class=\"other_detail_item\">\\n                            <div class=\"item_heading\">\\n                                <i class=\"ic-16-hourglass\"></i>\\n                                <span>Apply By</span>\\n                            </div>\\n                            <div class=\"item_body\">26 Sep\\' 21</div>\\n                        </div>\\n                    </div>\\n\\n                                </div>\\n                    </div>\\n    </div>\\n    <div class=\"button_container\">\\n        <div class=\"tags_container\">\\n                            <div class=\"label_container label_container_desktop\">\\n                    Fresher Job                </div>\\n                                            <div class=\"label_container label_container_mobile\">\\n                    Fresher Job                </div>\\n                    </div>\\n                    <a class=\"view_detail_button\"  href=\"/fresher-job/detail/buddy-counselor-study-abroad-fresher-jobs-in-mumbai-bandra-at-uniacco1630041975\">\\n                <div>View details</div>\\n                <i class=\"ic-16-chevron-right\"></i>\\n            </a>\\n                </div>\\n    </div>\\n\\n<div class=\"container-fluid individual_internship visibilityTrackerItem \" id=\"individual_internship_1416905\" internshipId = \"1416905\">\\n    <div class=\"internship_meta\">\\n        <div class=\"individual_internship_header\">\\n            <div class=\"company\">\\n                <div class=\"heading_4_5 profile\">\\n                    <a href=\\'/fresher-job/detail/remote-student-success-teacher-fresher-jobs-at-code-a-block-kedtech-llc1629488510\\'>Student Success - Teacher</a>                </div>\\n                <div class=\"heading_6 company_name\">\\n                    <a class=\"link_display_like_text\" href=\"/fresher-jobs/fresher-job-at-Code%20A%20Block%20%28KEDTech%20LLC%29\">\\n                        Code A Block (KEDTech LLC)                    </a>\\n                                    </div>\\n            </div>\\n            <div class=\"internship_logo\">\\n                            </div>\\n        </div>\\n        <div class=\"individual_internship_details  individual_internship_job\">\\n            <p id =\"location_names\">\\n                <i class=\"ic-16-home\"></i>\\n                <span>\\n                                            <a  class=\\'location_link\\' href=\\'/fresher-jobs/remote_jobs\\'>Remote</a>\\n                                    </span>\\n            </p>\\n\\n            <div class=\"internship_other_details_container\">\\n                <div class=\"other_detail_item_row\">\\n                    <div class=\"other_detail_item\">\\n                        <div class=\"item_heading\">\\n                            <i class=\"ic-16-play-circle\"></i>\\n                            <span>\\n                                Start date\\n                            </span>\\n                        </div>\\n                        <div class=\"item_body\" id=\"start-date-first\">\\n                            <span class=\"start_immediately_mobile\">Starts&nbsp;</span>Immediately\\n                        </div>\\n                    </div>\\n\\n                    <div class=\"other_detail_item\">\\n                        <div class=\"item_heading\">\\n                            <i class=\"ic-16-money\"></i>\\n                            <span>CTC</span>\\n                        </div>\\n                        <div class=\"item_body\">\\n                            <i class=\"ic-16-currency-inr\"></i>  4 - 7.2 LPA                                                    </div>\\n                    </div>\\n                </div>\\n\\n                                    <div class=\"other_detail_item_row\">\\n                        <div class=\"other_detail_item\">\\n                            <div class=\"item_heading\">\\n                                <i class=\"ic-16-hourglass\"></i>\\n                                <span>Apply By</span>\\n                            </div>\\n                            <div class=\"item_body\">25 Sep\\' 21</div>\\n                        </div>\\n                    </div>\\n\\n                                </div>\\n                    </div>\\n    </div>\\n    <div class=\"button_container\">\\n        <div class=\"tags_container\">\\n                            <div class=\"label_container label_container_desktop\">\\n                    Fresher Job                </div>\\n                                            <div class=\"label_container label_container_mobile\">\\n                    Fresher Job                </div>\\n                    </div>\\n                    <a class=\"view_detail_button\"  href=\"/fresher-job/detail/remote-student-success-teacher-fresher-jobs-at-code-a-block-kedtech-llc1629488510\">\\n                <div>View details</div>\\n                <i class=\"ic-16-chevron-right\"></i>\\n            </a>\\n                </div>\\n    </div>\\n\\n<div class=\"container-fluid individual_internship visibilityTrackerItem \" id=\"individual_internship_1423119\" internshipId = \"1423119\">\\n    <div class=\"internship_meta\">\\n        <div class=\"individual_internship_header\">\\n            <div class=\"company\">\\n                <div class=\"heading_4_5 profile\">\\n                    <a href=\\'/fresher-job/detail/supply-chain-executive-fresher-jobs-in-mumbai-at-serturner1629870500\\'>Supply Chain Executive</a>                </div>\\n                <div class=\"heading_6 company_name\">\\n                    <a class=\"link_display_like_text\" href=\"/fresher-jobs/fresher-job-at-Serturner\">\\n                        Serturner                    </a>\\n                                    </div>\\n            </div>\\n            <div class=\"internship_logo\">\\n                                    <img src=\"/cached_uploads/logo%2F5e2fde14304041580195348.png\"\\n                         alt=\" Internship at Serturner in Mumbai\">\\n                                     </div>\\n        </div>\\n        <div class=\"individual_internship_details  individual_internship_job\">\\n            <p id =\"location_names\">\\n                <i class=\"ic-16-map-pin\"></i>\\n                <span>\\n                    <a  class=\\'location_link\\' href=\\'/fresher-jobs/jobs-in-mumbai\\'>Mumbai</a>                </span>\\n            </p>\\n\\n            <div class=\"internship_other_details_container\">\\n                <div class=\"other_detail_item_row\">\\n                    <div class=\"other_detail_item\">\\n                        <div class=\"item_heading\">\\n                            <i class=\"ic-16-play-circle\"></i>\\n                            <span>\\n                                Start date\\n                            </span>\\n                        </div>\\n                        <div class=\"item_body\" id=\"start-date-first\">\\n                            <span class=\"start_immediately_mobile\">Starts&nbsp;</span>Immediately\\n                        </div>\\n                    </div>\\n\\n                    <div class=\"other_detail_item\">\\n                        <div class=\"item_heading\">\\n                            <i class=\"ic-16-money\"></i>\\n                            <span>CTC</span>\\n                        </div>\\n                        <div class=\"item_body\">\\n                            <i class=\"ic-16-currency-inr\"></i>  3 LPA                                                    </div>\\n                    </div>\\n                </div>\\n\\n                                    <div class=\"other_detail_item_row\">\\n                        <div class=\"other_detail_item\">\\n                            <div class=\"item_heading\">\\n                                <i class=\"ic-16-hourglass\"></i>\\n                                <span>Apply By</span>\\n                            </div>\\n                            <div class=\"item_body\">25 Sep\\' 21</div>\\n                        </div>\\n                    </div>\\n\\n                                </div>\\n                    </div>\\n    </div>\\n    <div class=\"button_container\">\\n        <div class=\"tags_container\">\\n                            <div class=\"label_container label_container_desktop\">\\n                    Fresher Job                </div>\\n                                            <div class=\"label_container label_container_mobile\">\\n                    Fresher Job                </div>\\n                    </div>\\n                    <a class=\"view_detail_button\"  href=\"/fresher-job/detail/supply-chain-executive-fresher-jobs-in-mumbai-at-serturner1629870500\">\\n                <div>View details</div>\\n                <i class=\"ic-16-chevron-right\"></i>\\n            </a>\\n                </div>\\n    </div>\\n\\n<div class=\"container-fluid individual_internship visibilityTrackerItem \" id=\"individual_internship_1424580\" internshipId = \"1424580\">\\n    <div class=\"internship_meta\">\\n        <div class=\"individual_internship_header\">\\n            <div class=\"company\">\\n                <div class=\"heading_4_5 profile\">\\n                    <a href=\\'/fresher-job/detail/remote-game-developer-fresher-jobs-at-cogent-web-services1629909028\\'>Game Developer</a>                </div>\\n                <div class=\"heading_6 company_name\">\\n                    <a class=\"link_display_like_text\" href=\"/fresher-jobs/fresher-job-at-Cogent%20Web%20Services\">\\n                        Cogent Web Services                    </a>\\n                                    </div>\\n            </div>\\n            <div class=\"internship_logo\">\\n                                    <img src=\"/cached_uploads/logo%2F5e2fdee4e3f7d1580195556.png\"\\n                         alt=\" Internship at Cogent Web Services in \">\\n                                     </div>\\n        </div>\\n        <div class=\"individual_internship_details  individual_internship_job\">\\n            <p id =\"location_names\">\\n                <i class=\"ic-16-home\"></i>\\n                <span>\\n                                            <a  class=\\'location_link\\' href=\\'/fresher-jobs/remote_jobs\\'>Remote</a>\\n                                    </span>\\n            </p>\\n\\n            <div class=\"internship_other_details_container\">\\n                <div class=\"other_detail_item_row\">\\n                    <div class=\"other_detail_item\">\\n                        <div class=\"item_heading\">\\n                            <i class=\"ic-16-play-circle\"></i>\\n                            <span>\\n                                Start date\\n                            </span>\\n                        </div>\\n                        <div class=\"item_body\" id=\"start-date-first\">\\n                            <span class=\"start_immediately_mobile\">Starts&nbsp;</span>Immediately\\n                        </div>\\n                    </div>\\n\\n                    <div class=\"other_detail_item\">\\n                        <div class=\"item_heading\">\\n                            <i class=\"ic-16-money\"></i>\\n                            <span>CTC</span>\\n                        </div>\\n                        <div class=\"item_body\">\\n                            <i class=\"ic-16-currency-inr\"></i>  3 LPA                                                    </div>\\n                    </div>\\n                </div>\\n\\n                                    <div class=\"other_detail_item_row\">\\n                        <div class=\"other_detail_item\">\\n                            <div class=\"item_heading\">\\n                                <i class=\"ic-16-hourglass\"></i>\\n                                <span>Apply By</span>\\n                            </div>\\n                            <div class=\"item_body\">25 Sep\\' 21</div>\\n                        </div>\\n                    </div>\\n\\n                                </div>\\n                    </div>\\n    </div>\\n    <div class=\"button_container\">\\n        <div class=\"tags_container\">\\n                            <div class=\"label_container label_container_desktop\">\\n                    Fresher Job                </div>\\n                                            <div class=\"label_container label_container_mobile\">\\n                    Fresher Job                </div>\\n                    </div>\\n                    <a class=\"view_detail_button\"  href=\"/fresher-job/detail/remote-game-developer-fresher-jobs-at-cogent-web-services1629909028\">\\n                <div>View details</div>\\n                <i class=\"ic-16-chevron-right\"></i>\\n            </a>\\n                </div>\\n    </div>\\n\\n<div class=\"container-fluid individual_internship visibilityTrackerItem \" id=\"individual_internship_1425285\" internshipId = \"1425285\">\\n    <div class=\"internship_meta\">\\n        <div class=\"individual_internship_header\">\\n            <div class=\"company\">\\n                <div class=\"heading_4_5 profile\">\\n                    <a href=\\'/fresher-job/detail/associate-digital-products-fresher-jobs-in-noida-delhi-at-rocsearch1629961096\\'>Associate - Digital Products</a>                </div>\\n                <div class=\"heading_6 company_name\">\\n                    <a class=\"link_display_like_text\" href=\"/fresher-jobs/fresher-job-at-RocSearch\">\\n                        RocSearch                    </a>\\n                                    </div>\\n            </div>\\n            <div class=\"internship_logo\">\\n                                    <img src=\"/cached_uploads/logo%2F6123aa8721c3c1629727367.png\"\\n                         alt=\" Internship at RocSearch in Noida, Delhi\">\\n                                     </div>\\n        </div>\\n        <div class=\"individual_internship_details  individual_internship_job\">\\n            <p id =\"location_names\">\\n                <i class=\"ic-16-map-pin\"></i>\\n                <span>\\n                    <a  class=\\'location_link\\' href=\\'/fresher-jobs/jobs-in-noida\\'>Noida</a>, <a  class=\\'location_link\\' href=\\'/fresher-jobs/jobs-in-delhi\\'>Delhi</a>                </span>\\n            </p>\\n\\n            <div class=\"internship_other_details_container\">\\n                <div class=\"other_detail_item_row\">\\n                    <div class=\"other_detail_item\">\\n                        <div class=\"item_heading\">\\n                            <i class=\"ic-16-play-circle\"></i>\\n                            <span>\\n                                Start date\\n                            </span>\\n                        </div>\\n                        <div class=\"item_body\" id=\"start-date-first\">\\n                            <span class=\"start_immediately_mobile\">Starts&nbsp;</span>Immediately\\n                        </div>\\n                    </div>\\n\\n                    <div class=\"other_detail_item\">\\n                        <div class=\"item_heading\">\\n                            <i class=\"ic-16-money\"></i>\\n                            <span>CTC</span>\\n                        </div>\\n                        <div class=\"item_body\">\\n                            <i class=\"ic-16-currency-inr\"></i>  3.5 - 4 LPA                                                    </div>\\n                    </div>\\n                </div>\\n\\n                                    <div class=\"other_detail_item_row\">\\n                        <div class=\"other_detail_item\">\\n                            <div class=\"item_heading\">\\n                                <i class=\"ic-16-hourglass\"></i>\\n                                <span>Apply By</span>\\n                            </div>\\n                            <div class=\"item_body\">25 Sep\\' 21</div>\\n                        </div>\\n                    </div>\\n\\n                                </div>\\n                            <div class=\"covid_wfh_alert_info \">\\n                    <i class=\"ic-16-home\" style=\"margin-right: 4px;\"></i>\\n                    <span class=\"body-main\">\\n                        The hiring for this job will be online and the company will provide work from home/ deferred joining till current COVID-19 situation improves\\n                    </span>\\n                </div>\\n                        </div>\\n    </div>\\n    <div class=\"button_container\">\\n        <div class=\"tags_container\">\\n                            <div class=\"label_container label_container_desktop\">\\n                    Fresher Job                </div>\\n                                            <div class=\"label_container label_container_mobile\">\\n                    Fresher Job                </div>\\n                    </div>\\n                    <a class=\"view_detail_button\"  href=\"/fresher-job/detail/associate-digital-products-fresher-jobs-in-noida-delhi-at-rocsearch1629961096\">\\n                <div>View details</div>\\n                <i class=\"ic-16-chevron-right\"></i>\\n            </a>\\n                </div>\\n    </div>\\n\\n<div class=\"container-fluid individual_internship visibilityTrackerItem \" id=\"individual_internship_1425144\" internshipId = \"1425144\">\\n    <div class=\"internship_meta\">\\n        <div class=\"individual_internship_header\">\\n            <div class=\"company\">\\n                <div class=\"heading_4_5 profile\">\\n                    <a href=\\'/fresher-job/detail/program-impact-in-charge-science-and-mathematics-fresher-jobs-in-bangalore-at-open-door-education1629958128\\'>Program Impact In-charge (Science And Mathematics)</a>                </div>\\n                <div class=\"heading_6 company_name\">\\n                    <a class=\"link_display_like_text\" href=\"/fresher-jobs/fresher-job-at-Open%20Door%20Education\">\\n                        Open Door Education                    </a>\\n                                    </div>\\n            </div>\\n            <div class=\"internship_logo\">\\n                                    <img src=\"/cached_uploads/logo%2F5e2fdc17bb8f01580194839.png\"\\n                         alt=\" Internship at Open Door Education in Bangalore\">\\n                                     </div>\\n        </div>\\n        <div class=\"individual_internship_details  individual_internship_job\">\\n            <p id =\"location_names\">\\n                <i class=\"ic-16-map-pin\"></i>\\n                <span>\\n                    <a  class=\\'location_link\\' href=\\'/fresher-jobs/jobs-in-bangalore\\'>Bangalore</a>                </span>\\n            </p>\\n\\n            <div class=\"internship_other_details_container\">\\n                <div class=\"other_detail_item_row\">\\n                    <div class=\"other_detail_item\">\\n                        <div class=\"item_heading\">\\n                            <i class=\"ic-16-play-circle\"></i>\\n                            <span>\\n                                Start date\\n                            </span>\\n                        </div>\\n                        <div class=\"item_body\" id=\"start-date-first\">\\n                            <span class=\"start_immediately_mobile\">Starts&nbsp;</span>Immediately\\n                        </div>\\n                    </div>\\n\\n                    <div class=\"other_detail_item\">\\n                        <div class=\"item_heading\">\\n                            <i class=\"ic-16-money\"></i>\\n                            <span>CTC</span>\\n                        </div>\\n                        <div class=\"item_body\">\\n                            <i class=\"ic-16-currency-inr\"></i>  6 - 10 LPA                                                    </div>\\n                    </div>\\n                </div>\\n\\n                                    <div class=\"other_detail_item_row\">\\n                        <div class=\"other_detail_item\">\\n                            <div class=\"item_heading\">\\n                                <i class=\"ic-16-hourglass\"></i>\\n                                <span>Apply By</span>\\n                            </div>\\n                            <div class=\"item_body\">25 Sep\\' 21</div>\\n                        </div>\\n                    </div>\\n\\n                                </div>\\n                            <div class=\"covid_wfh_alert_info \">\\n                    <i class=\"ic-16-home\" style=\"margin-right: 4px;\"></i>\\n                    <span class=\"body-main\">\\n                        The hiring for this job will be online and the company will provide work from home/ deferred joining till current COVID-19 situation improves\\n                    </span>\\n                </div>\\n                        </div>\\n    </div>\\n    <div class=\"button_container\">\\n        <div class=\"tags_container\">\\n                            <div class=\"label_container label_container_desktop\">\\n                    Fresher Job                </div>\\n                                            <div class=\"label_container label_container_mobile\">\\n                    Fresher Job                </div>\\n                    </div>\\n                    <a class=\"view_detail_button\"  href=\"/fresher-job/detail/program-impact-in-charge-science-and-mathematics-fresher-jobs-in-bangalore-at-open-door-education1629958128\">\\n                <div>View details</div>\\n                <i class=\"ic-16-chevron-right\"></i>\\n            </a>\\n                </div>\\n    </div>\\n\\n<div class=\"container-fluid individual_internship visibilityTrackerItem \" id=\"individual_internship_1424082\" internshipId = \"1424082\">\\n    <div class=\"internship_meta\">\\n        <div class=\"individual_internship_header\">\\n            <div class=\"company\">\\n                <div class=\"heading_4_5 profile\">\\n                    <a href=\\'/fresher-job/detail/software-engineer-trainee-fresher-jobs-in-ahmedabad-mumbai-at-markytics1629891252\\'>Software Engineer Trainee</a>                </div>\\n                <div class=\"heading_6 company_name\">\\n                    <a class=\"link_display_like_text\" href=\"/fresher-jobs/fresher-job-at-Markytics\">\\n                        Markytics                    </a>\\n                                    </div>\\n            </div>\\n            <div class=\"internship_logo\">\\n                                    <img src=\"/cached_uploads/logo%2F5de4e24145e0f1575281217.png\"\\n                         alt=\" Internship at Markytics in Ahmedabad, Mumbai\">\\n                                     </div>\\n        </div>\\n        <div class=\"individual_internship_details  individual_internship_job\">\\n            <p id =\"location_names\">\\n                <i class=\"ic-16-map-pin\"></i>\\n                <span>\\n                    <a  class=\\'location_link\\' href=\\'/fresher-jobs/jobs-in-ahmedabad\\'>Ahmedabad</a>, <a  class=\\'location_link\\' href=\\'/fresher-jobs/jobs-in-mumbai\\'>Mumbai</a>                </span>\\n            </p>\\n\\n            <div class=\"internship_other_details_container\">\\n                <div class=\"other_detail_item_row\">\\n                    <div class=\"other_detail_item\">\\n                        <div class=\"item_heading\">\\n                            <i class=\"ic-16-play-circle\"></i>\\n                            <span>\\n                                Start date\\n                            </span>\\n                        </div>\\n                        <div class=\"item_body\" id=\"start-date-first\">\\n                            <span class=\"start_immediately_mobile\">Starts&nbsp;</span>Immediately\\n                        </div>\\n                    </div>\\n\\n                    <div class=\"other_detail_item\">\\n                        <div class=\"item_heading\">\\n                            <i class=\"ic-16-money\"></i>\\n                            <span>CTC</span>\\n                        </div>\\n                        <div class=\"item_body\">\\n                            <i class=\"ic-16-currency-inr\"></i>  3 - 4 LPA                                                    </div>\\n                    </div>\\n                </div>\\n\\n                                    <div class=\"other_detail_item_row\">\\n                        <div class=\"other_detail_item\">\\n                            <div class=\"item_heading\">\\n                                <i class=\"ic-16-hourglass\"></i>\\n                                <span>Apply By</span>\\n                            </div>\\n                            <div class=\"item_body\">25 Sep\\' 21</div>\\n                        </div>\\n                    </div>\\n\\n                                </div>\\n                            <div class=\"covid_wfh_alert_info \">\\n                    <i class=\"ic-16-home\" style=\"margin-right: 4px;\"></i>\\n                    <span class=\"body-main\">\\n                        The hiring for this job will be online and the company will provide work from home/ deferred joining till current COVID-19 situation improves\\n                    </span>\\n                </div>\\n                        </div>\\n    </div>\\n    <div class=\"button_container\">\\n        <div class=\"tags_container\">\\n                            <div class=\"label_container label_container_desktop\">\\n                    Fresher Job                </div>\\n                                            <div class=\"label_container label_container_mobile\">\\n                    Fresher Job                </div>\\n                    </div>\\n                    <a class=\"view_detail_button\"  href=\"/fresher-job/detail/software-engineer-trainee-fresher-jobs-in-ahmedabad-mumbai-at-markytics1629891252\">\\n                <div>View details</div>\\n                <i class=\"ic-16-chevron-right\"></i>\\n            </a>\\n                </div>\\n    </div>\\n\\n<div class=\"container-fluid individual_internship visibilityTrackerItem \" id=\"individual_internship_1423574\" internshipId = \"1423574\">\\n    <div class=\"internship_meta\">\\n        <div class=\"individual_internship_header\">\\n            <div class=\"company\">\\n                <div class=\"heading_4_5 profile\">\\n                    <a href=\\'/fresher-job/detail/sales-executive-fresher-jobs-in-kolkata-mumbai-at-1st-in-class1629878659\\'>Sales Executive</a>                </div>\\n                <div class=\"heading_6 company_name\">\\n                    <a class=\"link_display_like_text\" href=\"/fresher-jobs/fresher-job-at-1st%20In%20Class\">\\n                        1st In Class                    </a>\\n                                    </div>\\n            </div>\\n            <div class=\"internship_logo\">\\n                                    <img src=\"/cached_uploads/logo%2F60f14b4a044f31626426186.jpg\"\\n                         alt=\" Internship at 1st In Class in Kolkata, Mumbai\">\\n                                     </div>\\n        </div>\\n        <div class=\"individual_internship_details  individual_internship_job\">\\n            <p id =\"location_names\">\\n                <i class=\"ic-16-map-pin\"></i>\\n                <span>\\n                    <a  class=\\'location_link\\' href=\\'/fresher-jobs/jobs-in-kolkata\\'>Kolkata</a>, <a  class=\\'location_link\\' href=\\'/fresher-jobs/jobs-in-mumbai\\'>Mumbai</a>                </span>\\n            </p>\\n\\n            <div class=\"internship_other_details_container\">\\n                <div class=\"other_detail_item_row\">\\n                    <div class=\"other_detail_item\">\\n                        <div class=\"item_heading\">\\n                            <i class=\"ic-16-play-circle\"></i>\\n                            <span>\\n                                Start date\\n                            </span>\\n                        </div>\\n                        <div class=\"item_body\" id=\"start-date-first\">\\n                            <span class=\"start_immediately_mobile\">Starts&nbsp;</span>Immediately\\n                        </div>\\n                    </div>\\n\\n                    <div class=\"other_detail_item\">\\n                        <div class=\"item_heading\">\\n                            <i class=\"ic-16-money\"></i>\\n                            <span>CTC</span>\\n                        </div>\\n                        <div class=\"item_body\">\\n                            <i class=\"ic-16-currency-inr\"></i>  3 - 3.2 LPA                                                    </div>\\n                    </div>\\n                </div>\\n\\n                                    <div class=\"other_detail_item_row\">\\n                        <div class=\"other_detail_item\">\\n                            <div class=\"item_heading\">\\n                                <i class=\"ic-16-hourglass\"></i>\\n                                <span>Apply By</span>\\n                            </div>\\n                            <div class=\"item_body\">25 Sep\\' 21</div>\\n                        </div>\\n                    </div>\\n\\n                                </div>\\n                            <div class=\"covid_wfh_alert_info \">\\n                    <i class=\"ic-16-home\" style=\"margin-right: 4px;\"></i>\\n                    <span class=\"body-main\">\\n                        The hiring for this job will be online and the company will provide work from home/ deferred joining till current COVID-19 situation improves\\n                    </span>\\n                </div>\\n                        </div>\\n    </div>\\n    <div class=\"button_container\">\\n        <div class=\"tags_container\">\\n                            <div class=\"label_container label_container_desktop\">\\n                    Fresher Job                </div>\\n                                            <div class=\"label_container label_container_mobile\">\\n                    Fresher Job                </div>\\n                    </div>\\n                    <a class=\"view_detail_button\"  href=\"/fresher-job/detail/sales-executive-fresher-jobs-in-kolkata-mumbai-at-1st-in-class1629878659\">\\n                <div>View details</div>\\n                <i class=\"ic-16-chevron-right\"></i>\\n            </a>\\n                </div>\\n    </div>\\n\\n<div class=\"container-fluid individual_internship visibilityTrackerItem \" id=\"individual_internship_1421293\" internshipId = \"1421293\">\\n    <div class=\"internship_meta\">\\n        <div class=\"individual_internship_header\">\\n            <div class=\"company\">\\n                <div class=\"heading_4_5 profile\">\\n                    <a href=\\'/fresher-job/detail/digital-marketing-executive-fresher-jobs-in-indore-at-tradevinder1629786574\\'>Digital Marketing Executive</a>                </div>\\n                <div class=\"heading_6 company_name\">\\n                    <a class=\"link_display_like_text\" href=\"/fresher-jobs/fresher-job-at-TradeVinder\">\\n                        TradeVinder                    </a>\\n                                    </div>\\n            </div>\\n            <div class=\"internship_logo\">\\n                                    <img src=\"/cached_uploads/logo%2F5f7169a84802d1601268136.jpeg\"\\n                         alt=\" Internship at TradeVinder in Indore\">\\n                                     </div>\\n        </div>\\n        <div class=\"individual_internship_details  individual_internship_job\">\\n            <p id =\"location_names\">\\n                <i class=\"ic-16-map-pin\"></i>\\n                <span>\\n                    <a  class=\\'location_link\\' href=\\'/fresher-jobs/jobs-in-indore\\'>Indore</a>                </span>\\n            </p>\\n\\n            <div class=\"internship_other_details_container\">\\n                <div class=\"other_detail_item_row\">\\n                    <div class=\"other_detail_item\">\\n                        <div class=\"item_heading\">\\n                            <i class=\"ic-16-play-circle\"></i>\\n                            <span>\\n                                Start date\\n                            </span>\\n                        </div>\\n                        <div class=\"item_body\" id=\"start-date-first\">\\n                            <span class=\"start_immediately_mobile\">Starts&nbsp;</span>Immediately\\n                        </div>\\n                    </div>\\n\\n                    <div class=\"other_detail_item\">\\n                        <div class=\"item_heading\">\\n                            <i class=\"ic-16-money\"></i>\\n                            <span>CTC</span>\\n                        </div>\\n                        <div class=\"item_body\">\\n                            <i class=\"ic-16-currency-inr\"></i>  3 - 4 LPA                                                    </div>\\n                    </div>\\n                </div>\\n\\n                                    <div class=\"other_detail_item_row\">\\n                        <div class=\"other_detail_item\">\\n                            <div class=\"item_heading\">\\n                                <i class=\"ic-16-hourglass\"></i>\\n                                <span>Apply By</span>\\n                            </div>\\n                            <div class=\"item_body\">24 Sep\\' 21</div>\\n                        </div>\\n                    </div>\\n\\n                                </div>\\n                    </div>\\n    </div>\\n    <div class=\"button_container\">\\n        <div class=\"tags_container\">\\n                            <div class=\"label_container label_container_desktop\">\\n                    Fresher Job                </div>\\n                                            <div class=\"label_container label_container_mobile\">\\n                    Fresher Job                </div>\\n                    </div>\\n                    <a class=\"view_detail_button\"  href=\"/fresher-job/detail/digital-marketing-executive-fresher-jobs-in-indore-at-tradevinder1629786574\">\\n                <div>View details</div>\\n                <i class=\"ic-16-chevron-right\"></i>\\n            </a>\\n                </div>\\n    </div>\\n\\n<div class=\"container-fluid individual_internship visibilityTrackerItem \" id=\"individual_internship_1422844\" internshipId = \"1422844\">\\n    <div class=\"internship_meta\">\\n        <div class=\"individual_internship_header\">\\n            <div class=\"company\">\\n                <div class=\"heading_4_5 profile\">\\n                    <a href=\\'/fresher-job/detail/corporate-sales-manager-fresher-jobs-in-pune-at-findestination1629856616\\'>Corporate Sales Manager</a>                </div>\\n                <div class=\"heading_6 company_name\">\\n                    <a class=\"link_display_like_text\" href=\"/fresher-jobs/fresher-job-at-FinDestination\">\\n                        FinDestination                    </a>\\n                                    </div>\\n            </div>\\n            <div class=\"internship_logo\">\\n                                    <img src=\"/cached_uploads/logo%2F5e2fdc0ed91ed1580194830.jpg\"\\n                         alt=\" Internship at FinDestination in Pune\">\\n                                     </div>\\n        </div>\\n        <div class=\"individual_internship_details  individual_internship_job\">\\n            <p id =\"location_names\">\\n                <i class=\"ic-16-map-pin\"></i>\\n                <span>\\n                    <a  class=\\'location_link\\' href=\\'/fresher-jobs/jobs-in-pune\\'>Pune</a>                </span>\\n            </p>\\n\\n            <div class=\"internship_other_details_container\">\\n                <div class=\"other_detail_item_row\">\\n                    <div class=\"other_detail_item\">\\n                        <div class=\"item_heading\">\\n                            <i class=\"ic-16-play-circle\"></i>\\n                            <span>\\n                                Start date\\n                            </span>\\n                        </div>\\n                        <div class=\"item_body\" id=\"start-date-first\">\\n                            <span class=\"start_immediately_mobile\">Starts&nbsp;</span>Immediately\\n                        </div>\\n                    </div>\\n\\n                    <div class=\"other_detail_item\">\\n                        <div class=\"item_heading\">\\n                            <i class=\"ic-16-money\"></i>\\n                            <span>CTC</span>\\n                        </div>\\n                        <div class=\"item_body\">\\n                            <i class=\"ic-16-currency-inr\"></i>  3 LPA                                                    </div>\\n                    </div>\\n                </div>\\n\\n                                    <div class=\"other_detail_item_row\">\\n                        <div class=\"other_detail_item\">\\n                            <div class=\"item_heading\">\\n                                <i class=\"ic-16-hourglass\"></i>\\n                                <span>Apply By</span>\\n                            </div>\\n                            <div class=\"item_body\">24 Sep\\' 21</div>\\n                        </div>\\n                    </div>\\n\\n                                </div>\\n                    </div>\\n    </div>\\n    <div class=\"button_container\">\\n        <div class=\"tags_container\">\\n                            <div class=\"label_container label_container_desktop\">\\n                    Fresher Job                </div>\\n                                            <div class=\"label_container label_container_mobile\">\\n                    Fresher Job                </div>\\n                    </div>\\n                    <a class=\"view_detail_button\"  href=\"/fresher-job/detail/corporate-sales-manager-fresher-jobs-in-pune-at-findestination1629856616\">\\n                <div>View details</div>\\n                <i class=\"ic-16-chevron-right\"></i>\\n            </a>\\n                </div>\\n    </div>\\n\\n<div class=\"container-fluid individual_internship visibilityTrackerItem \" id=\"individual_internship_1423317\" internshipId = \"1423317\">\\n    <div class=\"internship_meta\">\\n        <div class=\"individual_internship_header\">\\n            <div class=\"company\">\\n                <div class=\"heading_4_5 profile\">\\n                    <a href=\\'/fresher-job/detail/software-developer-fresher-jobs-in-chandigarh-at-innovantes-it-solutions-llp1629873932\\'>Software Developer</a>                </div>\\n                <div class=\"heading_6 company_name\">\\n                    <a class=\"link_display_like_text\" href=\"/fresher-jobs/fresher-job-at-Innovantes%20IT%20Solutions%20LLP\">\\n                        Innovantes IT Solutions LLP                    </a>\\n                                    </div>\\n            </div>\\n            <div class=\"internship_logo\">\\n                            </div>\\n        </div>\\n        <div class=\"individual_internship_details  individual_internship_job\">\\n            <p id =\"location_names\">\\n                <i class=\"ic-16-map-pin\"></i>\\n                <span>\\n                    <a  class=\\'location_link\\' href=\\'/fresher-jobs/jobs-in-chandigarh\\'>Chandigarh</a>                </span>\\n            </p>\\n\\n            <div class=\"internship_other_details_container\">\\n                <div class=\"other_detail_item_row\">\\n                    <div class=\"other_detail_item\">\\n                        <div class=\"item_heading\">\\n                            <i class=\"ic-16-play-circle\"></i>\\n                            <span>\\n                                Start date\\n                            </span>\\n                        </div>\\n                        <div class=\"item_body\" id=\"start-date-first\">\\n                            <span class=\"start_immediately_mobile\">Starts&nbsp;</span>Immediately\\n                        </div>\\n                    </div>\\n\\n                    <div class=\"other_detail_item\">\\n                        <div class=\"item_heading\">\\n                            <i class=\"ic-16-money\"></i>\\n                            <span>CTC</span>\\n                        </div>\\n                        <div class=\"item_body\">\\n                            <i class=\"ic-16-currency-inr\"></i>  3 - 3.1 LPA                                                    </div>\\n                    </div>\\n                </div>\\n\\n                                    <div class=\"other_detail_item_row\">\\n                        <div class=\"other_detail_item\">\\n                            <div class=\"item_heading\">\\n                                <i class=\"ic-16-hourglass\"></i>\\n                                <span>Apply By</span>\\n                            </div>\\n                            <div class=\"item_body\">24 Sep\\' 21</div>\\n                        </div>\\n                    </div>\\n\\n                                </div>\\n                    </div>\\n    </div>\\n    <div class=\"button_container\">\\n        <div class=\"tags_container\">\\n                            <div class=\"label_container label_container_desktop\">\\n                    Fresher Job                </div>\\n                                            <div class=\"label_container label_container_mobile\">\\n                    Fresher Job                </div>\\n                    </div>\\n                    <a class=\"view_detail_button\"  href=\"/fresher-job/detail/software-developer-fresher-jobs-in-chandigarh-at-innovantes-it-solutions-llp1629873932\">\\n                <div>View details</div>\\n                <i class=\"ic-16-chevron-right\"></i>\\n            </a>\\n                </div>\\n    </div>\\n\\n<div class=\"container-fluid individual_internship visibilityTrackerItem \" id=\"individual_internship_1423380\" internshipId = \"1423380\">\\n    <div class=\"internship_meta\">\\n        <div class=\"individual_internship_header\">\\n            <div class=\"company\">\\n                <div class=\"heading_4_5 profile\">\\n                    <a href=\\'/fresher-job/detail/executive-assistant-to-director-fresher-jobs-in-mumbai-at-best-roadways-limited1629875110\\'>Executive Assistant To Director</a>                </div>\\n                <div class=\"heading_6 company_name\">\\n                    <a class=\"link_display_like_text\" href=\"/fresher-jobs/fresher-job-at-Best%20Roadways%20Limited\">\\n                        Best Roadways Limited                    </a>\\n                                    </div>\\n            </div>\\n            <div class=\"internship_logo\">\\n                                    <img src=\"/cached_uploads/logo%2F5e2fde08607061580195336.jpg\"\\n                         alt=\" Internship at Best Roadways Limited in Mumbai\">\\n                                     </div>\\n        </div>\\n        <div class=\"individual_internship_details  individual_internship_job\">\\n            <p id =\"location_names\">\\n                <i class=\"ic-16-map-pin\"></i>\\n                <span>\\n                    <a  class=\\'location_link\\' href=\\'/fresher-jobs/jobs-in-mumbai\\'>Mumbai</a>                </span>\\n            </p>\\n\\n            <div class=\"internship_other_details_container\">\\n                <div class=\"other_detail_item_row\">\\n                    <div class=\"other_detail_item\">\\n                        <div class=\"item_heading\">\\n                            <i class=\"ic-16-play-circle\"></i>\\n                            <span>\\n                                Start date\\n                            </span>\\n                        </div>\\n                        <div class=\"item_body\" id=\"start-date-first\">\\n                            <span class=\"start_immediately_mobile\">Starts&nbsp;</span>Immediately\\n                        </div>\\n                    </div>\\n\\n                    <div class=\"other_detail_item\">\\n                        <div class=\"item_heading\">\\n                            <i class=\"ic-16-money\"></i>\\n                            <span>CTC</span>\\n                        </div>\\n                        <div class=\"item_body\">\\n                            <i class=\"ic-16-currency-inr\"></i>  3 LPA                                                    </div>\\n                    </div>\\n                </div>\\n\\n                                    <div class=\"other_detail_item_row\">\\n                        <div class=\"other_detail_item\">\\n                            <div class=\"item_heading\">\\n                                <i class=\"ic-16-hourglass\"></i>\\n                                <span>Apply By</span>\\n                            </div>\\n                            <div class=\"item_body\">24 Sep\\' 21</div>\\n                        </div>\\n                    </div>\\n\\n                                </div>\\n                    </div>\\n    </div>\\n    <div class=\"button_container\">\\n        <div class=\"tags_container\">\\n                            <div class=\"label_container label_container_desktop\">\\n                    Fresher Job                </div>\\n                                            <div class=\"label_container label_container_mobile\">\\n                    Fresher Job                </div>\\n                    </div>\\n                    <a class=\"view_detail_button\"  href=\"/fresher-job/detail/executive-assistant-to-director-fresher-jobs-in-mumbai-at-best-roadways-limited1629875110\">\\n                <div>View details</div>\\n                <i class=\"ic-16-chevron-right\"></i>\\n            </a>\\n                </div>\\n    </div>\\n\\n<div class=\"container-fluid individual_internship visibilityTrackerItem \" id=\"individual_internship_1422976\" internshipId = \"1422976\">\\n    <div class=\"internship_meta\">\\n        <div class=\"individual_internship_header\">\\n            <div class=\"company\">\\n                <div class=\"heading_4_5 profile\">\\n                    <a href=\\'/fresher-job/detail/c-embedded-semiconductor-expert-soc-modeling-fresher-jobs-in-noida-bangalore-at-circuitsutra-technologies-private-limited1629868963\\'>C++ Embedded/Semiconductor Expert (SoC Modeling)</a>                </div>\\n                <div class=\"heading_6 company_name\">\\n                    <a class=\"link_display_like_text\" href=\"/fresher-jobs/fresher-job-at-Circuitsutra%20Technologies%20Private%20Limited\">\\n                        Circuitsutra Technologies Private Limited                    </a>\\n                                    </div>\\n            </div>\\n            <div class=\"internship_logo\">\\n                                    <img src=\"/cached_uploads/logo%2F6125c58b926cc1629865355.jpg\"\\n                         alt=\" Internship at Circuitsutra Technologies Private Limited in Noida, Bangalore\">\\n                                     </div>\\n        </div>\\n        <div class=\"individual_internship_details  individual_internship_job\">\\n            <p id =\"location_names\">\\n                <i class=\"ic-16-map-pin\"></i>\\n                <span>\\n                    <a  class=\\'location_link\\' href=\\'/fresher-jobs/jobs-in-noida\\'>Noida</a>, <a  class=\\'location_link\\' href=\\'/fresher-jobs/jobs-in-bangalore\\'>Bangalore</a>                </span>\\n            </p>\\n\\n            <div class=\"internship_other_details_container\">\\n                <div class=\"other_detail_item_row\">\\n                    <div class=\"other_detail_item\">\\n                        <div class=\"item_heading\">\\n                            <i class=\"ic-16-play-circle\"></i>\\n                            <span>\\n                                Start date\\n                            </span>\\n                        </div>\\n                        <div class=\"item_body\" id=\"start-date-first\">\\n                            <span class=\"start_immediately_mobile\">Starts&nbsp;</span>Immediately\\n                        </div>\\n                    </div>\\n\\n                    <div class=\"other_detail_item\">\\n                        <div class=\"item_heading\">\\n                            <i class=\"ic-16-money\"></i>\\n                            <span>CTC</span>\\n                        </div>\\n                        <div class=\"item_body\">\\n                            <i class=\"ic-16-currency-inr\"></i>  6 LPA                                                    </div>\\n                    </div>\\n                </div>\\n\\n                                    <div class=\"other_detail_item_row\">\\n                        <div class=\"other_detail_item\">\\n                            <div class=\"item_heading\">\\n                                <i class=\"ic-16-hourglass\"></i>\\n                                <span>Apply By</span>\\n                            </div>\\n                            <div class=\"item_body\">24 Sep\\' 21</div>\\n                        </div>\\n                    </div>\\n\\n                                </div>\\n                            <div class=\"covid_wfh_alert_info \">\\n                    <i class=\"ic-16-home\" style=\"margin-right: 4px;\"></i>\\n                    <span class=\"body-main\">\\n                        The hiring for this job will be online and the company will provide work from home/ deferred joining till current COVID-19 situation improves\\n                    </span>\\n                </div>\\n                        </div>\\n    </div>\\n    <div class=\"button_container\">\\n        <div class=\"tags_container\">\\n                            <div class=\"label_container label_container_desktop\">\\n                    Fresher Job                </div>\\n                                            <div class=\"label_container label_container_mobile\">\\n                    Fresher Job                </div>\\n                    </div>\\n                    <a class=\"view_detail_button\"  href=\"/fresher-job/detail/c-embedded-semiconductor-expert-soc-modeling-fresher-jobs-in-noida-bangalore-at-circuitsutra-technologies-private-limited1629868963\">\\n                <div>View details</div>\\n                <i class=\"ic-16-chevron-right\"></i>\\n            </a>\\n                </div>\\n    </div>\\n\\n<div class=\"container-fluid individual_internship visibilityTrackerItem \" id=\"individual_internship_1384819\" internshipId = \"1384819\">\\n    <div class=\"internship_meta\">\\n        <div class=\"individual_internship_header\">\\n            <div class=\"company\">\\n                <div class=\"heading_4_5 profile\">\\n                    <a href=\\'/fresher-job/detail/remote-mobile-app-developer-fresher-jobs-at-cogent-web-services1627804565\\'>Mobile App Developer</a>                </div>\\n                <div class=\"heading_6 company_name\">\\n                    <a class=\"link_display_like_text\" href=\"/fresher-jobs/fresher-job-at-Cogent%20Web%20Services\">\\n                        Cogent Web Services                    </a>\\n                                    </div>\\n            </div>\\n            <div class=\"internship_logo\">\\n                                    <img src=\"/cached_uploads/logo%2F5e2fdee4e3f7d1580195556.png\"\\n                         alt=\" Internship at Cogent Web Services in \">\\n                                     </div>\\n        </div>\\n        <div class=\"individual_internship_details  individual_internship_job\">\\n            <p id =\"location_names\">\\n                <i class=\"ic-16-home\"></i>\\n                <span>\\n                                            <a  class=\\'location_link\\' href=\\'/fresher-jobs/remote_jobs\\'>Remote</a>\\n                                    </span>\\n            </p>\\n\\n            <div class=\"internship_other_details_container\">\\n                <div class=\"other_detail_item_row\">\\n                    <div class=\"other_detail_item\">\\n                        <div class=\"item_heading\">\\n                            <i class=\"ic-16-play-circle\"></i>\\n                            <span>\\n                                Start date\\n                            </span>\\n                        </div>\\n                        <div class=\"item_body\" id=\"start-date-first\">\\n                            <span class=\"start_immediately_mobile\">Starts&nbsp;</span>Immediately\\n                        </div>\\n                    </div>\\n\\n                    <div class=\"other_detail_item\">\\n                        <div class=\"item_heading\">\\n                            <i class=\"ic-16-money\"></i>\\n                            <span>CTC</span>\\n                        </div>\\n                        <div class=\"item_body\">\\n                            <i class=\"ic-16-currency-inr\"></i>  3 LPA                                                    </div>\\n                    </div>\\n                </div>\\n\\n                                    <div class=\"other_detail_item_row\">\\n                        <div class=\"other_detail_item\">\\n                            <div class=\"item_heading\">\\n                                <i class=\"ic-16-hourglass\"></i>\\n                                <span>Apply By</span>\\n                            </div>\\n                            <div class=\"item_body\">23 Sep\\' 21</div>\\n                        </div>\\n                    </div>\\n\\n                                </div>\\n                    </div>\\n    </div>\\n    <div class=\"button_container\">\\n        <div class=\"tags_container\">\\n                            <div class=\"label_container label_container_desktop\">\\n                    Fresher Job                </div>\\n                                            <div class=\"label_container label_container_mobile\">\\n                    Fresher Job                </div>\\n                    </div>\\n                    <a class=\"view_detail_button\"  href=\"/fresher-job/detail/remote-mobile-app-developer-fresher-jobs-at-cogent-web-services1627804565\">\\n                <div>View details</div>\\n                <i class=\"ic-16-chevron-right\"></i>\\n            </a>\\n                </div>\\n    </div>\\n\\n<div class=\"container-fluid individual_internship visibilityTrackerItem \" id=\"individual_internship_1422146\" internshipId = \"1422146\">\\n    <div class=\"internship_meta\">\\n        <div class=\"individual_internship_header\">\\n            <div class=\"company\">\\n                <div class=\"heading_4_5 profile\">\\n                    <a href=\\'/fresher-job/detail/software-developer-fresher-jobs-in-mumbai-at-swabhav-techlabs1629806967\\'>Software Developer</a>                </div>\\n                <div class=\"heading_6 company_name\">\\n                    <a class=\"link_display_like_text\" href=\"/fresher-jobs/fresher-job-at-Swabhav%20Techlabs\">\\n                        Swabhav Techlabs                    </a>\\n                                    </div>\\n            </div>\\n            <div class=\"internship_logo\">\\n                                    <img src=\"/cached_uploads/logo%2F5e2fdccc3d5521580195020.png\"\\n                         alt=\" Internship at Swabhav Techlabs in Mumbai\">\\n                                     </div>\\n        </div>\\n        <div class=\"individual_internship_details  individual_internship_job\">\\n            <p id =\"location_names\">\\n                <i class=\"ic-16-map-pin\"></i>\\n                <span>\\n                    <a  class=\\'location_link\\' href=\\'/fresher-jobs/jobs-in-mumbai\\'>Mumbai</a>                </span>\\n            </p>\\n\\n            <div class=\"internship_other_details_container\">\\n                <div class=\"other_detail_item_row\">\\n                    <div class=\"other_detail_item\">\\n                        <div class=\"item_heading\">\\n                            <i class=\"ic-16-play-circle\"></i>\\n                            <span>\\n                                Start date\\n                            </span>\\n                        </div>\\n                        <div class=\"item_body\" id=\"start-date-first\">\\n                            <span class=\"start_immediately_mobile\">Starts&nbsp;</span>Immediately\\n                        </div>\\n                    </div>\\n\\n                    <div class=\"other_detail_item\">\\n                        <div class=\"item_heading\">\\n                            <i class=\"ic-16-money\"></i>\\n                            <span>CTC</span>\\n                        </div>\\n                        <div class=\"item_body\">\\n                            <i class=\"ic-16-currency-inr\"></i>  3 - 3.5 LPA                                                    </div>\\n                    </div>\\n                </div>\\n\\n                                    <div class=\"other_detail_item_row\">\\n                        <div class=\"other_detail_item\">\\n                            <div class=\"item_heading\">\\n                                <i class=\"ic-16-hourglass\"></i>\\n                                <span>Apply By</span>\\n                            </div>\\n                            <div class=\"item_body\">23 Sep\\' 21</div>\\n                        </div>\\n                    </div>\\n\\n                                </div>\\n                            <div class=\"covid_wfh_alert_info \">\\n                    <i class=\"ic-16-home\" style=\"margin-right: 4px;\"></i>\\n                    <span class=\"body-main\">\\n                        The hiring for this job will be online and the company will provide work from home/ deferred joining till current COVID-19 situation improves\\n                    </span>\\n                </div>\\n                        </div>\\n    </div>\\n    <div class=\"button_container\">\\n        <div class=\"tags_container\">\\n                            <div class=\"label_container label_container_desktop\">\\n                    Fresher Job                </div>\\n                                            <div class=\"label_container label_container_mobile\">\\n                    Fresher Job                </div>\\n                    </div>\\n                    <a class=\"view_detail_button\"  href=\"/fresher-job/detail/software-developer-fresher-jobs-in-mumbai-at-swabhav-techlabs1629806967\">\\n                <div>View details</div>\\n                <i class=\"ic-16-chevron-right\"></i>\\n            </a>\\n                </div>\\n    </div>\\n</div>\\n\\n<nav>\\n    <div id=\"pagination\">\\n        <a id=\"navigation-backward\" class=\"prev_page hideUndoOnClick\">\\n            <i id=\"prevPage\"></i>\\n        </a>\\n        <div  class=\"page_number heading_6\">\\n            <span id=\"pageNumber\">1</span>&nbsp;/&nbsp;<span id=\"total_pages\">7</span>\\n            <input type=\"hidden\" name=\"isLastPage\" id=\"isLastPage\" value=\"0\" >\\n\\n        </div>\\n        <a id=\"next\" class=\"next_page hideUndoOnClick\">\\n            <i id=\"navigation-forward\"></i>\\n        </a>\\n    </div>\\n</nav>\\n                    </div>\\n                                            <div id=\"dual_search_container\" class=\"popular_list\">\\n                                                    </div>\\n                                    </div>\\n            </div>\\n            <div id=\"footer_reference\" style=\"\"></div>\\n        </div>\\n    </div>\\n</div>\\n\\n<script nonce=\"Qfm3TlHfjCgZJIi5j3J4Cg==\">\\n    var input_domains = [];\\n    var valid_domains = [];\\n    var pinned_internship_ids = \"\";\\n    var searchedUrl = \"\";\\n\\n        input_domains.push(\"gmai.com\");\\n        valid_domains.push(\"gmail.com\");\\n        input_domains.push(\"gamil.com\");\\n        valid_domains.push(\"gmail.com\");\\n        input_domains.push(\"gmail.con\");\\n        valid_domains.push(\"gmail.com\");\\n        input_domains.push(\"gmil.com\");\\n        valid_domains.push(\"gmail.com\");\\n        input_domains.push(\"gnail.com\");\\n        valid_domains.push(\"gmail.com\");\\n        input_domains.push(\"gmail.cim\");\\n        valid_domains.push(\"gmail.com\");\\n        input_domains.push(\"gmail.co\");\\n        valid_domains.push(\"gmail.com\");\\n        input_domains.push(\"gamail.com\");\\n        valid_domains.push(\"gmail.com\");\\n        input_domains.push(\"gmial.com\");\\n        valid_domains.push(\"gmail.com\");\\n        input_domains.push(\"gmaill.com\");\\n        valid_domains.push(\"gmail.com\");\\n        input_domains.push(\"gmal.com\");\\n        valid_domains.push(\"gmail.com\");\\n        input_domains.push(\"g.mail.com\");\\n        valid_domains.push(\"gmail.com\");\\n        input_domains.push(\"gmaiil.com\");\\n        valid_domains.push(\"gmail.com\");\\n        input_domains.push(\"gmail.coom\");\\n        valid_domains.push(\"gmail.com\");\\n        input_domains.push(\"gmail.xom\");\\n        valid_domains.push(\"gmail.com\");\\n        input_domains.push(\"gmali.com\");\\n        valid_domains.push(\"gmail.com\");\\n        input_domains.push(\"gmaip.com\");\\n        valid_domains.push(\"gmail.com\");\\n        input_domains.push(\"g-mail.com\");\\n        valid_domains.push(\"gmail.com\");\\n        input_domains.push(\"gmail.comm\");\\n        valid_domains.push(\"gmail.com\");\\n        input_domains.push(\"gmaul.com\");\\n        valid_domains.push(\"gmail.com\");\\n        input_domains.push(\"gmqil.com\");\\n        valid_domains.push(\"gmail.com\");\\n        input_domains.push(\"gma.com\");\\n        valid_domains.push(\"gmail.com\");\\n        input_domains.push(\"g.mail\");\\n        valid_domains.push(\"gmail.com\");\\n        input_domains.push(\"googlemail.com\");\\n        valid_domains.push(\"gmail.com\");\\n        input_domains.push(\"gimal.com\");\\n        valid_domains.push(\"gmail.com\");\\n        input_domains.push(\"gmail.vom\");\\n        valid_domains.push(\"gmail.com\");\\n        input_domains.push(\"gimail.com\");\\n        valid_domains.push(\"gmail.com\");\\n        input_domains.push(\"gmaio.com\");\\n        valid_domains.push(\"gmail.com\");\\n        input_domains.push(\"gmaik.com\");\\n        valid_domains.push(\"gmail.com\");\\n        input_domains.push(\"gmaol.com\");\\n        valid_domains.push(\"gmail.com\");\\n        input_domains.push(\"gmailm.com\");\\n        valid_domains.push(\"gmail.com\");\\n        input_domains.push(\"gemail.com\");\\n        valid_domains.push(\"gmail.com\");\\n        input_domains.push(\"gmail.in\");\\n        valid_domains.push(\"gmail.com\");\\n        input_domains.push(\"gmail.coml\");\\n        valid_domains.push(\"gmail.com\");\\n        input_domains.push(\"gail.com\");\\n        valid_domains.push(\"gmail.com\");\\n        input_domains.push(\"gmail.cm\");\\n        valid_domains.push(\"gmail.com\");\\n        input_domains.push(\"gmsil.com\");\\n        valid_domains.push(\"gmail.com\");\\n        input_domains.push(\"gmail.clm\");\\n        valid_domains.push(\"gmail.com\");\\n        input_domains.push(\"gmill.com\");\\n        valid_domains.push(\"gmail.com\");\\n        input_domains.push(\"gami.com\");\\n        valid_domains.push(\"gmail.com\");\\n        input_domains.push(\"gmail.ocm\");\\n        valid_domains.push(\"gmail.com\");\\n        input_domains.push(\"gmain.com\");\\n        valid_domains.push(\"gmail.com\");\\n        input_domains.push(\"gmiail.com\");\\n        valid_domains.push(\"gmail.com\");\\n        input_domains.push(\"gmail.comn\");\\n        valid_domains.push(\"gmail.com\");\\n        input_domains.push(\"gmaail.com\");\\n        valid_domains.push(\"gmail.com\");\\n        input_domains.push(\"gmail.ckm\");\\n        valid_domains.push(\"gmail.com\");\\n        input_domains.push(\"gmail.comcom\");\\n        valid_domains.push(\"gmail.com\");\\n        input_domains.push(\"gamil.co\");\\n        valid_domains.push(\"gmail.com\");\\n        input_domains.push(\"gmail.com.com\");\\n        valid_domains.push(\"gmail.com\");\\n        input_domains.push(\"gmai8l.com\");\\n        valid_domains.push(\"gmail.com\");\\n        input_domains.push(\"gamil.comm\");\\n        valid_domains.push(\"gmail.com\");\\n        input_domains.push(\"gmail.ckn\");\\n        valid_domains.push(\"gmail.com\");\\n        input_domains.push(\"g-mail.come\");\\n        valid_domains.push(\"gmail.com\");\\n        input_domains.push(\"gimeil.com\");\\n        valid_domains.push(\"gmail.com\");\\n        input_domains.push(\"g.mali.com\");\\n        valid_domains.push(\"gmail.com\");\\n        input_domains.push(\"gmail.comb\");\\n        valid_domains.push(\"gmail.com\");\\n        input_domains.push(\"ggmail.com\");\\n        valid_domains.push(\"gmail.com\");\\n        input_domains.push(\"gmail.combus\");\\n        valid_domains.push(\"gmail.com\");\\n        input_domains.push(\"gmail.comch\");\\n        valid_domains.push(\"gmail.com\");\\n        input_domains.push(\"gma2il.com\");\\n        valid_domains.push(\"gmail.com\");\\n        input_domains.push(\"gimel.com\");\\n        valid_domains.push(\"gmail.com\");\\n        input_domains.push(\"gmai.lcom\");\\n        valid_domains.push(\"gmail.com\");\\n        input_domains.push(\"gmail.come\");\\n        valid_domains.push(\"gmail.com\");\\n        input_domains.push(\"gmalil.com\");\\n        valid_domains.push(\"gmail.com\");\\n        input_domains.push(\"gmail.comk\");\\n        valid_domains.push(\"gmail.com\");\\n        input_domains.push(\"gmeil.com\");\\n        valid_domains.push(\"gmail.com\");\\n        input_domains.push(\"gmail.cin\");\\n        valid_domains.push(\"gmail.com\");\\n        input_domains.push(\"gmail.comlll\");\\n        valid_domains.push(\"gmail.com\");\\n        input_domains.push(\"gml.com\");\\n        valid_domains.push(\"gmail.com\");\\n        input_domains.push(\"gmail.comlo\");\\n        valid_domains.push(\"gmail.com\");\\n        input_domains.push(\"ghmail.com\");\\n        valid_domains.push(\"gmail.com\");\\n        input_domains.push(\"gmail.commaniraj\");\\n        valid_domains.push(\"gmail.com\");\\n        input_domains.push(\"gimal.co\");\\n        valid_domains.push(\"gmail.com\");\\n        input_domains.push(\"gamile.com\");\\n        valid_domains.push(\"gmail.com\");\\n        input_domains.push(\"gmaaail.com\");\\n        valid_domains.push(\"gmail.com\");\\n        input_domains.push(\"gmail.comopp\");\\n        valid_domains.push(\"gmail.com\");\\n        input_domains.push(\"gemil.com\");\\n        valid_domains.push(\"gmail.com\");\\n        input_domains.push(\"gmail.comp\");\\n        valid_domains.push(\"gmail.com\");\\n        input_domains.push(\"gmajl.com\");\\n        valid_domains.push(\"gmail.com\");\\n        input_domains.push(\"gmail.compin\");\\n        valid_domains.push(\"gmail.com\");\\n        input_domains.push(\"gmaigmai.com\");\\n        valid_domains.push(\"gmail.com\");\\n        input_domains.push(\"gmail.comrith\");\\n        valid_domains.push(\"gmail.com\");\\n        input_domains.push(\"gmamil.com\");\\n        valid_domains.push(\"gmail.com\");\\n        input_domains.push(\"gmail.comt\");\\n        valid_domains.push(\"gmail.com\");\\n        input_domains.push(\"gmail.comw\");\\n        valid_domains.push(\"gmail.com\");\\n        input_domains.push(\"gmail.cam\");\\n        valid_domains.push(\"gmail.com\");\\n        input_domains.push(\"gmail.comy\");\\n        valid_domains.push(\"gmail.com\");\\n        input_domains.push(\"gmial.come\");\\n        valid_domains.push(\"gmail.com\");\\n        input_domains.push(\"gani.com\");\\n        valid_domains.push(\"gmail.com\");\\n        input_domains.push(\"gmile.com\");\\n        valid_domains.push(\"gmail.com\");\\n        input_domains.push(\"gmail.cpm\");\\n        valid_domains.push(\"gmail.com\");\\n        input_domains.push(\"gmit.com\");\\n        valid_domains.push(\"gmail.com\");\\n        input_domains.push(\"gmail.gom\");\\n        valid_domains.push(\"gmail.com\");\\n        input_domains.push(\"gmmail.com\");\\n        valid_domains.push(\"gmail.com\");\\n        input_domains.push(\"gmail.lcom\");\\n        valid_domains.push(\"gmail.com\");\\n        input_domains.push(\"gmail.clom\");\\n        valid_domains.push(\"gmail.com\");\\n        input_domains.push(\"g.mail.co\");\\n        valid_domains.push(\"gmail.com\");\\n        input_domains.push(\"gmail.om\");\\n        valid_domains.push(\"gmail.com\");\\n        input_domains.push(\"gmail.co.com\");\\n        valid_domains.push(\"gmail.com\");\\n        input_domains.push(\"gmail.v.com\");\\n        valid_domains.push(\"gmail.com\");\\n        input_domains.push(\"gamil.come\");\\n        valid_domains.push(\"gmail.com\");\\n        input_domains.push(\"gmail.coma\");\\n        valid_domains.push(\"gmail.com\");\\n        input_domains.push(\"gmail.coman\");\\n        valid_domains.push(\"gmail.com\");\\n        input_domains.push(\"gmail.comar\");\\n        valid_domains.push(\"gmail.com\");\\n    var utm_medium = \"\";\\n    var utm_campaign = \"\";\\n    var internship_cluster_size = 5;\\n    var internship_type = \"\";\\n    var toShowMatchingPreferences = 0;\\n    var searchUIType = \"new\";\\n    var is_ifw_partner_banner_shown = 0;\\n    var scroll_from_id = 0;\\n    var scroll_page_number = 2;\\n    var scroll_last_page = false;\\n    var employment_type = \"job\";\\n</script>\\n<div id=\"footer\" class=\"generic_footer\" data-custom-attribute=\"footer_custom_value\">\\n    <div class=\\'container-fluid\\'>\\n        <div class=\"max-width-container\">\\n            <div class=\\'footer_container\\'>\\n                <div class=\\'footer-column desktop-footer\\'>\\n                    <div class=\"footer-list\">\\n                        <h5>Internships by places</h5>\\n                        <div class=\\'footer-list-item\\'>\\n                            <a href =\"/internships\">Internship in India</a>\\n                        </div>\\n                        <div class=\\'footer-list-item\\'>\\n                            <a href =\"/internships/internship-in-delhi\">Internship in Delhi</a>\\n                        </div>\\n                        <div class=\\'footer-list-item\\'>\\n                            <a href =\"/internships/internship-in-bangalore\">Internship in Bangalore</a>\\n                        </div>\\n                        <div class=\\'footer-list-item\\'>\\n                            <a href =\"/internships/internship-in-hyderabad\">Internship in Hyderabad</a>\\n                        </div>\\n                        <div class=\\'footer-list-item\\'>\\n                            <a href =\"/internships/internship-in-mumbai\">Internship in Mumbai</a>\\n                        </div>\\n                        <div class=\\'footer-list-item\\'>\\n                            <a href =\"/internships/internship-in-chennai\">Internship in Chennai</a>\\n                        </div>\\n                        <div class=\\'footer-list-item\\'>\\n                            <a href =\"/internships/internship-in-gurgaon\">Internship in Gurgaon</a>\\n                        </div>\\n                        <div class=\\'footer-list-item\\'>\\n                            <a href =\"/internships/internship-in-kolkata\">Internship in Kolkata</a>\\n                        </div>\\n                        <div class=\\'footer-list-item\\'>\\n                            <a href =\"/internships/work-from-home-jobs\">Virtual internship</a>\\n                        </div>\\n                    </div>\\n                </div>\\n                <div class=\\' footer-column desktop-footer\\' id=\\'stream-container\\'>\\n                    <div class=\"footer-list\">\\n                        <h5>Internship by Stream</h5>\\n                        <div class=\\'footer-list-item\\'>\\n                            <a href =\"/internships/computer%20science-internship\">Computer Science Internship</a>\\n                        </div>\\n                        <div class=\\'footer-list-item\\'>\\n                            <a href =\"/internships/electronics-internship\">Electronics Internship</a>\\n                        </div>\\n                        <div class=\\'footer-list-item\\'>\\n                            <a href =\"/internships/mechanical-internship\">Mechanical Internship</a>\\n                        </div>\\n                        <div class=\\'footer-list-item\\'>\\n                            <a href =\"/internships/civil-internship\">Civil Internship</a>\\n                        </div>\\n                        <div class=\\'footer-list-item\\'>\\n                            <a href =\"/internships/marketing-internship\">Marketing Internship</a>\\n                        </div>\\n                        <div class=\\'footer-list-item\\'>\\n                            <a href =\"/internships/chemical-internship\">Chemical Internship</a>\\n                        </div>\\n                        <div class=\\'footer-list-item\\'>\\n                            <a href =\"/internships/finance-internship\">Finance Internship</a>\\n                        </div>\\n                        <div class=\\'footer-list-item\\'>\\n                            <a href =\"/internships/summer%20research%20fellowship-internship\">Summer Research Fellowship</a>\\n                        </div>\\n                        <div class=\\'footer-list-item\\'>\\n                            <a href =\"/internships/campus%20ambassador-internship?utm_medium=footer\">Campus Ambassador Program</a>\\n                        </div>\\n                    </div>\\n                </div>\\n\\n                <div class=\\' footer-column desktop-footer\\'  id=\\'trainings-container\\'>\\n                    <div class=\"footer-list\">\\n                        <h5>\\n                            <div id = \"trainings-footer\">\\n                                <a href=\"https://trainings.internshala.com/?utm_source=is_web_is-footer\" target=\"_blank\" rel=\"noopener\">Online Trainings                                                                        <span class = \"offer\">OFFER</span>\\n                                                                    </a>\\n                            </div>\\n                        </h5>\\n                                                <div class=\\'footer-list-item\\'>\\n                                <a href =\"https://trainings.internshala.com/python-training?utm_source=is_web_is-footer\" target=\"_blank\" rel=\"noopener\">Programming with Python</a>\\n                            </div>\\n                                                <div class=\\'footer-list-item\\'>\\n                                <a href =\"https://trainings.internshala.com/digital-marketing-training?utm_source=is_web_is-footer\" target=\"_blank\" rel=\"noopener\">Digital Marketing</a>\\n                            </div>\\n                                                <div class=\\'footer-list-item\\'>\\n                                <a href =\"https://trainings.internshala.com/web-development-training?utm_source=is_web_is-footer\" target=\"_blank\" rel=\"noopener\">Web Development</a>\\n                            </div>\\n                                                <div class=\\'footer-list-item\\'>\\n                                <a href =\"https://trainings.internshala.com/machine-learning-training?utm_source=is_web_is-footer\" target=\"_blank\" rel=\"noopener\">Machine Learning</a>\\n                            </div>\\n                                                <div class=\\'footer-list-item\\'>\\n                                <a href =\"https://trainings.internshala.com/excel-training?utm_source=is_web_is-footer\" target=\"_blank\" rel=\"noopener\">Advanced Excel</a>\\n                            </div>\\n                                                <div class=\\'footer-list-item\\'>\\n                                <a href =\"https://trainings.internshala.com/hacking-training?utm_source=is_web_is-footer\" target=\"_blank\" rel=\"noopener\">Ethical Hacking</a>\\n                            </div>\\n                                                <div class=\\'footer-list-item\\'>\\n                                <a href =\"https://trainings.internshala.com/autocad-training?utm_source=is_web_is-footer\" target=\"_blank\" rel=\"noopener\">AutoCAD</a>\\n                            </div>\\n                                                <div class=\\'footer-list-item\\'>\\n                                <a href =\"https://trainings.internshala.com/creative-writing-training?utm_source=is_web_is-footer\" target=\"_blank\" rel=\"noopener\">Creative Writing</a>\\n                            </div>\\n                                                <div class=\\'footer-list-item\\'>\\n                                <a href =\"https://trainings.internshala.com/data-science-training?utm_source=is_web_is-footer\" target=\"_blank\" rel=\"noopener\">Data Science</a>\\n                            </div>\\n                                            </div>\\n                </div>\\n\\n                <div class=\\'footer-column\\' id=\\'online-training-container\\'>\\n                    <div class=\"footer-list\">\\n                        <a id=\"online-training-heading-mobile\" href=\"https://trainings.internshala.com/?utm_source=is_web_is-footer\" target=\"_blank\" rel=\"noopener\"> <h5>Online Trainings                                                                <span class = \"offer\">OFFER</span>\\n                                                            </h5>\\n                        </a>\\n\\n                        <div class=\"footer-training-container\">\\n                                                        <div id=\"trainings_internshala_left\">\\n                                        \\n                                        <div class=\\'footer-list-item\\'>\\n                                                <a href =\"https://trainings.internshala.com/python-training?utm_source=is_web_is-footer\" target=\"_blank\" rel=\"noopener\">Programming with Python</a>\\n                                            </div>\\n                                            \\n                                        <div class=\\'footer-list-item\\'>\\n                                                <a href =\"https://trainings.internshala.com/digital-marketing-training?utm_source=is_web_is-footer\" target=\"_blank\" rel=\"noopener\">Digital Marketing</a>\\n                                            </div>\\n                                            \\n                                        <div class=\\'footer-list-item\\'>\\n                                                <a href =\"https://trainings.internshala.com/web-development-training?utm_source=is_web_is-footer\" target=\"_blank\" rel=\"noopener\">Web Development</a>\\n                                            </div>\\n                                                                                        </div>\\n                                            <div id=\"trainings_internshala_center\">\\n                                                \\n                                        <div class=\\'footer-list-item\\'>\\n                                                <a href =\"https://trainings.internshala.com/machine-learning-training?utm_source=is_web_is-footer\" target=\"_blank\" rel=\"noopener\">Machine Learning</a>\\n                                            </div>\\n                                            \\n                                        <div class=\\'footer-list-item\\'>\\n                                                <a href =\"https://trainings.internshala.com/excel-training?utm_source=is_web_is-footer\" target=\"_blank\" rel=\"noopener\">Advanced Excel</a>\\n                                            </div>\\n                                            \\n                                        <div class=\\'footer-list-item\\'>\\n                                                <a href =\"https://trainings.internshala.com/hacking-training?utm_source=is_web_is-footer\" target=\"_blank\" rel=\"noopener\">Ethical Hacking</a>\\n                                            </div>\\n                                                                                        </div>\\n                                            <div id=\"trainings_internshala_right\">\\n                                            \\n                                        <div class=\\'footer-list-item\\'>\\n                                                <a href =\"https://trainings.internshala.com/autocad-training?utm_source=is_web_is-footer\" target=\"_blank\" rel=\"noopener\">AutoCAD</a>\\n                                            </div>\\n                                            \\n                                        <div class=\\'footer-list-item\\'>\\n                                                <a href =\"https://trainings.internshala.com/creative-writing-training?utm_source=is_web_is-footer\" target=\"_blank\" rel=\"noopener\">Creative Writing</a>\\n                                            </div>\\n                                            \\n                                        <div class=\\'footer-list-item\\'>\\n                                                <a href =\"https://trainings.internshala.com/data-science-training?utm_source=is_web_is-footer\" target=\"_blank\" rel=\"noopener\">Data Science</a>\\n                                            </div>\\n                                                                                </div>\\n                        </div>\\n                    </div>\\n\\n                </div>\\n                <div class=\\'footer-column\\' id=\\'about-us-container\\'>\\n                    <div class=\"footer-list\">\\n                        <h5 class=\"d-none d-lg-block\">About Internshala</h5>\\n                        <div class=\"footer-link-conatiner\">\\n                            <div id=\"about_internshala_left\">\\n                                <div class=\\'footer-list-item\\'>\\n                                    <a href =\"/about_us\">About us</a>\\n                                </div>\\n                                <div class=\\'footer-list-item\\'>\\n                                    <a href =\"/careers\">We\\'re hiring</a>\\n                                </div>\\n                                <div class=\\'footer-list-item\\'>\\n                                                                        <a href =\"/registration/employer?utm_source=ISfooter\">Hire interns for your company</a>\\n                                </div>\\n                                <div class=\\'footer-list-item\\'>\\n                                    <a href =\"http://blog.internshala.com/internshala-editorials/team-diary/\" target=\"_blank\">Team Diary</a>\\n                                </div>\\n                                <div class=\\'footer-list-item\\'>\\n                                    <a href =\"https://blog.internshala.com/?utm_source=IS_footer\" target=\"_blank\">Blog</a>\\n                                </div>\\n                                <div class=\\'footer-list-item\\'>\\n                                    <a href =\"/products_services\">Our Services</a>\\n                                </div>\\n                            </div>\\n                            <div id=\"about_internshala_center\">\\n                                <div class=\\'footer-list-item\\'>\\n                                    <a href =\"/terms\">Terms &amp; Conditions</a>\\n                                </div>\\n                                <div class=\\'footer-list-item\\'>\\n                                    <a href =\"/privacy\">Privacy</a>\\n                                </div>\\n                                <div class=\\'footer-list-item\\'>\\n                                    <a href =\"/contact\">Contact us</a>\\n                                </div>\\n                            </div>\\n                            <div id=\"about_internshala_right\"></div>\\n                        </div>\\n                    </div>\\n                </div>\\n            </div>\\n            <div id=\\'footer-bottom\\'>\\n                <a href=\"https://play.google.com/store/apps/details?id=com.internshala.app&referrer=utm_source%3Dplay_footer\" target=\"_blank\">\\n                    <div class=\\'footer-list-item\\' id=\"android_app_container\">\\n                        <i class=\"ic-24-playstore\"></i> <span>Get Android App</span>\\n                    </div>\\n                </a>\\n                <div id=\"social_media_container\">\\n                    <a class=\"social_media_link_footer\" href=\"https://www.instagram.com/internshala/?utm_source=IS_footer\" target=\"_blank\"><i class=\"ic-24-instagram\"></i></a>\\n                    <a class=\"social_media_link_footer\" href=\"https://twitter.com/Internshala?utm_source=IS_footer\" target=\"_blank\"><i class=\"ic-24-twitter\"></i></a>\\n                    <a class=\"social_media_link_footer\" href=\"https://www.youtube.com/c/internshalaofficial?utm_source=IS_footer\" target=\"_blank\"><img class=\"img-icon\" src=\"/static/images/common/yt_icon_mono_dark.png\"></a>\\n                    <a class=\"social_media_link_footer\" href=\"https://www.linkedin.com/company/internshala/?utm_source=is-footer\" target=\"_blank\"><i class=\"ic-24-linkedin\"></i></a>\\n                </div>\\n                <div class=\\'\\' id=\\'copyright\\'>\\n                    &copy; Copyright 2021 Internshala\\n                </div>\\n                <div class=\"clear\">\\n                </div>\\n\\n                            </div>\\n        </div>\\n    </div>\\n</div>\\n<script nonce=\\'Qfm3TlHfjCgZJIi5j3J4Cg==\\'>var big_brand = \\'yes\\';</script>            </div>\\n            <script nonce=\"Qfm3TlHfjCgZJIi5j3J4Cg==\">\\n    /* <![CDATA[ */\\n    var google_conversion_id = 981478532;\\n    var google_custom_params = window.google_tag_params;\\n    var google_remarketing_only = true;\\n    /* ]]> */\\n</script>\\n\\n<script type=\"text/javascript\" src=\"https://www.googleadservices.com/pagead/conversion.js\">\\n</script>\\n\\n<noscript>\\n    <div style=\"display:inline;\">\\n        <img height=\"1\" width=\"1\" style=\"border-style:none;\" alt=\"\" src=\"https://googleads.g.doubleclick.net/pagead/viewthroughconversion/981478532/?value=0&amp;guid=ON&amp;script=0\"/>\\n    </div>\\n</noscript>\\n    </body>\\n\\n    <script nonce=\"Qfm3TlHfjCgZJIi5j3J4Cg==\">\\n        if (new_design_system) {\\n            setTimeout(function () {\\n                var loading_toast = document.getElementById(\"loading_toast\");\\n                if (typeof loading_toast !== \\'undefined\\' && loading_toast) {\\n                    loading_toast.style.display = \"block\";\\n                }\\n            }, 2000);\\n        }\\n    </script>\\n</html>\\n'"
      ]
     },
     "execution_count": 77,
     "metadata": {},
     "output_type": "execute_result"
    }
   ],
   "source": [
    "int_url"
   ]
  },
  {
   "cell_type": "code",
   "execution_count": 84,
   "metadata": {},
   "outputs": [],
   "source": [
    "internship=int_soup.find_all('div',class_=\"heading_4_5 profile\")\n",
    "intern_list=[]\n",
    "for i in internship:\n",
    "    intern_list.append(i.text.replace('\\n',''))"
   ]
  },
  {
   "cell_type": "code",
   "execution_count": 85,
   "metadata": {},
   "outputs": [
    {
     "data": {
      "text/plain": [
       "['OMNI SPORT LEADER ',\n",
       " 'Executive/Senior Executive - Partnerships ',\n",
       " 'Executive - Sales ',\n",
       " 'Junior Operations Executive ',\n",
       " 'Associate Web Developer ',\n",
       " 'Engineering Admissions Writer ',\n",
       " 'Assistant Manager - Product Development & Program Design ',\n",
       " 'Junior Full Stack Developer ',\n",
       " 'Strategy Analyst ',\n",
       " 'Associate Recruiter ',\n",
       " 'Laravel Developer ',\n",
       " 'PHP Developer ',\n",
       " 'Inside Sales Executive ',\n",
       " 'Sales Client Onboarding Executive ',\n",
       " 'B2B Digital Sales Executive ',\n",
       " 'Business Development Executive ',\n",
       " 'Customer Service Executive ',\n",
       " 'Business Development Associate ',\n",
       " 'Trainee Software Engineer ',\n",
       " 'Associate (Development) ',\n",
       " 'Corporate Sales Associate ',\n",
       " 'Sales Executive ',\n",
       " 'Organizational Behavior Specialist ',\n",
       " 'International Online Sales Executive ',\n",
       " 'Digital Marketing Specialist ',\n",
       " 'Buddy Counselor (Study Abroad) ',\n",
       " 'Student Success - Teacher ',\n",
       " 'Supply Chain Executive ',\n",
       " 'Game Developer ',\n",
       " 'Associate - Digital Products ',\n",
       " 'Program Impact In-charge (Science And Mathematics) ',\n",
       " 'Software Engineer Trainee ',\n",
       " 'Sales Executive ',\n",
       " 'Digital Marketing Executive ',\n",
       " 'Corporate Sales Manager ',\n",
       " 'Software Developer ',\n",
       " 'Executive Assistant To Director ',\n",
       " 'C++ Embedded/Semiconductor Expert (SoC Modeling) ',\n",
       " 'Mobile App Developer ',\n",
       " 'Software Developer ']"
      ]
     },
     "execution_count": 85,
     "metadata": {},
     "output_type": "execute_result"
    }
   ],
   "source": [
    "intern_list"
   ]
  },
  {
   "cell_type": "code",
   "execution_count": 88,
   "metadata": {},
   "outputs": [],
   "source": [
    "company_name=int_soup.find_all('div',class_='heading_6 company_name')\n",
    "company_list=[]\n",
    "for i in company_name:\n",
    "    company_list.append(i.text.replace('\\n',''))"
   ]
  },
  {
   "cell_type": "code",
   "execution_count": 89,
   "metadata": {},
   "outputs": [
    {
     "data": {
      "text/plain": [
       "[<div class=\"heading_6 company_name\">\n",
       " <a class=\"link_display_like_text\" href=\"/fresher-jobs/fresher-job-at-Decathlon%20Sport%20India%20Private%20Limited\">\n",
       "                         Decathlon Sport India Private Limited                    </a>\n",
       " </div>,\n",
       " <div class=\"heading_6 company_name\">\n",
       " <a class=\"link_display_like_text\" href=\"/fresher-jobs/fresher-job-at-Freecharge%20Payments%20Technology%20Private%20Limited\">\n",
       "                         Freecharge Payments Technology Private Limited                    </a>\n",
       " </div>,\n",
       " <div class=\"heading_6 company_name\">\n",
       " <a class=\"link_display_like_text\" href=\"/fresher-jobs/fresher-job-at-Freecharge%20Payments%20Technology%20Private%20Limited\">\n",
       "                         Freecharge Payments Technology Private Limited                    </a>\n",
       " </div>,\n",
       " <div class=\"heading_6 company_name\">\n",
       " <a class=\"link_display_like_text\" href=\"/fresher-jobs/fresher-job-at-Freecharge%20Payments%20Technology%20Private%20Limited\">\n",
       "                         Freecharge Payments Technology Private Limited                    </a>\n",
       " </div>,\n",
       " <div class=\"heading_6 company_name\">\n",
       " <a class=\"link_display_like_text\" href=\"/fresher-jobs/fresher-job-at-WebMOBI\">\n",
       "                         WebMOBI                    </a>\n",
       " </div>,\n",
       " <div class=\"heading_6 company_name\">\n",
       " <a class=\"link_display_like_text\" href=\"/fresher-jobs/fresher-job-at-GREedge\">\n",
       "                         GREedge                    </a>\n",
       " </div>,\n",
       " <div class=\"heading_6 company_name\">\n",
       " <a class=\"link_display_like_text\" href=\"/fresher-jobs/fresher-job-at-SUPROS\">\n",
       "                         SUPROS                    </a>\n",
       " </div>,\n",
       " <div class=\"heading_6 company_name\">\n",
       " <a class=\"link_display_like_text\" href=\"/fresher-jobs/fresher-job-at-Techdome%20Solutions%20Private%20Limited\">\n",
       "                         Techdome Solutions Private Limited                    </a>\n",
       " </div>,\n",
       " <div class=\"heading_6 company_name\">\n",
       " <a class=\"link_display_like_text\" href=\"/fresher-jobs/fresher-job-at-RedCarpetUp\">\n",
       "                         RedCarpetUp                    </a>\n",
       " </div>,\n",
       " <div class=\"heading_6 company_name\">\n",
       " <a class=\"link_display_like_text\" href=\"/fresher-jobs/fresher-job-at-Talhive\">\n",
       "                         Talhive                    </a>\n",
       " </div>,\n",
       " <div class=\"heading_6 company_name\">\n",
       " <a class=\"link_display_like_text\" href=\"/fresher-jobs/fresher-job-at-Brainbean%20Technolabs%20Private%20Limited\">\n",
       "                         Brainbean Technolabs Private Limited                    </a>\n",
       " </div>,\n",
       " <div class=\"heading_6 company_name\">\n",
       " <a class=\"link_display_like_text\" href=\"/fresher-jobs/fresher-job-at-Krishworks\">\n",
       "                         Krishworks                    </a>\n",
       " </div>,\n",
       " <div class=\"heading_6 company_name\">\n",
       " <a class=\"link_display_like_text\" href=\"/fresher-jobs/fresher-job-at-Neo91%20%28DSBL%20Private%20Limited%29\">\n",
       "                         Neo91 (DSBL Private Limited)                    </a>\n",
       " </div>,\n",
       " <div class=\"heading_6 company_name\">\n",
       " <a class=\"link_display_like_text\" href=\"/fresher-jobs/fresher-job-at-Intesome\">\n",
       "                         Intesome                    </a>\n",
       " </div>,\n",
       " <div class=\"heading_6 company_name\">\n",
       " <a class=\"link_display_like_text\" href=\"/fresher-jobs/fresher-job-at-Intesome\">\n",
       "                         Intesome                    </a>\n",
       " </div>,\n",
       " <div class=\"heading_6 company_name\">\n",
       " <a class=\"link_display_like_text\" href=\"/fresher-jobs/fresher-job-at-AAPC%20India%20Private%20Limited\">\n",
       "                         AAPC India Private Limited                    </a>\n",
       " </div>,\n",
       " <div class=\"heading_6 company_name\">\n",
       " <a class=\"link_display_like_text\" href=\"/fresher-jobs/fresher-job-at-InfyBytes%20AI%20Labs%20Private%20Limited\">\n",
       "                         InfyBytes AI Labs Private Limited                    </a>\n",
       " </div>,\n",
       " <div class=\"heading_6 company_name\">\n",
       " <a class=\"link_display_like_text\" href=\"/fresher-jobs/fresher-job-at-XOOG%20EDLEARN%20PRIVATE%20LIMITED\">\n",
       "                         XOOG EDLEARN PRIVATE LIMITED                    </a>\n",
       " </div>,\n",
       " <div class=\"heading_6 company_name\">\n",
       " <a class=\"link_display_like_text\" href=\"/fresher-jobs/fresher-job-at-NuWare%20Systems\">\n",
       "                         NuWare Systems                    </a>\n",
       " </div>,\n",
       " <div class=\"heading_6 company_name\">\n",
       " <a class=\"link_display_like_text\" href=\"/fresher-jobs/fresher-job-at-Pratham%20InfoTech%20Foundation\">\n",
       "                         Pratham InfoTech Foundation                    </a>\n",
       " </div>,\n",
       " <div class=\"heading_6 company_name\">\n",
       " <a class=\"link_display_like_text\" href=\"/fresher-jobs/fresher-job-at-Best%20Roadways%20Limited\">\n",
       "                         Best Roadways Limited                    </a>\n",
       " </div>,\n",
       " <div class=\"heading_6 company_name\">\n",
       " <a class=\"link_display_like_text\" href=\"/fresher-jobs/fresher-job-at-Hedge%20Homes\">\n",
       "                         Hedge Homes                    </a>\n",
       " </div>,\n",
       " <div class=\"heading_6 company_name\">\n",
       " <a class=\"link_display_like_text\" href=\"/fresher-jobs/fresher-job-at-SysCloud%20Technologies%20Private%20Limited\">\n",
       "                         SysCloud Technologies Private Limited                    </a>\n",
       " </div>,\n",
       " <div class=\"heading_6 company_name\">\n",
       " <a class=\"link_display_like_text\" href=\"/fresher-jobs/fresher-job-at-Intesome\">\n",
       "                         Intesome                    </a>\n",
       " </div>,\n",
       " <div class=\"heading_6 company_name\">\n",
       " <a class=\"link_display_like_text\" href=\"/fresher-jobs/fresher-job-at-Ohana%20Academy\">\n",
       "                         Ohana Academy                    </a>\n",
       " </div>,\n",
       " <div class=\"heading_6 company_name\">\n",
       " <a class=\"link_display_like_text\" href=\"/fresher-jobs/fresher-job-at-UniAcco\">\n",
       "                         UniAcco                    </a>\n",
       " </div>,\n",
       " <div class=\"heading_6 company_name\">\n",
       " <a class=\"link_display_like_text\" href=\"/fresher-jobs/fresher-job-at-Code%20A%20Block%20%28KEDTech%20LLC%29\">\n",
       "                         Code A Block (KEDTech LLC)                    </a>\n",
       " </div>,\n",
       " <div class=\"heading_6 company_name\">\n",
       " <a class=\"link_display_like_text\" href=\"/fresher-jobs/fresher-job-at-Serturner\">\n",
       "                         Serturner                    </a>\n",
       " </div>,\n",
       " <div class=\"heading_6 company_name\">\n",
       " <a class=\"link_display_like_text\" href=\"/fresher-jobs/fresher-job-at-Cogent%20Web%20Services\">\n",
       "                         Cogent Web Services                    </a>\n",
       " </div>,\n",
       " <div class=\"heading_6 company_name\">\n",
       " <a class=\"link_display_like_text\" href=\"/fresher-jobs/fresher-job-at-RocSearch\">\n",
       "                         RocSearch                    </a>\n",
       " </div>,\n",
       " <div class=\"heading_6 company_name\">\n",
       " <a class=\"link_display_like_text\" href=\"/fresher-jobs/fresher-job-at-Open%20Door%20Education\">\n",
       "                         Open Door Education                    </a>\n",
       " </div>,\n",
       " <div class=\"heading_6 company_name\">\n",
       " <a class=\"link_display_like_text\" href=\"/fresher-jobs/fresher-job-at-Markytics\">\n",
       "                         Markytics                    </a>\n",
       " </div>,\n",
       " <div class=\"heading_6 company_name\">\n",
       " <a class=\"link_display_like_text\" href=\"/fresher-jobs/fresher-job-at-1st%20In%20Class\">\n",
       "                         1st In Class                    </a>\n",
       " </div>,\n",
       " <div class=\"heading_6 company_name\">\n",
       " <a class=\"link_display_like_text\" href=\"/fresher-jobs/fresher-job-at-TradeVinder\">\n",
       "                         TradeVinder                    </a>\n",
       " </div>,\n",
       " <div class=\"heading_6 company_name\">\n",
       " <a class=\"link_display_like_text\" href=\"/fresher-jobs/fresher-job-at-FinDestination\">\n",
       "                         FinDestination                    </a>\n",
       " </div>,\n",
       " <div class=\"heading_6 company_name\">\n",
       " <a class=\"link_display_like_text\" href=\"/fresher-jobs/fresher-job-at-Innovantes%20IT%20Solutions%20LLP\">\n",
       "                         Innovantes IT Solutions LLP                    </a>\n",
       " </div>,\n",
       " <div class=\"heading_6 company_name\">\n",
       " <a class=\"link_display_like_text\" href=\"/fresher-jobs/fresher-job-at-Best%20Roadways%20Limited\">\n",
       "                         Best Roadways Limited                    </a>\n",
       " </div>,\n",
       " <div class=\"heading_6 company_name\">\n",
       " <a class=\"link_display_like_text\" href=\"/fresher-jobs/fresher-job-at-Circuitsutra%20Technologies%20Private%20Limited\">\n",
       "                         Circuitsutra Technologies Private Limited                    </a>\n",
       " </div>,\n",
       " <div class=\"heading_6 company_name\">\n",
       " <a class=\"link_display_like_text\" href=\"/fresher-jobs/fresher-job-at-Cogent%20Web%20Services\">\n",
       "                         Cogent Web Services                    </a>\n",
       " </div>,\n",
       " <div class=\"heading_6 company_name\">\n",
       " <a class=\"link_display_like_text\" href=\"/fresher-jobs/fresher-job-at-Swabhav%20Techlabs\">\n",
       "                         Swabhav Techlabs                    </a>\n",
       " </div>]"
      ]
     },
     "execution_count": 89,
     "metadata": {},
     "output_type": "execute_result"
    }
   ],
   "source": [
    "company_name"
   ]
  },
  {
   "cell_type": "code",
   "execution_count": 167,
   "metadata": {},
   "outputs": [],
   "source": [
    "stipend=int_soup.find_all('div',class_=\"item_body\")\n",
    "stipend_list=[]\n",
    "for i in stipend:\n",
    "    stipend_list.append(i.text.replace('\\n','').replace('Starts\\xa0Immediately','').replace('    ',''))"
   ]
  },
  {
   "cell_type": "code",
   "execution_count": 168,
   "metadata": {},
   "outputs": [
    {
     "data": {
      "text/plain": [
       "['',\n",
       " '  3 - 4 LPA',\n",
       " \"18 Sep' 21\",\n",
       " '',\n",
       " '  3 - 4.2 LPA',\n",
       " \"11 Sep' 21\",\n",
       " '',\n",
       " '  3 - 3.5 LPA',\n",
       " \"11 Sep' 21\",\n",
       " '',\n",
       " '  3 - 4 LPA',\n",
       " \"4 Sep' 21\",\n",
       " '',\n",
       " '  3 LPA',\n",
       " \"29 Sep' 21\",\n",
       " '',\n",
       " '  5.2 LPA',\n",
       " \"29 Sep' 21\",\n",
       " '',\n",
       " '  4.2 - 4.5 LPA',\n",
       " \"29 Sep' 21\",\n",
       " '',\n",
       " '  3 - 6 LPA',\n",
       " \"29 Sep' 21\",\n",
       " '',\n",
       " '  6 LPA',\n",
       " \"29 Sep' 21\",\n",
       " '',\n",
       " '  3 - 5 LPA',\n",
       " \"29 Sep' 21\",\n",
       " '',\n",
       " '  3 LPA',\n",
       " \"29 Sep' 21\",\n",
       " '',\n",
       " '  3 - 6 LPA',\n",
       " \"29 Sep' 21\",\n",
       " '',\n",
       " '  3.5 LPA',\n",
       " \"27 Sep' 21\",\n",
       " '',\n",
       " '  3 - 4 LPA',\n",
       " \"27 Sep' 21\",\n",
       " '',\n",
       " '  3 - 4 LPA',\n",
       " \"27 Sep' 21\",\n",
       " '',\n",
       " '  3 - 4.5 LPA',\n",
       " \"27 Sep' 21\",\n",
       " '',\n",
       " '  3 - 4 LPA',\n",
       " \"27 Sep' 21\",\n",
       " '',\n",
       " '  4.5 - 7 LPA',\n",
       " \"27 Sep' 21\",\n",
       " '',\n",
       " '  3 - 4 LPA',\n",
       " \"26 Sep' 21\",\n",
       " '',\n",
       " '  3 - 3.5 LPA',\n",
       " \"29 Sep' 21\",\n",
       " '',\n",
       " '  3 LPA',\n",
       " \"26 Sep' 21\",\n",
       " '',\n",
       " '  3 - 3.5 LPA',\n",
       " \"26 Sep' 21\",\n",
       " '',\n",
       " '  4.5 - 6 LPA',\n",
       " \"26 Sep' 21\",\n",
       " '',\n",
       " '  3 - 4 LPA',\n",
       " \"26 Sep' 21\",\n",
       " '',\n",
       " '  3 - 5 LPA',\n",
       " \"26 Sep' 21\",\n",
       " '',\n",
       " '  3 - 5 LPA',\n",
       " \"26 Sep' 21\",\n",
       " '',\n",
       " '  4 - 7.2 LPA',\n",
       " \"25 Sep' 21\",\n",
       " '',\n",
       " '  3 LPA',\n",
       " \"25 Sep' 21\",\n",
       " '',\n",
       " '  3 LPA',\n",
       " \"25 Sep' 21\",\n",
       " '',\n",
       " '  3.5 - 4 LPA',\n",
       " \"25 Sep' 21\",\n",
       " '',\n",
       " '  6 - 10 LPA',\n",
       " \"25 Sep' 21\",\n",
       " '',\n",
       " '  3 - 4 LPA',\n",
       " \"25 Sep' 21\",\n",
       " '',\n",
       " '  3 - 3.2 LPA',\n",
       " \"25 Sep' 21\",\n",
       " '',\n",
       " '  3 - 4 LPA',\n",
       " \"24 Sep' 21\",\n",
       " '',\n",
       " '  3 LPA',\n",
       " \"24 Sep' 21\",\n",
       " '',\n",
       " '  3 - 3.1 LPA',\n",
       " \"24 Sep' 21\",\n",
       " '',\n",
       " '  3 LPA',\n",
       " \"24 Sep' 21\",\n",
       " '',\n",
       " '  6 LPA',\n",
       " \"24 Sep' 21\",\n",
       " '',\n",
       " '  3 LPA',\n",
       " \"23 Sep' 21\",\n",
       " '',\n",
       " '  3 - 3.5 LPA',\n",
       " \"23 Sep' 21\"]"
      ]
     },
     "execution_count": 168,
     "metadata": {},
     "output_type": "execute_result"
    }
   ],
   "source": [
    "stipend_list"
   ]
  },
  {
   "cell_type": "code",
   "execution_count": 169,
   "metadata": {},
   "outputs": [],
   "source": [
    "stipend_list1=stipend_list[1::3]"
   ]
  },
  {
   "cell_type": "code",
   "execution_count": 171,
   "metadata": {},
   "outputs": [
    {
     "data": {
      "text/plain": [
       "['  3 - 4 LPA',\n",
       " '  3 - 4.2 LPA',\n",
       " '  3 - 3.5 LPA',\n",
       " '  3 - 4 LPA',\n",
       " '  3 LPA',\n",
       " '  5.2 LPA',\n",
       " '  4.2 - 4.5 LPA',\n",
       " '  3 - 6 LPA',\n",
       " '  6 LPA',\n",
       " '  3 - 5 LPA',\n",
       " '  3 LPA',\n",
       " '  3 - 6 LPA',\n",
       " '  3.5 LPA',\n",
       " '  3 - 4 LPA',\n",
       " '  3 - 4 LPA',\n",
       " '  3 - 4.5 LPA',\n",
       " '  3 - 4 LPA',\n",
       " '  4.5 - 7 LPA',\n",
       " '  3 - 4 LPA',\n",
       " '  3 - 3.5 LPA',\n",
       " '  3 LPA',\n",
       " '  3 - 3.5 LPA',\n",
       " '  4.5 - 6 LPA',\n",
       " '  3 - 4 LPA',\n",
       " '  3 - 5 LPA',\n",
       " '  3 - 5 LPA',\n",
       " '  4 - 7.2 LPA',\n",
       " '  3 LPA',\n",
       " '  3 LPA',\n",
       " '  3.5 - 4 LPA',\n",
       " '  6 - 10 LPA',\n",
       " '  3 - 4 LPA',\n",
       " '  3 - 3.2 LPA',\n",
       " '  3 - 4 LPA',\n",
       " '  3 LPA',\n",
       " '  3 - 3.1 LPA',\n",
       " '  3 LPA',\n",
       " '  6 LPA',\n",
       " '  3 LPA',\n",
       " '  3 - 3.5 LPA']"
      ]
     },
     "execution_count": 171,
     "metadata": {},
     "output_type": "execute_result"
    }
   ],
   "source": [
    "stipend_list1"
   ]
  },
  {
   "cell_type": "code",
   "execution_count": 120,
   "metadata": {},
   "outputs": [
    {
     "data": {
      "text/plain": [
       "40"
      ]
     },
     "execution_count": 120,
     "metadata": {},
     "output_type": "execute_result"
    }
   ],
   "source": [
    "len(stipend_list1)"
   ]
  },
  {
   "cell_type": "code",
   "execution_count": 90,
   "metadata": {},
   "outputs": [],
   "source": [
    "company_list_1=[''.join(x.split('    ')) for x in company_list if x]"
   ]
  },
  {
   "cell_type": "code",
   "execution_count": 91,
   "metadata": {},
   "outputs": [
    {
     "data": {
      "text/plain": [
       "['Decathlon Sport India Private Limited',\n",
       " 'Freecharge Payments Technology Private Limited',\n",
       " 'Freecharge Payments Technology Private Limited',\n",
       " 'Freecharge Payments Technology Private Limited',\n",
       " 'WebMOBI',\n",
       " 'GREedge',\n",
       " 'SUPROS',\n",
       " 'Techdome Solutions Private Limited',\n",
       " 'RedCarpetUp',\n",
       " 'Talhive',\n",
       " 'Brainbean Technolabs Private Limited',\n",
       " 'Krishworks',\n",
       " 'Neo91 (DSBL Private Limited)',\n",
       " 'Intesome',\n",
       " 'Intesome',\n",
       " 'AAPC India Private Limited',\n",
       " 'InfyBytes AI Labs Private Limited',\n",
       " 'XOOG EDLEARN PRIVATE LIMITED',\n",
       " 'NuWare Systems',\n",
       " 'Pratham InfoTech Foundation',\n",
       " 'Best Roadways Limited',\n",
       " 'Hedge Homes',\n",
       " 'SysCloud Technologies Private Limited',\n",
       " 'Intesome',\n",
       " 'Ohana Academy',\n",
       " 'UniAcco',\n",
       " 'Code A Block (KEDTech LLC)',\n",
       " 'Serturner',\n",
       " 'Cogent Web Services',\n",
       " 'RocSearch',\n",
       " 'Open Door Education',\n",
       " 'Markytics',\n",
       " '1st In Class',\n",
       " 'TradeVinder',\n",
       " 'FinDestination',\n",
       " 'Innovantes IT Solutions LLP',\n",
       " 'Best Roadways Limited',\n",
       " 'Circuitsutra Technologies Private Limited',\n",
       " 'Cogent Web Services',\n",
       " 'Swabhav Techlabs']"
      ]
     },
     "execution_count": 91,
     "metadata": {},
     "output_type": "execute_result"
    }
   ],
   "source": [
    "company_list_1"
   ]
  },
  {
   "cell_type": "code",
   "execution_count": 140,
   "metadata": {},
   "outputs": [],
   "source": [
    "apply_list1=stipend_list[2::3]"
   ]
  },
  {
   "cell_type": "code",
   "execution_count": 141,
   "metadata": {},
   "outputs": [
    {
     "data": {
      "text/plain": [
       "[\"18 Sep' 21\",\n",
       " \"11 Sep' 21\",\n",
       " \"11 Sep' 21\",\n",
       " \"4 Sep' 21\",\n",
       " \"29 Sep' 21\",\n",
       " \"29 Sep' 21\",\n",
       " \"29 Sep' 21\",\n",
       " \"29 Sep' 21\",\n",
       " \"29 Sep' 21\",\n",
       " \"29 Sep' 21\",\n",
       " \"29 Sep' 21\",\n",
       " \"29 Sep' 21\",\n",
       " \"27 Sep' 21\",\n",
       " \"27 Sep' 21\",\n",
       " \"27 Sep' 21\",\n",
       " \"27 Sep' 21\",\n",
       " \"27 Sep' 21\",\n",
       " \"27 Sep' 21\",\n",
       " \"26 Sep' 21\",\n",
       " \"29 Sep' 21\",\n",
       " \"26 Sep' 21\",\n",
       " \"26 Sep' 21\",\n",
       " \"26 Sep' 21\",\n",
       " \"26 Sep' 21\",\n",
       " \"26 Sep' 21\",\n",
       " \"26 Sep' 21\",\n",
       " \"25 Sep' 21\",\n",
       " \"25 Sep' 21\",\n",
       " \"25 Sep' 21\",\n",
       " \"25 Sep' 21\",\n",
       " \"25 Sep' 21\",\n",
       " \"25 Sep' 21\",\n",
       " \"25 Sep' 21\",\n",
       " \"24 Sep' 21\",\n",
       " \"24 Sep' 21\",\n",
       " \"24 Sep' 21\",\n",
       " \"24 Sep' 21\",\n",
       " \"24 Sep' 21\",\n",
       " \"23 Sep' 21\",\n",
       " \"23 Sep' 21\"]"
      ]
     },
     "execution_count": 141,
     "metadata": {},
     "output_type": "execute_result"
    }
   ],
   "source": [
    "apply_list1"
   ]
  },
  {
   "cell_type": "code",
   "execution_count": 142,
   "metadata": {},
   "outputs": [
    {
     "data": {
      "text/plain": [
       "40"
      ]
     },
     "execution_count": 142,
     "metadata": {},
     "output_type": "execute_result"
    }
   ],
   "source": [
    "len(apply_list1)"
   ]
  },
  {
   "cell_type": "code",
   "execution_count": 162,
   "metadata": {},
   "outputs": [],
   "source": [
    "fresher=pd.DataFrame(zip(intern_list,company_list_1,stipend_list1,apply_list1),columns=[\"Job\",\"Company name\",\"Stipend\",\"Apply date\"])"
   ]
  },
  {
   "cell_type": "code",
   "execution_count": 163,
   "metadata": {},
   "outputs": [
    {
     "data": {
      "text/html": [
       "<div>\n",
       "<style scoped>\n",
       "    .dataframe tbody tr th:only-of-type {\n",
       "        vertical-align: middle;\n",
       "    }\n",
       "\n",
       "    .dataframe tbody tr th {\n",
       "        vertical-align: top;\n",
       "    }\n",
       "\n",
       "    .dataframe thead th {\n",
       "        text-align: right;\n",
       "    }\n",
       "</style>\n",
       "<table border=\"1\" class=\"dataframe\">\n",
       "  <thead>\n",
       "    <tr style=\"text-align: right;\">\n",
       "      <th></th>\n",
       "      <th>Job</th>\n",
       "      <th>Company name</th>\n",
       "      <th>Stipend</th>\n",
       "      <th>Apply date</th>\n",
       "    </tr>\n",
       "  </thead>\n",
       "  <tbody>\n",
       "    <tr>\n",
       "      <th>0</th>\n",
       "      <td>OMNI SPORT LEADER</td>\n",
       "      <td>Decathlon Sport India Private Limited</td>\n",
       "      <td>3 - 4 LPA</td>\n",
       "      <td>18 Sep' 21</td>\n",
       "    </tr>\n",
       "    <tr>\n",
       "      <th>1</th>\n",
       "      <td>Executive/Senior Executive - Partnerships</td>\n",
       "      <td>Freecharge Payments Technology Private Limited</td>\n",
       "      <td>3 - 4.2 LPA</td>\n",
       "      <td>11 Sep' 21</td>\n",
       "    </tr>\n",
       "    <tr>\n",
       "      <th>2</th>\n",
       "      <td>Executive - Sales</td>\n",
       "      <td>Freecharge Payments Technology Private Limited</td>\n",
       "      <td>3 - 3.5 LPA</td>\n",
       "      <td>11 Sep' 21</td>\n",
       "    </tr>\n",
       "    <tr>\n",
       "      <th>3</th>\n",
       "      <td>Junior Operations Executive</td>\n",
       "      <td>Freecharge Payments Technology Private Limited</td>\n",
       "      <td>3 - 4 LPA</td>\n",
       "      <td>4 Sep' 21</td>\n",
       "    </tr>\n",
       "    <tr>\n",
       "      <th>4</th>\n",
       "      <td>Associate Web Developer</td>\n",
       "      <td>WebMOBI</td>\n",
       "      <td>3 LPA</td>\n",
       "      <td>29 Sep' 21</td>\n",
       "    </tr>\n",
       "    <tr>\n",
       "      <th>5</th>\n",
       "      <td>Engineering Admissions Writer</td>\n",
       "      <td>GREedge</td>\n",
       "      <td>5.2 LPA</td>\n",
       "      <td>29 Sep' 21</td>\n",
       "    </tr>\n",
       "    <tr>\n",
       "      <th>6</th>\n",
       "      <td>Assistant Manager - Product Development &amp; Prog...</td>\n",
       "      <td>SUPROS</td>\n",
       "      <td>4.2 - 4.5 LPA</td>\n",
       "      <td>29 Sep' 21</td>\n",
       "    </tr>\n",
       "    <tr>\n",
       "      <th>7</th>\n",
       "      <td>Junior Full Stack Developer</td>\n",
       "      <td>Techdome Solutions Private Limited</td>\n",
       "      <td>3 - 6 LPA</td>\n",
       "      <td>29 Sep' 21</td>\n",
       "    </tr>\n",
       "    <tr>\n",
       "      <th>8</th>\n",
       "      <td>Strategy Analyst</td>\n",
       "      <td>RedCarpetUp</td>\n",
       "      <td>6 LPA</td>\n",
       "      <td>29 Sep' 21</td>\n",
       "    </tr>\n",
       "    <tr>\n",
       "      <th>9</th>\n",
       "      <td>Associate Recruiter</td>\n",
       "      <td>Talhive</td>\n",
       "      <td>3 - 5 LPA</td>\n",
       "      <td>29 Sep' 21</td>\n",
       "    </tr>\n",
       "    <tr>\n",
       "      <th>10</th>\n",
       "      <td>Laravel Developer</td>\n",
       "      <td>Brainbean Technolabs Private Limited</td>\n",
       "      <td>3 LPA</td>\n",
       "      <td>29 Sep' 21</td>\n",
       "    </tr>\n",
       "    <tr>\n",
       "      <th>11</th>\n",
       "      <td>PHP Developer</td>\n",
       "      <td>Krishworks</td>\n",
       "      <td>3 - 6 LPA</td>\n",
       "      <td>29 Sep' 21</td>\n",
       "    </tr>\n",
       "    <tr>\n",
       "      <th>12</th>\n",
       "      <td>Inside Sales Executive</td>\n",
       "      <td>Neo91 (DSBL Private Limited)</td>\n",
       "      <td>3.5 LPA</td>\n",
       "      <td>27 Sep' 21</td>\n",
       "    </tr>\n",
       "    <tr>\n",
       "      <th>13</th>\n",
       "      <td>Sales Client Onboarding Executive</td>\n",
       "      <td>Intesome</td>\n",
       "      <td>3 - 4 LPA</td>\n",
       "      <td>27 Sep' 21</td>\n",
       "    </tr>\n",
       "    <tr>\n",
       "      <th>14</th>\n",
       "      <td>B2B Digital Sales Executive</td>\n",
       "      <td>Intesome</td>\n",
       "      <td>3 - 4 LPA</td>\n",
       "      <td>27 Sep' 21</td>\n",
       "    </tr>\n",
       "    <tr>\n",
       "      <th>15</th>\n",
       "      <td>Business Development Executive</td>\n",
       "      <td>AAPC India Private Limited</td>\n",
       "      <td>3 - 4.5 LPA</td>\n",
       "      <td>27 Sep' 21</td>\n",
       "    </tr>\n",
       "    <tr>\n",
       "      <th>16</th>\n",
       "      <td>Customer Service Executive</td>\n",
       "      <td>InfyBytes AI Labs Private Limited</td>\n",
       "      <td>3 - 4 LPA</td>\n",
       "      <td>27 Sep' 21</td>\n",
       "    </tr>\n",
       "    <tr>\n",
       "      <th>17</th>\n",
       "      <td>Business Development Associate</td>\n",
       "      <td>XOOG EDLEARN PRIVATE LIMITED</td>\n",
       "      <td>4.5 - 7 LPA</td>\n",
       "      <td>27 Sep' 21</td>\n",
       "    </tr>\n",
       "    <tr>\n",
       "      <th>18</th>\n",
       "      <td>Trainee Software Engineer</td>\n",
       "      <td>NuWare Systems</td>\n",
       "      <td>3 - 4 LPA</td>\n",
       "      <td>26 Sep' 21</td>\n",
       "    </tr>\n",
       "    <tr>\n",
       "      <th>19</th>\n",
       "      <td>Associate (Development)</td>\n",
       "      <td>Pratham InfoTech Foundation</td>\n",
       "      <td>3 - 3.5 LPA</td>\n",
       "      <td>29 Sep' 21</td>\n",
       "    </tr>\n",
       "    <tr>\n",
       "      <th>20</th>\n",
       "      <td>Corporate Sales Associate</td>\n",
       "      <td>Best Roadways Limited</td>\n",
       "      <td>3 LPA</td>\n",
       "      <td>26 Sep' 21</td>\n",
       "    </tr>\n",
       "    <tr>\n",
       "      <th>21</th>\n",
       "      <td>Sales Executive</td>\n",
       "      <td>Hedge Homes</td>\n",
       "      <td>3 - 3.5 LPA</td>\n",
       "      <td>26 Sep' 21</td>\n",
       "    </tr>\n",
       "    <tr>\n",
       "      <th>22</th>\n",
       "      <td>Organizational Behavior Specialist</td>\n",
       "      <td>SysCloud Technologies Private Limited</td>\n",
       "      <td>4.5 - 6 LPA</td>\n",
       "      <td>26 Sep' 21</td>\n",
       "    </tr>\n",
       "    <tr>\n",
       "      <th>23</th>\n",
       "      <td>International Online Sales Executive</td>\n",
       "      <td>Intesome</td>\n",
       "      <td>3 - 4 LPA</td>\n",
       "      <td>26 Sep' 21</td>\n",
       "    </tr>\n",
       "    <tr>\n",
       "      <th>24</th>\n",
       "      <td>Digital Marketing Specialist</td>\n",
       "      <td>Ohana Academy</td>\n",
       "      <td>3 - 5 LPA</td>\n",
       "      <td>26 Sep' 21</td>\n",
       "    </tr>\n",
       "    <tr>\n",
       "      <th>25</th>\n",
       "      <td>Buddy Counselor (Study Abroad)</td>\n",
       "      <td>UniAcco</td>\n",
       "      <td>3 - 5 LPA</td>\n",
       "      <td>26 Sep' 21</td>\n",
       "    </tr>\n",
       "    <tr>\n",
       "      <th>26</th>\n",
       "      <td>Student Success - Teacher</td>\n",
       "      <td>Code A Block (KEDTech LLC)</td>\n",
       "      <td>4 - 7.2 LPA</td>\n",
       "      <td>25 Sep' 21</td>\n",
       "    </tr>\n",
       "    <tr>\n",
       "      <th>27</th>\n",
       "      <td>Supply Chain Executive</td>\n",
       "      <td>Serturner</td>\n",
       "      <td>3 LPA</td>\n",
       "      <td>25 Sep' 21</td>\n",
       "    </tr>\n",
       "    <tr>\n",
       "      <th>28</th>\n",
       "      <td>Game Developer</td>\n",
       "      <td>Cogent Web Services</td>\n",
       "      <td>3 LPA</td>\n",
       "      <td>25 Sep' 21</td>\n",
       "    </tr>\n",
       "    <tr>\n",
       "      <th>29</th>\n",
       "      <td>Associate - Digital Products</td>\n",
       "      <td>RocSearch</td>\n",
       "      <td>3.5 - 4 LPA</td>\n",
       "      <td>25 Sep' 21</td>\n",
       "    </tr>\n",
       "    <tr>\n",
       "      <th>30</th>\n",
       "      <td>Program Impact In-charge (Science And Mathemat...</td>\n",
       "      <td>Open Door Education</td>\n",
       "      <td>6 - 10 LPA</td>\n",
       "      <td>25 Sep' 21</td>\n",
       "    </tr>\n",
       "    <tr>\n",
       "      <th>31</th>\n",
       "      <td>Software Engineer Trainee</td>\n",
       "      <td>Markytics</td>\n",
       "      <td>3 - 4 LPA</td>\n",
       "      <td>25 Sep' 21</td>\n",
       "    </tr>\n",
       "    <tr>\n",
       "      <th>32</th>\n",
       "      <td>Sales Executive</td>\n",
       "      <td>1st In Class</td>\n",
       "      <td>3 - 3.2 LPA</td>\n",
       "      <td>25 Sep' 21</td>\n",
       "    </tr>\n",
       "    <tr>\n",
       "      <th>33</th>\n",
       "      <td>Digital Marketing Executive</td>\n",
       "      <td>TradeVinder</td>\n",
       "      <td>3 - 4 LPA</td>\n",
       "      <td>24 Sep' 21</td>\n",
       "    </tr>\n",
       "    <tr>\n",
       "      <th>34</th>\n",
       "      <td>Corporate Sales Manager</td>\n",
       "      <td>FinDestination</td>\n",
       "      <td>3 LPA</td>\n",
       "      <td>24 Sep' 21</td>\n",
       "    </tr>\n",
       "    <tr>\n",
       "      <th>35</th>\n",
       "      <td>Software Developer</td>\n",
       "      <td>Innovantes IT Solutions LLP</td>\n",
       "      <td>3 - 3.1 LPA</td>\n",
       "      <td>24 Sep' 21</td>\n",
       "    </tr>\n",
       "    <tr>\n",
       "      <th>36</th>\n",
       "      <td>Executive Assistant To Director</td>\n",
       "      <td>Best Roadways Limited</td>\n",
       "      <td>3 LPA</td>\n",
       "      <td>24 Sep' 21</td>\n",
       "    </tr>\n",
       "    <tr>\n",
       "      <th>37</th>\n",
       "      <td>C++ Embedded/Semiconductor Expert (SoC Modeling)</td>\n",
       "      <td>Circuitsutra Technologies Private Limited</td>\n",
       "      <td>6 LPA</td>\n",
       "      <td>24 Sep' 21</td>\n",
       "    </tr>\n",
       "    <tr>\n",
       "      <th>38</th>\n",
       "      <td>Mobile App Developer</td>\n",
       "      <td>Cogent Web Services</td>\n",
       "      <td>3 LPA</td>\n",
       "      <td>23 Sep' 21</td>\n",
       "    </tr>\n",
       "    <tr>\n",
       "      <th>39</th>\n",
       "      <td>Software Developer</td>\n",
       "      <td>Swabhav Techlabs</td>\n",
       "      <td>3 - 3.5 LPA</td>\n",
       "      <td>23 Sep' 21</td>\n",
       "    </tr>\n",
       "  </tbody>\n",
       "</table>\n",
       "</div>"
      ],
      "text/plain": [
       "                                                  Job  \\\n",
       "0                                  OMNI SPORT LEADER    \n",
       "1          Executive/Senior Executive - Partnerships    \n",
       "2                                  Executive - Sales    \n",
       "3                        Junior Operations Executive    \n",
       "4                            Associate Web Developer    \n",
       "5                      Engineering Admissions Writer    \n",
       "6   Assistant Manager - Product Development & Prog...   \n",
       "7                        Junior Full Stack Developer    \n",
       "8                                   Strategy Analyst    \n",
       "9                                Associate Recruiter    \n",
       "10                                 Laravel Developer    \n",
       "11                                     PHP Developer    \n",
       "12                            Inside Sales Executive    \n",
       "13                 Sales Client Onboarding Executive    \n",
       "14                       B2B Digital Sales Executive    \n",
       "15                    Business Development Executive    \n",
       "16                        Customer Service Executive    \n",
       "17                    Business Development Associate    \n",
       "18                         Trainee Software Engineer    \n",
       "19                           Associate (Development)    \n",
       "20                         Corporate Sales Associate    \n",
       "21                                   Sales Executive    \n",
       "22                Organizational Behavior Specialist    \n",
       "23              International Online Sales Executive    \n",
       "24                      Digital Marketing Specialist    \n",
       "25                    Buddy Counselor (Study Abroad)    \n",
       "26                         Student Success - Teacher    \n",
       "27                            Supply Chain Executive    \n",
       "28                                    Game Developer    \n",
       "29                      Associate - Digital Products    \n",
       "30  Program Impact In-charge (Science And Mathemat...   \n",
       "31                         Software Engineer Trainee    \n",
       "32                                   Sales Executive    \n",
       "33                       Digital Marketing Executive    \n",
       "34                           Corporate Sales Manager    \n",
       "35                                Software Developer    \n",
       "36                   Executive Assistant To Director    \n",
       "37  C++ Embedded/Semiconductor Expert (SoC Modeling)    \n",
       "38                              Mobile App Developer    \n",
       "39                                Software Developer    \n",
       "\n",
       "                                      Company name          Stipend  \\\n",
       "0            Decathlon Sport India Private Limited        3 - 4 LPA   \n",
       "1   Freecharge Payments Technology Private Limited      3 - 4.2 LPA   \n",
       "2   Freecharge Payments Technology Private Limited      3 - 3.5 LPA   \n",
       "3   Freecharge Payments Technology Private Limited        3 - 4 LPA   \n",
       "4                                          WebMOBI            3 LPA   \n",
       "5                                          GREedge          5.2 LPA   \n",
       "6                                           SUPROS    4.2 - 4.5 LPA   \n",
       "7               Techdome Solutions Private Limited        3 - 6 LPA   \n",
       "8                                      RedCarpetUp            6 LPA   \n",
       "9                                          Talhive        3 - 5 LPA   \n",
       "10            Brainbean Technolabs Private Limited            3 LPA   \n",
       "11                                      Krishworks        3 - 6 LPA   \n",
       "12                    Neo91 (DSBL Private Limited)          3.5 LPA   \n",
       "13                                        Intesome        3 - 4 LPA   \n",
       "14                                        Intesome        3 - 4 LPA   \n",
       "15                      AAPC India Private Limited      3 - 4.5 LPA   \n",
       "16               InfyBytes AI Labs Private Limited        3 - 4 LPA   \n",
       "17                    XOOG EDLEARN PRIVATE LIMITED      4.5 - 7 LPA   \n",
       "18                                  NuWare Systems        3 - 4 LPA   \n",
       "19                     Pratham InfoTech Foundation      3 - 3.5 LPA   \n",
       "20                           Best Roadways Limited            3 LPA   \n",
       "21                                     Hedge Homes      3 - 3.5 LPA   \n",
       "22           SysCloud Technologies Private Limited      4.5 - 6 LPA   \n",
       "23                                        Intesome        3 - 4 LPA   \n",
       "24                                   Ohana Academy        3 - 5 LPA   \n",
       "25                                         UniAcco        3 - 5 LPA   \n",
       "26                      Code A Block (KEDTech LLC)      4 - 7.2 LPA   \n",
       "27                                       Serturner            3 LPA   \n",
       "28                             Cogent Web Services            3 LPA   \n",
       "29                                       RocSearch      3.5 - 4 LPA   \n",
       "30                             Open Door Education       6 - 10 LPA   \n",
       "31                                       Markytics        3 - 4 LPA   \n",
       "32                                    1st In Class      3 - 3.2 LPA   \n",
       "33                                     TradeVinder        3 - 4 LPA   \n",
       "34                                  FinDestination            3 LPA   \n",
       "35                     Innovantes IT Solutions LLP      3 - 3.1 LPA   \n",
       "36                           Best Roadways Limited            3 LPA   \n",
       "37       Circuitsutra Technologies Private Limited            6 LPA   \n",
       "38                             Cogent Web Services            3 LPA   \n",
       "39                                Swabhav Techlabs      3 - 3.5 LPA   \n",
       "\n",
       "    Apply date  \n",
       "0   18 Sep' 21  \n",
       "1   11 Sep' 21  \n",
       "2   11 Sep' 21  \n",
       "3    4 Sep' 21  \n",
       "4   29 Sep' 21  \n",
       "5   29 Sep' 21  \n",
       "6   29 Sep' 21  \n",
       "7   29 Sep' 21  \n",
       "8   29 Sep' 21  \n",
       "9   29 Sep' 21  \n",
       "10  29 Sep' 21  \n",
       "11  29 Sep' 21  \n",
       "12  27 Sep' 21  \n",
       "13  27 Sep' 21  \n",
       "14  27 Sep' 21  \n",
       "15  27 Sep' 21  \n",
       "16  27 Sep' 21  \n",
       "17  27 Sep' 21  \n",
       "18  26 Sep' 21  \n",
       "19  29 Sep' 21  \n",
       "20  26 Sep' 21  \n",
       "21  26 Sep' 21  \n",
       "22  26 Sep' 21  \n",
       "23  26 Sep' 21  \n",
       "24  26 Sep' 21  \n",
       "25  26 Sep' 21  \n",
       "26  25 Sep' 21  \n",
       "27  25 Sep' 21  \n",
       "28  25 Sep' 21  \n",
       "29  25 Sep' 21  \n",
       "30  25 Sep' 21  \n",
       "31  25 Sep' 21  \n",
       "32  25 Sep' 21  \n",
       "33  24 Sep' 21  \n",
       "34  24 Sep' 21  \n",
       "35  24 Sep' 21  \n",
       "36  24 Sep' 21  \n",
       "37  24 Sep' 21  \n",
       "38  23 Sep' 21  \n",
       "39  23 Sep' 21  "
      ]
     },
     "execution_count": 163,
     "metadata": {},
     "output_type": "execute_result"
    }
   ],
   "source": [
    "fresher"
   ]
  },
  {
   "cell_type": "raw",
   "metadata": {},
   "source": [
    "10. Write a python program to scrape house details from https://www.nobroker.in/ for any location. It should include house title, location, area, emi and price"
   ]
  },
  {
   "cell_type": "code",
   "execution_count": 4,
   "metadata": {},
   "outputs": [],
   "source": [
    "page=requests.get('https://www.nobroker.in/property/sale/pune/Lohgaon?searchParam=W3sibGF0IjoxOC41OTU1MSwibG9uIjo3My45MjQzODgsInBsYWNlSWQiOiJDaElKbllPQk1xWEd3anNSMGhtby1vTUNFU1kiLCJwbGFjZU5hbWUiOiJMb2hnYW9uIn1d&radius=2.0').text"
   ]
  },
  {
   "cell_type": "code",
   "execution_count": 5,
   "metadata": {},
   "outputs": [],
   "source": [
    "soup=BeautifulSoup(page,'lxml')"
   ]
  },
  {
   "cell_type": "code",
   "execution_count": 6,
   "metadata": {},
   "outputs": [],
   "source": [
    "page1=soup.find_all('h2',class_='heading-6 font-semi-bold nb__1AShY')"
   ]
  },
  {
   "cell_type": "code",
   "execution_count": 7,
   "metadata": {},
   "outputs": [],
   "source": [
    "name=[]\n",
    "for i in page1:\n",
    "    name.append(i.text)"
   ]
  },
  {
   "cell_type": "code",
   "execution_count": 8,
   "metadata": {},
   "outputs": [
    {
     "data": {
      "text/plain": [
       "['1 BHK Flat  For Sale  In Lohgaon ',\n",
       " '1 BHK Flat  For Sale  In Lohegaon ',\n",
       " '2 BHK Flat  For Sale  In Lohegaon ',\n",
       " '2 BHK Flat  For Sale  In Dream Square  In Lohegaon Police Station ',\n",
       " '4+ BHK In Independent House  For Sale  In Lohegaon Police Station ',\n",
       " '1 BHK Flat  For Sale  In Kothari Tingre The Village In Lohegaon Police Station ',\n",
       " '4+ BHK In Independent House  For Sale  In Lohgaon ',\n",
       " '3 BHK In Independent House  For Sale  In Lohegaon  ',\n",
       " '1 BHK For Sale  In Yashada Splendid Square In Lohegaon ',\n",
       " '2 BHK Flat  For Sale  In Manthan Residency In Lohegaon ']"
      ]
     },
     "execution_count": 8,
     "metadata": {},
     "output_type": "execute_result"
    }
   ],
   "source": [
    "name"
   ]
  },
  {
   "cell_type": "code",
   "execution_count": 9,
   "metadata": {},
   "outputs": [],
   "source": [
    "rent=soup.find_all('div',class_='font-semi-bold heading-6')"
   ]
  },
  {
   "cell_type": "code",
   "execution_count": 11,
   "metadata": {},
   "outputs": [
    {
     "data": {
      "text/plain": [
       "[<div class=\"font-semi-bold heading-6\" id=\"minRent\" itemprop=\"valueReference\" itemscope=\"\" itemtype=\"http://schema.org/PropertyValue\"><meta content=\"Minimum Rent\" itemprop=\"name\"/><meta content=\"INR\" itemprop=\"unitCode\"/><div class=\"nb__3oNyC\">600 sqft</div></div>,\n",
       " <div class=\"font-semi-bold heading-6\" id=\"roomType\"><span>â¹</span>12,609/Month</div>,\n",
       " <div class=\"font-semi-bold heading-6\"><meta content=\"Minimum Deposit\" itemprop=\"name\"/><span>â¹<!-- -->22 Lacs</span></div>,\n",
       " <div class=\"font-semi-bold heading-6\" id=\"minRent\" itemprop=\"valueReference\" itemscope=\"\" itemtype=\"http://schema.org/PropertyValue\"><meta content=\"Minimum Rent\" itemprop=\"name\"/><meta content=\"INR\" itemprop=\"unitCode\"/><div class=\"nb__3oNyC\">645 sqft</div></div>,\n",
       " <div class=\"font-semi-bold heading-6\" id=\"roomType\"><span>â¹</span>13,755/Month</div>,\n",
       " <div class=\"font-semi-bold heading-6\"><meta content=\"Minimum Deposit\" itemprop=\"name\"/><span>â¹<!-- -->24 Lacs</span></div>,\n",
       " <div class=\"font-semi-bold heading-6\" id=\"minRent\" itemprop=\"valueReference\" itemscope=\"\" itemtype=\"http://schema.org/PropertyValue\"><meta content=\"Minimum Rent\" itemprop=\"name\"/><meta content=\"INR\" itemprop=\"unitCode\"/><div class=\"nb__3oNyC\">900 sqft</div></div>,\n",
       " <div class=\"font-semi-bold heading-6\" id=\"roomType\"><span>â¹</span>25,218/Month</div>,\n",
       " <div class=\"font-semi-bold heading-6\"><meta content=\"Minimum Deposit\" itemprop=\"name\"/><span>â¹<!-- -->44 Lacs</span></div>,\n",
       " <div class=\"font-semi-bold heading-6\" id=\"minRent\" itemprop=\"valueReference\" itemscope=\"\" itemtype=\"http://schema.org/PropertyValue\"><meta content=\"Minimum Rent\" itemprop=\"name\"/><meta content=\"INR\" itemprop=\"unitCode\"/><div class=\"nb__3oNyC\">920 sqft</div></div>,\n",
       " <div class=\"font-semi-bold heading-6\" id=\"roomType\"><span>â¹</span>29,803/Month</div>,\n",
       " <div class=\"font-semi-bold heading-6\"><meta content=\"Minimum Deposit\" itemprop=\"name\"/><span>â¹<!-- -->52 Lacs</span></div>,\n",
       " <div class=\"font-semi-bold heading-6\" id=\"minRent\" itemprop=\"valueReference\" itemscope=\"\" itemtype=\"http://schema.org/PropertyValue\"><meta content=\"Minimum Rent\" itemprop=\"name\"/><meta content=\"INR\" itemprop=\"unitCode\"/><div class=\"nb__3oNyC\">3,700 sqft</div></div>,\n",
       " <div class=\"font-semi-bold heading-6\" id=\"roomType\"><span>â¹</span>91,703/Month</div>,\n",
       " <div class=\"font-semi-bold heading-6\"><meta content=\"Minimum Deposit\" itemprop=\"name\"/><span>â¹<!-- -->1.6 Crores</span></div>,\n",
       " <div class=\"font-semi-bold heading-6\" id=\"minRent\" itemprop=\"valueReference\" itemscope=\"\" itemtype=\"http://schema.org/PropertyValue\"><meta content=\"Minimum Rent\" itemprop=\"name\"/><meta content=\"INR\" itemprop=\"unitCode\"/><div class=\"nb__3oNyC\">550 sqft</div></div>,\n",
       " <div class=\"font-semi-bold heading-6\" id=\"roomType\"><span>â¹</span>15,474/Month</div>,\n",
       " <div class=\"font-semi-bold heading-6\"><meta content=\"Minimum Deposit\" itemprop=\"name\"/><span>â¹<!-- -->27 Lacs</span></div>,\n",
       " <div class=\"font-semi-bold heading-6\" id=\"minRent\" itemprop=\"valueReference\" itemscope=\"\" itemtype=\"http://schema.org/PropertyValue\"><meta content=\"Minimum Rent\" itemprop=\"name\"/><meta content=\"INR\" itemprop=\"unitCode\"/><div class=\"nb__3oNyC\">1,800 sqft</div></div>,\n",
       " <div class=\"font-semi-bold heading-6\" id=\"roomType\"><span>â¹</span>31,522/Month</div>,\n",
       " <div class=\"font-semi-bold heading-6\"><meta content=\"Minimum Deposit\" itemprop=\"name\"/><span>â¹<!-- -->55 Lacs</span></div>,\n",
       " <div class=\"font-semi-bold heading-6\" id=\"minRent\" itemprop=\"valueReference\" itemscope=\"\" itemtype=\"http://schema.org/PropertyValue\"><meta content=\"Minimum Rent\" itemprop=\"name\"/><meta content=\"INR\" itemprop=\"unitCode\"/><div class=\"nb__3oNyC\">1,700 sqft</div></div>,\n",
       " <div class=\"font-semi-bold heading-6\" id=\"roomType\"><span>â¹</span>26,364/Month</div>,\n",
       " <div class=\"font-semi-bold heading-6\"><meta content=\"Minimum Deposit\" itemprop=\"name\"/><span>â¹<!-- -->46 Lacs</span></div>,\n",
       " <div class=\"font-semi-bold heading-6\" id=\"minRent\" itemprop=\"valueReference\" itemscope=\"\" itemtype=\"http://schema.org/PropertyValue\"><meta content=\"Minimum Rent\" itemprop=\"name\"/><meta content=\"INR\" itemprop=\"unitCode\"/><div class=\"nb__3oNyC\">600 sqft</div></div>,\n",
       " <div class=\"font-semi-bold heading-6\" id=\"roomType\"><span>â¹</span>21,779/Month</div>,\n",
       " <div class=\"font-semi-bold heading-6\"><meta content=\"Minimum Deposit\" itemprop=\"name\"/><span>â¹<!-- -->38 Lacs</span></div>,\n",
       " <div class=\"font-semi-bold heading-6\" id=\"minRent\" itemprop=\"valueReference\" itemscope=\"\" itemtype=\"http://schema.org/PropertyValue\"><meta content=\"Minimum Rent\" itemprop=\"name\"/><meta content=\"INR\" itemprop=\"unitCode\"/><div class=\"nb__3oNyC\">550 sqft</div></div>,\n",
       " <div class=\"font-semi-bold heading-6\" id=\"roomType\"><span>â¹</span>22,925/Month</div>,\n",
       " <div class=\"font-semi-bold heading-6\"><meta content=\"Minimum Deposit\" itemprop=\"name\"/><span>â¹<!-- -->40 Lacs</span></div>]"
      ]
     },
     "execution_count": 11,
     "metadata": {},
     "output_type": "execute_result"
    }
   ],
   "source": [
    "rent"
   ]
  },
  {
   "cell_type": "code",
   "execution_count": 12,
   "metadata": {},
   "outputs": [],
   "source": [
    "rent1=[]\n",
    "for i in rent:\n",
    "    rent1.append(i.text.replace(\"â\",\"\").replace(\"\\x82¹\",\"\"))"
   ]
  },
  {
   "cell_type": "code",
   "execution_count": 13,
   "metadata": {},
   "outputs": [
    {
     "data": {
      "text/plain": [
       "['600 sqft',\n",
       " '12,609/Month',\n",
       " '22 Lacs',\n",
       " '645 sqft',\n",
       " '13,755/Month',\n",
       " '24 Lacs',\n",
       " '900 sqft',\n",
       " '25,218/Month',\n",
       " '44 Lacs',\n",
       " '920 sqft',\n",
       " '29,803/Month',\n",
       " '52 Lacs',\n",
       " '3,700 sqft',\n",
       " '91,703/Month',\n",
       " '1.6 Crores',\n",
       " '550 sqft',\n",
       " '15,474/Month',\n",
       " '27 Lacs',\n",
       " '1,800 sqft',\n",
       " '31,522/Month',\n",
       " '55 Lacs',\n",
       " '1,700 sqft',\n",
       " '26,364/Month',\n",
       " '46 Lacs',\n",
       " '600 sqft',\n",
       " '21,779/Month',\n",
       " '38 Lacs',\n",
       " '550 sqft',\n",
       " '22,925/Month',\n",
       " '40 Lacs']"
      ]
     },
     "execution_count": 13,
     "metadata": {},
     "output_type": "execute_result"
    }
   ],
   "source": [
    "rent1"
   ]
  },
  {
   "cell_type": "code",
   "execution_count": 14,
   "metadata": {},
   "outputs": [],
   "source": [
    "rent2=rent1[2::3]"
   ]
  },
  {
   "cell_type": "code",
   "execution_count": 15,
   "metadata": {},
   "outputs": [
    {
     "data": {
      "text/plain": [
       "['22 Lacs',\n",
       " '24 Lacs',\n",
       " '44 Lacs',\n",
       " '52 Lacs',\n",
       " '1.6 Crores',\n",
       " '27 Lacs',\n",
       " '55 Lacs',\n",
       " '46 Lacs',\n",
       " '38 Lacs',\n",
       " '40 Lacs']"
      ]
     },
     "execution_count": 15,
     "metadata": {},
     "output_type": "execute_result"
    }
   ],
   "source": [
    "rent2"
   ]
  },
  {
   "cell_type": "code",
   "execution_count": 16,
   "metadata": {},
   "outputs": [],
   "source": [
    "emi=rent1[1::3]"
   ]
  },
  {
   "cell_type": "code",
   "execution_count": 17,
   "metadata": {},
   "outputs": [
    {
     "data": {
      "text/plain": [
       "['12,609/Month',\n",
       " '13,755/Month',\n",
       " '25,218/Month',\n",
       " '29,803/Month',\n",
       " '91,703/Month',\n",
       " '15,474/Month',\n",
       " '31,522/Month',\n",
       " '26,364/Month',\n",
       " '21,779/Month',\n",
       " '22,925/Month']"
      ]
     },
     "execution_count": 17,
     "metadata": {},
     "output_type": "execute_result"
    }
   ],
   "source": [
    "emi"
   ]
  },
  {
   "cell_type": "code",
   "execution_count": 18,
   "metadata": {},
   "outputs": [],
   "source": [
    "page2=soup.find_all('div',class_='nb__2CMjv')"
   ]
  },
  {
   "cell_type": "code",
   "execution_count": 19,
   "metadata": {},
   "outputs": [
    {
     "data": {
      "text/plain": [
       "[<div class=\"nb__2CMjv\">janardan nagar</div>,\n",
       " <div class=\"nb__2CMjv\">standalone building, Wadgaon Shinde Road, Near Lohgaon Police Station</div>,\n",
       " <div class=\"nb__2CMjv\">standalone building, Wadgaon Shinde Road, Near Lohgaon Police Station</div>,\n",
       " <div class=\"nb__2CMjv\">opposite mahanagar cooperative bank</div>,\n",
       " <div class=\"nb__2CMjv\">Independent House, Near Lake view city</div>,\n",
       " <div class=\"nb__2CMjv\">near dypatil college</div>,\n",
       " <div class=\"nb__2CMjv\">Independent House, near shinde complex</div>,\n",
       " <div class=\"nb__2CMjv\">Independent House, Lohegaon wagholi  rd near Z P Primary School Pawar Wasti </div>,\n",
       " <div class=\"nb__2CMjv\">Near Lohegaon bus stop</div>,\n",
       " <div class=\"nb__2CMjv\">Sai Nagar, Sathe Nagar, Near New Famous Saree</div>]"
      ]
     },
     "execution_count": 19,
     "metadata": {},
     "output_type": "execute_result"
    }
   ],
   "source": [
    "page2"
   ]
  },
  {
   "cell_type": "code",
   "execution_count": 22,
   "metadata": {},
   "outputs": [],
   "source": [
    "location=[]\n",
    "for i in page2:\n",
    "    location.append(i.text)"
   ]
  },
  {
   "cell_type": "code",
   "execution_count": 23,
   "metadata": {},
   "outputs": [
    {
     "data": {
      "text/plain": [
       "['janardan nagar',\n",
       " 'standalone building, Wadgaon Shinde Road, Near Lohgaon Police Station',\n",
       " 'standalone building, Wadgaon Shinde Road, Near Lohgaon Police Station',\n",
       " 'opposite mahanagar cooperative bank',\n",
       " 'Independent House, Near Lake view city',\n",
       " 'near dypatil college',\n",
       " 'Independent House, near shinde complex',\n",
       " 'Independent House, Lohegaon wagholi  rd near Z P Primary School Pawar Wasti ',\n",
       " 'Near Lohegaon bus stop',\n",
       " 'Sai Nagar, Sathe Nagar, Near New Famous Saree']"
      ]
     },
     "execution_count": 23,
     "metadata": {},
     "output_type": "execute_result"
    }
   ],
   "source": [
    "location"
   ]
  },
  {
   "cell_type": "code",
   "execution_count": 24,
   "metadata": {},
   "outputs": [],
   "source": [
    "house=pd.DataFrame(zip(name,rent2,emi,location),columns=['Name','Rent','EMI','Location'])"
   ]
  },
  {
   "cell_type": "code",
   "execution_count": 25,
   "metadata": {},
   "outputs": [
    {
     "data": {
      "text/html": [
       "<div>\n",
       "<style scoped>\n",
       "    .dataframe tbody tr th:only-of-type {\n",
       "        vertical-align: middle;\n",
       "    }\n",
       "\n",
       "    .dataframe tbody tr th {\n",
       "        vertical-align: top;\n",
       "    }\n",
       "\n",
       "    .dataframe thead th {\n",
       "        text-align: right;\n",
       "    }\n",
       "</style>\n",
       "<table border=\"1\" class=\"dataframe\">\n",
       "  <thead>\n",
       "    <tr style=\"text-align: right;\">\n",
       "      <th></th>\n",
       "      <th>Name</th>\n",
       "      <th>Rent</th>\n",
       "      <th>EMI</th>\n",
       "      <th>Location</th>\n",
       "    </tr>\n",
       "  </thead>\n",
       "  <tbody>\n",
       "    <tr>\n",
       "      <th>0</th>\n",
       "      <td>1 BHK Flat  For Sale  In Lohgaon</td>\n",
       "      <td>22 Lacs</td>\n",
       "      <td>12,609/Month</td>\n",
       "      <td>janardan nagar</td>\n",
       "    </tr>\n",
       "    <tr>\n",
       "      <th>1</th>\n",
       "      <td>1 BHK Flat  For Sale  In Lohegaon</td>\n",
       "      <td>24 Lacs</td>\n",
       "      <td>13,755/Month</td>\n",
       "      <td>standalone building, Wadgaon Shinde Road, Near...</td>\n",
       "    </tr>\n",
       "    <tr>\n",
       "      <th>2</th>\n",
       "      <td>2 BHK Flat  For Sale  In Lohegaon</td>\n",
       "      <td>44 Lacs</td>\n",
       "      <td>25,218/Month</td>\n",
       "      <td>standalone building, Wadgaon Shinde Road, Near...</td>\n",
       "    </tr>\n",
       "    <tr>\n",
       "      <th>3</th>\n",
       "      <td>2 BHK Flat  For Sale  In Dream Square  In Lohe...</td>\n",
       "      <td>52 Lacs</td>\n",
       "      <td>29,803/Month</td>\n",
       "      <td>opposite mahanagar cooperative bank</td>\n",
       "    </tr>\n",
       "    <tr>\n",
       "      <th>4</th>\n",
       "      <td>4+ BHK In Independent House  For Sale  In Lohe...</td>\n",
       "      <td>1.6 Crores</td>\n",
       "      <td>91,703/Month</td>\n",
       "      <td>Independent House, Near Lake view city</td>\n",
       "    </tr>\n",
       "    <tr>\n",
       "      <th>5</th>\n",
       "      <td>1 BHK Flat  For Sale  In Kothari Tingre The Vi...</td>\n",
       "      <td>27 Lacs</td>\n",
       "      <td>15,474/Month</td>\n",
       "      <td>near dypatil college</td>\n",
       "    </tr>\n",
       "    <tr>\n",
       "      <th>6</th>\n",
       "      <td>4+ BHK In Independent House  For Sale  In Lohg...</td>\n",
       "      <td>55 Lacs</td>\n",
       "      <td>31,522/Month</td>\n",
       "      <td>Independent House, near shinde complex</td>\n",
       "    </tr>\n",
       "    <tr>\n",
       "      <th>7</th>\n",
       "      <td>3 BHK In Independent House  For Sale  In Loheg...</td>\n",
       "      <td>46 Lacs</td>\n",
       "      <td>26,364/Month</td>\n",
       "      <td>Independent House, Lohegaon wagholi  rd near Z...</td>\n",
       "    </tr>\n",
       "    <tr>\n",
       "      <th>8</th>\n",
       "      <td>1 BHK For Sale  In Yashada Splendid Square In ...</td>\n",
       "      <td>38 Lacs</td>\n",
       "      <td>21,779/Month</td>\n",
       "      <td>Near Lohegaon bus stop</td>\n",
       "    </tr>\n",
       "    <tr>\n",
       "      <th>9</th>\n",
       "      <td>2 BHK Flat  For Sale  In Manthan Residency In ...</td>\n",
       "      <td>40 Lacs</td>\n",
       "      <td>22,925/Month</td>\n",
       "      <td>Sai Nagar, Sathe Nagar, Near New Famous Saree</td>\n",
       "    </tr>\n",
       "  </tbody>\n",
       "</table>\n",
       "</div>"
      ],
      "text/plain": [
       "                                                Name        Rent  \\\n",
       "0                  1 BHK Flat  For Sale  In Lohgaon      22 Lacs   \n",
       "1                 1 BHK Flat  For Sale  In Lohegaon      24 Lacs   \n",
       "2                 2 BHK Flat  For Sale  In Lohegaon      44 Lacs   \n",
       "3  2 BHK Flat  For Sale  In Dream Square  In Lohe...     52 Lacs   \n",
       "4  4+ BHK In Independent House  For Sale  In Lohe...  1.6 Crores   \n",
       "5  1 BHK Flat  For Sale  In Kothari Tingre The Vi...     27 Lacs   \n",
       "6  4+ BHK In Independent House  For Sale  In Lohg...     55 Lacs   \n",
       "7  3 BHK In Independent House  For Sale  In Loheg...     46 Lacs   \n",
       "8  1 BHK For Sale  In Yashada Splendid Square In ...     38 Lacs   \n",
       "9  2 BHK Flat  For Sale  In Manthan Residency In ...     40 Lacs   \n",
       "\n",
       "            EMI                                           Location  \n",
       "0  12,609/Month                                     janardan nagar  \n",
       "1  13,755/Month  standalone building, Wadgaon Shinde Road, Near...  \n",
       "2  25,218/Month  standalone building, Wadgaon Shinde Road, Near...  \n",
       "3  29,803/Month                opposite mahanagar cooperative bank  \n",
       "4  91,703/Month             Independent House, Near Lake view city  \n",
       "5  15,474/Month                               near dypatil college  \n",
       "6  31,522/Month             Independent House, near shinde complex  \n",
       "7  26,364/Month  Independent House, Lohegaon wagholi  rd near Z...  \n",
       "8  21,779/Month                             Near Lohegaon bus stop  \n",
       "9  22,925/Month      Sai Nagar, Sathe Nagar, Near New Famous Saree  "
      ]
     },
     "execution_count": 25,
     "metadata": {},
     "output_type": "execute_result"
    }
   ],
   "source": [
    "house"
   ]
  },
  {
   "cell_type": "code",
   "execution_count": null,
   "metadata": {},
   "outputs": [],
   "source": []
  },
  {
   "cell_type": "code",
   "execution_count": null,
   "metadata": {},
   "outputs": [],
   "source": []
  },
  {
   "cell_type": "code",
   "execution_count": null,
   "metadata": {},
   "outputs": [],
   "source": []
  }
 ],
 "metadata": {
  "kernelspec": {
   "display_name": "Python 3",
   "language": "python",
   "name": "python3"
  },
  "language_info": {
   "codemirror_mode": {
    "name": "ipython",
    "version": 3
   },
   "file_extension": ".py",
   "mimetype": "text/x-python",
   "name": "python",
   "nbconvert_exporter": "python",
   "pygments_lexer": "ipython3",
   "version": "3.8.5"
  }
 },
 "nbformat": 4,
 "nbformat_minor": 4
}
